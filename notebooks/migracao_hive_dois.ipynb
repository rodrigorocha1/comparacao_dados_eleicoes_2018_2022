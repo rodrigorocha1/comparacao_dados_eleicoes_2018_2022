{
 "cells": [
  {
   "cell_type": "code",
   "execution_count": 1,
   "metadata": {},
   "outputs": [],
   "source": [
    "import os\n",
    "from pyhive import hive\n",
    "from sqlalchemy import create_engine\n",
    "import pandas as pd"
   ]
  },
  {
   "cell_type": "code",
   "execution_count": 2,
   "metadata": {},
   "outputs": [],
   "source": [
    "colunas = ['NR_CANDIDATO', 'NM_CANDIDATO', 'NM_URNA_CANDIDATO',\n",
    "       'DS_SIT_TOT_TURNO', 'TOTAL_VOTOS_CANDIDATO_CIDADE',\n",
    "       'TOTAL_VOTOS_CIDADE', 'PERCENTUAL_VOTOS_CIDADE', 'ANO_ELEICAO',\n",
    "       'CD_CARGO', 'CD_MUNICIPIO', 'CD_SIT_TOT_TURNO']"
   ]
  },
  {
   "cell_type": "code",
   "execution_count": 3,
   "metadata": {},
   "outputs": [
    {
     "data": {
      "text/plain": [
       "11"
      ]
     },
     "execution_count": 3,
     "metadata": {},
     "output_type": "execute_result"
    }
   ],
   "source": [
    "len(colunas)"
   ]
  },
  {
   "cell_type": "code",
   "execution_count": 4,
   "metadata": {},
   "outputs": [],
   "source": [
    "diretorio_csv = '../data/processed/total_votos_candidato/' "
   ]
  },
  {
   "cell_type": "code",
   "execution_count": 5,
   "metadata": {},
   "outputs": [],
   "source": [
    "lista_arquivo_csv = os.listdir(diretorio_csv)"
   ]
  },
  {
   "cell_type": "code",
   "execution_count": 6,
   "metadata": {},
   "outputs": [],
   "source": [
    "con = hive.Connection(host='127.0.0.1', username='rodrigo', port=10000, database='eleicoes')\n",
    "engine = create_engine('hive://', creator=lambda: con)\n",
    "cursor = con.cursor()"
   ]
  },
  {
   "cell_type": "code",
   "execution_count": 7,
   "metadata": {},
   "outputs": [
    {
     "name": "stdout",
     "output_type": "stream",
     "text": [
      "0 - df_total_votos_candidatos_120259520.csv\n",
      "1 - df_total_votos_candidatos_969.csv\n",
      "2 - df_total_votos_candidatos_34359793.csv\n",
      "3 - df_total_votos_candidatos_51540283.csv\n",
      "4 - df_total_votos_candidatos_85899748.csv\n",
      "5 - df_total_votos_candidatos_103079984.csv\n",
      "6 - df_total_votos_candidatos_34360013.csv\n",
      "7 - df_total_votos_candidatos_85900351.csv\n",
      "8 - df_total_votos_candidatos_85899884.csv\n",
      "9 - df_total_votos_candidatos_17180231.csv\n",
      "10 - df_total_votos_candidatos_770.csv\n",
      "11 - df_total_votos_candidatos_17180215.csv\n",
      "12 - df_total_votos_candidatos_374.csv\n",
      "13 - df_total_votos_candidatos_103079389.csv\n",
      "14 - df_total_votos_candidatos_103079227.csv\n"
     ]
    }
   ],
   "source": [
    "for chave, arquivo in enumerate(lista_arquivo_csv):\n",
    "    print(chave, '-', arquivo)\n",
    "    df_pandas = pd.read_csv(os.path.join(diretorio_csv, arquivo), sep='|', usecols=colunas)\n",
    "    try:\n",
    "        df_pandas.to_sql('total_votos_candidato', con=engine, if_exists='append', index=False, method='multi')\n",
    "    except Exception as e:\n",
    "        print(e , arquivo)"
   ]
  },
  {
   "cell_type": "code",
   "execution_count": null,
   "metadata": {},
   "outputs": [
    {
     "ename": "NameError",
     "evalue": "name 'con' is not defined",
     "output_type": "error",
     "traceback": [
      "\u001b[0;31m---------------------------------------------------------------------------\u001b[0m",
      "\u001b[0;31mNameError\u001b[0m                                 Traceback (most recent call last)",
      "\u001b[1;32m/home/rodrigo/Documentos/projetos/eleicoes/notebooks/migracao_hive_dois.ipynb Célula 8\u001b[0m line \u001b[0;36m1\n\u001b[0;32m----> <a href='vscode-notebook-cell:/home/rodrigo/Documentos/projetos/eleicoes/notebooks/migracao_hive_dois.ipynb#X20sZmlsZQ%3D%3D?line=0'>1</a>\u001b[0m con\u001b[39m.\u001b[39mclose()\n",
      "\u001b[0;31mNameError\u001b[0m: name 'con' is not defined"
     ]
    }
   ],
   "source": [
    "con.close()"
   ]
  },
  {
   "cell_type": "code",
   "execution_count": null,
   "metadata": {},
   "outputs": [
    {
     "ename": "NameError",
     "evalue": "name 'pd' is not defined",
     "output_type": "error",
     "traceback": [
      "\u001b[0;31m---------------------------------------------------------------------------\u001b[0m",
      "\u001b[0;31mNameError\u001b[0m                                 Traceback (most recent call last)",
      "\u001b[1;32m/home/rodrigo/Documentos/projetos/eleicoes/notebooks/migracao_hive_dois.ipynb Célula 9\u001b[0m line \u001b[0;36m1\n\u001b[0;32m----> <a href='vscode-notebook-cell:/home/rodrigo/Documentos/projetos/eleicoes/notebooks/migracao_hive_dois.ipynb#W4sZmlsZQ%3D%3D?line=0'>1</a>\u001b[0m df_teste \u001b[39m=\u001b[39m pd\u001b[39m.\u001b[39mread_csv(os\u001b[39m.\u001b[39mpath\u001b[39m.\u001b[39mjoin(diretorio_csv, \u001b[39m'\u001b[39m\u001b[39mdf_total_votos_candidatos_85899882.csv\u001b[39m\u001b[39m'\u001b[39m), sep\u001b[39m=\u001b[39m\u001b[39m'\u001b[39m\u001b[39m|\u001b[39m\u001b[39m'\u001b[39m, usecols\u001b[39m=\u001b[39mcolunas)\n\u001b[1;32m      <a href='vscode-notebook-cell:/home/rodrigo/Documentos/projetos/eleicoes/notebooks/migracao_hive_dois.ipynb#W4sZmlsZQ%3D%3D?line=1'>2</a>\u001b[0m df_teste\u001b[39m.\u001b[39mhead()\n",
      "\u001b[0;31mNameError\u001b[0m: name 'pd' is not defined"
     ]
    }
   ],
   "source": [
    "df_teste = pd.read_csv(os.path.join(diretorio_csv, 'df_total_votos_candidatos_85899882.csv'), sep='|', usecols=colunas)\n",
    "df_teste.head()"
   ]
  },
  {
   "cell_type": "code",
   "execution_count": null,
   "metadata": {},
   "outputs": [
    {
     "data": {
      "text/plain": [
       "-1"
      ]
     },
     "execution_count": 12,
     "metadata": {},
     "output_type": "execute_result"
    }
   ],
   "source": [
    "# con = hive.Connection(host='127.0.0.1', username='rodrigo', port=10000, database='eleicoes')\n",
    "# engine = create_engine('hive://', creator=lambda: con, pool_pre_ping=True)\n",
    "# cursor = con.cursor()\n",
    "# df_pandas = pd.read_csv(os.path.join(diretorio_csv, 'df_total_votos_candidatos_85899882.csv'), sep='|', usecols=colunas)\n",
    "# df_pandas.to_sql('total_votos_candidato', con=engine, if_exists='replace', index=False, method='multi')\n"
   ]
  },
  {
   "cell_type": "code",
   "execution_count": null,
   "metadata": {},
   "outputs": [
    {
     "data": {
      "text/plain": [
       "NR_CANDIDATO                    0\n",
       "NM_CANDIDATO                    0\n",
       "NM_URNA_CANDIDATO               0\n",
       "DS_SIT_TOT_TURNO                0\n",
       "TOTAL_VOTOS_CANDIDATO_CIDADE    0\n",
       "TOTAL_VOTOS_CIDADE              0\n",
       "PERCENTUAL_VOTOS_CIDADE         0\n",
       "ANO_ELEICAO                     0\n",
       "CD_CARGO                        0\n",
       "CD_MUNICIPIO                    0\n",
       "CD_SIT_TOT_TURNO                0\n",
       "dtype: int64"
      ]
     },
     "execution_count": 19,
     "metadata": {},
     "output_type": "execute_result"
    }
   ],
   "source": [
    "# df_pandas.isnull().sum()"
   ]
  },
  {
   "cell_type": "code",
   "execution_count": null,
   "metadata": {},
   "outputs": [],
   "source": [
    "# df_pandas.to_csv('../data/processed/teste/df_teste.csv', sep='|', columns=colunas, index=False)"
   ]
  }
 ],
 "metadata": {
  "kernelspec": {
   "display_name": ".venv",
   "language": "python",
   "name": "python3"
  },
  "language_info": {
   "codemirror_mode": {
    "name": "ipython",
    "version": 3
   },
   "file_extension": ".py",
   "mimetype": "text/x-python",
   "name": "python",
   "nbconvert_exporter": "python",
   "pygments_lexer": "ipython3",
   "version": "3.10.12"
  }
 },
 "nbformat": 4,
 "nbformat_minor": 2
}
