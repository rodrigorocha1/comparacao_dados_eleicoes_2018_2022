{
 "cells": [
  {
   "cell_type": "code",
   "execution_count": 1,
   "metadata": {},
   "outputs": [],
   "source": [
    "from pyspark.sql import SparkSession\n",
    "from pyspark.sql.window import Window\n",
    "from pyspark.sql.functions import row_number, when\n",
    "import pandas as pd\n",
    "from pyspark.sql.functions import monotonically_increasing_id"
   ]
  },
  {
   "cell_type": "code",
   "execution_count": 2,
   "metadata": {},
   "outputs": [
    {
     "name": "stdout",
     "output_type": "stream",
     "text": [
      "23/11/26 18:31:59 WARN Utils: Your hostname, rodrigo-Nitro-AN515-54 resolves to a loopback address: 127.0.1.1; using 192.168.0.112 instead (on interface wlp8s0)\n",
      "23/11/26 18:31:59 WARN Utils: Set SPARK_LOCAL_IP if you need to bind to another address\n"
     ]
    },
    {
     "name": "stderr",
     "output_type": "stream",
     "text": [
      "Setting default log level to \"WARN\".\n",
      "To adjust logging level use sc.setLogLevel(newLevel). For SparkR, use setLogLevel(newLevel).\n"
     ]
    },
    {
     "name": "stdout",
     "output_type": "stream",
     "text": [
      "23/11/26 18:32:01 WARN NativeCodeLoader: Unable to load native-hadoop library for your platform... using builtin-java classes where applicable\n"
     ]
    }
   ],
   "source": [
    "spark = SparkSession.builder.appName('MIGRACAO_HIVE').getOrCreate()"
   ]
  },
  {
   "cell_type": "code",
   "execution_count": 3,
   "metadata": {},
   "outputs": [
    {
     "name": "stderr",
     "output_type": "stream",
     "text": [
      "[Stage 1:>                                                          (0 + 1) / 1]\r"
     ]
    },
    {
     "name": "stdout",
     "output_type": "stream",
     "text": [
      "+-----------+--------+------------+------------+--------------------+--------------------+----------------+----------------+----------------------------+------------------+-----------------------+\n",
      "|ANO_ELEICAO|CD_CARGO|CD_MUNICIPIO|NR_CANDIDATO|        NM_CANDIDATO|   NM_URNA_CANDIDATO|CD_SIT_TOT_TURNO|DS_SIT_TOT_TURNO|TOTAL_VOTOS_CANDIDATO_CIDADE|TOTAL_VOTOS_CIDADE|PERCENTUAL_VOTOS_CIDADE|\n",
      "+-----------+--------+------------+------------+--------------------+--------------------+----------------+----------------+----------------------------+------------------+-----------------------+\n",
      "|       2018|       6|       61018|        1720|EDUARDO NANTES BO...|   EDUARDO BOLSONARO|               2|   ELEITO POR QP|                        2179|             16124|                  13.51|\n",
      "|       2018|       6|       61018|        1011|ALEXANDRE ARAUJO ...|ALEXANDRE DAUAGE ...|               5|        SUPLENTE|                           0|             16124|                    0.0|\n",
      "|       2018|       6|       61018|        1771|JOICE CRISTINA HA...|    JOICE HASSELMANN|               2|   ELEITO POR QP|                        1211|             16124|                   7.51|\n",
      "|       2018|       6|       61018|        1034|GERALDO DOS REIS ...|       GERALDO MALUF|               5|        SUPLENTE|                           0|             16124|                    0.0|\n",
      "|       2018|       6|       61018|        5555|ELEUSES VIEIRA DE...|   DR. ELEUSES PAIVA|               5|        SUPLENTE|                        1000|             16124|                    6.2|\n",
      "|       2018|       6|       61018|        1056|VLADIMIR RYUJI TA...|     VLADIMIR TANAKA|               5|        SUPLENTE|                           0|             16124|                    0.0|\n",
      "|       2018|       6|       61018|        1096|RICARDO ANTONIO B...|    RICARDO BENTINHO|               5|        SUPLENTE|                         996|             16124|                   6.18|\n",
      "|       2018|       6|       61018|        1064|PAULO GUILHERME F...|    PAULINHO VALENÇA|               5|        SUPLENTE|                           0|             16124|                    0.0|\n",
      "|       2018|       6|       61018|        4336|ENRICO VAN BLARCU...|       ENRICO MISASI|               2|   ELEITO POR QP|                         892|             16124|                   5.53|\n",
      "|       2018|       6|       61018|        1075|JOSE RIBAMAR DOS ...|             RIBAMAR|               5|        SUPLENTE|                           0|             16124|                    0.0|\n",
      "|       2018|       6|       61018|        1123|   FAUSTO RUY PINATO|       FAUSTO PINATO|               2|   ELEITO POR QP|                         846|             16124|                   5.25|\n",
      "|       2018|       6|       61018|        1080|   MARCELO SQUASSONI|   MARCELO SQUASSONI|               5|        SUPLENTE|                           0|             16124|                    0.0|\n",
      "|       2018|       6|       61018|        2510|MILTON CARLOS DE ...|TUPÃ - MILTON CAR...|               5|        SUPLENTE|                         620|             16124|                   3.85|\n",
      "|       2018|       6|       61018|        1088|SONIA MARIA ALVES...|  PROF.. SONIA MARIA|               5|        SUPLENTE|                           0|             16124|                    0.0|\n",
      "|       2018|       6|       61018|        2200|   JOSÉ AUGUSTO ROSA|     CAPITÃO AUGUSTO|               2|   ELEITO POR QP|                         410|             16124|                   2.54|\n",
      "|       2018|       6|       61018|        1092|ALESSANDRA DA SIL...|    ALESSANDRA FACEX|               5|        SUPLENTE|                           0|             16124|                    0.0|\n",
      "|       2018|       6|       61018|        5577|ANTONIO CEZAR COR...|CEZINHA DE MADUREIRA|               2|   ELEITO POR QP|                         327|             16124|                   2.03|\n",
      "|       2018|       6|       61018|        1208|VERA LUCIA DOS SA...|VERA LUCIA DOS SA...|               5|        SUPLENTE|                           0|             16124|                    0.0|\n",
      "|       2018|       6|       61018|        4001|   LUIZ FLAVIO GOMES|PROFESSOR LUIZ FL...|               3|ELEITO POR MÉDIA|                         305|             16124|                   1.89|\n",
      "|       2018|       6|       61018|        1270|ELZA ALVES DE CAR...|          ELZA ALVES|               5|        SUPLENTE|                           0|             16124|                    0.0|\n",
      "+-----------+--------+------------+------------+--------------------+--------------------+----------------+----------------+----------------------------+------------------+-----------------------+\n",
      "only showing top 20 rows\n",
      "\n"
     ]
    },
    {
     "name": "stderr",
     "output_type": "stream",
     "text": [
      "                                                                                \r"
     ]
    }
   ],
   "source": [
    "df_total_votos_candidato = spark \\\n",
    "    .read \\\n",
    "    .parquet('../data/processed/total_votos_candidato.parquet')\n",
    "df_total_votos_candidato.show()"
   ]
  },
  {
   "cell_type": "code",
   "execution_count": 4,
   "metadata": {},
   "outputs": [
    {
     "name": "stderr",
     "output_type": "stream",
     "text": [
      "                                                                                \r"
     ]
    },
    {
     "data": {
      "text/plain": [
       "4382775"
      ]
     },
     "execution_count": 4,
     "metadata": {},
     "output_type": "execute_result"
    }
   ],
   "source": [
    "df_total_votos_candidato.count()"
   ]
  },
  {
   "cell_type": "code",
   "execution_count": 5,
   "metadata": {},
   "outputs": [
    {
     "name": "stdout",
     "output_type": "stream",
     "text": [
      "+------------+--------------------+--------------------+----------------+----------------------------+------------------+-----------------------+-----------+--------+------------+----------------+\n",
      "|NR_CANDIDATO|        NM_CANDIDATO|   NM_URNA_CANDIDATO|DS_SIT_TOT_TURNO|TOTAL_VOTOS_CANDIDATO_CIDADE|TOTAL_VOTOS_CIDADE|PERCENTUAL_VOTOS_CIDADE|ANO_ELEICAO|CD_CARGO|CD_MUNICIPIO|CD_SIT_TOT_TURNO|\n",
      "+------------+--------------------+--------------------+----------------+----------------------------+------------------+-----------------------+-----------+--------+------------+----------------+\n",
      "|        1720|EDUARDO NANTES BO...|   EDUARDO BOLSONARO|   ELEITO POR QP|                        2179|             16124|                  13.51|       2018|       6|       61018|               2|\n",
      "|        1011|ALEXANDRE ARAUJO ...|ALEXANDRE DAUAGE ...|        SUPLENTE|                           0|             16124|                    0.0|       2018|       6|       61018|               5|\n",
      "|        1771|JOICE CRISTINA HA...|    JOICE HASSELMANN|   ELEITO POR QP|                        1211|             16124|                   7.51|       2018|       6|       61018|               2|\n",
      "|        1034|GERALDO DOS REIS ...|       GERALDO MALUF|        SUPLENTE|                           0|             16124|                    0.0|       2018|       6|       61018|               5|\n",
      "|        5555|ELEUSES VIEIRA DE...|   DR. ELEUSES PAIVA|        SUPLENTE|                        1000|             16124|                    6.2|       2018|       6|       61018|               5|\n",
      "|        1056|VLADIMIR RYUJI TA...|     VLADIMIR TANAKA|        SUPLENTE|                           0|             16124|                    0.0|       2018|       6|       61018|               5|\n",
      "|        1096|RICARDO ANTONIO B...|    RICARDO BENTINHO|        SUPLENTE|                         996|             16124|                   6.18|       2018|       6|       61018|               5|\n",
      "|        1064|PAULO GUILHERME F...|    PAULINHO VALENÇA|        SUPLENTE|                           0|             16124|                    0.0|       2018|       6|       61018|               5|\n",
      "|        4336|ENRICO VAN BLARCU...|       ENRICO MISASI|   ELEITO POR QP|                         892|             16124|                   5.53|       2018|       6|       61018|               2|\n",
      "|        1075|JOSE RIBAMAR DOS ...|             RIBAMAR|        SUPLENTE|                           0|             16124|                    0.0|       2018|       6|       61018|               5|\n",
      "|        1123|   FAUSTO RUY PINATO|       FAUSTO PINATO|   ELEITO POR QP|                         846|             16124|                   5.25|       2018|       6|       61018|               2|\n",
      "|        1080|   MARCELO SQUASSONI|   MARCELO SQUASSONI|        SUPLENTE|                           0|             16124|                    0.0|       2018|       6|       61018|               5|\n",
      "|        2510|MILTON CARLOS DE ...|TUPÃ - MILTON CAR...|        SUPLENTE|                         620|             16124|                   3.85|       2018|       6|       61018|               5|\n",
      "|        1088|SONIA MARIA ALVES...|  PROF.. SONIA MARIA|        SUPLENTE|                           0|             16124|                    0.0|       2018|       6|       61018|               5|\n",
      "|        2200|   JOSÉ AUGUSTO ROSA|     CAPITÃO AUGUSTO|   ELEITO POR QP|                         410|             16124|                   2.54|       2018|       6|       61018|               2|\n",
      "|        1092|ALESSANDRA DA SIL...|    ALESSANDRA FACEX|        SUPLENTE|                           0|             16124|                    0.0|       2018|       6|       61018|               5|\n",
      "|        5577|ANTONIO CEZAR COR...|CEZINHA DE MADUREIRA|   ELEITO POR QP|                         327|             16124|                   2.03|       2018|       6|       61018|               2|\n",
      "|        1208|VERA LUCIA DOS SA...|VERA LUCIA DOS SA...|        SUPLENTE|                           0|             16124|                    0.0|       2018|       6|       61018|               5|\n",
      "|        4001|   LUIZ FLAVIO GOMES|PROFESSOR LUIZ FL...|ELEITO POR MÉDIA|                         305|             16124|                   1.89|       2018|       6|       61018|               3|\n",
      "|        1270|ELZA ALVES DE CAR...|          ELZA ALVES|        SUPLENTE|                           0|             16124|                    0.0|       2018|       6|       61018|               5|\n",
      "+------------+--------------------+--------------------+----------------+----------------------------+------------------+-----------------------+-----------+--------+------------+----------------+\n",
      "only showing top 20 rows\n",
      "\n"
     ]
    }
   ],
   "source": [
    "df_total_votos_candidato = df_total_votos_candidato \\\n",
    "    .select(\n",
    "        'NR_CANDIDATO',\n",
    "        'NM_CANDIDATO',\n",
    "        'NM_URNA_CANDIDATO',\n",
    "        'DS_SIT_TOT_TURNO',\n",
    "        'TOTAL_VOTOS_CANDIDATO_CIDADE',\n",
    "        'TOTAL_VOTOS_CIDADE',\n",
    "        'PERCENTUAL_VOTOS_CIDADE',\n",
    "        'ANO_ELEICAO',\n",
    "        'CD_CARGO',\n",
    "        'CD_MUNICIPIO',\n",
    "        'CD_SIT_TOT_TURNO'\n",
    "\n",
    "    )\n",
    "\n",
    "df_total_votos_candidato.show()"
   ]
  },
  {
   "cell_type": "code",
   "execution_count": 6,
   "metadata": {},
   "outputs": [],
   "source": [
    "lista_colunas = df_total_votos_candidato.columns"
   ]
  },
  {
   "cell_type": "code",
   "execution_count": 7,
   "metadata": {},
   "outputs": [
    {
     "data": {
      "text/plain": [
       "['NR_CANDIDATO',\n",
       " 'NM_CANDIDATO',\n",
       " 'NM_URNA_CANDIDATO',\n",
       " 'DS_SIT_TOT_TURNO',\n",
       " 'TOTAL_VOTOS_CANDIDATO_CIDADE',\n",
       " 'TOTAL_VOTOS_CIDADE',\n",
       " 'PERCENTUAL_VOTOS_CIDADE',\n",
       " 'ANO_ELEICAO',\n",
       " 'CD_CARGO',\n",
       " 'CD_MUNICIPIO',\n",
       " 'CD_SIT_TOT_TURNO']"
      ]
     },
     "execution_count": 7,
     "metadata": {},
     "output_type": "execute_result"
    }
   ],
   "source": [
    "lista_colunas"
   ]
  },
  {
   "cell_type": "code",
   "execution_count": 8,
   "metadata": {},
   "outputs": [
    {
     "name": "stderr",
     "output_type": "stream",
     "text": [
      "                                                                                \r"
     ]
    },
    {
     "data": {
      "text/plain": [
       "[71510,\n",
       " 68098,\n",
       " 61344,\n",
       " 66613,\n",
       " 67857,\n",
       " 64874,\n",
       " 61859,\n",
       " 65013,\n",
       " 71374,\n",
       " 61786,\n",
       " 63835,\n",
       " 61654,\n",
       " 64459,\n",
       " 67911,\n",
       " 65196,\n",
       " 69515,\n",
       " 65110,\n",
       " 61158,\n",
       " 61328,\n",
       " 64033,\n",
       " 66338,\n",
       " 67474,\n",
       " 65714,\n",
       " 64254,\n",
       " 61212,\n",
       " 62456,\n",
       " 61514,\n",
       " 61077,\n",
       " 62073,\n",
       " 70912,\n",
       " 71110,\n",
       " 61298,\n",
       " 71978,\n",
       " 61271,\n",
       " 62774,\n",
       " 70718,\n",
       " 61905,\n",
       " 63037,\n",
       " 68497,\n",
       " 66257,\n",
       " 67334,\n",
       " 67156,\n",
       " 69736,\n",
       " 71650,\n",
       " 67997,\n",
       " 64610,\n",
       " 62375,\n",
       " 64335,\n",
       " 66494,\n",
       " 70394,\n",
       " 71099,\n",
       " 71218,\n",
       " 63096,\n",
       " 67490,\n",
       " 67431,\n",
       " 63673,\n",
       " 63690,\n",
       " 63711,\n",
       " 70939,\n",
       " 70190,\n",
       " 63193,\n",
       " 68411,\n",
       " 63452,\n",
       " 63797,\n",
       " 66095,\n",
       " 65072,\n",
       " 70114,\n",
       " 68470,\n",
       " 71250,\n",
       " 63339,\n",
       " 70971,\n",
       " 70556,\n",
       " 66915,\n",
       " 61417,\n",
       " 62421,\n",
       " 72451,\n",
       " 71390,\n",
       " 69159,\n",
       " 64971,\n",
       " 68594,\n",
       " 64297,\n",
       " 64998,\n",
       " 67393,\n",
       " 68217,\n",
       " 63770,\n",
       " 61778,\n",
       " 63479,\n",
       " 63258,\n",
       " 68373,\n",
       " 65579,\n",
       " 61565,\n",
       " 68950,\n",
       " 61824,\n",
       " 70599,\n",
       " 64394,\n",
       " 61131,\n",
       " 64114,\n",
       " 68535,\n",
       " 64513,\n",
       " 64530,\n",
       " 63398,\n",
       " 61697,\n",
       " 69310,\n",
       " 62790,\n",
       " 63614,\n",
       " 61662,\n",
       " 65790,\n",
       " 68659,\n",
       " 64190,\n",
       " 66753,\n",
       " 64572,\n",
       " 61140,\n",
       " 67415,\n",
       " 61093,\n",
       " 70998,\n",
       " 63371,\n",
       " 62448,\n",
       " 71838,\n",
       " 66850,\n",
       " 62596,\n",
       " 64173,\n",
       " 65455,\n",
       " 65773,\n",
       " 70955,\n",
       " 69299,\n",
       " 71277,\n",
       " 62030,\n",
       " 67733,\n",
       " 61018,\n",
       " 61034,\n",
       " 61026,\n",
       " 62308,\n",
       " 62162,\n",
       " 67717,\n",
       " 71234,\n",
       " 67458,\n",
       " 63134,\n",
       " 68330,\n",
       " 72419,\n",
       " 70050,\n",
       " 61263,\n",
       " 64734,\n",
       " 70637,\n",
       " 70319,\n",
       " 71714,\n",
       " 65552,\n",
       " 62146,\n",
       " 66192,\n",
       " 66397,\n",
       " 66478,\n",
       " 68110,\n",
       " 68195,\n",
       " 61069,\n",
       " 68438,\n",
       " 69876,\n",
       " 64092,\n",
       " 67318,\n",
       " 63754,\n",
       " 70734,\n",
       " 68071,\n",
       " 65471,\n",
       " 72737,\n",
       " 72176,\n",
       " 69817,\n",
       " 69795,\n",
       " 61808,\n",
       " 64670,\n",
       " 65315,\n",
       " 71315,\n",
       " 66575,\n",
       " 61450,\n",
       " 66419,\n",
       " 66230,\n",
       " 61530,\n",
       " 66818,\n",
       " 61182,\n",
       " 70173,\n",
       " 70297,\n",
       " 67776,\n",
       " 69531,\n",
       " 66117,\n",
       " 70831,\n",
       " 62049,\n",
       " 62413,\n",
       " 61999,\n",
       " 62910,\n",
       " 61085,\n",
       " 69477,\n",
       " 62170,\n",
       " 62006,\n",
       " 61689,\n",
       " 61360,\n",
       " 62014,\n",
       " 66877,\n",
       " 61204,\n",
       " 64130,\n",
       " 64076,\n",
       " 61751,\n",
       " 68012,\n",
       " 63959,\n",
       " 69850,\n",
       " 69230,\n",
       " 64556,\n",
       " 65757,\n",
       " 70416,\n",
       " 70874,\n",
       " 64157,\n",
       " 72079,\n",
       " 65056,\n",
       " 71595,\n",
       " 65293,\n",
       " 69078,\n",
       " 63550,\n",
       " 69175,\n",
       " 64793,\n",
       " 71331,\n",
       " 62227,\n",
       " 61000,\n",
       " 61107,\n",
       " 61913,\n",
       " 72214,\n",
       " 62243,\n",
       " 64491,\n",
       " 61921,\n",
       " 67296,\n",
       " 71455,\n",
       " 61301,\n",
       " 69418,\n",
       " 63290,\n",
       " 69370,\n",
       " 69639,\n",
       " 65730,\n",
       " 69930,\n",
       " 62138,\n",
       " 62219,\n",
       " 67539,\n",
       " 62260,\n",
       " 71471,\n",
       " 65358,\n",
       " 61549,\n",
       " 62391,\n",
       " 62715,\n",
       " 68772,\n",
       " 61735,\n",
       " 71196,\n",
       " 62758,\n",
       " 68870,\n",
       " 62952,\n",
       " 61875,\n",
       " 71552,\n",
       " 69752,\n",
       " 70670,\n",
       " 71030,\n",
       " 71757,\n",
       " 61409,\n",
       " 69272,\n",
       " 63053,\n",
       " 61166,\n",
       " 65498,\n",
       " 64939,\n",
       " 65854,\n",
       " 66010,\n",
       " 66176,\n",
       " 61972,\n",
       " 62090,\n",
       " 66672,\n",
       " 66036,\n",
       " 66532,\n",
       " 72257,\n",
       " 62812,\n",
       " 72010,\n",
       " 63592,\n",
       " 69353,\n",
       " 70491,\n",
       " 70793,\n",
       " 63010,\n",
       " 67091,\n",
       " 63312,\n",
       " 65650,\n",
       " 64351,\n",
       " 71056,\n",
       " 66931,\n",
       " 66770,\n",
       " 65234,\n",
       " 61395,\n",
       " 69990,\n",
       " 69779,\n",
       " 71170,\n",
       " 70211,\n",
       " 63436,\n",
       " 63495,\n",
       " 61581,\n",
       " 61620,\n",
       " 61441,\n",
       " 65374,\n",
       " 68519,\n",
       " 62570,\n",
       " 70530,\n",
       " 65978,\n",
       " 62154,\n",
       " 70270,\n",
       " 62839,\n",
       " 61760,\n",
       " 70033,\n",
       " 72230,\n",
       " 66150,\n",
       " 64211,\n",
       " 65935,\n",
       " 66591,\n",
       " 66290,\n",
       " 61352,\n",
       " 71137,\n",
       " 68853,\n",
       " 67873,\n",
       " 69973,\n",
       " 66710,\n",
       " 68233,\n",
       " 62677,\n",
       " 64831,\n",
       " 72133,\n",
       " 69051,\n",
       " 62430,\n",
       " 65595,\n",
       " 61956,\n",
       " 63657,\n",
       " 65170,\n",
       " 69434,\n",
       " 62332,\n",
       " 61557,\n",
       " 71897,\n",
       " 66516,\n",
       " 64718,\n",
       " 61646,\n",
       " 72150,\n",
       " 64270,\n",
       " 71536,\n",
       " 67610,\n",
       " 71358,\n",
       " 71579,\n",
       " 71870,\n",
       " 68454,\n",
       " 61484,\n",
       " 64912,\n",
       " 67830,\n",
       " 62065,\n",
       " 68934,\n",
       " 63410,\n",
       " 61433,\n",
       " 63517,\n",
       " 62634,\n",
       " 61980,\n",
       " 70815,\n",
       " 62510,\n",
       " 68756,\n",
       " 61336,\n",
       " 70890,\n",
       " 72397,\n",
       " 68039,\n",
       " 64696,\n",
       " 67270,\n",
       " 62081,\n",
       " 62855,\n",
       " 64653,\n",
       " 62405,\n",
       " 61506,\n",
       " 66974,\n",
       " 62367,\n",
       " 61719,\n",
       " 65277,\n",
       " 64890,\n",
       " 67636,\n",
       " 70254,\n",
       " 67970,\n",
       " 65390,\n",
       " 66354,\n",
       " 69132,\n",
       " 63576,\n",
       " 65510,\n",
       " 69655,\n",
       " 71994,\n",
       " 64858,\n",
       " 62235,\n",
       " 68136,\n",
       " 69698,\n",
       " 61743,\n",
       " 72338,\n",
       " 68691,\n",
       " 63738,\n",
       " 67598,\n",
       " 68810,\n",
       " 68977,\n",
       " 67512,\n",
       " 71617,\n",
       " 65617,\n",
       " 65331,\n",
       " 64238,\n",
       " 62979,\n",
       " 62251,\n",
       " 67679,\n",
       " 64378,\n",
       " 61883,\n",
       " 62316,\n",
       " 68390,\n",
       " 70238,\n",
       " 62472,\n",
       " 65994,\n",
       " 70572,\n",
       " 62278,\n",
       " 67130,\n",
       " 61816,\n",
       " 63916,\n",
       " 70459,\n",
       " 68276,\n",
       " 70513,\n",
       " 62111,\n",
       " 68675,\n",
       " 69450,\n",
       " 62324,\n",
       " 69590,\n",
       " 67172,\n",
       " 68632,\n",
       " 62693,\n",
       " 70432,\n",
       " 66958,\n",
       " 62200,\n",
       " 62871,\n",
       " 69116,\n",
       " 61891,\n",
       " 68730,\n",
       " 67750,\n",
       " 65137,\n",
       " 65250,\n",
       " 70017,\n",
       " 69213,\n",
       " 67954,\n",
       " 62995,\n",
       " 65218,\n",
       " 62294,\n",
       " 66630,\n",
       " 72273,\n",
       " 70475,\n",
       " 67695,\n",
       " 66834,\n",
       " 72036,\n",
       " 62618,\n",
       " 69035,\n",
       " 71498,\n",
       " 72052,\n",
       " 65099,\n",
       " 61174,\n",
       " 61573,\n",
       " 67652,\n",
       " 69493,\n",
       " 63975,\n",
       " 61700,\n",
       " 69396,\n",
       " 68578,\n",
       " 69914,\n",
       " 63118,\n",
       " 63991,\n",
       " 68616,\n",
       " 70696,\n",
       " 61948,\n",
       " 65439,\n",
       " 62120,\n",
       " 71633,\n",
       " 67350,\n",
       " 67555,\n",
       " 69337,\n",
       " 61247,\n",
       " 61964,\n",
       " 67032,\n",
       " 68896,\n",
       " 68314,\n",
       " 70130,\n",
       " 61115,\n",
       " 71730,\n",
       " 66311,\n",
       " 62499,\n",
       " 67199,\n",
       " 62898,\n",
       " 63851,\n",
       " 61280,\n",
       " 71919,\n",
       " 62189,\n",
       " 71153,\n",
       " 69892,\n",
       " 72370,\n",
       " 67075,\n",
       " 67113,\n",
       " 61468,\n",
       " 71412,\n",
       " 62022,\n",
       " 69256,\n",
       " 72311,\n",
       " 65897,\n",
       " 70653,\n",
       " 66796,\n",
       " 69191,\n",
       " 69612,\n",
       " 70378,\n",
       " 67938,\n",
       " 61387,\n",
       " 62340,\n",
       " 66052,\n",
       " 63177,\n",
       " 65633,\n",
       " 69094,\n",
       " 61930,\n",
       " 66273,\n",
       " 68152,\n",
       " 72117,\n",
       " 64432,\n",
       " 71790,\n",
       " 71935,\n",
       " 70157,\n",
       " 64475,\n",
       " 65412,\n",
       " 68357,\n",
       " 68551,\n",
       " 63878,\n",
       " 66133,\n",
       " 65870,\n",
       " 71811,\n",
       " 62286,\n",
       " 64955,\n",
       " 69574,\n",
       " 62057,\n",
       " 69019,\n",
       " 63932,\n",
       " 72354,\n",
       " 69710,\n",
       " 71072,\n",
       " 61670,\n",
       " 63355,\n",
       " 63215,\n",
       " 63533,\n",
       " 68799,\n",
       " 67792,\n",
       " 64815,\n",
       " 67377,\n",
       " 69833,\n",
       " 71013,\n",
       " 61590,\n",
       " 61492,\n",
       " 66699,\n",
       " 63630,\n",
       " 66435,\n",
       " 69957,\n",
       " 67253,\n",
       " 71692,\n",
       " 69558,\n",
       " 66656,\n",
       " 61611,\n",
       " 65811,\n",
       " 72435,\n",
       " 70351,\n",
       " 61220,\n",
       " 61239,\n",
       " 66214,\n",
       " 66451,\n",
       " 61123,\n",
       " 64599,\n",
       " 68179,\n",
       " 65676,\n",
       " 63150,\n",
       " 66737,\n",
       " 61727,\n",
       " 71439,\n",
       " 63070,\n",
       " 65030,\n",
       " 65919,\n",
       " 68250,\n",
       " 65692,\n",
       " 65536,\n",
       " 68292,\n",
       " 72192,\n",
       " 67210,\n",
       " 64319,\n",
       " 66990,\n",
       " 71951,\n",
       " 67890,\n",
       " 72095,\n",
       " 68918,\n",
       " 66370,\n",
       " 61425,\n",
       " 63231,\n",
       " 61190,\n",
       " 64017,\n",
       " 70610,\n",
       " 61476,\n",
       " 61840,\n",
       " 66893,\n",
       " 71676,\n",
       " 64050,\n",
       " 61638,\n",
       " 69671,\n",
       " 70092,\n",
       " 61522,\n",
       " 61050,\n",
       " 70750,\n",
       " 64416,\n",
       " 62936,\n",
       " 68993,\n",
       " 62197,\n",
       " 61379,\n",
       " 67237,\n",
       " 70335,\n",
       " 61867,\n",
       " 71854,\n",
       " 64637,\n",
       " 67016,\n",
       " 67059,\n",
       " 62553,\n",
       " 70076,\n",
       " 62731,\n",
       " 68713,\n",
       " 61603,\n",
       " 61255,\n",
       " 64750,\n",
       " 63894,\n",
       " 61832,\n",
       " 67571,\n",
       " 65951,\n",
       " 68055,\n",
       " 71773,\n",
       " 63274,\n",
       " 68837,\n",
       " 70777,\n",
       " 66559,\n",
       " 61042,\n",
       " 64777,\n",
       " 66079,\n",
       " 62650,\n",
       " 65153,\n",
       " 61794,\n",
       " 67814,\n",
       " 61310,\n",
       " 71293,\n",
       " 62103,\n",
       " 62383,\n",
       " 63819,\n",
       " 62359,\n",
       " 65838,\n",
       " 70858]"
      ]
     },
     "execution_count": 8,
     "metadata": {},
     "output_type": "execute_result"
    }
   ],
   "source": [
    "list_cidade = [ linha['CD_MUNICIPIO'] for linha in df_total_votos_candidato.select('CD_MUNICIPIO').distinct().collect() ]\n",
    "list_cidade"
   ]
  },
  {
   "cell_type": "code",
   "execution_count": 9,
   "metadata": {},
   "outputs": [],
   "source": [
    "df_total_votos_candidato = df_total_votos_candidato.withColumn('ID_LINHA', monotonically_increasing_id()) "
   ]
  },
  {
   "cell_type": "code",
   "execution_count": 10,
   "metadata": {},
   "outputs": [
    {
     "name": "stdout",
     "output_type": "stream",
     "text": [
      "+------------+--------------------+--------------------+----------------+----------------------------+------------------+-----------------------+-----------+--------+------------+----------------+--------+\n",
      "|NR_CANDIDATO|        NM_CANDIDATO|   NM_URNA_CANDIDATO|DS_SIT_TOT_TURNO|TOTAL_VOTOS_CANDIDATO_CIDADE|TOTAL_VOTOS_CIDADE|PERCENTUAL_VOTOS_CIDADE|ANO_ELEICAO|CD_CARGO|CD_MUNICIPIO|CD_SIT_TOT_TURNO|ID_LINHA|\n",
      "+------------+--------------------+--------------------+----------------+----------------------------+------------------+-----------------------+-----------+--------+------------+----------------+--------+\n",
      "|        1720|EDUARDO NANTES BO...|   EDUARDO BOLSONARO|   ELEITO POR QP|                        2179|             16124|                  13.51|       2018|       6|       61018|               2|       0|\n",
      "|        1011|ALEXANDRE ARAUJO ...|ALEXANDRE DAUAGE ...|        SUPLENTE|                           0|             16124|                    0.0|       2018|       6|       61018|               5|       1|\n",
      "|        1771|JOICE CRISTINA HA...|    JOICE HASSELMANN|   ELEITO POR QP|                        1211|             16124|                   7.51|       2018|       6|       61018|               2|       2|\n",
      "|        1034|GERALDO DOS REIS ...|       GERALDO MALUF|        SUPLENTE|                           0|             16124|                    0.0|       2018|       6|       61018|               5|       3|\n",
      "|        5555|ELEUSES VIEIRA DE...|   DR. ELEUSES PAIVA|        SUPLENTE|                        1000|             16124|                    6.2|       2018|       6|       61018|               5|       4|\n",
      "|        1056|VLADIMIR RYUJI TA...|     VLADIMIR TANAKA|        SUPLENTE|                           0|             16124|                    0.0|       2018|       6|       61018|               5|       5|\n",
      "|        1096|RICARDO ANTONIO B...|    RICARDO BENTINHO|        SUPLENTE|                         996|             16124|                   6.18|       2018|       6|       61018|               5|       6|\n",
      "|        1064|PAULO GUILHERME F...|    PAULINHO VALENÇA|        SUPLENTE|                           0|             16124|                    0.0|       2018|       6|       61018|               5|       7|\n",
      "|        4336|ENRICO VAN BLARCU...|       ENRICO MISASI|   ELEITO POR QP|                         892|             16124|                   5.53|       2018|       6|       61018|               2|       8|\n",
      "|        1075|JOSE RIBAMAR DOS ...|             RIBAMAR|        SUPLENTE|                           0|             16124|                    0.0|       2018|       6|       61018|               5|       9|\n",
      "|        1123|   FAUSTO RUY PINATO|       FAUSTO PINATO|   ELEITO POR QP|                         846|             16124|                   5.25|       2018|       6|       61018|               2|      10|\n",
      "|        1080|   MARCELO SQUASSONI|   MARCELO SQUASSONI|        SUPLENTE|                           0|             16124|                    0.0|       2018|       6|       61018|               5|      11|\n",
      "|        2510|MILTON CARLOS DE ...|TUPÃ - MILTON CAR...|        SUPLENTE|                         620|             16124|                   3.85|       2018|       6|       61018|               5|      12|\n",
      "|        1088|SONIA MARIA ALVES...|  PROF.. SONIA MARIA|        SUPLENTE|                           0|             16124|                    0.0|       2018|       6|       61018|               5|      13|\n",
      "|        2200|   JOSÉ AUGUSTO ROSA|     CAPITÃO AUGUSTO|   ELEITO POR QP|                         410|             16124|                   2.54|       2018|       6|       61018|               2|      14|\n",
      "|        1092|ALESSANDRA DA SIL...|    ALESSANDRA FACEX|        SUPLENTE|                           0|             16124|                    0.0|       2018|       6|       61018|               5|      15|\n",
      "|        5577|ANTONIO CEZAR COR...|CEZINHA DE MADUREIRA|   ELEITO POR QP|                         327|             16124|                   2.03|       2018|       6|       61018|               2|      16|\n",
      "|        1208|VERA LUCIA DOS SA...|VERA LUCIA DOS SA...|        SUPLENTE|                           0|             16124|                    0.0|       2018|       6|       61018|               5|      17|\n",
      "|        4001|   LUIZ FLAVIO GOMES|PROFESSOR LUIZ FL...|ELEITO POR MÉDIA|                         305|             16124|                   1.89|       2018|       6|       61018|               3|      18|\n",
      "|        1270|ELZA ALVES DE CAR...|          ELZA ALVES|        SUPLENTE|                           0|             16124|                    0.0|       2018|       6|       61018|               5|      19|\n",
      "+------------+--------------------+--------------------+----------------+----------------------------+------------------+-----------------------+-----------+--------+------------+----------------+--------+\n",
      "only showing top 20 rows\n",
      "\n"
     ]
    }
   ],
   "source": [
    "df_total_votos_candidato.show()"
   ]
  },
  {
   "cell_type": "code",
   "execution_count": 11,
   "metadata": {},
   "outputs": [
    {
     "name": "stdout",
     "output_type": "stream",
     "text": [
      "+------------+--------------------+--------------------+----------------+----------------------------+------------------+-----------------------+-----------+--------+------------+----------------+--------+-----------+\n",
      "|NR_CANDIDATO|        NM_CANDIDATO|   NM_URNA_CANDIDATO|DS_SIT_TOT_TURNO|TOTAL_VOTOS_CANDIDATO_CIDADE|TOTAL_VOTOS_CIDADE|PERCENTUAL_VOTOS_CIDADE|ANO_ELEICAO|CD_CARGO|CD_MUNICIPIO|CD_SIT_TOT_TURNO|ID_LINHA|PARTICAO_ID|\n",
      "+------------+--------------------+--------------------+----------------+----------------------------+------------------+-----------------------+-----------+--------+------------+----------------+--------+-----------+\n",
      "|        1720|EDUARDO NANTES BO...|   EDUARDO BOLSONARO|   ELEITO POR QP|                        2179|             16124|                  13.51|       2018|       6|       61018|               2|       0|          0|\n",
      "|        1011|ALEXANDRE ARAUJO ...|ALEXANDRE DAUAGE ...|        SUPLENTE|                           0|             16124|                    0.0|       2018|       6|       61018|               5|       1|          0|\n",
      "|        1771|JOICE CRISTINA HA...|    JOICE HASSELMANN|   ELEITO POR QP|                        1211|             16124|                   7.51|       2018|       6|       61018|               2|       2|          0|\n",
      "|        1034|GERALDO DOS REIS ...|       GERALDO MALUF|        SUPLENTE|                           0|             16124|                    0.0|       2018|       6|       61018|               5|       3|          0|\n",
      "|        5555|ELEUSES VIEIRA DE...|   DR. ELEUSES PAIVA|        SUPLENTE|                        1000|             16124|                    6.2|       2018|       6|       61018|               5|       4|          0|\n",
      "|        1056|VLADIMIR RYUJI TA...|     VLADIMIR TANAKA|        SUPLENTE|                           0|             16124|                    0.0|       2018|       6|       61018|               5|       5|          0|\n",
      "|        1096|RICARDO ANTONIO B...|    RICARDO BENTINHO|        SUPLENTE|                         996|             16124|                   6.18|       2018|       6|       61018|               5|       6|          0|\n",
      "|        1064|PAULO GUILHERME F...|    PAULINHO VALENÇA|        SUPLENTE|                           0|             16124|                    0.0|       2018|       6|       61018|               5|       7|          0|\n",
      "|        4336|ENRICO VAN BLARCU...|       ENRICO MISASI|   ELEITO POR QP|                         892|             16124|                   5.53|       2018|       6|       61018|               2|       8|          0|\n",
      "|        1075|JOSE RIBAMAR DOS ...|             RIBAMAR|        SUPLENTE|                           0|             16124|                    0.0|       2018|       6|       61018|               5|       9|          0|\n",
      "|        1123|   FAUSTO RUY PINATO|       FAUSTO PINATO|   ELEITO POR QP|                         846|             16124|                   5.25|       2018|       6|       61018|               2|      10|          0|\n",
      "|        1080|   MARCELO SQUASSONI|   MARCELO SQUASSONI|        SUPLENTE|                           0|             16124|                    0.0|       2018|       6|       61018|               5|      11|          0|\n",
      "|        2510|MILTON CARLOS DE ...|TUPÃ - MILTON CAR...|        SUPLENTE|                         620|             16124|                   3.85|       2018|       6|       61018|               5|      12|          0|\n",
      "|        1088|SONIA MARIA ALVES...|  PROF.. SONIA MARIA|        SUPLENTE|                           0|             16124|                    0.0|       2018|       6|       61018|               5|      13|          0|\n",
      "|        2200|   JOSÉ AUGUSTO ROSA|     CAPITÃO AUGUSTO|   ELEITO POR QP|                         410|             16124|                   2.54|       2018|       6|       61018|               2|      14|          0|\n",
      "|        1092|ALESSANDRA DA SIL...|    ALESSANDRA FACEX|        SUPLENTE|                           0|             16124|                    0.0|       2018|       6|       61018|               5|      15|          0|\n",
      "|        5577|ANTONIO CEZAR COR...|CEZINHA DE MADUREIRA|   ELEITO POR QP|                         327|             16124|                   2.03|       2018|       6|       61018|               2|      16|          0|\n",
      "|        1208|VERA LUCIA DOS SA...|VERA LUCIA DOS SA...|        SUPLENTE|                           0|             16124|                    0.0|       2018|       6|       61018|               5|      17|          0|\n",
      "|        4001|   LUIZ FLAVIO GOMES|PROFESSOR LUIZ FL...|ELEITO POR MÉDIA|                         305|             16124|                   1.89|       2018|       6|       61018|               3|      18|          0|\n",
      "|        1270|ELZA ALVES DE CAR...|          ELZA ALVES|        SUPLENTE|                           0|             16124|                    0.0|       2018|       6|       61018|               5|      19|          0|\n",
      "+------------+--------------------+--------------------+----------------+----------------------------+------------------+-----------------------+-----------+--------+------------+----------------+--------+-----------+\n",
      "only showing top 20 rows\n",
      "\n"
     ]
    }
   ],
   "source": [
    "numero_linha_particao = 1000\n",
    "df_total_votos_candidato = df_total_votos_candidato.withColumn('PARTICAO_ID', (df_total_votos_candidato['ID_LINHA'] / numero_linha_particao).cast('integer'))\n",
    "df_total_votos_candidato.show()"
   ]
  },
  {
   "cell_type": "code",
   "execution_count": 12,
   "metadata": {},
   "outputs": [
    {
     "name": "stderr",
     "output_type": "stream",
     "text": [
      "                                                                                \r"
     ]
    }
   ],
   "source": [
    "particoes = df_total_votos_candidato.select('PARTICAO_ID').distinct().collect()"
   ]
  },
  {
   "cell_type": "code",
   "execution_count": 13,
   "metadata": {},
   "outputs": [],
   "source": [
    "particoes.sort(reverse=True)"
   ]
  },
  {
   "cell_type": "code",
   "execution_count": 14,
   "metadata": {},
   "outputs": [
    {
     "data": {
      "text/plain": [
       "4390"
      ]
     },
     "execution_count": 14,
     "metadata": {},
     "output_type": "execute_result"
    }
   ],
   "source": [
    "len(particoes)"
   ]
  },
  {
   "cell_type": "code",
   "execution_count": 15,
   "metadata": {},
   "outputs": [
    {
     "name": "stdout",
     "output_type": "stream",
     "text": [
      "0 60130156\n"
     ]
    },
    {
     "name": "stderr",
     "output_type": "stream",
     "text": [
      "                                                                                \r"
     ]
    },
    {
     "name": "stdout",
     "output_type": "stream",
     "text": [
      "1 60130155\n"
     ]
    },
    {
     "name": "stderr",
     "output_type": "stream",
     "text": [
      "                                                                                \r"
     ]
    },
    {
     "name": "stdout",
     "output_type": "stream",
     "text": [
      "2 60130154\n"
     ]
    },
    {
     "name": "stderr",
     "output_type": "stream",
     "text": [
      "                                                                                \r"
     ]
    },
    {
     "name": "stdout",
     "output_type": "stream",
     "text": [
      "3 60130153\n"
     ]
    },
    {
     "name": "stderr",
     "output_type": "stream",
     "text": [
      "                                                                                \r"
     ]
    },
    {
     "name": "stdout",
     "output_type": "stream",
     "text": [
      "4 60130152\n"
     ]
    },
    {
     "name": "stderr",
     "output_type": "stream",
     "text": [
      "                                                                                \r"
     ]
    },
    {
     "name": "stdout",
     "output_type": "stream",
     "text": [
      "5 60130151\n"
     ]
    },
    {
     "name": "stderr",
     "output_type": "stream",
     "text": [
      "                                                                                \r"
     ]
    },
    {
     "name": "stdout",
     "output_type": "stream",
     "text": [
      "6 60130150\n"
     ]
    },
    {
     "name": "stderr",
     "output_type": "stream",
     "text": [
      "                                                                                \r"
     ]
    },
    {
     "name": "stdout",
     "output_type": "stream",
     "text": [
      "7 60130149\n"
     ]
    },
    {
     "name": "stderr",
     "output_type": "stream",
     "text": [
      "                                                                                \r"
     ]
    },
    {
     "name": "stdout",
     "output_type": "stream",
     "text": [
      "8 60130148\n",
      "9 60130147\n",
      "10 60130146\n"
     ]
    },
    {
     "name": "stderr",
     "output_type": "stream",
     "text": [
      "                                                                                \r"
     ]
    },
    {
     "name": "stdout",
     "output_type": "stream",
     "text": [
      "11 60130145\n",
      "12 60130144\n",
      "13 60130143\n",
      "14 60130142\n",
      "15 60130141\n",
      "16 60130140\n",
      "17 60130139\n",
      "18 60130138\n",
      "19 60130137\n",
      "20 60130136\n",
      "21 60130135\n",
      "22 60130134\n",
      "23 60130133\n",
      "24 60130132\n",
      "25 60130131\n",
      "26 60130130\n",
      "27 60130129\n",
      "28 60130128\n",
      "29 60130127\n",
      "30 60130126\n",
      "31 60130125\n",
      "32 60130124\n",
      "33 60130123\n",
      "34 60130122\n",
      "35 60130121\n",
      "36 60130120\n",
      "37 60130119\n",
      "38 60130118\n",
      "39 60130117\n",
      "40 60130116\n",
      "41 60130115\n",
      "42 60130114\n",
      "43 60130113\n",
      "44 60130112\n",
      "45 60130111\n",
      "46 60130110\n",
      "47 60130109\n",
      "48 60130108\n",
      "49 60130107\n",
      "50 60130106\n",
      "51 60130105\n",
      "52 60130104\n",
      "53 60130103\n",
      "54 60130102\n",
      "55 60130101\n",
      "56 60130100\n",
      "57 60130099\n",
      "58 60130098\n",
      "59 60130097\n",
      "60 60130096\n",
      "61 60130095\n",
      "62 60130094\n",
      "63 60130093\n",
      "64 60130092\n",
      "65 60130091\n",
      "66 60130090\n",
      "67 60130089\n",
      "68 60130088\n",
      "69 60130087\n",
      "70 60130086\n",
      "71 60130085\n",
      "72 60130084\n",
      "73 60130083\n",
      "74 60130082\n",
      "75 60130081\n",
      "76 60130080\n",
      "77 60130079\n",
      "78 60130078\n",
      "79 60130077\n",
      "80 60130076\n",
      "81 60130075\n",
      "82 60130074\n",
      "83 60130073\n",
      "84 60130072\n",
      "85 60130071\n",
      "86 60130070\n",
      "87 60130069\n",
      "88 60130068\n",
      "89 60130067\n",
      "90 60130066\n",
      "91 60130065\n",
      "92 60130064\n",
      "93 60130063\n",
      "94 60130062\n",
      "95 60130061\n",
      "96 60130060\n",
      "97 60130059\n",
      "98 60130058\n",
      "99 60130057\n",
      "100 60130056\n",
      "101 60130055\n",
      "102 60130054\n",
      "103 60130053\n",
      "104 60130052\n",
      "105 60130051\n"
     ]
    },
    {
     "name": "stderr",
     "output_type": "stream",
     "text": [
      "                                                                                \r"
     ]
    },
    {
     "name": "stdout",
     "output_type": "stream",
     "text": [
      "106 60130050\n",
      "107 60130049\n",
      "108 60130048\n",
      "109 60130047\n",
      "110 60130046\n",
      "111 60130045\n",
      "112 60130044\n",
      "113 60130043\n",
      "114 60130042\n",
      "115 60130041\n",
      "116 60130040\n",
      "117 60130039\n",
      "118 60130038\n",
      "119 60130037\n",
      "120 60130036\n",
      "121 60130035\n",
      "122 60130034\n",
      "123 60130033\n",
      "124 60130032\n",
      "125 60130031\n",
      "126 60130030\n",
      "127 60130029\n",
      "128 60130028\n",
      "129 60130027\n",
      "130 60130026\n",
      "131 60130025\n",
      "132 60130024\n",
      "133 60130023\n",
      "134 60130022\n",
      "135 60130021\n",
      "136 60130020\n",
      "137 60130019\n",
      "138 60130018\n",
      "139 60130017\n",
      "140 60130016\n",
      "141 60130015\n",
      "142 60130014\n",
      "143 60130013\n",
      "144 60130012\n",
      "145 60130011\n",
      "146 60130010\n",
      "147 60130009\n",
      "148 60130008\n",
      "149 60130007\n",
      "150 60130006\n",
      "151 60130005\n",
      "152 60130004\n",
      "153 60130003\n",
      "154 60130002\n",
      "155 60130001\n",
      "156 60130000\n",
      "157 60129999\n",
      "158 60129998\n",
      "159 60129997\n",
      "160 60129996\n",
      "161 60129995\n",
      "162 60129994\n",
      "163 60129993\n",
      "164 60129992\n",
      "165 60129991\n",
      "166 60129990\n",
      "167 60129989\n",
      "168 60129988\n",
      "169 60129987\n",
      "170 60129986\n",
      "171 60129985\n",
      "172 60129984\n",
      "173 60129983\n",
      "174 60129982\n",
      "175 60129981\n",
      "176 60129980\n",
      "177 60129979\n",
      "178 60129978\n",
      "179 60129977\n",
      "180 60129976\n",
      "181 60129975\n",
      "182 60129974\n",
      "183 60129973\n",
      "184 60129972\n",
      "185 60129971\n",
      "186 60129970\n",
      "187 60129969\n",
      "188 60129968\n",
      "189 60129967\n",
      "190 60129966\n",
      "191 60129965\n",
      "192 60129964\n",
      "193 60129963\n",
      "194 60129962\n",
      "195 60129961\n",
      "196 60129960\n",
      "197 60129959\n",
      "198 60129958\n",
      "199 60129957\n",
      "200 60129956\n",
      "201 60129955\n",
      "202 60129954\n",
      "203 60129953\n",
      "204 60129952\n",
      "205 60129951\n",
      "206 60129950\n",
      "207 60129949\n",
      "208 60129948\n",
      "209 60129947\n",
      "210 60129946\n",
      "211 60129945\n",
      "212 60129944\n",
      "213 60129943\n",
      "214 60129942\n",
      "215 60129941\n",
      "216 60129940\n",
      "217 60129939\n",
      "218 60129938\n",
      "219 60129937\n",
      "220 60129936\n",
      "221 60129935\n",
      "222 60129934\n",
      "223 60129933\n",
      "224 60129932\n",
      "225 60129931\n",
      "226 60129930\n",
      "227 60129929\n",
      "228 60129928\n",
      "229 60129927\n",
      "230 60129926\n",
      "231 60129925\n",
      "232 60129924\n",
      "233 60129923\n",
      "234 60129922\n",
      "235 60129921\n",
      "236 60129920\n",
      "237 60129919\n",
      "238 60129918\n",
      "239 60129917\n",
      "240 60129916\n",
      "241 60129915\n",
      "242 60129914\n",
      "243 60129913\n",
      "244 60129912\n",
      "245 60129911\n",
      "246 60129910\n",
      "247 60129909\n",
      "248 60129908\n",
      "249 60129907\n",
      "250 60129906\n",
      "251 60129905\n",
      "252 60129904\n",
      "253 60129903\n",
      "254 60129902\n",
      "255 60129901\n",
      "256 60129900\n",
      "257 60129899\n",
      "258 60129898\n",
      "259 60129897\n",
      "260 60129896\n",
      "261 60129895\n",
      "262 60129894\n",
      "263 60129893\n",
      "264 60129892\n",
      "265 60129891\n",
      "266 60129890\n",
      "267 60129889\n",
      "268 60129888\n",
      "269 60129887\n",
      "270 60129886\n"
     ]
    },
    {
     "name": "stderr",
     "output_type": "stream",
     "text": [
      "                                                                                \r"
     ]
    },
    {
     "name": "stdout",
     "output_type": "stream",
     "text": [
      "271 60129885\n",
      "272 60129884\n",
      "273 60129883\n",
      "274 60129882\n",
      "275 60129881\n",
      "276 60129880\n",
      "277 60129879\n",
      "278 60129878\n",
      "279 60129877\n",
      "280 60129876\n",
      "281 60129875\n",
      "282 60129874\n"
     ]
    },
    {
     "name": "stderr",
     "output_type": "stream",
     "text": [
      "                                                                                \r"
     ]
    },
    {
     "name": "stdout",
     "output_type": "stream",
     "text": [
      "283 60129873\n",
      "284 60129872\n",
      "285 60129871\n",
      "286 60129870\n",
      "287 60129869\n",
      "288 60129868\n",
      "289 60129867\n",
      "290 60129866\n",
      "291 60129865\n",
      "292 60129864\n",
      "293 60129863\n",
      "294 60129862\n",
      "295 60129861\n"
     ]
    },
    {
     "name": "stderr",
     "output_type": "stream",
     "text": [
      "                                                                                \r"
     ]
    },
    {
     "name": "stdout",
     "output_type": "stream",
     "text": [
      "296 60129860\n",
      "297 60129859\n",
      "298 60129858\n",
      "299 60129857\n",
      "300 60129856\n",
      "301 60129855\n",
      "302 60129854\n",
      "303 60129853\n",
      "304 60129852\n",
      "305 60129851\n",
      "306 60129850\n",
      "307 60129849\n",
      "308 60129848\n",
      "309 60129847\n",
      "310 60129846\n",
      "311 60129845\n",
      "312 60129844\n",
      "313 60129843\n",
      "314 60129842\n",
      "315 60129841\n",
      "316 60129840\n",
      "317 60129839\n",
      "318 60129838\n",
      "319 60129837\n",
      "320 60129836\n",
      "321 60129835\n",
      "322 60129834\n"
     ]
    },
    {
     "name": "stderr",
     "output_type": "stream",
     "text": [
      "                                                                                \r"
     ]
    },
    {
     "name": "stdout",
     "output_type": "stream",
     "text": [
      "323 60129833\n",
      "324 60129832\n",
      "325 60129831\n",
      "326 60129830\n",
      "327 60129829\n",
      "328 60129828\n",
      "329 60129827\n",
      "330 60129826\n",
      "331 60129825\n",
      "332 60129824\n",
      "333 60129823\n",
      "334 60129822\n",
      "335 60129821\n",
      "336 60129820\n",
      "337 60129819\n",
      "338 60129818\n",
      "339 60129817\n",
      "340 60129816\n",
      "341 60129815\n",
      "342 60129814\n",
      "343 60129813\n",
      "344 60129812\n",
      "345 60129811\n",
      "346 60129810\n",
      "347 60129809\n",
      "348 60129808\n",
      "349 60129807\n",
      "350 60129806\n"
     ]
    },
    {
     "name": "stderr",
     "output_type": "stream",
     "text": [
      "                                                                                \r"
     ]
    },
    {
     "name": "stdout",
     "output_type": "stream",
     "text": [
      "351 60129805\n",
      "352 60129804\n",
      "353 60129803\n",
      "354 60129802\n",
      "355 60129801\n",
      "356 60129800\n",
      "357 60129799\n",
      "358 60129798\n",
      "359 60129797\n",
      "360 60129796\n",
      "361 60129795\n",
      "362 60129794\n"
     ]
    },
    {
     "name": "stderr",
     "output_type": "stream",
     "text": [
      "                                                                                \r"
     ]
    },
    {
     "name": "stdout",
     "output_type": "stream",
     "text": [
      "363 60129793\n",
      "364 60129792\n",
      "365 60129791\n",
      "366 60129790\n",
      "367 60129789\n",
      "368 60129788\n",
      "369 60129787\n",
      "370 60129786\n",
      "371 60129785\n",
      "372 60129784\n",
      "373 60129783\n",
      "374 60129782\n"
     ]
    },
    {
     "name": "stderr",
     "output_type": "stream",
     "text": [
      "                                                                                \r"
     ]
    },
    {
     "name": "stdout",
     "output_type": "stream",
     "text": [
      "375 60129781\n",
      "376 60129780\n",
      "377 60129779\n",
      "378 60129778\n",
      "379 60129777\n",
      "380 60129776\n",
      "381 60129775\n",
      "382 60129774\n",
      "383 60129773\n",
      "384 60129772\n",
      "385 60129771\n"
     ]
    },
    {
     "name": "stderr",
     "output_type": "stream",
     "text": [
      "                                                                                \r"
     ]
    },
    {
     "name": "stdout",
     "output_type": "stream",
     "text": [
      "386 60129770\n",
      "387 60129769\n",
      "388 60129768\n",
      "389 60129767\n",
      "390 60129766\n",
      "391 60129765\n",
      "392 60129764\n",
      "393 60129763\n",
      "394 60129762\n",
      "395 60129761\n",
      "396 60129760\n",
      "397 60129759\n",
      "398 60129758\n",
      "399 60129757\n",
      "400 60129756\n",
      "401 60129755\n",
      "402 60129754\n",
      "403 60129753\n",
      "404 60129752\n",
      "405 60129751\n",
      "406 60129750\n",
      "407 60129749\n",
      "408 60129748\n",
      "409 60129747\n",
      "410 60129746\n",
      "411 60129745\n"
     ]
    },
    {
     "name": "stderr",
     "output_type": "stream",
     "text": [
      "                                                                                \r"
     ]
    },
    {
     "name": "stdout",
     "output_type": "stream",
     "text": [
      "412 60129744\n",
      "413 60129743\n",
      "414 60129742\n",
      "415 60129741\n",
      "416 60129740\n",
      "417 60129739\n",
      "418 60129738\n",
      "419 60129737\n",
      "420 60129736\n",
      "421 60129735\n",
      "422 60129734\n",
      "423 60129733\n",
      "424 60129732\n",
      "425 60129731\n",
      "426 60129730\n",
      "427 60129729\n"
     ]
    },
    {
     "name": "stderr",
     "output_type": "stream",
     "text": [
      "                                                                                \r"
     ]
    },
    {
     "name": "stdout",
     "output_type": "stream",
     "text": [
      "428 60129728\n"
     ]
    },
    {
     "name": "stderr",
     "output_type": "stream",
     "text": [
      "                                                                                \r"
     ]
    },
    {
     "name": "stdout",
     "output_type": "stream",
     "text": [
      "429 60129727\n"
     ]
    },
    {
     "name": "stderr",
     "output_type": "stream",
     "text": [
      "                                                                                \r"
     ]
    },
    {
     "name": "stdout",
     "output_type": "stream",
     "text": [
      "430 60129726\n"
     ]
    },
    {
     "name": "stderr",
     "output_type": "stream",
     "text": [
      "                                                                                \r"
     ]
    },
    {
     "name": "stdout",
     "output_type": "stream",
     "text": [
      "431 60129725\n"
     ]
    },
    {
     "name": "stderr",
     "output_type": "stream",
     "text": [
      "                                                                                \r"
     ]
    },
    {
     "name": "stdout",
     "output_type": "stream",
     "text": [
      "432 60129724\n",
      "433 60129723\n",
      "434 60129722\n",
      "435 60129721\n",
      "436 60129720\n",
      "437 60129719\n",
      "438 60129718\n"
     ]
    },
    {
     "name": "stderr",
     "output_type": "stream",
     "text": [
      "                                                                                \r"
     ]
    },
    {
     "name": "stdout",
     "output_type": "stream",
     "text": [
      "439 60129717\n",
      "440 60129716\n",
      "441 60129715\n",
      "442 60129714\n",
      "443 60129713\n",
      "444 60129712\n",
      "445 60129711\n"
     ]
    },
    {
     "name": "stderr",
     "output_type": "stream",
     "text": [
      "                                                                                \r"
     ]
    },
    {
     "name": "stdout",
     "output_type": "stream",
     "text": [
      "446 60129710\n",
      "447 60129709\n",
      "448 60129708\n"
     ]
    },
    {
     "name": "stderr",
     "output_type": "stream",
     "text": [
      "                                                                                \r"
     ]
    },
    {
     "name": "stdout",
     "output_type": "stream",
     "text": [
      "449 60129707\n",
      "450 60129706\n",
      "451 60129705\n",
      "452 60129704\n",
      "453 60129703\n",
      "454 60129702\n",
      "455 60129701\n",
      "456 60129700\n",
      "457 60129699\n",
      "458 60129698\n",
      "459 60129697\n",
      "460 60129696\n",
      "461 60129695\n",
      "462 60129694\n",
      "463 60129693\n",
      "464 60129692\n",
      "465 60129691\n",
      "466 60129690\n",
      "467 60129689\n",
      "468 60129688\n",
      "469 60129687\n",
      "470 60129686\n",
      "471 60129685\n",
      "472 60129684\n",
      "473 60129683\n",
      "474 60129682\n",
      "475 60129681\n",
      "476 60129680\n",
      "477 60129679\n",
      "478 60129678\n",
      "479 60129677\n",
      "480 60129676\n",
      "481 60129675\n",
      "482 60129674\n",
      "483 60129673\n",
      "484 60129672\n",
      "485 60129671\n",
      "486 60129670\n",
      "487 60129669\n",
      "488 60129668\n",
      "489 60129667\n",
      "490 60129666\n",
      "491 60129665\n",
      "492 60129664\n",
      "493 60129663\n",
      "494 60129662\n",
      "495 60129661\n",
      "496 60129660\n",
      "497 60129659\n",
      "498 60129658\n",
      "499 60129657\n",
      "500 60129656\n",
      "501 60129655\n",
      "502 60129654\n",
      "503 60129653\n",
      "504 60129652\n",
      "505 60129651\n",
      "506 60129650\n",
      "507 60129649\n",
      "508 60129648\n",
      "509 60129647\n",
      "510 60129646\n",
      "511 60129645\n",
      "512 60129644\n",
      "513 60129643\n",
      "514 60129642\n",
      "515 60129641\n",
      "516 60129640\n",
      "517 60129639\n",
      "518 60129638\n",
      "519 60129637\n",
      "520 60129636\n",
      "521 60129635\n",
      "522 60129634\n",
      "523 60129633\n",
      "524 60129632\n",
      "525 60129631\n",
      "526 60129630\n",
      "527 60129629\n",
      "528 60129628\n",
      "529 60129627\n",
      "530 60129626\n",
      "531 60129625\n",
      "532 60129624\n",
      "533 60129623\n",
      "534 60129622\n",
      "535 60129621\n",
      "536 60129620\n",
      "537 60129619\n",
      "538 60129618\n",
      "539 60129617\n",
      "540 60129616\n",
      "541 60129615\n",
      "542 60129614\n"
     ]
    },
    {
     "name": "stderr",
     "output_type": "stream",
     "text": [
      "                                                                                \r"
     ]
    },
    {
     "name": "stdout",
     "output_type": "stream",
     "text": [
      "543 60129613\n",
      "544 60129612\n",
      "545 60129611\n",
      "546 60129610\n",
      "547 60129609\n",
      "548 60129608\n",
      "549 60129607\n",
      "550 60129606\n",
      "551 60129605\n"
     ]
    },
    {
     "name": "stderr",
     "output_type": "stream",
     "text": [
      "                                                                                \r"
     ]
    },
    {
     "name": "stdout",
     "output_type": "stream",
     "text": [
      "552 60129604\n",
      "553 60129603\n",
      "554 60129602\n"
     ]
    },
    {
     "name": "stderr",
     "output_type": "stream",
     "text": [
      "                                                                                \r"
     ]
    },
    {
     "name": "stdout",
     "output_type": "stream",
     "text": [
      "555 60129601\n",
      "556 60129600\n",
      "557 60129599\n",
      "558 60129598\n"
     ]
    },
    {
     "name": "stderr",
     "output_type": "stream",
     "text": [
      "                                                                                \r"
     ]
    },
    {
     "name": "stdout",
     "output_type": "stream",
     "text": [
      "559 60129597\n",
      "560 60129596\n",
      "561 60129595\n",
      "562 60129594\n"
     ]
    },
    {
     "name": "stderr",
     "output_type": "stream",
     "text": [
      "                                                                                \r"
     ]
    },
    {
     "name": "stdout",
     "output_type": "stream",
     "text": [
      "563 60129593\n",
      "564 60129592\n",
      "565 60129591\n",
      "566 60129590\n",
      "567 60129589\n"
     ]
    },
    {
     "name": "stderr",
     "output_type": "stream",
     "text": [
      "                                                                                \r"
     ]
    },
    {
     "name": "stdout",
     "output_type": "stream",
     "text": [
      "568 60129588\n",
      "569 60129587\n",
      "570 60129586\n",
      "571 60129585\n"
     ]
    },
    {
     "name": "stderr",
     "output_type": "stream",
     "text": [
      "                                                                                \r"
     ]
    },
    {
     "name": "stdout",
     "output_type": "stream",
     "text": [
      "572 60129584\n",
      "573 60129583\n"
     ]
    },
    {
     "name": "stderr",
     "output_type": "stream",
     "text": [
      "                                                                                \r"
     ]
    },
    {
     "name": "stdout",
     "output_type": "stream",
     "text": [
      "574 60129582\n",
      "575 60129581\n"
     ]
    },
    {
     "name": "stderr",
     "output_type": "stream",
     "text": [
      "                                                                                \r"
     ]
    },
    {
     "name": "stdout",
     "output_type": "stream",
     "text": [
      "576 60129580\n"
     ]
    },
    {
     "name": "stderr",
     "output_type": "stream",
     "text": [
      "                                                                                \r"
     ]
    },
    {
     "name": "stdout",
     "output_type": "stream",
     "text": [
      "577 60129579\n",
      "578 60129578\n",
      "579 60129577\n",
      "580 60129576\n",
      "581 60129575\n",
      "582 60129574\n"
     ]
    },
    {
     "name": "stderr",
     "output_type": "stream",
     "text": [
      "                                                                                \r"
     ]
    },
    {
     "name": "stdout",
     "output_type": "stream",
     "text": [
      "583 60129573\n"
     ]
    },
    {
     "name": "stderr",
     "output_type": "stream",
     "text": [
      "                                                                                \r"
     ]
    },
    {
     "name": "stdout",
     "output_type": "stream",
     "text": [
      "584 60129572\n",
      "585 60129571\n"
     ]
    },
    {
     "name": "stderr",
     "output_type": "stream",
     "text": [
      "                                                                                \r"
     ]
    },
    {
     "name": "stdout",
     "output_type": "stream",
     "text": [
      "586 60129570\n",
      "587 60129569\n",
      "588 60129568\n",
      "589 60129567\n"
     ]
    },
    {
     "name": "stderr",
     "output_type": "stream",
     "text": [
      "                                                                                \r"
     ]
    },
    {
     "name": "stdout",
     "output_type": "stream",
     "text": [
      "590 60129566\n",
      "591 60129565\n",
      "592 60129564\n",
      "593 60129563\n",
      "594 60129562\n",
      "595 60129561\n"
     ]
    },
    {
     "name": "stderr",
     "output_type": "stream",
     "text": [
      "                                                                                \r"
     ]
    },
    {
     "name": "stdout",
     "output_type": "stream",
     "text": [
      "596 60129560\n",
      "597 60129559\n",
      "598 60129558\n",
      "599 60129557\n",
      "600 60129556\n",
      "601 60129555\n",
      "602 60129554\n",
      "603 60129553\n",
      "604 60129552\n",
      "605 60129551\n",
      "606 60129550\n",
      "607 60129549\n",
      "608 60129548\n",
      "609 60129547\n",
      "610 60129546\n",
      "611 60129545\n",
      "612 60129544\n",
      "613 60129543\n",
      "614 60129542\n",
      "615 51540145\n",
      "616 51540144\n",
      "617 51540143\n",
      "618 51540142\n",
      "619 51540141\n",
      "620 51540140\n",
      "621 51540139\n",
      "622 51540138\n",
      "623 51540137\n",
      "624 51540136\n",
      "625 51540135\n",
      "626 51540134\n",
      "627 51540133\n",
      "628 51540132\n",
      "629 51540131\n",
      "630 51540130\n",
      "631 51540129\n",
      "632 51540128\n",
      "633 51540127\n",
      "634 51540126\n",
      "635 51540125\n",
      "636 51540124\n",
      "637 51540123\n",
      "638 51540122\n",
      "639 51540121\n",
      "640 51540120\n",
      "641 51540119\n",
      "642 51540118\n",
      "643 51540117\n",
      "644 51540116\n",
      "645 51540115\n",
      "646 51540114\n",
      "647 51540113\n",
      "648 51540112\n",
      "649 51540111\n",
      "650 51540110\n",
      "651 51540109\n",
      "652 51540108\n",
      "653 51540107\n",
      "654 51540106\n",
      "655 51540105\n",
      "656 51540104\n",
      "657 51540103\n",
      "658 51540102\n",
      "659 51540101\n",
      "660 51540100\n",
      "661 51540099\n",
      "662 51540098\n",
      "663 51540097\n",
      "664 51540096\n",
      "665 51540095\n",
      "666 51540094\n",
      "667 51540093\n",
      "668 51540092\n",
      "669 51540091\n",
      "670 51540090\n",
      "671 51540089\n",
      "672 51540088\n",
      "673 51540087\n",
      "674 51540086\n",
      "675 51540085\n",
      "676 51540084\n",
      "677 51540083\n",
      "678 51540082\n",
      "679 51540081\n",
      "680 51540080\n",
      "681 51540079\n",
      "682 51540078\n",
      "683 51540077\n",
      "684 51540076\n",
      "685 51540075\n",
      "686 51540074\n",
      "687 51540073\n",
      "688 51540072\n",
      "689 51540071\n"
     ]
    },
    {
     "name": "stderr",
     "output_type": "stream",
     "text": [
      "                                                                                \r"
     ]
    },
    {
     "name": "stdout",
     "output_type": "stream",
     "text": [
      "690 51540070\n",
      "691 51540069\n",
      "692 51540068\n",
      "693 51540067\n",
      "694 51540066\n",
      "695 51540065\n",
      "696 51540064\n",
      "697 51540063\n",
      "698 51540062\n",
      "699 51540061\n",
      "700 51540060\n",
      "701 51540059\n",
      "702 51540058\n",
      "703 51540057\n",
      "704 51540056\n",
      "705 51540055\n",
      "706 51540054\n",
      "707 51540053\n",
      "708 51540052\n",
      "709 51540051\n",
      "710 51540050\n",
      "711 51540049\n",
      "712 51540048\n",
      "713 51540047\n",
      "714 51540046\n",
      "715 51540045\n",
      "716 51540044\n",
      "717 51540043\n",
      "718 51540042\n",
      "719 51540041\n",
      "720 51540040\n",
      "721 51540039\n",
      "722 51540038\n",
      "723 51540037\n",
      "724 51540036\n",
      "725 51540035\n",
      "726 51540034\n",
      "727 51540033\n",
      "728 51540032\n",
      "729 51540031\n",
      "730 51540030\n",
      "731 51540029\n",
      "732 51540028\n",
      "733 51540027\n",
      "734 51540026\n",
      "735 51540025\n",
      "736 51540024\n",
      "737 51540023\n",
      "738 51540022\n",
      "739 51540021\n",
      "740 51540020\n",
      "741 51540019\n",
      "742 51540018\n",
      "743 51540017\n",
      "744 51540016\n",
      "745 51540015\n",
      "746 51540014\n",
      "747 51540013\n",
      "748 51540012\n",
      "749 51540011\n",
      "750 51540010\n",
      "751 51540009\n",
      "752 51540008\n",
      "753 51540007\n",
      "754 51540006\n",
      "755 51540005\n",
      "756 51540004\n",
      "757 51540003\n",
      "758 51540002\n",
      "759 51540001\n",
      "760 51540000\n",
      "761 51539999\n",
      "762 51539998\n",
      "763 51539997\n",
      "764 51539996\n",
      "765 51539995\n",
      "766 51539994\n",
      "767 51539993\n",
      "768 51539992\n",
      "769 51539991\n",
      "770 51539990\n",
      "771 51539989\n",
      "772 51539988\n",
      "773 51539987\n",
      "774 51539986\n",
      "775 51539985\n",
      "776 51539984\n",
      "777 51539983\n",
      "778 51539982\n",
      "779 51539981\n",
      "780 51539980\n",
      "781 51539979\n",
      "782 51539978\n",
      "783 51539977\n",
      "784 51539976\n",
      "785 51539975\n",
      "786 51539974\n",
      "787 51539973\n",
      "788 51539972\n",
      "789 51539971\n",
      "790 51539970\n",
      "791 51539969\n",
      "792 51539968\n",
      "793 51539967\n",
      "794 51539966\n",
      "795 51539965\n",
      "796 51539964\n",
      "797 51539963\n",
      "798 51539962\n",
      "799 51539961\n",
      "800 51539960\n",
      "801 51539959\n",
      "802 51539958\n",
      "803 51539957\n",
      "804 51539956\n",
      "805 51539955\n",
      "806 51539954\n",
      "807 51539953\n",
      "808 51539952\n",
      "809 51539951\n",
      "810 51539950\n",
      "811 51539949\n",
      "812 51539948\n",
      "813 51539947\n",
      "814 51539946\n",
      "815 51539945\n",
      "816 51539944\n",
      "817 51539943\n",
      "818 51539942\n",
      "819 51539941\n",
      "820 51539940\n",
      "821 51539939\n",
      "822 51539938\n",
      "823 51539937\n",
      "824 51539936\n",
      "825 51539935\n",
      "826 51539934\n",
      "827 51539933\n",
      "828 51539932\n",
      "829 51539931\n",
      "830 51539930\n",
      "831 51539929\n",
      "832 51539928\n",
      "833 51539927\n",
      "834 51539926\n",
      "835 51539925\n",
      "836 51539924\n",
      "837 51539923\n",
      "838 51539922\n",
      "839 51539921\n",
      "840 51539920\n",
      "841 51539919\n",
      "842 51539918\n",
      "843 51539917\n",
      "844 51539916\n",
      "845 51539915\n",
      "846 51539914\n",
      "847 51539913\n",
      "848 51539912\n",
      "849 51539911\n",
      "850 51539910\n",
      "851 51539909\n",
      "852 51539908\n",
      "853 51539907\n",
      "854 51539906\n",
      "855 51539905\n",
      "856 51539904\n",
      "857 51539903\n",
      "858 51539902\n"
     ]
    },
    {
     "name": "stderr",
     "output_type": "stream",
     "text": [
      "                                                                                \r"
     ]
    },
    {
     "name": "stdout",
     "output_type": "stream",
     "text": [
      "859 51539901\n",
      "860 51539900\n",
      "861 51539899\n",
      "862 51539898\n",
      "863 51539897\n",
      "864 51539896\n",
      "865 51539895\n",
      "866 51539894\n",
      "867 51539893\n",
      "868 51539892\n",
      "869 51539891\n",
      "870 51539890\n",
      "871 51539889\n",
      "872 51539888\n",
      "873 51539887\n",
      "874 51539886\n",
      "875 51539885\n",
      "876 51539884\n",
      "877 51539883\n",
      "878 51539882\n",
      "879 51539881\n",
      "880 51539880\n",
      "881 51539879\n",
      "882 51539878\n",
      "883 51539877\n",
      "884 51539876\n",
      "885 51539875\n",
      "886 51539874\n",
      "887 51539873\n",
      "888 51539872\n",
      "889 51539871\n",
      "890 51539870\n",
      "891 51539869\n",
      "892 51539868\n",
      "893 51539867\n",
      "894 51539866\n",
      "895 51539865\n",
      "896 51539864\n",
      "897 51539863\n",
      "898 51539862\n",
      "899 51539861\n",
      "900 51539860\n",
      "901 51539859\n",
      "902 51539858\n",
      "903 51539857\n",
      "904 51539856\n",
      "905 51539855\n",
      "906 51539854\n",
      "907 51539853\n",
      "908 51539852\n",
      "909 51539851\n"
     ]
    },
    {
     "name": "stderr",
     "output_type": "stream",
     "text": [
      "                                                                                \r"
     ]
    },
    {
     "name": "stdout",
     "output_type": "stream",
     "text": [
      "910 51539850\n",
      "911 51539849\n",
      "912 51539848\n",
      "913 51539847\n",
      "914 51539846\n",
      "915 51539845\n",
      "916 51539844\n",
      "917 51539843\n",
      "918 51539842\n",
      "919 51539841\n",
      "920 51539840\n",
      "921 51539839\n",
      "922 51539838\n",
      "923 51539837\n",
      "924 51539836\n",
      "925 51539835\n",
      "926 51539834\n",
      "927 51539833\n",
      "928 51539832\n",
      "929 51539831\n",
      "930 51539830\n",
      "931 51539829\n",
      "932 51539828\n",
      "933 51539827\n",
      "934 51539826\n",
      "935 51539825\n",
      "936 51539824\n",
      "937 51539823\n",
      "938 51539822\n",
      "939 51539821\n",
      "940 51539820\n",
      "941 51539819\n",
      "942 51539818\n",
      "943 51539817\n",
      "944 51539816\n",
      "945 51539815\n",
      "946 51539814\n",
      "947 51539813\n",
      "948 51539812\n"
     ]
    },
    {
     "name": "stderr",
     "output_type": "stream",
     "text": [
      "                                                                                \r"
     ]
    },
    {
     "name": "stdout",
     "output_type": "stream",
     "text": [
      "949 51539811\n",
      "950 51539810\n",
      "951 51539809\n",
      "952 51539808\n",
      "953 51539807\n",
      "954 51539806\n",
      "955 51539805\n",
      "956 51539804\n",
      "957 51539803\n",
      "958 51539802\n",
      "959 51539801\n",
      "960 51539800\n",
      "961 51539799\n",
      "962 51539798\n",
      "963 51539797\n",
      "964 51539796\n",
      "965 51539795\n",
      "966 51539794\n",
      "967 51539793\n",
      "968 51539792\n",
      "969 51539791\n",
      "970 51539790\n",
      "971 51539789\n",
      "972 51539788\n",
      "973 51539787\n",
      "974 51539786\n",
      "975 51539785\n",
      "976 51539784\n",
      "977 51539783\n",
      "978 51539782\n",
      "979 51539781\n",
      "980 51539780\n",
      "981 51539779\n",
      "982 51539778\n",
      "983 51539777\n",
      "984 51539776\n",
      "985 51539775\n",
      "986 51539774\n",
      "987 51539773\n",
      "988 51539772\n",
      "989 51539771\n",
      "990 51539770\n",
      "991 51539769\n",
      "992 51539768\n",
      "993 51539767\n",
      "994 51539766\n",
      "995 51539765\n",
      "996 51539764\n",
      "997 51539763\n",
      "998 51539762\n",
      "999 51539761\n",
      "1000 51539760\n",
      "1001 51539759\n",
      "1002 51539758\n",
      "1003 51539757\n",
      "1004 51539756\n",
      "1005 51539755\n",
      "1006 51539754\n",
      "1007 51539753\n",
      "1008 51539752\n",
      "1009 51539751\n",
      "1010 51539750\n",
      "1011 51539749\n",
      "1012 51539748\n",
      "1013 51539747\n",
      "1014 51539746\n",
      "1015 51539745\n",
      "1016 51539744\n",
      "1017 51539743\n",
      "1018 51539742\n",
      "1019 51539741\n"
     ]
    },
    {
     "name": "stderr",
     "output_type": "stream",
     "text": [
      "                                                                                \r"
     ]
    },
    {
     "name": "stdout",
     "output_type": "stream",
     "text": [
      "1020 51539740\n",
      "1021 51539739\n",
      "1022 51539738\n",
      "1023 51539737\n",
      "1024 51539736\n",
      "1025 51539735\n"
     ]
    },
    {
     "name": "stderr",
     "output_type": "stream",
     "text": [
      "                                                                                \r"
     ]
    },
    {
     "name": "stdout",
     "output_type": "stream",
     "text": [
      "1026 51539734\n",
      "1027 51539733\n",
      "1028 51539732\n"
     ]
    },
    {
     "name": "stderr",
     "output_type": "stream",
     "text": [
      "                                                                                \r"
     ]
    },
    {
     "name": "stdout",
     "output_type": "stream",
     "text": [
      "1029 51539731\n",
      "1030 51539730\n",
      "1031 51539729\n",
      "1032 51539728\n",
      "1033 51539727\n",
      "1034 51539726\n",
      "1035 51539725\n",
      "1036 51539724\n",
      "1037 51539723\n",
      "1038 51539722\n",
      "1039 51539721\n",
      "1040 51539720\n",
      "1041 51539719\n"
     ]
    },
    {
     "name": "stderr",
     "output_type": "stream",
     "text": [
      "                                                                                \r"
     ]
    },
    {
     "name": "stdout",
     "output_type": "stream",
     "text": [
      "1042 51539718\n"
     ]
    },
    {
     "name": "stderr",
     "output_type": "stream",
     "text": [
      "                                                                                \r"
     ]
    },
    {
     "name": "stdout",
     "output_type": "stream",
     "text": [
      "1043 51539717\n",
      "1044 51539716\n",
      "1045 51539715\n",
      "1046 51539714\n"
     ]
    },
    {
     "name": "stderr",
     "output_type": "stream",
     "text": [
      "                                                                                \r"
     ]
    },
    {
     "name": "stdout",
     "output_type": "stream",
     "text": [
      "1047 51539713\n"
     ]
    },
    {
     "name": "stderr",
     "output_type": "stream",
     "text": [
      "                                                                                \r"
     ]
    },
    {
     "name": "stdout",
     "output_type": "stream",
     "text": [
      "1048 51539712\n"
     ]
    },
    {
     "name": "stderr",
     "output_type": "stream",
     "text": [
      "                                                                                \r"
     ]
    },
    {
     "name": "stdout",
     "output_type": "stream",
     "text": [
      "1049 51539711\n",
      "1050 51539710\n",
      "1051 51539709\n",
      "1052 51539708\n",
      "1053 51539707\n",
      "1054 51539706\n",
      "1055 51539705\n",
      "1056 51539704\n"
     ]
    },
    {
     "name": "stderr",
     "output_type": "stream",
     "text": [
      "                                                                                \r"
     ]
    },
    {
     "name": "stdout",
     "output_type": "stream",
     "text": [
      "1057 51539703\n"
     ]
    },
    {
     "name": "stderr",
     "output_type": "stream",
     "text": [
      "                                                                                \r"
     ]
    },
    {
     "name": "stdout",
     "output_type": "stream",
     "text": [
      "1058 51539702\n",
      "1059 51539701\n",
      "1060 51539700\n"
     ]
    },
    {
     "name": "stderr",
     "output_type": "stream",
     "text": [
      "                                                                                \r"
     ]
    },
    {
     "name": "stdout",
     "output_type": "stream",
     "text": [
      "1061 51539699\n",
      "1062 51539698\n",
      "1063 51539697\n",
      "1064 51539696\n",
      "1065 51539695\n",
      "1066 51539694\n"
     ]
    },
    {
     "name": "stderr",
     "output_type": "stream",
     "text": [
      "                                                                                \r"
     ]
    },
    {
     "name": "stdout",
     "output_type": "stream",
     "text": [
      "1067 51539693\n",
      "1068 51539692\n",
      "1069 51539691\n"
     ]
    },
    {
     "name": "stderr",
     "output_type": "stream",
     "text": [
      "                                                                                \r"
     ]
    },
    {
     "name": "stdout",
     "output_type": "stream",
     "text": [
      "1070 51539690\n",
      "1071 51539689\n",
      "1072 51539688\n"
     ]
    },
    {
     "name": "stderr",
     "output_type": "stream",
     "text": [
      "                                                                                \r"
     ]
    },
    {
     "name": "stdout",
     "output_type": "stream",
     "text": [
      "1073 51539687\n"
     ]
    },
    {
     "name": "stderr",
     "output_type": "stream",
     "text": [
      "                                                                                \r"
     ]
    },
    {
     "name": "stdout",
     "output_type": "stream",
     "text": [
      "1074 51539686\n",
      "1075 51539685\n",
      "1076 51539684\n",
      "1077 51539683\n",
      "1078 51539682\n",
      "1079 51539681\n"
     ]
    },
    {
     "name": "stderr",
     "output_type": "stream",
     "text": [
      "                                                                                \r"
     ]
    },
    {
     "name": "stdout",
     "output_type": "stream",
     "text": [
      "1080 51539680\n"
     ]
    },
    {
     "name": "stderr",
     "output_type": "stream",
     "text": [
      "                                                                                \r"
     ]
    },
    {
     "name": "stdout",
     "output_type": "stream",
     "text": [
      "1081 51539679\n",
      "1082 51539678\n",
      "1083 51539677\n"
     ]
    },
    {
     "name": "stderr",
     "output_type": "stream",
     "text": [
      "                                                                                \r"
     ]
    },
    {
     "name": "stdout",
     "output_type": "stream",
     "text": [
      "1084 51539676\n"
     ]
    },
    {
     "name": "stderr",
     "output_type": "stream",
     "text": [
      "                                                                                \r"
     ]
    },
    {
     "name": "stdout",
     "output_type": "stream",
     "text": [
      "1085 51539675\n"
     ]
    },
    {
     "name": "stderr",
     "output_type": "stream",
     "text": [
      "                                                                                \r"
     ]
    },
    {
     "name": "stdout",
     "output_type": "stream",
     "text": [
      "1086 51539674\n"
     ]
    },
    {
     "name": "stderr",
     "output_type": "stream",
     "text": [
      "                                                                                \r"
     ]
    },
    {
     "name": "stdout",
     "output_type": "stream",
     "text": [
      "1087 51539673\n"
     ]
    },
    {
     "name": "stderr",
     "output_type": "stream",
     "text": [
      "                                                                                \r"
     ]
    },
    {
     "name": "stdout",
     "output_type": "stream",
     "text": [
      "1088 51539672\n"
     ]
    },
    {
     "name": "stderr",
     "output_type": "stream",
     "text": [
      "                                                                                \r"
     ]
    },
    {
     "name": "stdout",
     "output_type": "stream",
     "text": [
      "1089 51539671\n"
     ]
    },
    {
     "name": "stderr",
     "output_type": "stream",
     "text": [
      "                                                                                \r"
     ]
    },
    {
     "name": "stdout",
     "output_type": "stream",
     "text": [
      "1090 51539670\n",
      "1091 51539669\n",
      "1092 51539668\n",
      "1093 51539667\n",
      "1094 51539666\n",
      "1095 51539665\n",
      "1096 51539664\n",
      "1097 51539663\n",
      "1098 51539662\n",
      "1099 51539661\n",
      "1100 51539660\n",
      "1101 51539659\n",
      "1102 51539658\n",
      "1103 51539657\n",
      "1104 51539656\n",
      "1105 51539655\n",
      "1106 51539654\n",
      "1107 51539653\n",
      "1108 51539652\n",
      "1109 51539651\n",
      "1110 51539650\n",
      "1111 51539649\n",
      "1112 51539648\n",
      "1113 51539647\n",
      "1114 51539646\n",
      "1115 51539645\n",
      "1116 51539644\n",
      "1117 51539643\n",
      "1118 51539642\n",
      "1119 51539641\n",
      "1120 51539640\n",
      "1121 51539639\n",
      "1122 51539638\n",
      "1123 51539637\n",
      "1124 51539636\n",
      "1125 51539635\n",
      "1126 51539634\n",
      "1127 51539633\n",
      "1128 51539632\n",
      "1129 51539631\n",
      "1130 51539630\n"
     ]
    },
    {
     "name": "stderr",
     "output_type": "stream",
     "text": [
      "                                                                                \r"
     ]
    },
    {
     "name": "stdout",
     "output_type": "stream",
     "text": [
      "1131 51539629\n",
      "1132 51539628\n",
      "1133 51539627\n",
      "1134 51539626\n",
      "1135 51539625\n",
      "1136 51539624\n",
      "1137 51539623\n",
      "1138 51539622\n",
      "1139 51539621\n",
      "1140 51539620\n",
      "1141 51539619\n",
      "1142 51539618\n",
      "1143 51539617\n",
      "1144 51539616\n",
      "1145 51539615\n",
      "1146 51539614\n",
      "1147 51539613\n",
      "1148 51539612\n",
      "1149 51539611\n",
      "1150 51539610\n",
      "1151 51539609\n",
      "1152 51539608\n",
      "1153 51539607\n",
      "1154 42950205\n",
      "1155 42950204\n",
      "1156 42950203\n",
      "1157 42950202\n",
      "1158 42950201\n",
      "1159 42950200\n",
      "1160 42950199\n",
      "1161 42950198\n",
      "1162 42950197\n",
      "1163 42950196\n",
      "1164 42950195\n",
      "1165 42950194\n",
      "1166 42950193\n",
      "1167 42950192\n",
      "1168 42950191\n",
      "1169 42950190\n",
      "1170 42950189\n",
      "1171 42950188\n",
      "1172 42950187\n",
      "1173 42950186\n",
      "1174 42950185\n",
      "1175 42950184\n",
      "1176 42950183\n",
      "1177 42950182\n",
      "1178 42950181\n",
      "1179 42950180\n",
      "1180 42950179\n",
      "1181 42950178\n"
     ]
    },
    {
     "name": "stderr",
     "output_type": "stream",
     "text": [
      "                                                                                \r"
     ]
    },
    {
     "name": "stdout",
     "output_type": "stream",
     "text": [
      "1182 42950177\n"
     ]
    },
    {
     "name": "stderr",
     "output_type": "stream",
     "text": [
      "                                                                                \r"
     ]
    },
    {
     "name": "stdout",
     "output_type": "stream",
     "text": [
      "1183 42950176\n",
      "1184 42950175\n",
      "1185 42950174\n",
      "1186 42950173\n",
      "1187 42950172\n",
      "1188 42950171\n",
      "1189 42950170\n",
      "1190 42950169\n",
      "1191 42950168\n",
      "1192 42950167\n",
      "1193 42950166\n",
      "1194 42950165\n",
      "1195 42950164\n",
      "1196 42950163\n"
     ]
    },
    {
     "name": "stderr",
     "output_type": "stream",
     "text": [
      "                                                                                \r"
     ]
    },
    {
     "name": "stdout",
     "output_type": "stream",
     "text": [
      "1197 42950162\n",
      "1198 42950161\n",
      "1199 42950160\n",
      "1200 42950159\n",
      "1201 42950158\n",
      "1202 42950157\n",
      "1203 42950156\n",
      "1204 42950155\n",
      "1205 42950154\n",
      "1206 42950153\n"
     ]
    },
    {
     "name": "stderr",
     "output_type": "stream",
     "text": [
      "                                                                                \r"
     ]
    },
    {
     "name": "stdout",
     "output_type": "stream",
     "text": [
      "1207 42950152\n",
      "1208 42950151\n",
      "1209 42950150\n",
      "1210 42950149\n",
      "1211 42950148\n",
      "1212 42950147\n",
      "1213 42950146\n",
      "1214 42950145\n",
      "1215 42950144\n",
      "1216 42950143\n",
      "1217 42950142\n",
      "1218 42950141\n",
      "1219 42950140\n",
      "1220 42950139\n",
      "1221 42950138\n",
      "1222 42950137\n",
      "1223 42950136\n",
      "1224 42950135\n",
      "1225 42950134\n",
      "1226 42950133\n",
      "1227 42950132\n",
      "1228 42950131\n",
      "1229 42950130\n",
      "1230 42950129\n"
     ]
    },
    {
     "name": "stderr",
     "output_type": "stream",
     "text": [
      "                                                                                \r"
     ]
    },
    {
     "name": "stdout",
     "output_type": "stream",
     "text": [
      "1231 42950128\n",
      "1232 42950127\n",
      "1233 42950126\n",
      "1234 42950125\n",
      "1235 42950124\n",
      "1236 42950123\n",
      "1237 42950122\n",
      "1238 42950121\n",
      "1239 42950120\n",
      "1240 42950119\n",
      "1241 42950118\n",
      "1242 42950117\n",
      "1243 42950116\n",
      "1244 42950115\n",
      "1245 42950114\n",
      "1246 42950113\n",
      "1247 42950112\n",
      "1248 42950111\n",
      "1249 42950110\n",
      "1250 42950109\n",
      "1251 42950108\n",
      "1252 42950107\n",
      "1253 42950106\n",
      "1254 42950105\n",
      "1255 42950104\n",
      "1256 42950103\n",
      "1257 42950102\n",
      "1258 42950101\n",
      "1259 42950100\n",
      "1260 42950099\n",
      "1261 42950098\n",
      "1262 42950097\n",
      "1263 42950096\n",
      "1264 42950095\n",
      "1265 42950094\n",
      "1266 42950093\n",
      "1267 42950092\n",
      "1268 42950091\n",
      "1269 42950090\n",
      "1270 42950089\n",
      "1271 42950088\n",
      "1272 42950087\n",
      "1273 42950086\n",
      "1274 42950085\n",
      "1275 42950084\n",
      "1276 42950083\n",
      "1277 42950082\n",
      "1278 42950081\n",
      "1279 42950080\n",
      "1280 42950079\n",
      "1281 42950078\n",
      "1282 42950077\n",
      "1283 42950076\n",
      "1284 42950075\n",
      "1285 42950074\n",
      "1286 42950073\n",
      "1287 42950072\n",
      "1288 42950071\n",
      "1289 42950070\n",
      "1290 42950069\n",
      "1291 42950068\n",
      "1292 42950067\n",
      "1293 42950066\n",
      "1294 42950065\n",
      "1295 42950064\n",
      "1296 42950063\n",
      "1297 42950062\n",
      "1298 42950061\n",
      "1299 42950060\n",
      "1300 42950059\n",
      "1301 42950058\n",
      "1302 42950057\n",
      "1303 42950056\n",
      "1304 42950055\n",
      "1305 42950054\n",
      "1306 42950053\n",
      "1307 42950052\n",
      "1308 42950051\n",
      "1309 42950050\n",
      "1310 42950049\n",
      "1311 42950048\n",
      "1312 42950047\n",
      "1313 42950046\n",
      "1314 42950045\n",
      "1315 42950044\n",
      "1316 42950043\n",
      "1317 42950042\n",
      "1318 42950041\n",
      "1319 42950040\n",
      "1320 42950039\n",
      "1321 42950038\n",
      "1322 42950037\n",
      "1323 42950036\n",
      "1324 42950035\n",
      "1325 42950034\n",
      "1326 42950033\n",
      "1327 42950032\n",
      "1328 42950031\n",
      "1329 42950030\n",
      "1330 42950029\n",
      "1331 42950028\n",
      "1332 42950027\n",
      "1333 42950026\n",
      "1334 42950025\n",
      "1335 42950024\n",
      "1336 42950023\n",
      "1337 42950022\n",
      "1338 42950021\n",
      "1339 42950020\n",
      "1340 42950019\n",
      "1341 42950018\n",
      "1342 42950017\n",
      "1343 42950016\n",
      "1344 42950015\n",
      "1345 42950014\n",
      "1346 42950013\n",
      "1347 42950012\n",
      "1348 42950011\n",
      "1349 42950010\n",
      "1350 42950009\n",
      "1351 42950008\n",
      "1352 42950007\n",
      "1353 42950006\n",
      "1354 42950005\n",
      "1355 42950004\n",
      "1356 42950003\n",
      "1357 42950002\n",
      "1358 42950001\n",
      "1359 42950000\n",
      "1360 42949999\n",
      "1361 42949998\n",
      "1362 42949997\n",
      "1363 42949996\n",
      "1364 42949995\n",
      "1365 42949994\n",
      "1366 42949993\n",
      "1367 42949992\n",
      "1368 42949991\n",
      "1369 42949990\n",
      "1370 42949989\n",
      "1371 42949988\n",
      "1372 42949987\n",
      "1373 42949986\n",
      "1374 42949985\n",
      "1375 42949984\n",
      "1376 42949983\n",
      "1377 42949982\n",
      "1378 42949981\n",
      "1379 42949980\n",
      "1380 42949979\n",
      "1381 42949978\n",
      "1382 42949977\n",
      "1383 42949976\n",
      "1384 42949975\n",
      "1385 42949974\n",
      "1386 42949973\n",
      "1387 42949972\n",
      "1388 42949971\n",
      "1389 42949970\n",
      "1390 42949969\n",
      "1391 42949968\n",
      "1392 42949967\n",
      "1393 42949966\n",
      "1394 42949965\n",
      "1395 42949964\n",
      "1396 42949963\n",
      "1397 42949962\n",
      "1398 42949961\n",
      "1399 42949960\n",
      "1400 42949959\n",
      "1401 42949958\n",
      "1402 42949957\n",
      "1403 42949956\n",
      "1404 42949955\n",
      "1405 42949954\n",
      "1406 42949953\n",
      "1407 42949952\n",
      "1408 42949951\n",
      "1409 42949950\n",
      "1410 42949949\n",
      "1411 42949948\n",
      "1412 42949947\n",
      "1413 42949946\n",
      "1414 42949945\n",
      "1415 42949944\n",
      "1416 42949943\n",
      "1417 42949942\n",
      "1418 42949941\n",
      "1419 42949940\n",
      "1420 42949939\n",
      "1421 42949938\n",
      "1422 42949937\n",
      "1423 42949936\n",
      "1424 42949935\n",
      "1425 42949934\n",
      "1426 42949933\n",
      "1427 42949932\n",
      "1428 42949931\n",
      "1429 42949930\n",
      "1430 42949929\n",
      "1431 42949928\n",
      "1432 42949927\n",
      "1433 42949926\n",
      "1434 42949925\n",
      "1435 42949924\n",
      "1436 42949923\n",
      "1437 42949922\n",
      "1438 42949921\n",
      "1439 42949920\n",
      "1440 42949919\n",
      "1441 42949918\n",
      "1442 42949917\n",
      "1443 42949916\n",
      "1444 42949915\n",
      "1445 42949914\n",
      "1446 42949913\n",
      "1447 42949912\n",
      "1448 42949911\n",
      "1449 42949910\n",
      "1450 42949909\n",
      "1451 42949908\n",
      "1452 42949907\n",
      "1453 42949906\n",
      "1454 42949905\n",
      "1455 42949904\n",
      "1456 42949903\n",
      "1457 42949902\n",
      "1458 42949901\n",
      "1459 42949900\n",
      "1460 42949899\n",
      "1461 42949898\n",
      "1462 42949897\n",
      "1463 42949896\n",
      "1464 42949895\n",
      "1465 42949894\n",
      "1466 42949893\n",
      "1467 42949892\n",
      "1468 42949891\n",
      "1469 42949890\n",
      "1470 42949889\n",
      "1471 42949888\n",
      "1472 42949887\n",
      "1473 42949886\n",
      "1474 42949885\n",
      "1475 42949884\n",
      "1476 42949883\n",
      "1477 42949882\n",
      "1478 42949881\n",
      "1479 42949880\n",
      "1480 42949879\n",
      "1481 42949878\n",
      "1482 42949877\n",
      "1483 42949876\n",
      "1484 42949875\n",
      "1485 42949874\n",
      "1486 42949873\n",
      "1487 42949872\n",
      "1488 42949871\n",
      "1489 42949870\n",
      "1490 42949869\n",
      "1491 42949868\n",
      "1492 42949867\n",
      "1493 42949866\n",
      "1494 42949865\n",
      "1495 42949864\n",
      "1496 42949863\n",
      "1497 42949862\n",
      "1498 42949861\n",
      "1499 42949860\n",
      "1500 42949859\n",
      "1501 42949858\n",
      "1502 42949857\n",
      "1503 42949856\n",
      "1504 42949855\n",
      "1505 42949854\n",
      "1506 42949853\n",
      "1507 42949852\n",
      "1508 42949851\n",
      "1509 42949850\n",
      "1510 42949849\n",
      "1511 42949848\n",
      "1512 42949847\n",
      "1513 42949846\n",
      "1514 42949845\n",
      "1515 42949844\n",
      "1516 42949843\n",
      "1517 42949842\n",
      "1518 42949841\n",
      "1519 42949840\n",
      "1520 42949839\n",
      "1521 42949838\n",
      "1522 42949837\n",
      "1523 42949836\n",
      "1524 42949835\n",
      "1525 42949834\n",
      "1526 42949833\n",
      "1527 42949832\n",
      "1528 42949831\n",
      "1529 42949830\n",
      "1530 42949829\n",
      "1531 42949828\n",
      "1532 42949827\n",
      "1533 42949826\n",
      "1534 42949825\n",
      "1535 42949824\n",
      "1536 42949823\n",
      "1537 42949822\n",
      "1538 42949821\n",
      "1539 42949820\n",
      "1540 42949819\n",
      "1541 42949818\n",
      "1542 42949817\n",
      "1543 42949816\n",
      "1544 42949815\n",
      "1545 42949814\n",
      "1546 42949813\n",
      "1547 42949812\n",
      "1548 42949811\n",
      "1549 42949810\n",
      "1550 42949809\n",
      "1551 42949808\n",
      "1552 42949807\n",
      "1553 42949806\n",
      "1554 42949805\n",
      "1555 42949804\n",
      "1556 42949803\n",
      "1557 42949802\n",
      "1558 42949801\n",
      "1559 42949800\n",
      "1560 42949799\n",
      "1561 42949798\n",
      "1562 42949797\n",
      "1563 42949796\n",
      "1564 42949795\n",
      "1565 42949794\n",
      "1566 42949793\n",
      "1567 42949792\n",
      "1568 42949791\n",
      "1569 42949790\n",
      "1570 42949789\n",
      "1571 42949788\n",
      "1572 42949787\n",
      "1573 42949786\n",
      "1574 42949785\n",
      "1575 42949784\n",
      "1576 42949783\n",
      "1577 42949782\n",
      "1578 42949781\n",
      "1579 42949780\n",
      "1580 42949779\n",
      "1581 42949778\n",
      "1582 42949777\n",
      "1583 42949776\n",
      "1584 42949775\n",
      "1585 42949774\n",
      "1586 42949773\n",
      "1587 42949772\n",
      "1588 42949771\n",
      "1589 42949770\n",
      "1590 42949769\n",
      "1591 42949768\n",
      "1592 42949767\n",
      "1593 42949766\n",
      "1594 42949765\n",
      "1595 42949764\n",
      "1596 42949763\n",
      "1597 42949762\n",
      "1598 42949761\n",
      "1599 42949760\n",
      "1600 42949759\n",
      "1601 42949758\n",
      "1602 42949757\n",
      "1603 42949756\n",
      "1604 42949755\n",
      "1605 42949754\n",
      "1606 42949753\n",
      "1607 42949752\n",
      "1608 42949751\n",
      "1609 42949750\n",
      "1610 42949749\n",
      "1611 42949748\n",
      "1612 42949747\n",
      "1613 42949746\n",
      "1614 42949745\n",
      "1615 42949744\n",
      "1616 42949743\n",
      "1617 42949742\n",
      "1618 42949741\n",
      "1619 42949740\n",
      "1620 42949739\n",
      "1621 42949738\n",
      "1622 42949737\n",
      "1623 42949736\n",
      "1624 42949735\n",
      "1625 42949734\n",
      "1626 42949733\n",
      "1627 42949732\n",
      "1628 42949731\n",
      "1629 42949730\n",
      "1630 42949729\n",
      "1631 42949728\n",
      "1632 42949727\n",
      "1633 42949726\n",
      "1634 42949725\n",
      "1635 42949724\n",
      "1636 42949723\n",
      "1637 42949722\n"
     ]
    },
    {
     "name": "stderr",
     "output_type": "stream",
     "text": [
      "                                                                                \r"
     ]
    },
    {
     "name": "stdout",
     "output_type": "stream",
     "text": [
      "1638 42949721\n",
      "1639 42949720\n",
      "1640 42949719\n",
      "1641 42949718\n",
      "1642 42949717\n",
      "1643 42949716\n",
      "1644 42949715\n",
      "1645 42949714\n",
      "1646 42949713\n",
      "1647 42949712\n",
      "1648 42949711\n",
      "1649 42949710\n",
      "1650 42949709\n",
      "1651 42949708\n",
      "1652 42949707\n",
      "1653 42949706\n",
      "1654 42949705\n",
      "1655 42949704\n"
     ]
    },
    {
     "name": "stderr",
     "output_type": "stream",
     "text": [
      "                                                                                \r"
     ]
    },
    {
     "name": "stdout",
     "output_type": "stream",
     "text": [
      "1656 42949703\n",
      "1657 42949702\n",
      "1658 42949701\n",
      "1659 42949700\n",
      "1660 42949699\n",
      "1661 42949698\n",
      "1662 42949697\n",
      "1663 42949696\n",
      "1664 42949695\n",
      "1665 42949694\n",
      "1666 42949693\n"
     ]
    },
    {
     "name": "stderr",
     "output_type": "stream",
     "text": [
      "                                                                                \r"
     ]
    },
    {
     "name": "stdout",
     "output_type": "stream",
     "text": [
      "1667 42949692\n",
      "1668 42949691\n",
      "1669 42949690\n",
      "1670 42949689\n",
      "1671 42949688\n",
      "1672 42949687\n",
      "1673 42949686\n",
      "1674 42949685\n",
      "1675 42949684\n",
      "1676 42949683\n",
      "1677 42949682\n",
      "1678 42949681\n",
      "1679 42949680\n",
      "1680 42949679\n",
      "1681 42949678\n",
      "1682 42949677\n",
      "1683 42949676\n",
      "1684 42949675\n",
      "1685 42949674\n",
      "1686 42949673\n",
      "1687 42949672\n",
      "1688 34360272\n",
      "1689 34360271\n",
      "1690 34360270\n",
      "1691 34360269\n",
      "1692 34360268\n",
      "1693 34360267\n",
      "1694 34360266\n",
      "1695 34360265\n",
      "1696 34360264\n",
      "1697 34360263\n",
      "1698 34360262\n",
      "1699 34360261\n",
      "1700 34360260\n",
      "1701 34360259\n",
      "1702 34360258\n",
      "1703 34360257\n",
      "1704 34360256\n",
      "1705 34360255\n",
      "1706 34360254\n",
      "1707 34360253\n",
      "1708 34360252\n",
      "1709 34360251\n",
      "1710 34360250\n",
      "1711 34360249\n",
      "1712 34360248\n",
      "1713 34360247\n",
      "1714 34360246\n",
      "1715 34360245\n",
      "1716 34360244\n",
      "1717 34360243\n",
      "1718 34360242\n",
      "1719 34360241\n",
      "1720 34360240\n",
      "1721 34360239\n",
      "1722 34360238\n",
      "1723 34360237\n",
      "1724 34360236\n",
      "1725 34360235\n",
      "1726 34360234\n",
      "1727 34360233\n",
      "1728 34360232\n",
      "1729 34360231\n",
      "1730 34360230\n",
      "1731 34360229\n",
      "1732 34360228\n",
      "1733 34360227\n",
      "1734 34360226\n",
      "1735 34360225\n",
      "1736 34360224\n",
      "1737 34360223\n",
      "1738 34360222\n",
      "1739 34360221\n",
      "1740 34360220\n",
      "1741 34360219\n",
      "1742 34360218\n",
      "1743 34360217\n",
      "1744 34360216\n",
      "1745 34360215\n",
      "1746 34360214\n",
      "1747 34360213\n",
      "1748 34360212\n",
      "1749 34360211\n",
      "1750 34360210\n",
      "1751 34360209\n",
      "1752 34360208\n",
      "1753 34360207\n",
      "1754 34360206\n",
      "1755 34360205\n",
      "1756 34360204\n",
      "1757 34360203\n",
      "1758 34360202\n",
      "1759 34360201\n",
      "1760 34360200\n",
      "1761 34360199\n",
      "1762 34360198\n",
      "1763 34360197\n",
      "1764 34360196\n",
      "1765 34360195\n",
      "1766 34360194\n",
      "1767 34360193\n",
      "1768 34360192\n",
      "1769 34360191\n",
      "1770 34360190\n",
      "1771 34360189\n",
      "1772 34360188\n",
      "1773 34360187\n",
      "1774 34360186\n",
      "1775 34360185\n",
      "1776 34360184\n",
      "1777 34360183\n",
      "1778 34360182\n",
      "1779 34360181\n",
      "1780 34360180\n",
      "1781 34360179\n",
      "1782 34360178\n",
      "1783 34360177\n",
      "1784 34360176\n",
      "1785 34360175\n",
      "1786 34360174\n",
      "1787 34360173\n",
      "1788 34360172\n",
      "1789 34360171\n",
      "1790 34360170\n",
      "1791 34360169\n",
      "1792 34360168\n",
      "1793 34360167\n",
      "1794 34360166\n",
      "1795 34360165\n",
      "1796 34360164\n",
      "1797 34360163\n",
      "1798 34360162\n",
      "1799 34360161\n",
      "1800 34360160\n",
      "1801 34360159\n",
      "1802 34360158\n",
      "1803 34360157\n",
      "1804 34360156\n",
      "1805 34360155\n",
      "1806 34360154\n"
     ]
    },
    {
     "name": "stderr",
     "output_type": "stream",
     "text": [
      "                                                                                \r"
     ]
    },
    {
     "name": "stdout",
     "output_type": "stream",
     "text": [
      "1807 34360153\n",
      "1808 34360152\n",
      "1809 34360151\n",
      "1810 34360150\n",
      "1811 34360149\n",
      "1812 34360148\n",
      "1813 34360147\n",
      "1814 34360146\n",
      "1815 34360145\n",
      "1816 34360144\n",
      "1817 34360143\n",
      "1818 34360142\n",
      "1819 34360141\n",
      "1820 34360140\n",
      "1821 34360139\n",
      "1822 34360138\n",
      "1823 34360137\n",
      "1824 34360136\n",
      "1825 34360135\n",
      "1826 34360134\n",
      "1827 34360133\n",
      "1828 34360132\n",
      "1829 34360131\n",
      "1830 34360130\n",
      "1831 34360129\n",
      "1832 34360128\n",
      "1833 34360127\n",
      "1834 34360126\n",
      "1835 34360125\n",
      "1836 34360124\n",
      "1837 34360123\n",
      "1838 34360122\n",
      "1839 34360121\n",
      "1840 34360120\n",
      "1841 34360119\n",
      "1842 34360118\n",
      "1843 34360117\n",
      "1844 34360116\n",
      "1845 34360115\n",
      "1846 34360114\n",
      "1847 34360113\n",
      "1848 34360112\n",
      "1849 34360111\n",
      "1850 34360110\n",
      "1851 34360109\n",
      "1852 34360108\n",
      "1853 34360107\n",
      "1854 34360106\n",
      "1855 34360105\n",
      "1856 34360104\n",
      "1857 34360103\n",
      "1858 34360102\n",
      "1859 34360101\n",
      "1860 34360100\n",
      "1861 34360099\n",
      "1862 34360098\n",
      "1863 34360097\n",
      "1864 34360096\n",
      "1865 34360095\n",
      "1866 34360094\n",
      "1867 34360093\n",
      "1868 34360092\n",
      "1869 34360091\n",
      "1870 34360090\n",
      "1871 34360089\n",
      "1872 34360088\n",
      "1873 34360087\n",
      "1874 34360086\n",
      "1875 34360085\n",
      "1876 34360084\n",
      "1877 34360083\n",
      "1878 34360082\n",
      "1879 34360081\n",
      "1880 34360080\n",
      "1881 34360079\n",
      "1882 34360078\n",
      "1883 34360077\n",
      "1884 34360076\n",
      "1885 34360075\n",
      "1886 34360074\n",
      "1887 34360073\n",
      "1888 34360072\n",
      "1889 34360071\n",
      "1890 34360070\n",
      "1891 34360069\n",
      "1892 34360068\n",
      "1893 34360067\n",
      "1894 34360066\n",
      "1895 34360065\n",
      "1896 34360064\n",
      "1897 34360063\n",
      "1898 34360062\n",
      "1899 34360061\n",
      "1900 34360060\n",
      "1901 34360059\n",
      "1902 34360058\n",
      "1903 34360057\n",
      "1904 34360056\n",
      "1905 34360055\n",
      "1906 34360054\n",
      "1907 34360053\n",
      "1908 34360052\n",
      "1909 34360051\n"
     ]
    },
    {
     "name": "stderr",
     "output_type": "stream",
     "text": [
      "                                                                                \r"
     ]
    },
    {
     "name": "stdout",
     "output_type": "stream",
     "text": [
      "1910 34360050\n"
     ]
    },
    {
     "name": "stderr",
     "output_type": "stream",
     "text": [
      "                                                                                \r"
     ]
    },
    {
     "name": "stdout",
     "output_type": "stream",
     "text": [
      "1911 34360049\n"
     ]
    },
    {
     "name": "stderr",
     "output_type": "stream",
     "text": [
      "                                                                                \r"
     ]
    },
    {
     "name": "stdout",
     "output_type": "stream",
     "text": [
      "1912 34360048\n"
     ]
    },
    {
     "name": "stderr",
     "output_type": "stream",
     "text": [
      "                                                                                \r"
     ]
    },
    {
     "name": "stdout",
     "output_type": "stream",
     "text": [
      "1913 34360047\n"
     ]
    },
    {
     "name": "stderr",
     "output_type": "stream",
     "text": [
      "                                                                                \r"
     ]
    },
    {
     "name": "stdout",
     "output_type": "stream",
     "text": [
      "1914 34360046\n",
      "1915 34360045\n",
      "1916 34360044\n",
      "1917 34360043\n",
      "1918 34360042\n",
      "1919 34360041\n",
      "1920 34360040\n",
      "1921 34360039\n",
      "1922 34360038\n",
      "1923 34360037\n"
     ]
    },
    {
     "name": "stderr",
     "output_type": "stream",
     "text": [
      "                                                                                \r"
     ]
    },
    {
     "name": "stdout",
     "output_type": "stream",
     "text": [
      "1924 34360036\n"
     ]
    },
    {
     "name": "stderr",
     "output_type": "stream",
     "text": [
      "                                                                                \r"
     ]
    },
    {
     "name": "stdout",
     "output_type": "stream",
     "text": [
      "1925 34360035\n",
      "1926 34360034\n",
      "1927 34360033\n",
      "1928 34360032\n",
      "1929 34360031\n"
     ]
    },
    {
     "name": "stderr",
     "output_type": "stream",
     "text": [
      "                                                                                \r"
     ]
    },
    {
     "name": "stdout",
     "output_type": "stream",
     "text": [
      "1930 34360030\n",
      "1931 34360029\n",
      "1932 34360028\n",
      "1933 34360027\n",
      "1934 34360026\n",
      "1935 34360025\n",
      "1936 34360024\n",
      "1937 34360023\n",
      "1938 34360022\n",
      "1939 34360021\n",
      "1940 34360020\n",
      "1941 34360019\n",
      "1942 34360018\n",
      "1943 34360017\n",
      "1944 34360016\n",
      "1945 34360015\n",
      "1946 34360014\n",
      "1947 34360013\n",
      "1948 34360012\n",
      "1949 34360011\n",
      "1950 34360010\n",
      "1951 34360009\n",
      "1952 34360008\n"
     ]
    },
    {
     "name": "stderr",
     "output_type": "stream",
     "text": [
      "                                                                                \r"
     ]
    },
    {
     "name": "stdout",
     "output_type": "stream",
     "text": [
      "1953 34360007\n",
      "1954 34360006\n",
      "1955 34360005\n",
      "1956 34360004\n",
      "1957 34360003\n",
      "1958 34360002\n",
      "1959 34360001\n",
      "1960 34360000\n",
      "1961 34359999\n",
      "1962 34359998\n",
      "1963 34359997\n",
      "1964 34359996\n"
     ]
    },
    {
     "name": "stderr",
     "output_type": "stream",
     "text": [
      "                                                                                \r"
     ]
    },
    {
     "name": "stdout",
     "output_type": "stream",
     "text": [
      "1965 34359995\n",
      "1966 34359994\n",
      "1967 34359993\n",
      "1968 34359992\n",
      "1969 34359991\n",
      "1970 34359990\n",
      "1971 34359989\n",
      "1972 34359988\n",
      "1973 34359987\n",
      "1974 34359986\n",
      "1975 34359985\n",
      "1976 34359984\n",
      "1977 34359983\n"
     ]
    },
    {
     "name": "stderr",
     "output_type": "stream",
     "text": [
      "                                                                                \r"
     ]
    },
    {
     "name": "stdout",
     "output_type": "stream",
     "text": [
      "1978 34359982\n",
      "1979 34359981\n",
      "1980 34359980\n",
      "1981 34359979\n",
      "1982 34359978\n",
      "1983 34359977\n",
      "1984 34359976\n",
      "1985 34359975\n",
      "1986 34359974\n",
      "1987 34359973\n",
      "1988 34359972\n",
      "1989 34359971\n"
     ]
    },
    {
     "name": "stderr",
     "output_type": "stream",
     "text": [
      "                                                                                \r"
     ]
    },
    {
     "name": "stdout",
     "output_type": "stream",
     "text": [
      "1990 34359970\n",
      "1991 34359969\n",
      "1992 34359968\n",
      "1993 34359967\n",
      "1994 34359966\n",
      "1995 34359965\n",
      "1996 34359964\n",
      "1997 34359963\n",
      "1998 34359962\n",
      "1999 34359961\n",
      "2000 34359960\n"
     ]
    },
    {
     "name": "stderr",
     "output_type": "stream",
     "text": [
      "                                                                                \r"
     ]
    },
    {
     "name": "stdout",
     "output_type": "stream",
     "text": [
      "2001 34359959\n",
      "2002 34359958\n",
      "2003 34359957\n",
      "2004 34359956\n",
      "2005 34359955\n",
      "2006 34359954\n",
      "2007 34359953\n",
      "2008 34359952\n",
      "2009 34359951\n",
      "2010 34359950\n",
      "2011 34359949\n",
      "2012 34359948\n",
      "2013 34359947\n",
      "2014 34359946\n"
     ]
    },
    {
     "name": "stderr",
     "output_type": "stream",
     "text": [
      "                                                                                \r"
     ]
    },
    {
     "name": "stdout",
     "output_type": "stream",
     "text": [
      "2015 34359945\n",
      "2016 34359944\n",
      "2017 34359943\n",
      "2018 34359942\n",
      "2019 34359941\n",
      "2020 34359940\n",
      "2021 34359939\n",
      "2022 34359938\n",
      "2023 34359937\n",
      "2024 34359936\n",
      "2025 34359935\n"
     ]
    },
    {
     "name": "stderr",
     "output_type": "stream",
     "text": [
      "                                                                                \r"
     ]
    },
    {
     "name": "stdout",
     "output_type": "stream",
     "text": [
      "2026 34359934\n",
      "2027 34359933\n",
      "2028 34359932\n",
      "2029 34359931\n",
      "2030 34359930\n",
      "2031 34359929\n",
      "2032 34359928\n",
      "2033 34359927\n",
      "2034 34359926\n",
      "2035 34359925\n",
      "2036 34359924\n"
     ]
    },
    {
     "name": "stderr",
     "output_type": "stream",
     "text": [
      "                                                                                \r"
     ]
    },
    {
     "name": "stdout",
     "output_type": "stream",
     "text": [
      "2037 34359923\n"
     ]
    },
    {
     "name": "stderr",
     "output_type": "stream",
     "text": [
      "                                                                                \r"
     ]
    },
    {
     "name": "stdout",
     "output_type": "stream",
     "text": [
      "2038 34359922\n"
     ]
    },
    {
     "name": "stderr",
     "output_type": "stream",
     "text": [
      "                                                                                \r"
     ]
    },
    {
     "name": "stdout",
     "output_type": "stream",
     "text": [
      "2039 34359921\n"
     ]
    },
    {
     "name": "stderr",
     "output_type": "stream",
     "text": [
      "                                                                                \r"
     ]
    },
    {
     "name": "stdout",
     "output_type": "stream",
     "text": [
      "2040 34359920\n",
      "2041 34359919\n",
      "2042 34359918\n",
      "2043 34359917\n",
      "2044 34359916\n"
     ]
    },
    {
     "name": "stderr",
     "output_type": "stream",
     "text": [
      "                                                                                \r"
     ]
    },
    {
     "name": "stdout",
     "output_type": "stream",
     "text": [
      "2045 34359915\n"
     ]
    },
    {
     "name": "stderr",
     "output_type": "stream",
     "text": [
      "                                                                                \r"
     ]
    },
    {
     "name": "stdout",
     "output_type": "stream",
     "text": [
      "2046 34359914\n",
      "2047 34359913\n"
     ]
    },
    {
     "name": "stderr",
     "output_type": "stream",
     "text": [
      "                                                                                \r"
     ]
    },
    {
     "name": "stdout",
     "output_type": "stream",
     "text": [
      "2048 34359912\n",
      "2049 34359911\n",
      "2050 34359910\n",
      "2051 34359909\n",
      "2052 34359908\n",
      "2053 34359907\n",
      "2054 34359906\n",
      "2055 34359905\n",
      "2056 34359904\n",
      "2057 34359903\n",
      "2058 34359902\n",
      "2059 34359901\n",
      "2060 34359900\n",
      "2061 34359899\n",
      "2062 34359898\n",
      "2063 34359897\n",
      "2064 34359896\n",
      "2065 34359895\n",
      "2066 34359894\n",
      "2067 34359893\n",
      "2068 34359892\n"
     ]
    },
    {
     "name": "stderr",
     "output_type": "stream",
     "text": [
      "                                                                                \r"
     ]
    },
    {
     "name": "stdout",
     "output_type": "stream",
     "text": [
      "2069 34359891\n"
     ]
    },
    {
     "name": "stderr",
     "output_type": "stream",
     "text": [
      "                                                                                \r"
     ]
    },
    {
     "name": "stdout",
     "output_type": "stream",
     "text": [
      "2070 34359890\n",
      "2071 34359889\n",
      "2072 34359888\n",
      "2073 34359887\n",
      "2074 34359886\n",
      "2075 34359885\n",
      "2076 34359884\n",
      "2077 34359883\n",
      "2078 34359882\n",
      "2079 34359881\n",
      "2080 34359880\n",
      "2081 34359879\n",
      "2082 34359878\n",
      "2083 34359877\n",
      "2084 34359876\n",
      "2085 34359875\n",
      "2086 34359874\n",
      "2087 34359873\n",
      "2088 34359872\n",
      "2089 34359871\n",
      "2090 34359870\n",
      "2091 34359869\n",
      "2092 34359868\n",
      "2093 34359867\n",
      "2094 34359866\n",
      "2095 34359865\n",
      "2096 34359864\n",
      "2097 34359863\n",
      "2098 34359862\n",
      "2099 34359861\n",
      "2100 34359860\n",
      "2101 34359859\n",
      "2102 34359858\n"
     ]
    },
    {
     "name": "stderr",
     "output_type": "stream",
     "text": [
      "                                                                                \r"
     ]
    },
    {
     "name": "stdout",
     "output_type": "stream",
     "text": [
      "2103 34359857\n",
      "2104 34359856\n"
     ]
    },
    {
     "name": "stderr",
     "output_type": "stream",
     "text": [
      "                                                                                \r"
     ]
    },
    {
     "name": "stdout",
     "output_type": "stream",
     "text": [
      "2105 34359855\n",
      "2106 34359854\n",
      "2107 34359853\n",
      "2108 34359852\n",
      "2109 34359851\n",
      "2110 34359850\n",
      "2111 34359849\n",
      "2112 34359848\n",
      "2113 34359847\n",
      "2114 34359846\n",
      "2115 34359845\n",
      "2116 34359844\n",
      "2117 34359843\n",
      "2118 34359842\n"
     ]
    },
    {
     "name": "stderr",
     "output_type": "stream",
     "text": [
      "                                                                                \r"
     ]
    },
    {
     "name": "stdout",
     "output_type": "stream",
     "text": [
      "2119 34359841\n",
      "2120 34359840\n",
      "2121 34359839\n",
      "2122 34359838\n",
      "2123 34359837\n",
      "2124 34359836\n",
      "2125 34359835\n",
      "2126 34359834\n",
      "2127 34359833\n",
      "2128 34359832\n",
      "2129 34359831\n",
      "2130 34359830\n"
     ]
    },
    {
     "name": "stderr",
     "output_type": "stream",
     "text": [
      "                                                                                \r"
     ]
    },
    {
     "name": "stdout",
     "output_type": "stream",
     "text": [
      "2131 34359829\n"
     ]
    },
    {
     "name": "stderr",
     "output_type": "stream",
     "text": [
      "                                                                                \r"
     ]
    },
    {
     "name": "stdout",
     "output_type": "stream",
     "text": [
      "2132 34359828\n",
      "2133 34359827\n"
     ]
    },
    {
     "name": "stderr",
     "output_type": "stream",
     "text": [
      "                                                                                \r"
     ]
    },
    {
     "name": "stdout",
     "output_type": "stream",
     "text": [
      "2134 34359826\n"
     ]
    },
    {
     "name": "stderr",
     "output_type": "stream",
     "text": [
      "                                                                                \r"
     ]
    },
    {
     "name": "stdout",
     "output_type": "stream",
     "text": [
      "2135 34359825\n"
     ]
    },
    {
     "name": "stderr",
     "output_type": "stream",
     "text": [
      "                                                                                \r"
     ]
    },
    {
     "name": "stdout",
     "output_type": "stream",
     "text": [
      "2136 34359824\n"
     ]
    },
    {
     "name": "stderr",
     "output_type": "stream",
     "text": [
      "                                                                                \r"
     ]
    },
    {
     "name": "stdout",
     "output_type": "stream",
     "text": [
      "2137 34359823\n"
     ]
    },
    {
     "name": "stderr",
     "output_type": "stream",
     "text": [
      "                                                                                \r"
     ]
    },
    {
     "name": "stdout",
     "output_type": "stream",
     "text": [
      "2138 34359822\n"
     ]
    },
    {
     "name": "stderr",
     "output_type": "stream",
     "text": [
      "                                                                                \r"
     ]
    },
    {
     "name": "stdout",
     "output_type": "stream",
     "text": [
      "2139 34359821\n"
     ]
    },
    {
     "name": "stderr",
     "output_type": "stream",
     "text": [
      "                                                                                \r"
     ]
    },
    {
     "name": "stdout",
     "output_type": "stream",
     "text": [
      "2140 34359820\n"
     ]
    },
    {
     "name": "stderr",
     "output_type": "stream",
     "text": [
      "                                                                                \r"
     ]
    },
    {
     "name": "stdout",
     "output_type": "stream",
     "text": [
      "2141 34359819\n"
     ]
    },
    {
     "name": "stderr",
     "output_type": "stream",
     "text": [
      "                                                                                \r"
     ]
    },
    {
     "name": "stdout",
     "output_type": "stream",
     "text": [
      "2142 34359818\n",
      "2143 34359817\n",
      "2144 34359816\n",
      "2145 34359815\n",
      "2146 34359814\n",
      "2147 34359813\n",
      "2148 34359812\n",
      "2149 34359811\n",
      "2150 34359810\n",
      "2151 34359809\n",
      "2152 34359808\n",
      "2153 34359807\n",
      "2154 34359806\n",
      "2155 34359805\n",
      "2156 34359804\n",
      "2157 34359803\n",
      "2158 34359802\n",
      "2159 34359801\n",
      "2160 34359800\n",
      "2161 34359799\n"
     ]
    },
    {
     "name": "stderr",
     "output_type": "stream",
     "text": [
      "                                                                                \r"
     ]
    },
    {
     "name": "stdout",
     "output_type": "stream",
     "text": [
      "2162 34359798\n",
      "2163 34359797\n",
      "2164 34359796\n",
      "2165 34359795\n",
      "2166 34359794\n",
      "2167 34359793\n",
      "2168 34359792\n",
      "2169 34359791\n",
      "2170 34359790\n",
      "2171 34359789\n",
      "2172 34359788\n",
      "2173 34359787\n",
      "2174 34359786\n",
      "2175 34359785\n",
      "2176 34359784\n",
      "2177 34359783\n",
      "2178 34359782\n",
      "2179 34359781\n",
      "2180 34359780\n",
      "2181 34359779\n",
      "2182 34359778\n",
      "2183 34359777\n",
      "2184 34359776\n"
     ]
    },
    {
     "name": "stderr",
     "output_type": "stream",
     "text": [
      "                                                                                \r"
     ]
    },
    {
     "name": "stdout",
     "output_type": "stream",
     "text": [
      "2185 34359775\n",
      "2186 34359774\n",
      "2187 34359773\n",
      "2188 34359772\n",
      "2189 34359771\n",
      "2190 34359770\n",
      "2191 34359769\n",
      "2192 34359768\n",
      "2193 34359767\n",
      "2194 34359766\n",
      "2195 34359765\n",
      "2196 34359764\n",
      "2197 34359763\n",
      "2198 34359762\n",
      "2199 34359761\n",
      "2200 34359760\n",
      "2201 34359759\n",
      "2202 34359758\n",
      "2203 34359757\n",
      "2204 34359756\n",
      "2205 34359755\n",
      "2206 34359754\n",
      "2207 34359753\n",
      "2208 34359752\n",
      "2209 34359751\n",
      "2210 34359750\n",
      "2211 34359749\n",
      "2212 34359748\n",
      "2213 34359747\n",
      "2214 34359746\n",
      "2215 34359745\n",
      "2216 34359744\n",
      "2217 34359743\n",
      "2218 34359742\n",
      "2219 34359741\n",
      "2220 34359740\n",
      "2221 34359739\n",
      "2222 34359738\n",
      "2223 25770341\n",
      "2224 25770340\n",
      "2225 25770339\n",
      "2226 25770338\n",
      "2227 25770337\n",
      "2228 25770336\n",
      "2229 25770335\n",
      "2230 25770334\n",
      "2231 25770333\n",
      "2232 25770332\n",
      "2233 25770331\n",
      "2234 25770330\n",
      "2235 25770329\n",
      "2236 25770328\n",
      "2237 25770327\n",
      "2238 25770326\n",
      "2239 25770325\n",
      "2240 25770324\n",
      "2241 25770323\n",
      "2242 25770322\n",
      "2243 25770321\n",
      "2244 25770320\n",
      "2245 25770319\n",
      "2246 25770318\n",
      "2247 25770317\n",
      "2248 25770316\n",
      "2249 25770315\n",
      "2250 25770314\n",
      "2251 25770313\n",
      "2252 25770312\n",
      "2253 25770311\n",
      "2254 25770310\n",
      "2255 25770309\n",
      "2256 25770308\n",
      "2257 25770307\n",
      "2258 25770306\n",
      "2259 25770305\n",
      "2260 25770304\n",
      "2261 25770303\n",
      "2262 25770302\n",
      "2263 25770301\n",
      "2264 25770300\n",
      "2265 25770299\n",
      "2266 25770298\n",
      "2267 25770297\n",
      "2268 25770296\n",
      "2269 25770295\n",
      "2270 25770294\n",
      "2271 25770293\n",
      "2272 25770292\n",
      "2273 25770291\n",
      "2274 25770290\n",
      "2275 25770289\n",
      "2276 25770288\n",
      "2277 25770287\n",
      "2278 25770286\n",
      "2279 25770285\n",
      "2280 25770284\n",
      "2281 25770283\n",
      "2282 25770282\n",
      "2283 25770281\n",
      "2284 25770280\n",
      "2285 25770279\n",
      "2286 25770278\n",
      "2287 25770277\n",
      "2288 25770276\n",
      "2289 25770275\n",
      "2290 25770274\n",
      "2291 25770273\n",
      "2292 25770272\n",
      "2293 25770271\n",
      "2294 25770270\n",
      "2295 25770269\n",
      "2296 25770268\n",
      "2297 25770267\n",
      "2298 25770266\n",
      "2299 25770265\n",
      "2300 25770264\n",
      "2301 25770263\n",
      "2302 25770262\n",
      "2303 25770261\n",
      "2304 25770260\n",
      "2305 25770259\n",
      "2306 25770258\n",
      "2307 25770257\n",
      "2308 25770256\n",
      "2309 25770255\n",
      "2310 25770254\n",
      "2311 25770253\n",
      "2312 25770252\n",
      "2313 25770251\n",
      "2314 25770250\n",
      "2315 25770249\n",
      "2316 25770248\n",
      "2317 25770247\n",
      "2318 25770246\n",
      "2319 25770245\n",
      "2320 25770244\n",
      "2321 25770243\n",
      "2322 25770242\n",
      "2323 25770241\n",
      "2324 25770240\n",
      "2325 25770239\n",
      "2326 25770238\n",
      "2327 25770237\n",
      "2328 25770236\n",
      "2329 25770235\n",
      "2330 25770234\n",
      "2331 25770233\n",
      "2332 25770232\n",
      "2333 25770231\n",
      "2334 25770230\n",
      "2335 25770229\n",
      "2336 25770228\n",
      "2337 25770227\n",
      "2338 25770226\n",
      "2339 25770225\n",
      "2340 25770224\n",
      "2341 25770223\n",
      "2342 25770222\n",
      "2343 25770221\n",
      "2344 25770220\n",
      "2345 25770219\n",
      "2346 25770218\n",
      "2347 25770217\n"
     ]
    },
    {
     "name": "stderr",
     "output_type": "stream",
     "text": [
      "                                                                                \r"
     ]
    },
    {
     "name": "stdout",
     "output_type": "stream",
     "text": [
      "2348 25770216\n",
      "2349 25770215\n",
      "2350 25770214\n",
      "2351 25770213\n",
      "2352 25770212\n",
      "2353 25770211\n",
      "2354 25770210\n",
      "2355 25770209\n",
      "2356 25770208\n",
      "2357 25770207\n",
      "2358 25770206\n",
      "2359 25770205\n",
      "2360 25770204\n",
      "2361 25770203\n"
     ]
    },
    {
     "name": "stderr",
     "output_type": "stream",
     "text": [
      "                                                                                \r"
     ]
    },
    {
     "name": "stdout",
     "output_type": "stream",
     "text": [
      "2362 25770202\n"
     ]
    },
    {
     "name": "stderr",
     "output_type": "stream",
     "text": [
      "                                                                                \r"
     ]
    },
    {
     "name": "stdout",
     "output_type": "stream",
     "text": [
      "2363 25770201\n",
      "2364 25770200\n"
     ]
    },
    {
     "name": "stderr",
     "output_type": "stream",
     "text": [
      "                                                                                \r"
     ]
    },
    {
     "name": "stdout",
     "output_type": "stream",
     "text": [
      "2365 25770199\n",
      "2366 25770198\n",
      "2367 25770197\n",
      "2368 25770196\n",
      "2369 25770195\n",
      "2370 25770194\n",
      "2371 25770193\n",
      "2372 25770192\n"
     ]
    },
    {
     "name": "stderr",
     "output_type": "stream",
     "text": [
      "                                                                                \r"
     ]
    },
    {
     "name": "stdout",
     "output_type": "stream",
     "text": [
      "2373 25770191\n",
      "2374 25770190\n",
      "2375 25770189\n",
      "2376 25770188\n",
      "2377 25770187\n",
      "2378 25770186\n",
      "2379 25770185\n",
      "2380 25770184\n",
      "2381 25770183\n",
      "2382 25770182\n",
      "2383 25770181\n",
      "2384 25770180\n",
      "2385 25770179\n",
      "2386 25770178\n",
      "2387 25770177\n",
      "2388 25770176\n",
      "2389 25770175\n",
      "2390 25770174\n",
      "2391 25770173\n",
      "2392 25770172\n",
      "2393 25770171\n"
     ]
    },
    {
     "name": "stderr",
     "output_type": "stream",
     "text": [
      "                                                                                \r"
     ]
    },
    {
     "name": "stdout",
     "output_type": "stream",
     "text": [
      "2394 25770170\n",
      "2395 25770169\n",
      "2396 25770168\n",
      "2397 25770167\n",
      "2398 25770166\n",
      "2399 25770165\n"
     ]
    },
    {
     "name": "stderr",
     "output_type": "stream",
     "text": [
      "                                                                                \r"
     ]
    },
    {
     "name": "stdout",
     "output_type": "stream",
     "text": [
      "2400 25770164\n",
      "2401 25770163\n",
      "2402 25770162\n",
      "2403 25770161\n",
      "2404 25770160\n",
      "2405 25770159\n",
      "2406 25770158\n",
      "2407 25770157\n"
     ]
    },
    {
     "name": "stderr",
     "output_type": "stream",
     "text": [
      "                                                                                \r"
     ]
    },
    {
     "name": "stdout",
     "output_type": "stream",
     "text": [
      "2408 25770156\n",
      "2409 25770155\n",
      "2410 25770154\n",
      "2411 25770153\n",
      "2412 25770152\n",
      "2413 25770151\n",
      "2414 25770150\n",
      "2415 25770149\n",
      "2416 25770148\n",
      "2417 25770147\n",
      "2418 25770146\n",
      "2419 25770145\n",
      "2420 25770144\n",
      "2421 25770143\n",
      "2422 25770142\n",
      "2423 25770141\n",
      "2424 25770140\n",
      "2425 25770139\n",
      "2426 25770138\n",
      "2427 25770137\n",
      "2428 25770136\n",
      "2429 25770135\n",
      "2430 25770134\n",
      "2431 25770133\n",
      "2432 25770132\n",
      "2433 25770131\n",
      "2434 25770130\n",
      "2435 25770129\n",
      "2436 25770128\n",
      "2437 25770127\n",
      "2438 25770126\n",
      "2439 25770125\n",
      "2440 25770124\n",
      "2441 25770123\n",
      "2442 25770122\n",
      "2443 25770121\n",
      "2444 25770120\n",
      "2445 25770119\n",
      "2446 25770118\n",
      "2447 25770117\n",
      "2448 25770116\n",
      "2449 25770115\n",
      "2450 25770114\n",
      "2451 25770113\n",
      "2452 25770112\n",
      "2453 25770111\n",
      "2454 25770110\n",
      "2455 25770109\n",
      "2456 25770108\n",
      "2457 25770107\n",
      "2458 25770106\n",
      "2459 25770105\n",
      "2460 25770104\n",
      "2461 25770103\n",
      "2462 25770102\n",
      "2463 25770101\n",
      "2464 25770100\n",
      "2465 25770099\n",
      "2466 25770098\n",
      "2467 25770097\n",
      "2468 25770096\n",
      "2469 25770095\n",
      "2470 25770094\n",
      "2471 25770093\n"
     ]
    },
    {
     "name": "stderr",
     "output_type": "stream",
     "text": [
      "                                                                                \r"
     ]
    },
    {
     "name": "stdout",
     "output_type": "stream",
     "text": [
      "2472 25770092\n",
      "2473 25770091\n",
      "2474 25770090\n",
      "2475 25770089\n",
      "2476 25770088\n",
      "2477 25770087\n",
      "2478 25770086\n",
      "2479 25770085\n",
      "2480 25770084\n",
      "2481 25770083\n",
      "2482 25770082\n",
      "2483 25770081\n"
     ]
    },
    {
     "name": "stderr",
     "output_type": "stream",
     "text": [
      "                                                                                \r"
     ]
    },
    {
     "name": "stdout",
     "output_type": "stream",
     "text": [
      "2484 25770080\n",
      "2485 25770079\n",
      "2486 25770078\n",
      "2487 25770077\n",
      "2488 25770076\n",
      "2489 25770075\n",
      "2490 25770074\n",
      "2491 25770073\n",
      "2492 25770072\n",
      "2493 25770071\n",
      "2494 25770070\n",
      "2495 25770069\n",
      "2496 25770068\n"
     ]
    },
    {
     "name": "stderr",
     "output_type": "stream",
     "text": [
      "                                                                                \r"
     ]
    },
    {
     "name": "stdout",
     "output_type": "stream",
     "text": [
      "2497 25770067\n",
      "2498 25770066\n",
      "2499 25770065\n",
      "2500 25770064\n",
      "2501 25770063\n",
      "2502 25770062\n",
      "2503 25770061\n",
      "2504 25770060\n",
      "2505 25770059\n",
      "2506 25770058\n"
     ]
    },
    {
     "name": "stderr",
     "output_type": "stream",
     "text": [
      "                                                                                \r"
     ]
    },
    {
     "name": "stdout",
     "output_type": "stream",
     "text": [
      "2507 25770057\n"
     ]
    },
    {
     "name": "stderr",
     "output_type": "stream",
     "text": [
      "                                                                                \r"
     ]
    },
    {
     "name": "stdout",
     "output_type": "stream",
     "text": [
      "2508 25770056\n",
      "2509 25770055\n",
      "2510 25770054\n",
      "2511 25770053\n",
      "2512 25770052\n",
      "2513 25770051\n",
      "2514 25770050\n",
      "2515 25770049\n",
      "2516 25770048\n",
      "2517 25770047\n"
     ]
    },
    {
     "name": "stderr",
     "output_type": "stream",
     "text": [
      "                                                                                \r"
     ]
    },
    {
     "name": "stdout",
     "output_type": "stream",
     "text": [
      "2518 25770046\n",
      "2519 25770045\n",
      "2520 25770044\n",
      "2521 25770043\n",
      "2522 25770042\n",
      "2523 25770041\n",
      "2524 25770040\n",
      "2525 25770039\n",
      "2526 25770038\n",
      "2527 25770037\n",
      "2528 25770036\n",
      "2529 25770035\n",
      "2530 25770034\n",
      "2531 25770033\n",
      "2532 25770032\n",
      "2533 25770031\n",
      "2534 25770030\n",
      "2535 25770029\n",
      "2536 25770028\n",
      "2537 25770027\n"
     ]
    },
    {
     "name": "stderr",
     "output_type": "stream",
     "text": [
      "                                                                                \r"
     ]
    },
    {
     "name": "stdout",
     "output_type": "stream",
     "text": [
      "2538 25770026\n",
      "2539 25770025\n",
      "2540 25770024\n",
      "2541 25770023\n",
      "2542 25770022\n",
      "2543 25770021\n",
      "2544 25770020\n",
      "2545 25770019\n",
      "2546 25770018\n",
      "2547 25770017\n",
      "2548 25770016\n",
      "2549 25770015\n",
      "2550 25770014\n",
      "2551 25770013\n",
      "2552 25770012\n",
      "2553 25770011\n"
     ]
    },
    {
     "name": "stderr",
     "output_type": "stream",
     "text": [
      "                                                                                \r"
     ]
    },
    {
     "name": "stdout",
     "output_type": "stream",
     "text": [
      "2554 25770010\n"
     ]
    },
    {
     "name": "stderr",
     "output_type": "stream",
     "text": [
      "                                                                                \r"
     ]
    },
    {
     "name": "stdout",
     "output_type": "stream",
     "text": [
      "2555 25770009\n"
     ]
    },
    {
     "name": "stderr",
     "output_type": "stream",
     "text": [
      "                                                                                \r"
     ]
    },
    {
     "name": "stdout",
     "output_type": "stream",
     "text": [
      "2556 25770008\n",
      "2557 25770007\n",
      "2558 25770006\n",
      "2559 25770005\n",
      "2560 25770004\n",
      "2561 25770003\n",
      "2562 25770002\n"
     ]
    },
    {
     "name": "stderr",
     "output_type": "stream",
     "text": [
      "                                                                                \r"
     ]
    },
    {
     "name": "stdout",
     "output_type": "stream",
     "text": [
      "2563 25770001\n",
      "2564 25770000\n"
     ]
    },
    {
     "name": "stderr",
     "output_type": "stream",
     "text": [
      "                                                                                \r"
     ]
    },
    {
     "name": "stdout",
     "output_type": "stream",
     "text": [
      "2565 25769999\n",
      "2566 25769998\n",
      "2567 25769997\n",
      "2568 25769996\n",
      "2569 25769995\n"
     ]
    },
    {
     "name": "stderr",
     "output_type": "stream",
     "text": [
      "                                                                                \r"
     ]
    },
    {
     "name": "stdout",
     "output_type": "stream",
     "text": [
      "2570 25769994\n"
     ]
    },
    {
     "name": "stderr",
     "output_type": "stream",
     "text": [
      "                                                                                \r"
     ]
    },
    {
     "name": "stdout",
     "output_type": "stream",
     "text": [
      "2571 25769993\n"
     ]
    },
    {
     "name": "stderr",
     "output_type": "stream",
     "text": [
      "                                                                                \r"
     ]
    },
    {
     "name": "stdout",
     "output_type": "stream",
     "text": [
      "2572 25769992\n"
     ]
    },
    {
     "name": "stderr",
     "output_type": "stream",
     "text": [
      "                                                                                \r"
     ]
    },
    {
     "name": "stdout",
     "output_type": "stream",
     "text": [
      "2573 25769991\n",
      "2574 25769990\n",
      "2575 25769989\n",
      "2576 25769988\n",
      "2577 25769987\n",
      "2578 25769986\n",
      "2579 25769985\n"
     ]
    },
    {
     "name": "stderr",
     "output_type": "stream",
     "text": [
      "                                                                                \r"
     ]
    },
    {
     "name": "stdout",
     "output_type": "stream",
     "text": [
      "2580 25769984\n",
      "2581 25769983\n",
      "2582 25769982\n",
      "2583 25769981\n",
      "2584 25769980\n",
      "2585 25769979\n",
      "2586 25769978\n",
      "2587 25769977\n",
      "2588 25769976\n",
      "2589 25769975\n",
      "2590 25769974\n",
      "2591 25769973\n"
     ]
    },
    {
     "name": "stderr",
     "output_type": "stream",
     "text": [
      "                                                                                \r"
     ]
    },
    {
     "name": "stdout",
     "output_type": "stream",
     "text": [
      "2592 25769972\n",
      "2593 25769971\n"
     ]
    },
    {
     "name": "stderr",
     "output_type": "stream",
     "text": [
      "                                                                                \r"
     ]
    },
    {
     "name": "stdout",
     "output_type": "stream",
     "text": [
      "2594 25769970\n"
     ]
    },
    {
     "name": "stderr",
     "output_type": "stream",
     "text": [
      "                                                                                \r"
     ]
    },
    {
     "name": "stdout",
     "output_type": "stream",
     "text": [
      "2595 25769969\n",
      "2596 25769968\n",
      "2597 25769967\n",
      "2598 25769966\n",
      "2599 25769965\n",
      "2600 25769964\n",
      "2601 25769963\n",
      "2602 25769962\n",
      "2603 25769961\n",
      "2604 25769960\n",
      "2605 25769959\n"
     ]
    },
    {
     "name": "stderr",
     "output_type": "stream",
     "text": [
      "                                                                                \r"
     ]
    },
    {
     "name": "stdout",
     "output_type": "stream",
     "text": [
      "2606 25769958\n",
      "2607 25769957\n"
     ]
    },
    {
     "name": "stderr",
     "output_type": "stream",
     "text": [
      "                                                                                \r"
     ]
    },
    {
     "name": "stdout",
     "output_type": "stream",
     "text": [
      "2608 25769956\n",
      "2609 25769955\n",
      "2610 25769954\n",
      "2611 25769953\n"
     ]
    },
    {
     "name": "stderr",
     "output_type": "stream",
     "text": [
      "                                                                                \r"
     ]
    },
    {
     "name": "stdout",
     "output_type": "stream",
     "text": [
      "2612 25769952\n"
     ]
    },
    {
     "name": "stderr",
     "output_type": "stream",
     "text": [
      "                                                                                \r"
     ]
    },
    {
     "name": "stdout",
     "output_type": "stream",
     "text": [
      "2613 25769951\n"
     ]
    },
    {
     "name": "stderr",
     "output_type": "stream",
     "text": [
      "                                                                                \r"
     ]
    },
    {
     "name": "stdout",
     "output_type": "stream",
     "text": [
      "2614 25769950\n",
      "2615 25769949\n",
      "2616 25769948\n"
     ]
    },
    {
     "name": "stderr",
     "output_type": "stream",
     "text": [
      "                                                                                \r"
     ]
    },
    {
     "name": "stdout",
     "output_type": "stream",
     "text": [
      "2617 25769947\n",
      "2618 25769946\n",
      "2619 25769945\n",
      "2620 25769944\n",
      "2621 25769943\n",
      "2622 25769942\n"
     ]
    },
    {
     "name": "stderr",
     "output_type": "stream",
     "text": [
      "                                                                                \r"
     ]
    },
    {
     "name": "stdout",
     "output_type": "stream",
     "text": [
      "2623 25769941\n"
     ]
    },
    {
     "name": "stderr",
     "output_type": "stream",
     "text": [
      "                                                                                \r"
     ]
    },
    {
     "name": "stdout",
     "output_type": "stream",
     "text": [
      "2624 25769940\n",
      "2625 25769939\n",
      "2626 25769938\n",
      "2627 25769937\n",
      "2628 25769936\n",
      "2629 25769935\n",
      "2630 25769934\n",
      "2631 25769933\n",
      "2632 25769932\n",
      "2633 25769931\n",
      "2634 25769930\n",
      "2635 25769929\n"
     ]
    },
    {
     "name": "stderr",
     "output_type": "stream",
     "text": [
      "                                                                                \r"
     ]
    },
    {
     "name": "stdout",
     "output_type": "stream",
     "text": [
      "2636 25769928\n",
      "2637 25769927\n"
     ]
    },
    {
     "name": "stderr",
     "output_type": "stream",
     "text": [
      "                                                                                \r"
     ]
    },
    {
     "name": "stdout",
     "output_type": "stream",
     "text": [
      "2638 25769926\n",
      "2639 25769925\n",
      "2640 25769924\n",
      "2641 25769923\n",
      "2642 25769922\n",
      "2643 25769921\n",
      "2644 25769920\n",
      "2645 25769919\n",
      "2646 25769918\n"
     ]
    },
    {
     "name": "stderr",
     "output_type": "stream",
     "text": [
      "                                                                                \r"
     ]
    },
    {
     "name": "stdout",
     "output_type": "stream",
     "text": [
      "2647 25769917\n",
      "2648 25769916\n",
      "2649 25769915\n",
      "2650 25769914\n",
      "2651 25769913\n",
      "2652 25769912\n",
      "2653 25769911\n",
      "2654 25769910\n",
      "2655 25769909\n",
      "2656 25769908\n",
      "2657 25769907\n",
      "2658 25769906\n"
     ]
    },
    {
     "name": "stderr",
     "output_type": "stream",
     "text": [
      "                                                                                \r"
     ]
    },
    {
     "name": "stdout",
     "output_type": "stream",
     "text": [
      "2659 25769905\n"
     ]
    },
    {
     "name": "stderr",
     "output_type": "stream",
     "text": [
      "                                                                                \r"
     ]
    },
    {
     "name": "stdout",
     "output_type": "stream",
     "text": [
      "2660 25769904\n",
      "2661 25769903\n",
      "2662 25769902\n",
      "2663 25769901\n",
      "2664 25769900\n",
      "2665 25769899\n",
      "2666 25769898\n",
      "2667 25769897\n",
      "2668 25769896\n",
      "2669 25769895\n",
      "2670 25769894\n",
      "2671 25769893\n",
      "2672 25769892\n",
      "2673 25769891\n",
      "2674 25769890\n",
      "2675 25769889\n"
     ]
    },
    {
     "name": "stderr",
     "output_type": "stream",
     "text": [
      "                                                                                \r"
     ]
    },
    {
     "name": "stdout",
     "output_type": "stream",
     "text": [
      "2676 25769888\n"
     ]
    },
    {
     "name": "stderr",
     "output_type": "stream",
     "text": [
      "                                                                                \r"
     ]
    },
    {
     "name": "stdout",
     "output_type": "stream",
     "text": [
      "2677 25769887\n"
     ]
    },
    {
     "name": "stderr",
     "output_type": "stream",
     "text": [
      "                                                                                \r"
     ]
    },
    {
     "name": "stdout",
     "output_type": "stream",
     "text": [
      "2678 25769886\n"
     ]
    },
    {
     "name": "stderr",
     "output_type": "stream",
     "text": [
      "                                                                                \r"
     ]
    },
    {
     "name": "stdout",
     "output_type": "stream",
     "text": [
      "2679 25769885\n"
     ]
    },
    {
     "name": "stderr",
     "output_type": "stream",
     "text": [
      "                                                                                \r"
     ]
    },
    {
     "name": "stdout",
     "output_type": "stream",
     "text": [
      "2680 25769884\n"
     ]
    },
    {
     "name": "stderr",
     "output_type": "stream",
     "text": [
      "                                                                                \r"
     ]
    },
    {
     "name": "stdout",
     "output_type": "stream",
     "text": [
      "2681 25769883\n",
      "2682 25769882\n"
     ]
    },
    {
     "name": "stderr",
     "output_type": "stream",
     "text": [
      "                                                                                \r"
     ]
    },
    {
     "name": "stdout",
     "output_type": "stream",
     "text": [
      "2683 25769881\n",
      "2684 25769880\n",
      "2685 25769879\n",
      "2686 25769878\n",
      "2687 25769877\n"
     ]
    },
    {
     "name": "stderr",
     "output_type": "stream",
     "text": [
      "                                                                                \r"
     ]
    },
    {
     "name": "stdout",
     "output_type": "stream",
     "text": [
      "2688 25769876\n"
     ]
    },
    {
     "name": "stderr",
     "output_type": "stream",
     "text": [
      "                                                                                \r"
     ]
    },
    {
     "name": "stdout",
     "output_type": "stream",
     "text": [
      "2689 25769875\n"
     ]
    },
    {
     "name": "stderr",
     "output_type": "stream",
     "text": [
      "                                                                                \r"
     ]
    },
    {
     "name": "stdout",
     "output_type": "stream",
     "text": [
      "2690 25769874\n",
      "2691 25769873\n",
      "2692 25769872\n",
      "2693 25769871\n",
      "2694 25769870\n"
     ]
    },
    {
     "name": "stderr",
     "output_type": "stream",
     "text": [
      "                                                                                \r"
     ]
    },
    {
     "name": "stdout",
     "output_type": "stream",
     "text": [
      "2695 25769869\n",
      "2696 25769868\n"
     ]
    },
    {
     "name": "stderr",
     "output_type": "stream",
     "text": [
      "                                                                                \r"
     ]
    },
    {
     "name": "stdout",
     "output_type": "stream",
     "text": [
      "2697 25769867\n"
     ]
    },
    {
     "name": "stderr",
     "output_type": "stream",
     "text": [
      "                                                                                \r"
     ]
    },
    {
     "name": "stdout",
     "output_type": "stream",
     "text": [
      "2698 25769866\n"
     ]
    },
    {
     "name": "stderr",
     "output_type": "stream",
     "text": [
      "                                                                                \r"
     ]
    },
    {
     "name": "stdout",
     "output_type": "stream",
     "text": [
      "2699 25769865\n"
     ]
    },
    {
     "name": "stderr",
     "output_type": "stream",
     "text": [
      "                                                                                \r"
     ]
    },
    {
     "name": "stdout",
     "output_type": "stream",
     "text": [
      "2700 25769864\n",
      "2701 25769863\n",
      "2702 25769862\n"
     ]
    },
    {
     "name": "stderr",
     "output_type": "stream",
     "text": [
      "                                                                                \r"
     ]
    },
    {
     "name": "stdout",
     "output_type": "stream",
     "text": [
      "2703 25769861\n"
     ]
    },
    {
     "name": "stderr",
     "output_type": "stream",
     "text": [
      "                                                                                \r"
     ]
    },
    {
     "name": "stdout",
     "output_type": "stream",
     "text": [
      "2704 25769860\n"
     ]
    },
    {
     "name": "stderr",
     "output_type": "stream",
     "text": [
      "                                                                                \r"
     ]
    },
    {
     "name": "stdout",
     "output_type": "stream",
     "text": [
      "2705 25769859\n"
     ]
    },
    {
     "name": "stderr",
     "output_type": "stream",
     "text": [
      "                                                                                \r"
     ]
    },
    {
     "name": "stdout",
     "output_type": "stream",
     "text": [
      "2706 25769858\n"
     ]
    },
    {
     "name": "stderr",
     "output_type": "stream",
     "text": [
      "                                                                                \r"
     ]
    },
    {
     "name": "stdout",
     "output_type": "stream",
     "text": [
      "2707 25769857\n"
     ]
    },
    {
     "name": "stderr",
     "output_type": "stream",
     "text": [
      "                                                                                \r"
     ]
    },
    {
     "name": "stdout",
     "output_type": "stream",
     "text": [
      "2708 25769856\n",
      "2709 25769855\n",
      "2710 25769854\n",
      "2711 25769853\n",
      "2712 25769852\n",
      "2713 25769851\n",
      "2714 25769850\n",
      "2715 25769849\n",
      "2716 25769848\n"
     ]
    },
    {
     "name": "stderr",
     "output_type": "stream",
     "text": [
      "                                                                                \r"
     ]
    },
    {
     "name": "stdout",
     "output_type": "stream",
     "text": [
      "2717 25769847\n"
     ]
    },
    {
     "name": "stderr",
     "output_type": "stream",
     "text": [
      "                                                                                \r"
     ]
    },
    {
     "name": "stdout",
     "output_type": "stream",
     "text": [
      "2718 25769846\n"
     ]
    },
    {
     "name": "stderr",
     "output_type": "stream",
     "text": [
      "                                                                                \r"
     ]
    },
    {
     "name": "stdout",
     "output_type": "stream",
     "text": [
      "2719 25769845\n",
      "2720 25769844\n"
     ]
    },
    {
     "name": "stderr",
     "output_type": "stream",
     "text": [
      "                                                                                \r"
     ]
    },
    {
     "name": "stdout",
     "output_type": "stream",
     "text": [
      "2721 25769843\n",
      "2722 25769842\n",
      "2723 25769841\n"
     ]
    },
    {
     "name": "stderr",
     "output_type": "stream",
     "text": [
      "                                                                                \r"
     ]
    },
    {
     "name": "stdout",
     "output_type": "stream",
     "text": [
      "2724 25769840\n"
     ]
    },
    {
     "name": "stderr",
     "output_type": "stream",
     "text": [
      "                                                                                \r"
     ]
    },
    {
     "name": "stdout",
     "output_type": "stream",
     "text": [
      "2725 25769839\n"
     ]
    },
    {
     "name": "stderr",
     "output_type": "stream",
     "text": [
      "                                                                                \r"
     ]
    },
    {
     "name": "stdout",
     "output_type": "stream",
     "text": [
      "2726 25769838\n"
     ]
    },
    {
     "name": "stderr",
     "output_type": "stream",
     "text": [
      "                                                                                \r"
     ]
    },
    {
     "name": "stdout",
     "output_type": "stream",
     "text": [
      "2727 25769837\n"
     ]
    },
    {
     "name": "stderr",
     "output_type": "stream",
     "text": [
      "                                                                                \r"
     ]
    },
    {
     "name": "stdout",
     "output_type": "stream",
     "text": [
      "2728 25769836\n",
      "2729 25769835\n"
     ]
    },
    {
     "name": "stderr",
     "output_type": "stream",
     "text": [
      "                                                                                \r"
     ]
    },
    {
     "name": "stdout",
     "output_type": "stream",
     "text": [
      "2730 25769834\n"
     ]
    },
    {
     "name": "stderr",
     "output_type": "stream",
     "text": [
      "                                                                                \r"
     ]
    },
    {
     "name": "stdout",
     "output_type": "stream",
     "text": [
      "2731 25769833\n",
      "2732 25769832\n",
      "2733 25769831\n",
      "2734 25769830\n",
      "2735 25769829\n",
      "2736 25769828\n",
      "2737 25769827\n",
      "2738 25769826\n",
      "2739 25769825\n",
      "2740 25769824\n",
      "2741 25769823\n"
     ]
    },
    {
     "name": "stderr",
     "output_type": "stream",
     "text": [
      "                                                                                \r"
     ]
    },
    {
     "name": "stdout",
     "output_type": "stream",
     "text": [
      "2742 25769822\n"
     ]
    },
    {
     "name": "stderr",
     "output_type": "stream",
     "text": [
      "                                                                                \r"
     ]
    },
    {
     "name": "stdout",
     "output_type": "stream",
     "text": [
      "2743 25769821\n",
      "2744 25769820\n",
      "2745 25769819\n",
      "2746 25769818\n",
      "2747 25769817\n",
      "2748 25769816\n",
      "2749 25769815\n",
      "2750 25769814\n",
      "2751 25769813\n"
     ]
    },
    {
     "name": "stderr",
     "output_type": "stream",
     "text": [
      "                                                                                \r"
     ]
    },
    {
     "name": "stdout",
     "output_type": "stream",
     "text": [
      "2752 25769812\n",
      "2753 25769811\n",
      "2754 25769810\n",
      "2755 25769809\n"
     ]
    },
    {
     "name": "stderr",
     "output_type": "stream",
     "text": [
      "                                                                                \r"
     ]
    },
    {
     "name": "stdout",
     "output_type": "stream",
     "text": [
      "2756 25769808\n",
      "2757 25769807\n",
      "2758 25769806\n",
      "2759 25769805\n",
      "2760 25769804\n",
      "2761 25769803\n",
      "2762 17180409\n",
      "2763 17180408\n",
      "2764 17180407\n",
      "2765 17180406\n",
      "2766 17180405\n"
     ]
    },
    {
     "name": "stderr",
     "output_type": "stream",
     "text": [
      "                                                                                \r"
     ]
    },
    {
     "name": "stdout",
     "output_type": "stream",
     "text": [
      "2767 17180404\n",
      "2768 17180403\n",
      "2769 17180402\n",
      "2770 17180401\n",
      "2771 17180400\n",
      "2772 17180399\n",
      "2773 17180398\n",
      "2774 17180397\n",
      "2775 17180396\n"
     ]
    },
    {
     "name": "stderr",
     "output_type": "stream",
     "text": [
      "                                                                                \r"
     ]
    },
    {
     "name": "stdout",
     "output_type": "stream",
     "text": [
      "2776 17180395\n"
     ]
    },
    {
     "name": "stderr",
     "output_type": "stream",
     "text": [
      "                                                                                \r"
     ]
    },
    {
     "name": "stdout",
     "output_type": "stream",
     "text": [
      "2777 17180394\n"
     ]
    },
    {
     "name": "stderr",
     "output_type": "stream",
     "text": [
      "                                                                                \r"
     ]
    },
    {
     "name": "stdout",
     "output_type": "stream",
     "text": [
      "2778 17180393\n"
     ]
    },
    {
     "name": "stderr",
     "output_type": "stream",
     "text": [
      "                                                                                \r"
     ]
    },
    {
     "name": "stdout",
     "output_type": "stream",
     "text": [
      "2779 17180392\n",
      "2780 17180391\n",
      "2781 17180390\n",
      "2782 17180389\n",
      "2783 17180388\n",
      "2784 17180387\n"
     ]
    },
    {
     "name": "stderr",
     "output_type": "stream",
     "text": [
      "                                                                                \r"
     ]
    },
    {
     "name": "stdout",
     "output_type": "stream",
     "text": [
      "2785 17180386\n"
     ]
    },
    {
     "name": "stderr",
     "output_type": "stream",
     "text": [
      "                                                                                \r"
     ]
    },
    {
     "name": "stdout",
     "output_type": "stream",
     "text": [
      "2786 17180385\n",
      "2787 17180384\n",
      "2788 17180383\n",
      "2789 17180382\n",
      "2790 17180381\n",
      "2791 17180380\n"
     ]
    },
    {
     "name": "stderr",
     "output_type": "stream",
     "text": [
      "                                                                                \r"
     ]
    },
    {
     "name": "stdout",
     "output_type": "stream",
     "text": [
      "2792 17180379\n",
      "2793 17180378\n",
      "2794 17180377\n",
      "2795 17180376\n",
      "2796 17180375\n",
      "2797 17180374\n",
      "2798 17180373\n",
      "2799 17180372\n",
      "2800 17180371\n",
      "2801 17180370\n",
      "2802 17180369\n",
      "2803 17180368\n",
      "2804 17180367\n",
      "2805 17180366\n",
      "2806 17180365\n",
      "2807 17180364\n",
      "2808 17180363\n",
      "2809 17180362\n",
      "2810 17180361\n",
      "2811 17180360\n",
      "2812 17180359\n",
      "2813 17180358\n",
      "2814 17180357\n",
      "2815 17180356\n",
      "2816 17180355\n",
      "2817 17180354\n",
      "2818 17180353\n",
      "2819 17180352\n",
      "2820 17180351\n",
      "2821 17180350\n",
      "2822 17180349\n",
      "2823 17180348\n",
      "2824 17180347\n",
      "2825 17180346\n",
      "2826 17180345\n",
      "2827 17180344\n",
      "2828 17180343\n",
      "2829 17180342\n",
      "2830 17180341\n",
      "2831 17180340\n"
     ]
    },
    {
     "name": "stderr",
     "output_type": "stream",
     "text": [
      "                                                                                \r"
     ]
    },
    {
     "name": "stdout",
     "output_type": "stream",
     "text": [
      "2832 17180339\n"
     ]
    },
    {
     "name": "stderr",
     "output_type": "stream",
     "text": [
      "                                                                                \r"
     ]
    },
    {
     "name": "stdout",
     "output_type": "stream",
     "text": [
      "2833 17180338\n",
      "2834 17180337\n"
     ]
    },
    {
     "name": "stderr",
     "output_type": "stream",
     "text": [
      "                                                                                \r"
     ]
    },
    {
     "name": "stdout",
     "output_type": "stream",
     "text": [
      "2835 17180336\n"
     ]
    },
    {
     "name": "stderr",
     "output_type": "stream",
     "text": [
      "                                                                                \r"
     ]
    },
    {
     "name": "stdout",
     "output_type": "stream",
     "text": [
      "2836 17180335\n"
     ]
    },
    {
     "name": "stderr",
     "output_type": "stream",
     "text": [
      "                                                                                \r"
     ]
    },
    {
     "name": "stdout",
     "output_type": "stream",
     "text": [
      "2837 17180334\n"
     ]
    },
    {
     "name": "stderr",
     "output_type": "stream",
     "text": [
      "                                                                                \r"
     ]
    },
    {
     "name": "stdout",
     "output_type": "stream",
     "text": [
      "2838 17180333\n"
     ]
    },
    {
     "name": "stderr",
     "output_type": "stream",
     "text": [
      "                                                                                \r"
     ]
    },
    {
     "name": "stdout",
     "output_type": "stream",
     "text": [
      "2839 17180332\n"
     ]
    },
    {
     "name": "stderr",
     "output_type": "stream",
     "text": [
      "                                                                                \r"
     ]
    },
    {
     "name": "stdout",
     "output_type": "stream",
     "text": [
      "2840 17180331\n"
     ]
    },
    {
     "name": "stderr",
     "output_type": "stream",
     "text": [
      "                                                                                \r"
     ]
    },
    {
     "name": "stdout",
     "output_type": "stream",
     "text": [
      "2841 17180330\n"
     ]
    },
    {
     "name": "stderr",
     "output_type": "stream",
     "text": [
      "                                                                                \r"
     ]
    },
    {
     "name": "stdout",
     "output_type": "stream",
     "text": [
      "2842 17180329\n",
      "2843 17180328\n",
      "2844 17180327\n",
      "2845 17180326\n",
      "2846 17180325\n",
      "2847 17180324\n",
      "2848 17180323\n",
      "2849 17180322\n",
      "2850 17180321\n"
     ]
    },
    {
     "name": "stderr",
     "output_type": "stream",
     "text": [
      "                                                                                \r"
     ]
    },
    {
     "name": "stdout",
     "output_type": "stream",
     "text": [
      "2851 17180320\n",
      "2852 17180319\n"
     ]
    },
    {
     "name": "stderr",
     "output_type": "stream",
     "text": [
      "                                                                                \r"
     ]
    },
    {
     "name": "stdout",
     "output_type": "stream",
     "text": [
      "2853 17180318\n",
      "2854 17180317\n",
      "2855 17180316\n",
      "2856 17180315\n",
      "2857 17180314\n",
      "2858 17180313\n",
      "2859 17180312\n"
     ]
    },
    {
     "name": "stderr",
     "output_type": "stream",
     "text": [
      "                                                                                \r"
     ]
    },
    {
     "name": "stdout",
     "output_type": "stream",
     "text": [
      "2860 17180311\n"
     ]
    },
    {
     "name": "stderr",
     "output_type": "stream",
     "text": [
      "                                                                                \r"
     ]
    },
    {
     "name": "stdout",
     "output_type": "stream",
     "text": [
      "2861 17180310\n",
      "2862 17180309\n"
     ]
    },
    {
     "name": "stderr",
     "output_type": "stream",
     "text": [
      "                                                                                \r"
     ]
    },
    {
     "name": "stdout",
     "output_type": "stream",
     "text": [
      "2863 17180308\n"
     ]
    },
    {
     "name": "stderr",
     "output_type": "stream",
     "text": [
      "                                                                                \r"
     ]
    },
    {
     "name": "stdout",
     "output_type": "stream",
     "text": [
      "2864 17180307\n"
     ]
    },
    {
     "name": "stderr",
     "output_type": "stream",
     "text": [
      "                                                                                \r"
     ]
    },
    {
     "name": "stdout",
     "output_type": "stream",
     "text": [
      "2865 17180306\n"
     ]
    },
    {
     "name": "stderr",
     "output_type": "stream",
     "text": [
      "                                                                                \r"
     ]
    },
    {
     "name": "stdout",
     "output_type": "stream",
     "text": [
      "2866 17180305\n"
     ]
    },
    {
     "name": "stderr",
     "output_type": "stream",
     "text": [
      "                                                                                \r"
     ]
    },
    {
     "name": "stdout",
     "output_type": "stream",
     "text": [
      "2867 17180304\n"
     ]
    },
    {
     "name": "stderr",
     "output_type": "stream",
     "text": [
      "                                                                                \r"
     ]
    },
    {
     "name": "stdout",
     "output_type": "stream",
     "text": [
      "2868 17180303\n"
     ]
    },
    {
     "name": "stderr",
     "output_type": "stream",
     "text": [
      "                                                                                \r"
     ]
    },
    {
     "name": "stdout",
     "output_type": "stream",
     "text": [
      "2869 17180302\n"
     ]
    },
    {
     "name": "stderr",
     "output_type": "stream",
     "text": [
      "                                                                                \r"
     ]
    },
    {
     "name": "stdout",
     "output_type": "stream",
     "text": [
      "2870 17180301\n"
     ]
    },
    {
     "name": "stderr",
     "output_type": "stream",
     "text": [
      "                                                                                \r"
     ]
    },
    {
     "name": "stdout",
     "output_type": "stream",
     "text": [
      "2871 17180300\n"
     ]
    },
    {
     "name": "stderr",
     "output_type": "stream",
     "text": [
      "                                                                                \r"
     ]
    },
    {
     "name": "stdout",
     "output_type": "stream",
     "text": [
      "2872 17180299\n"
     ]
    },
    {
     "name": "stderr",
     "output_type": "stream",
     "text": [
      "                                                                                \r"
     ]
    },
    {
     "name": "stdout",
     "output_type": "stream",
     "text": [
      "2873 17180298\n",
      "2874 17180297\n",
      "2875 17180296\n",
      "2876 17180295\n",
      "2877 17180294\n",
      "2878 17180293\n"
     ]
    },
    {
     "name": "stderr",
     "output_type": "stream",
     "text": [
      "                                                                                \r"
     ]
    },
    {
     "name": "stdout",
     "output_type": "stream",
     "text": [
      "2879 17180292\n"
     ]
    },
    {
     "name": "stderr",
     "output_type": "stream",
     "text": [
      "                                                                                \r"
     ]
    },
    {
     "name": "stdout",
     "output_type": "stream",
     "text": [
      "2880 17180291\n"
     ]
    },
    {
     "name": "stderr",
     "output_type": "stream",
     "text": [
      "                                                                                \r"
     ]
    },
    {
     "name": "stdout",
     "output_type": "stream",
     "text": [
      "2881 17180290\n"
     ]
    },
    {
     "name": "stderr",
     "output_type": "stream",
     "text": [
      "                                                                                \r"
     ]
    },
    {
     "name": "stdout",
     "output_type": "stream",
     "text": [
      "2882 17180289\n",
      "2883 17180288\n"
     ]
    },
    {
     "name": "stderr",
     "output_type": "stream",
     "text": [
      "                                                                                \r"
     ]
    },
    {
     "name": "stdout",
     "output_type": "stream",
     "text": [
      "2884 17180287\n"
     ]
    },
    {
     "name": "stderr",
     "output_type": "stream",
     "text": [
      "                                                                                \r"
     ]
    },
    {
     "name": "stdout",
     "output_type": "stream",
     "text": [
      "2885 17180286\n"
     ]
    },
    {
     "name": "stderr",
     "output_type": "stream",
     "text": [
      "                                                                                \r"
     ]
    },
    {
     "name": "stdout",
     "output_type": "stream",
     "text": [
      "2886 17180285\n"
     ]
    },
    {
     "name": "stderr",
     "output_type": "stream",
     "text": [
      "                                                                                \r"
     ]
    },
    {
     "name": "stdout",
     "output_type": "stream",
     "text": [
      "2887 17180284\n"
     ]
    },
    {
     "name": "stderr",
     "output_type": "stream",
     "text": [
      "                                                                                \r"
     ]
    },
    {
     "name": "stdout",
     "output_type": "stream",
     "text": [
      "2888 17180283\n",
      "2889 17180282\n",
      "2890 17180281\n",
      "2891 17180280\n",
      "2892 17180279\n",
      "2893 17180278\n"
     ]
    },
    {
     "name": "stderr",
     "output_type": "stream",
     "text": [
      "                                                                                \r"
     ]
    },
    {
     "name": "stdout",
     "output_type": "stream",
     "text": [
      "2894 17180277\n"
     ]
    },
    {
     "name": "stderr",
     "output_type": "stream",
     "text": [
      "                                                                                \r"
     ]
    },
    {
     "name": "stdout",
     "output_type": "stream",
     "text": [
      "2895 17180276\n"
     ]
    },
    {
     "name": "stderr",
     "output_type": "stream",
     "text": [
      "                                                                                \r"
     ]
    },
    {
     "name": "stdout",
     "output_type": "stream",
     "text": [
      "2896 17180275\n"
     ]
    },
    {
     "name": "stderr",
     "output_type": "stream",
     "text": [
      "                                                                                \r"
     ]
    },
    {
     "name": "stdout",
     "output_type": "stream",
     "text": [
      "2897 17180274\n"
     ]
    },
    {
     "name": "stderr",
     "output_type": "stream",
     "text": [
      "                                                                                \r"
     ]
    },
    {
     "name": "stdout",
     "output_type": "stream",
     "text": [
      "2898 17180273\n"
     ]
    },
    {
     "name": "stderr",
     "output_type": "stream",
     "text": [
      "                                                                                \r"
     ]
    },
    {
     "name": "stdout",
     "output_type": "stream",
     "text": [
      "2899 17180272\n"
     ]
    },
    {
     "name": "stderr",
     "output_type": "stream",
     "text": [
      "                                                                                \r"
     ]
    },
    {
     "name": "stdout",
     "output_type": "stream",
     "text": [
      "2900 17180271\n"
     ]
    },
    {
     "name": "stderr",
     "output_type": "stream",
     "text": [
      "                                                                                \r"
     ]
    },
    {
     "name": "stdout",
     "output_type": "stream",
     "text": [
      "2901 17180270\n"
     ]
    },
    {
     "name": "stderr",
     "output_type": "stream",
     "text": [
      "                                                                                \r"
     ]
    },
    {
     "name": "stdout",
     "output_type": "stream",
     "text": [
      "2902 17180269\n",
      "2903 17180268\n",
      "2904 17180267\n",
      "2905 17180266\n",
      "2906 17180265\n",
      "2907 17180264\n",
      "2908 17180263\n",
      "2909 17180262\n",
      "2910 17180261\n",
      "2911 17180260\n",
      "2912 17180259\n"
     ]
    },
    {
     "name": "stderr",
     "output_type": "stream",
     "text": [
      "                                                                                \r"
     ]
    },
    {
     "name": "stdout",
     "output_type": "stream",
     "text": [
      "2913 17180258\n"
     ]
    },
    {
     "name": "stderr",
     "output_type": "stream",
     "text": [
      "                                                                                \r"
     ]
    },
    {
     "name": "stdout",
     "output_type": "stream",
     "text": [
      "2914 17180257\n",
      "2915 17180256\n",
      "2916 17180255\n",
      "2917 17180254\n"
     ]
    },
    {
     "name": "stderr",
     "output_type": "stream",
     "text": [
      "                                                                                \r"
     ]
    },
    {
     "name": "stdout",
     "output_type": "stream",
     "text": [
      "2918 17180253\n"
     ]
    },
    {
     "name": "stderr",
     "output_type": "stream",
     "text": [
      "                                                                                \r"
     ]
    },
    {
     "name": "stdout",
     "output_type": "stream",
     "text": [
      "2919 17180252\n",
      "2920 17180251\n",
      "2921 17180250\n"
     ]
    },
    {
     "name": "stderr",
     "output_type": "stream",
     "text": [
      "                                                                                \r"
     ]
    },
    {
     "name": "stdout",
     "output_type": "stream",
     "text": [
      "2922 17180249\n"
     ]
    },
    {
     "name": "stderr",
     "output_type": "stream",
     "text": [
      "                                                                                \r"
     ]
    },
    {
     "name": "stdout",
     "output_type": "stream",
     "text": [
      "2923 17180248\n"
     ]
    },
    {
     "name": "stderr",
     "output_type": "stream",
     "text": [
      "                                                                                \r"
     ]
    },
    {
     "name": "stdout",
     "output_type": "stream",
     "text": [
      "2924 17180247\n"
     ]
    },
    {
     "name": "stderr",
     "output_type": "stream",
     "text": [
      "                                                                                \r"
     ]
    },
    {
     "name": "stdout",
     "output_type": "stream",
     "text": [
      "2925 17180246\n"
     ]
    },
    {
     "name": "stderr",
     "output_type": "stream",
     "text": [
      "                                                                                \r"
     ]
    },
    {
     "name": "stdout",
     "output_type": "stream",
     "text": [
      "2926 17180245\n",
      "2927 17180244\n",
      "2928 17180243\n",
      "2929 17180242\n",
      "2930 17180241\n",
      "2931 17180240\n",
      "2932 17180239\n",
      "2933 17180238\n",
      "2934 17180237\n",
      "2935 17180236\n",
      "2936 17180235\n",
      "2937 17180234\n",
      "2938 17180233\n",
      "2939 17180232\n",
      "2940 17180231\n",
      "2941 17180230\n",
      "2942 17180229\n",
      "2943 17180228\n",
      "2944 17180227\n",
      "2945 17180226\n"
     ]
    },
    {
     "name": "stderr",
     "output_type": "stream",
     "text": [
      "                                                                                \r"
     ]
    },
    {
     "name": "stdout",
     "output_type": "stream",
     "text": [
      "2946 17180225\n"
     ]
    },
    {
     "name": "stderr",
     "output_type": "stream",
     "text": [
      "                                                                                \r"
     ]
    },
    {
     "name": "stdout",
     "output_type": "stream",
     "text": [
      "2947 17180224\n",
      "2948 17180223\n"
     ]
    },
    {
     "name": "stderr",
     "output_type": "stream",
     "text": [
      "                                                                                \r"
     ]
    },
    {
     "name": "stdout",
     "output_type": "stream",
     "text": [
      "2949 17180222\n",
      "2950 17180221\n"
     ]
    },
    {
     "name": "stderr",
     "output_type": "stream",
     "text": [
      "                                                                                \r"
     ]
    },
    {
     "name": "stdout",
     "output_type": "stream",
     "text": [
      "2951 17180220\n",
      "2952 17180219\n",
      "2953 17180218\n",
      "2954 17180217\n",
      "2955 17180216\n",
      "2956 17180215\n",
      "2957 17180214\n",
      "2958 17180213\n",
      "2959 17180212\n",
      "2960 17180211\n",
      "2961 17180210\n"
     ]
    },
    {
     "name": "stderr",
     "output_type": "stream",
     "text": [
      "                                                                                \r"
     ]
    },
    {
     "name": "stdout",
     "output_type": "stream",
     "text": [
      "2962 17180209\n"
     ]
    },
    {
     "name": "stderr",
     "output_type": "stream",
     "text": [
      "                                                                                \r"
     ]
    },
    {
     "name": "stdout",
     "output_type": "stream",
     "text": [
      "2963 17180208\n"
     ]
    },
    {
     "name": "stderr",
     "output_type": "stream",
     "text": [
      "                                                                                \r"
     ]
    },
    {
     "name": "stdout",
     "output_type": "stream",
     "text": [
      "2964 17180207\n",
      "2965 17180206\n",
      "2966 17180205\n",
      "2967 17180204\n",
      "2968 17180203\n",
      "2969 17180202\n",
      "2970 17180201\n",
      "2971 17180200\n",
      "2972 17180199\n",
      "2973 17180198\n",
      "2974 17180197\n",
      "2975 17180196\n",
      "2976 17180195\n",
      "2977 17180194\n",
      "2978 17180193\n",
      "2979 17180192\n",
      "2980 17180191\n",
      "2981 17180190\n"
     ]
    },
    {
     "name": "stderr",
     "output_type": "stream",
     "text": [
      "                                                                                \r"
     ]
    },
    {
     "name": "stdout",
     "output_type": "stream",
     "text": [
      "2982 17180189\n",
      "2983 17180188\n",
      "2984 17180187\n",
      "2985 17180186\n"
     ]
    },
    {
     "name": "stderr",
     "output_type": "stream",
     "text": [
      "                                                                                \r"
     ]
    },
    {
     "name": "stdout",
     "output_type": "stream",
     "text": [
      "2986 17180185\n",
      "2987 17180184\n",
      "2988 17180183\n",
      "2989 17180182\n",
      "2990 17180181\n",
      "2991 17180180\n"
     ]
    },
    {
     "name": "stderr",
     "output_type": "stream",
     "text": [
      "                                                                                \r"
     ]
    },
    {
     "name": "stdout",
     "output_type": "stream",
     "text": [
      "2992 17180179\n",
      "2993 17180178\n",
      "2994 17180177\n"
     ]
    },
    {
     "name": "stderr",
     "output_type": "stream",
     "text": [
      "                                                                                \r"
     ]
    },
    {
     "name": "stdout",
     "output_type": "stream",
     "text": [
      "2995 17180176\n"
     ]
    },
    {
     "name": "stderr",
     "output_type": "stream",
     "text": [
      "                                                                                \r"
     ]
    },
    {
     "name": "stdout",
     "output_type": "stream",
     "text": [
      "2996 17180175\n",
      "2997 17180174\n",
      "2998 17180173\n"
     ]
    },
    {
     "name": "stderr",
     "output_type": "stream",
     "text": [
      "                                                                                \r"
     ]
    },
    {
     "name": "stdout",
     "output_type": "stream",
     "text": [
      "2999 17180172\n",
      "3000 17180171\n"
     ]
    },
    {
     "name": "stderr",
     "output_type": "stream",
     "text": [
      "                                                                                \r"
     ]
    },
    {
     "name": "stdout",
     "output_type": "stream",
     "text": [
      "3001 17180170\n"
     ]
    },
    {
     "name": "stderr",
     "output_type": "stream",
     "text": [
      "                                                                                \r"
     ]
    },
    {
     "name": "stdout",
     "output_type": "stream",
     "text": [
      "3002 17180169\n",
      "3003 17180168\n",
      "3004 17180167\n",
      "3005 17180166\n",
      "3006 17180165\n",
      "3007 17180164\n",
      "3008 17180163\n",
      "3009 17180162\n",
      "3010 17180161\n",
      "3011 17180160\n",
      "3012 17180159\n",
      "3013 17180158\n"
     ]
    },
    {
     "name": "stderr",
     "output_type": "stream",
     "text": [
      "                                                                                \r"
     ]
    },
    {
     "name": "stdout",
     "output_type": "stream",
     "text": [
      "3014 17180157\n",
      "3015 17180156\n",
      "3016 17180155\n",
      "3017 17180154\n",
      "3018 17180153\n",
      "3019 17180152\n"
     ]
    },
    {
     "name": "stderr",
     "output_type": "stream",
     "text": [
      "                                                                                \r"
     ]
    },
    {
     "name": "stdout",
     "output_type": "stream",
     "text": [
      "3020 17180151\n",
      "3021 17180150\n",
      "3022 17180149\n",
      "3023 17180148\n",
      "3024 17180147\n",
      "3025 17180146\n",
      "3026 17180145\n"
     ]
    },
    {
     "name": "stderr",
     "output_type": "stream",
     "text": [
      "                                                                                \r"
     ]
    },
    {
     "name": "stdout",
     "output_type": "stream",
     "text": [
      "3027 17180144\n"
     ]
    },
    {
     "name": "stderr",
     "output_type": "stream",
     "text": [
      "                                                                                \r"
     ]
    },
    {
     "name": "stdout",
     "output_type": "stream",
     "text": [
      "3028 17180143\n",
      "3029 17180142\n",
      "3030 17180141\n",
      "3031 17180140\n",
      "3032 17180139\n"
     ]
    },
    {
     "name": "stderr",
     "output_type": "stream",
     "text": [
      "                                                                                \r"
     ]
    },
    {
     "name": "stdout",
     "output_type": "stream",
     "text": [
      "3033 17180138\n",
      "3034 17180137\n"
     ]
    },
    {
     "name": "stderr",
     "output_type": "stream",
     "text": [
      "                                                                                \r"
     ]
    },
    {
     "name": "stdout",
     "output_type": "stream",
     "text": [
      "3035 17180136\n"
     ]
    },
    {
     "name": "stderr",
     "output_type": "stream",
     "text": [
      "                                                                                \r"
     ]
    },
    {
     "name": "stdout",
     "output_type": "stream",
     "text": [
      "3036 17180135\n",
      "3037 17180134\n",
      "3038 17180133\n",
      "3039 17180132\n",
      "3040 17180131\n",
      "3041 17180130\n",
      "3042 17180129\n",
      "3043 17180128\n"
     ]
    },
    {
     "name": "stderr",
     "output_type": "stream",
     "text": [
      "                                                                                \r"
     ]
    },
    {
     "name": "stdout",
     "output_type": "stream",
     "text": [
      "3044 17180127\n",
      "3045 17180126\n",
      "3046 17180125\n",
      "3047 17180124\n",
      "3048 17180123\n",
      "3049 17180122\n",
      "3050 17180121\n",
      "3051 17180120\n",
      "3052 17180119\n",
      "3053 17180118\n"
     ]
    },
    {
     "name": "stderr",
     "output_type": "stream",
     "text": [
      "                                                                                \r"
     ]
    },
    {
     "name": "stdout",
     "output_type": "stream",
     "text": [
      "3054 17180117\n"
     ]
    },
    {
     "name": "stderr",
     "output_type": "stream",
     "text": [
      "                                                                                \r"
     ]
    },
    {
     "name": "stdout",
     "output_type": "stream",
     "text": [
      "3055 17180116\n",
      "3056 17180115\n"
     ]
    },
    {
     "name": "stderr",
     "output_type": "stream",
     "text": [
      "                                                                                \r"
     ]
    },
    {
     "name": "stdout",
     "output_type": "stream",
     "text": [
      "3057 17180114\n",
      "3058 17180113\n",
      "3059 17180112\n",
      "3060 17180111\n"
     ]
    },
    {
     "name": "stderr",
     "output_type": "stream",
     "text": [
      "                                                                                \r"
     ]
    },
    {
     "name": "stdout",
     "output_type": "stream",
     "text": [
      "3061 17180110\n"
     ]
    },
    {
     "name": "stderr",
     "output_type": "stream",
     "text": [
      "                                                                                \r"
     ]
    },
    {
     "name": "stdout",
     "output_type": "stream",
     "text": [
      "3062 17180109\n"
     ]
    },
    {
     "name": "stderr",
     "output_type": "stream",
     "text": [
      "                                                                                \r"
     ]
    },
    {
     "name": "stdout",
     "output_type": "stream",
     "text": [
      "3063 17180108\n",
      "3064 17180107\n",
      "3065 17180106\n",
      "3066 17180105\n",
      "3067 17180104\n",
      "3068 17180103\n",
      "3069 17180102\n",
      "3070 17180101\n",
      "3071 17180100\n",
      "3072 17180099\n",
      "3073 17180098\n",
      "3074 17180097\n",
      "3075 17180096\n",
      "3076 17180095\n",
      "3077 17180094\n",
      "3078 17180093\n"
     ]
    },
    {
     "name": "stderr",
     "output_type": "stream",
     "text": [
      "                                                                                \r"
     ]
    },
    {
     "name": "stdout",
     "output_type": "stream",
     "text": [
      "3079 17180092\n"
     ]
    },
    {
     "name": "stderr",
     "output_type": "stream",
     "text": [
      "                                                                                \r"
     ]
    },
    {
     "name": "stdout",
     "output_type": "stream",
     "text": [
      "3080 17180091\n",
      "3081 17180090\n",
      "3082 17180089\n",
      "3083 17180088\n",
      "3084 17180087\n",
      "3085 17180086\n",
      "3086 17180085\n",
      "3087 17180084\n",
      "3088 17180083\n",
      "3089 17180082\n"
     ]
    },
    {
     "name": "stderr",
     "output_type": "stream",
     "text": [
      "                                                                                \r"
     ]
    },
    {
     "name": "stdout",
     "output_type": "stream",
     "text": [
      "3090 17180081\n",
      "3091 17180080\n",
      "3092 17180079\n",
      "3093 17180078\n",
      "3094 17180077\n",
      "3095 17180076\n",
      "3096 17180075\n",
      "3097 17180074\n",
      "3098 17180073\n",
      "3099 17180072\n",
      "3100 17180071\n",
      "3101 17180070\n",
      "3102 17180069\n",
      "3103 17180068\n",
      "3104 17180067\n",
      "3105 17180066\n",
      "3106 17180065\n",
      "3107 17180064\n",
      "3108 17180063\n",
      "3109 17180062\n",
      "3110 17180061\n",
      "3111 17180060\n",
      "3112 17180059\n",
      "3113 17180058\n"
     ]
    },
    {
     "name": "stderr",
     "output_type": "stream",
     "text": [
      "                                                                                \r"
     ]
    },
    {
     "name": "stdout",
     "output_type": "stream",
     "text": [
      "3114 17180057\n",
      "3115 17180056\n",
      "3116 17180055\n",
      "3117 17180054\n",
      "3118 17180053\n",
      "3119 17180052\n",
      "3120 17180051\n",
      "3121 17180050\n",
      "3122 17180049\n",
      "3123 17180048\n",
      "3124 17180047\n",
      "3125 17180046\n",
      "3126 17180045\n",
      "3127 17180044\n",
      "3128 17180043\n",
      "3129 17180042\n",
      "3130 17180041\n",
      "3131 17180040\n",
      "3132 17180039\n",
      "3133 17180038\n",
      "3134 17180037\n",
      "3135 17180036\n",
      "3136 17180035\n",
      "3137 17180034\n",
      "3138 17180033\n",
      "3139 17180032\n",
      "3140 17180031\n"
     ]
    },
    {
     "name": "stderr",
     "output_type": "stream",
     "text": [
      "                                                                                \r"
     ]
    },
    {
     "name": "stdout",
     "output_type": "stream",
     "text": [
      "3141 17180030\n",
      "3142 17180029\n",
      "3143 17180028\n"
     ]
    },
    {
     "name": "stderr",
     "output_type": "stream",
     "text": [
      "                                                                                \r"
     ]
    },
    {
     "name": "stdout",
     "output_type": "stream",
     "text": [
      "3144 17180027\n",
      "3145 17180026\n",
      "3146 17180025\n",
      "3147 17180024\n",
      "3148 17180023\n",
      "3149 17180022\n",
      "3150 17180021\n",
      "3151 17180020\n",
      "3152 17180019\n",
      "3153 17180018\n",
      "3154 17180017\n",
      "3155 17180016\n",
      "3156 17180015\n",
      "3157 17180014\n",
      "3158 17180013\n",
      "3159 17180012\n",
      "3160 17180011\n",
      "3161 17180010\n",
      "3162 17180009\n",
      "3163 17180008\n",
      "3164 17180007\n",
      "3165 17180006\n",
      "3166 17180005\n",
      "3167 17180004\n"
     ]
    },
    {
     "name": "stderr",
     "output_type": "stream",
     "text": [
      "                                                                                \r"
     ]
    },
    {
     "name": "stdout",
     "output_type": "stream",
     "text": [
      "3168 17180003\n",
      "3169 17180002\n"
     ]
    },
    {
     "name": "stderr",
     "output_type": "stream",
     "text": [
      "                                                                                \r"
     ]
    },
    {
     "name": "stdout",
     "output_type": "stream",
     "text": [
      "3170 17180001\n",
      "3171 17180000\n",
      "3172 17179999\n",
      "3173 17179998\n",
      "3174 17179997\n",
      "3175 17179996\n",
      "3176 17179995\n",
      "3177 17179994\n",
      "3178 17179993\n",
      "3179 17179992\n",
      "3180 17179991\n",
      "3181 17179990\n",
      "3182 17179989\n",
      "3183 17179988\n",
      "3184 17179987\n",
      "3185 17179986\n",
      "3186 17179985\n",
      "3187 17179984\n",
      "3188 17179983\n",
      "3189 17179982\n",
      "3190 17179981\n",
      "3191 17179980\n",
      "3192 17179979\n",
      "3193 17179978\n",
      "3194 17179977\n",
      "3195 17179976\n",
      "3196 17179975\n",
      "3197 17179974\n",
      "3198 17179973\n",
      "3199 17179972\n",
      "3200 17179971\n",
      "3201 17179970\n",
      "3202 17179969\n",
      "3203 17179968\n",
      "3204 17179967\n",
      "3205 17179966\n",
      "3206 17179965\n",
      "3207 17179964\n",
      "3208 17179963\n",
      "3209 17179962\n",
      "3210 17179961\n",
      "3211 17179960\n",
      "3212 17179959\n",
      "3213 17179958\n",
      "3214 17179957\n",
      "3215 17179956\n",
      "3216 17179955\n",
      "3217 17179954\n",
      "3218 17179953\n"
     ]
    },
    {
     "name": "stderr",
     "output_type": "stream",
     "text": [
      "                                                                                \r"
     ]
    },
    {
     "name": "stdout",
     "output_type": "stream",
     "text": [
      "3219 17179952\n",
      "3220 17179951\n",
      "3221 17179950\n",
      "3222 17179949\n",
      "3223 17179948\n",
      "3224 17179947\n",
      "3225 17179946\n",
      "3226 17179945\n",
      "3227 17179944\n"
     ]
    },
    {
     "name": "stderr",
     "output_type": "stream",
     "text": [
      "                                                                                \r"
     ]
    },
    {
     "name": "stdout",
     "output_type": "stream",
     "text": [
      "3228 17179943\n",
      "3229 17179942\n"
     ]
    },
    {
     "name": "stderr",
     "output_type": "stream",
     "text": [
      "                                                                                \r"
     ]
    },
    {
     "name": "stdout",
     "output_type": "stream",
     "text": [
      "3230 17179941\n"
     ]
    },
    {
     "name": "stderr",
     "output_type": "stream",
     "text": [
      "                                                                                \r"
     ]
    },
    {
     "name": "stdout",
     "output_type": "stream",
     "text": [
      "3231 17179940\n"
     ]
    },
    {
     "name": "stderr",
     "output_type": "stream",
     "text": [
      "                                                                                \r"
     ]
    },
    {
     "name": "stdout",
     "output_type": "stream",
     "text": [
      "3232 17179939\n"
     ]
    },
    {
     "name": "stderr",
     "output_type": "stream",
     "text": [
      "                                                                                \r"
     ]
    },
    {
     "name": "stdout",
     "output_type": "stream",
     "text": [
      "3233 17179938\n",
      "3234 17179937\n"
     ]
    },
    {
     "name": "stderr",
     "output_type": "stream",
     "text": [
      "                                                                                \r"
     ]
    },
    {
     "name": "stdout",
     "output_type": "stream",
     "text": [
      "3235 17179936\n"
     ]
    },
    {
     "name": "stderr",
     "output_type": "stream",
     "text": [
      "                                                                                \r"
     ]
    },
    {
     "name": "stdout",
     "output_type": "stream",
     "text": [
      "3236 17179935\n",
      "3237 17179934\n",
      "3238 17179933\n",
      "3239 17179932\n",
      "3240 17179931\n",
      "3241 17179930\n",
      "3242 17179929\n",
      "3243 17179928\n",
      "3244 17179927\n",
      "3245 17179926\n",
      "3246 17179925\n",
      "3247 17179924\n",
      "3248 17179923\n",
      "3249 17179922\n",
      "3250 17179921\n",
      "3251 17179920\n",
      "3252 17179919\n",
      "3253 17179918\n",
      "3254 17179917\n",
      "3255 17179916\n",
      "3256 17179915\n",
      "3257 17179914\n",
      "3258 17179913\n"
     ]
    },
    {
     "name": "stderr",
     "output_type": "stream",
     "text": [
      "                                                                                \r"
     ]
    },
    {
     "name": "stdout",
     "output_type": "stream",
     "text": [
      "3259 17179912\n",
      "3260 17179911\n"
     ]
    },
    {
     "name": "stderr",
     "output_type": "stream",
     "text": [
      "                                                                                \r"
     ]
    },
    {
     "name": "stdout",
     "output_type": "stream",
     "text": [
      "3261 17179910\n",
      "3262 17179909\n",
      "3263 17179908\n",
      "3264 17179907\n",
      "3265 17179906\n",
      "3266 17179905\n",
      "3267 17179904\n",
      "3268 17179903\n",
      "3269 17179902\n",
      "3270 17179901\n",
      "3271 17179900\n"
     ]
    },
    {
     "name": "stderr",
     "output_type": "stream",
     "text": [
      "                                                                                \r"
     ]
    },
    {
     "name": "stdout",
     "output_type": "stream",
     "text": [
      "3272 17179899\n",
      "3273 17179898\n",
      "3274 17179897\n",
      "3275 17179896\n",
      "3276 17179895\n"
     ]
    },
    {
     "name": "stderr",
     "output_type": "stream",
     "text": [
      "                                                                                \r"
     ]
    },
    {
     "name": "stdout",
     "output_type": "stream",
     "text": [
      "3277 17179894\n"
     ]
    },
    {
     "name": "stderr",
     "output_type": "stream",
     "text": [
      "                                                                                \r"
     ]
    },
    {
     "name": "stdout",
     "output_type": "stream",
     "text": [
      "3278 17179893\n"
     ]
    },
    {
     "name": "stderr",
     "output_type": "stream",
     "text": [
      "                                                                                \r"
     ]
    },
    {
     "name": "stdout",
     "output_type": "stream",
     "text": [
      "3279 17179892\n"
     ]
    },
    {
     "name": "stderr",
     "output_type": "stream",
     "text": [
      "                                                                                \r"
     ]
    },
    {
     "name": "stdout",
     "output_type": "stream",
     "text": [
      "3280 17179891\n"
     ]
    },
    {
     "name": "stderr",
     "output_type": "stream",
     "text": [
      "                                                                                \r"
     ]
    },
    {
     "name": "stdout",
     "output_type": "stream",
     "text": [
      "3281 17179890\n",
      "3282 17179889\n",
      "3283 17179888\n",
      "3284 17179887\n",
      "3285 17179886\n",
      "3286 17179885\n",
      "3287 17179884\n",
      "3288 17179883\n",
      "3289 17179882\n",
      "3290 17179881\n",
      "3291 17179880\n",
      "3292 17179879\n",
      "3293 17179878\n",
      "3294 17179877\n",
      "3295 17179876\n",
      "3296 17179875\n",
      "3297 17179874\n",
      "3298 17179873\n",
      "3299 17179872\n",
      "3300 17179871\n"
     ]
    },
    {
     "name": "stderr",
     "output_type": "stream",
     "text": [
      "                                                                                \r"
     ]
    },
    {
     "name": "stdout",
     "output_type": "stream",
     "text": [
      "3301 17179870\n",
      "3302 17179869\n",
      "3303 8590478\n",
      "3304 8590477\n",
      "3305 8590476\n",
      "3306 8590475\n",
      "3307 8590474\n",
      "3308 8590473\n",
      "3309 8590472\n",
      "3310 8590471\n",
      "3311 8590470\n",
      "3312 8590469\n",
      "3313 8590468\n",
      "3314 8590467\n",
      "3315 8590466\n",
      "3316 8590465\n",
      "3317 8590464\n",
      "3318 8590463\n",
      "3319 8590462\n",
      "3320 8590461\n",
      "3321 8590460\n",
      "3322 8590459\n",
      "3323 8590458\n",
      "3324 8590457\n",
      "3325 8590456\n",
      "3326 8590455\n",
      "3327 8590454\n",
      "3328 8590453\n",
      "3329 8590452\n",
      "3330 8590451\n",
      "3331 8590450\n",
      "3332 8590449\n",
      "3333 8590448\n",
      "3334 8590447\n",
      "3335 8590446\n",
      "3336 8590445\n",
      "3337 8590444\n",
      "3338 8590443\n",
      "3339 8590442\n",
      "3340 8590441\n",
      "3341 8590440\n",
      "3342 8590439\n",
      "3343 8590438\n",
      "3344 8590437\n",
      "3345 8590436\n",
      "3346 8590435\n",
      "3347 8590434\n",
      "3348 8590433\n",
      "3349 8590432\n",
      "3350 8590431\n",
      "3351 8590430\n",
      "3352 8590429\n",
      "3353 8590428\n",
      "3354 8590427\n",
      "3355 8590426\n",
      "3356 8590425\n",
      "3357 8590424\n",
      "3358 8590423\n",
      "3359 8590422\n",
      "3360 8590421\n",
      "3361 8590420\n",
      "3362 8590419\n",
      "3363 8590418\n"
     ]
    },
    {
     "name": "stderr",
     "output_type": "stream",
     "text": [
      "                                                                                \r"
     ]
    },
    {
     "name": "stdout",
     "output_type": "stream",
     "text": [
      "3364 8590417\n",
      "3365 8590416\n",
      "3366 8590415\n",
      "3367 8590414\n",
      "3368 8590413\n",
      "3369 8590412\n",
      "3370 8590411\n",
      "3371 8590410\n",
      "3372 8590409\n",
      "3373 8590408\n",
      "3374 8590407\n",
      "3375 8590406\n",
      "3376 8590405\n",
      "3377 8590404\n",
      "3378 8590403\n",
      "3379 8590402\n",
      "3380 8590401\n",
      "3381 8590400\n",
      "3382 8590399\n",
      "3383 8590398\n",
      "3384 8590397\n",
      "3385 8590396\n",
      "3386 8590395\n",
      "3387 8590394\n",
      "3388 8590393\n",
      "3389 8590392\n",
      "3390 8590391\n",
      "3391 8590390\n",
      "3392 8590389\n",
      "3393 8590388\n",
      "3394 8590387\n",
      "3395 8590386\n",
      "3396 8590385\n",
      "3397 8590384\n",
      "3398 8590383\n",
      "3399 8590382\n",
      "3400 8590381\n",
      "3401 8590380\n",
      "3402 8590379\n",
      "3403 8590378\n",
      "3404 8590377\n",
      "3405 8590376\n",
      "3406 8590375\n",
      "3407 8590374\n",
      "3408 8590373\n",
      "3409 8590372\n",
      "3410 8590371\n",
      "3411 8590370\n",
      "3412 8590369\n",
      "3413 8590368\n",
      "3414 8590367\n",
      "3415 8590366\n",
      "3416 8590365\n",
      "3417 8590364\n",
      "3418 8590363\n",
      "3419 8590362\n",
      "3420 8590361\n",
      "3421 8590360\n",
      "3422 8590359\n",
      "3423 8590358\n",
      "3424 8590357\n",
      "3425 8590356\n",
      "3426 8590355\n",
      "3427 8590354\n",
      "3428 8590353\n",
      "3429 8590352\n",
      "3430 8590351\n",
      "3431 8590350\n",
      "3432 8590349\n",
      "3433 8590348\n",
      "3434 8590347\n",
      "3435 8590346\n",
      "3436 8590345\n",
      "3437 8590344\n",
      "3438 8590343\n",
      "3439 8590342\n",
      "3440 8590341\n",
      "3441 8590340\n",
      "3442 8590339\n",
      "3443 8590338\n",
      "3444 8590337\n",
      "3445 8590336\n",
      "3446 8590335\n",
      "3447 8590334\n",
      "3448 8590333\n",
      "3449 8590332\n",
      "3450 8590331\n",
      "3451 8590330\n",
      "3452 8590329\n",
      "3453 8590328\n",
      "3454 8590327\n",
      "3455 8590326\n",
      "3456 8590325\n",
      "3457 8590324\n",
      "3458 8590323\n",
      "3459 8590322\n",
      "3460 8590321\n",
      "3461 8590320\n",
      "3462 8590319\n",
      "3463 8590318\n",
      "3464 8590317\n",
      "3465 8590316\n",
      "3466 8590315\n",
      "3467 8590314\n",
      "3468 8590313\n",
      "3469 8590312\n",
      "3470 8590311\n",
      "3471 8590310\n",
      "3472 8590309\n",
      "3473 8590308\n",
      "3474 8590307\n",
      "3475 8590306\n",
      "3476 8590305\n",
      "3477 8590304\n",
      "3478 8590303\n",
      "3479 8590302\n",
      "3480 8590301\n",
      "3481 8590300\n",
      "3482 8590299\n",
      "3483 8590298\n",
      "3484 8590297\n",
      "3485 8590296\n",
      "3486 8590295\n",
      "3487 8590294\n",
      "3488 8590293\n",
      "3489 8590292\n",
      "3490 8590291\n",
      "3491 8590290\n",
      "3492 8590289\n",
      "3493 8590288\n",
      "3494 8590287\n",
      "3495 8590286\n",
      "3496 8590285\n",
      "3497 8590284\n",
      "3498 8590283\n",
      "3499 8590282\n",
      "3500 8590281\n",
      "3501 8590280\n",
      "3502 8590279\n",
      "3503 8590278\n",
      "3504 8590277\n",
      "3505 8590276\n",
      "3506 8590275\n",
      "3507 8590274\n",
      "3508 8590273\n",
      "3509 8590272\n",
      "3510 8590271\n",
      "3511 8590270\n",
      "3512 8590269\n",
      "3513 8590268\n",
      "3514 8590267\n",
      "3515 8590266\n",
      "3516 8590265\n",
      "3517 8590264\n",
      "3518 8590263\n",
      "3519 8590262\n",
      "3520 8590261\n",
      "3521 8590260\n",
      "3522 8590259\n",
      "3523 8590258\n",
      "3524 8590257\n",
      "3525 8590256\n",
      "3526 8590255\n",
      "3527 8590254\n",
      "3528 8590253\n",
      "3529 8590252\n",
      "3530 8590251\n",
      "3531 8590250\n",
      "3532 8590249\n",
      "3533 8590248\n",
      "3534 8590247\n",
      "3535 8590246\n",
      "3536 8590245\n",
      "3537 8590244\n",
      "3538 8590243\n",
      "3539 8590242\n",
      "3540 8590241\n",
      "3541 8590240\n",
      "3542 8590239\n",
      "3543 8590238\n",
      "3544 8590237\n",
      "3545 8590236\n",
      "3546 8590235\n",
      "3547 8590234\n",
      "3548 8590233\n",
      "3549 8590232\n",
      "3550 8590231\n",
      "3551 8590230\n",
      "3552 8590229\n",
      "3553 8590228\n",
      "3554 8590227\n",
      "3555 8590226\n",
      "3556 8590225\n",
      "3557 8590224\n",
      "3558 8590223\n",
      "3559 8590222\n",
      "3560 8590221\n",
      "3561 8590220\n",
      "3562 8590219\n",
      "3563 8590218\n",
      "3564 8590217\n",
      "3565 8590216\n",
      "3566 8590215\n",
      "3567 8590214\n",
      "3568 8590213\n",
      "3569 8590212\n",
      "3570 8590211\n",
      "3571 8590210\n",
      "3572 8590209\n",
      "3573 8590208\n",
      "3574 8590207\n",
      "3575 8590206\n",
      "3576 8590205\n",
      "3577 8590204\n",
      "3578 8590203\n",
      "3579 8590202\n",
      "3580 8590201\n",
      "3581 8590200\n",
      "3582 8590199\n",
      "3583 8590198\n",
      "3584 8590197\n",
      "3585 8590196\n",
      "3586 8590195\n",
      "3587 8590194\n",
      "3588 8590193\n",
      "3589 8590192\n",
      "3590 8590191\n",
      "3591 8590190\n",
      "3592 8590189\n",
      "3593 8590188\n",
      "3594 8590187\n",
      "3595 8590186\n",
      "3596 8590185\n",
      "3597 8590184\n",
      "3598 8590183\n",
      "3599 8590182\n",
      "3600 8590181\n",
      "3601 8590180\n",
      "3602 8590179\n",
      "3603 8590178\n",
      "3604 8590177\n",
      "3605 8590176\n",
      "3606 8590175\n",
      "3607 8590174\n",
      "3608 8590173\n",
      "3609 8590172\n",
      "3610 8590171\n",
      "3611 8590170\n",
      "3612 8590169\n",
      "3613 8590168\n",
      "3614 8590167\n",
      "3615 8590166\n",
      "3616 8590165\n",
      "3617 8590164\n",
      "3618 8590163\n",
      "3619 8590162\n",
      "3620 8590161\n",
      "3621 8590160\n",
      "3622 8590159\n",
      "3623 8590158\n",
      "3624 8590157\n",
      "3625 8590156\n",
      "3626 8590155\n",
      "3627 8590154\n",
      "3628 8590153\n",
      "3629 8590152\n",
      "3630 8590151\n",
      "3631 8590150\n",
      "3632 8590149\n",
      "3633 8590148\n",
      "3634 8590147\n",
      "3635 8590146\n",
      "3636 8590145\n",
      "3637 8590144\n",
      "3638 8590143\n",
      "3639 8590142\n",
      "3640 8590141\n",
      "3641 8590140\n",
      "3642 8590139\n",
      "3643 8590138\n",
      "3644 8590137\n",
      "3645 8590136\n",
      "3646 8590135\n",
      "3647 8590134\n",
      "3648 8590133\n",
      "3649 8590132\n",
      "3650 8590131\n",
      "3651 8590130\n",
      "3652 8590129\n",
      "3653 8590128\n",
      "3654 8590127\n",
      "3655 8590126\n",
      "3656 8590125\n",
      "3657 8590124\n",
      "3658 8590123\n",
      "3659 8590122\n",
      "3660 8590121\n",
      "3661 8590120\n",
      "3662 8590119\n",
      "3663 8590118\n",
      "3664 8590117\n",
      "3665 8590116\n",
      "3666 8590115\n",
      "3667 8590114\n",
      "3668 8590113\n",
      "3669 8590112\n",
      "3670 8590111\n",
      "3671 8590110\n",
      "3672 8590109\n",
      "3673 8590108\n",
      "3674 8590107\n",
      "3675 8590106\n",
      "3676 8590105\n",
      "3677 8590104\n",
      "3678 8590103\n",
      "3679 8590102\n",
      "3680 8590101\n",
      "3681 8590100\n",
      "3682 8590099\n",
      "3683 8590098\n",
      "3684 8590097\n",
      "3685 8590096\n",
      "3686 8590095\n",
      "3687 8590094\n",
      "3688 8590093\n",
      "3689 8590092\n",
      "3690 8590091\n",
      "3691 8590090\n",
      "3692 8590089\n",
      "3693 8590088\n",
      "3694 8590087\n",
      "3695 8590086\n",
      "3696 8590085\n",
      "3697 8590084\n",
      "3698 8590083\n",
      "3699 8590082\n",
      "3700 8590081\n",
      "3701 8590080\n",
      "3702 8590079\n",
      "3703 8590078\n",
      "3704 8590077\n",
      "3705 8590076\n",
      "3706 8590075\n",
      "3707 8590074\n",
      "3708 8590073\n",
      "3709 8590072\n",
      "3710 8590071\n",
      "3711 8590070\n",
      "3712 8590069\n",
      "3713 8590068\n",
      "3714 8590067\n",
      "3715 8590066\n",
      "3716 8590065\n",
      "3717 8590064\n",
      "3718 8590063\n",
      "3719 8590062\n",
      "3720 8590061\n",
      "3721 8590060\n",
      "3722 8590059\n",
      "3723 8590058\n",
      "3724 8590057\n",
      "3725 8590056\n",
      "3726 8590055\n",
      "3727 8590054\n",
      "3728 8590053\n",
      "3729 8590052\n",
      "3730 8590051\n",
      "3731 8590050\n",
      "3732 8590049\n",
      "3733 8590048\n",
      "3734 8590047\n",
      "3735 8590046\n",
      "3736 8590045\n",
      "3737 8590044\n",
      "3738 8590043\n",
      "3739 8590042\n",
      "3740 8590041\n",
      "3741 8590040\n",
      "3742 8590039\n",
      "3743 8590038\n",
      "3744 8590037\n",
      "3745 8590036\n",
      "3746 8590035\n",
      "3747 8590034\n",
      "3748 8590033\n",
      "3749 8590032\n",
      "3750 8590031\n",
      "3751 8590030\n",
      "3752 8590029\n",
      "3753 8590028\n",
      "3754 8590027\n",
      "3755 8590026\n",
      "3756 8590025\n",
      "3757 8590024\n",
      "3758 8590023\n",
      "3759 8590022\n",
      "3760 8590021\n",
      "3761 8590020\n",
      "3762 8590019\n",
      "3763 8590018\n",
      "3764 8590017\n",
      "3765 8590016\n",
      "3766 8590015\n",
      "3767 8590014\n",
      "3768 8590013\n",
      "3769 8590012\n",
      "3770 8590011\n",
      "3771 8590010\n"
     ]
    },
    {
     "name": "stderr",
     "output_type": "stream",
     "text": [
      "                                                                                \r"
     ]
    },
    {
     "name": "stdout",
     "output_type": "stream",
     "text": [
      "3772 8590009\n",
      "3773 8590008\n",
      "3774 8590007\n",
      "3775 8590006\n",
      "3776 8590005\n",
      "3777 8590004\n",
      "3778 8590003\n",
      "3779 8590002\n",
      "3780 8590001\n",
      "3781 8590000\n",
      "3782 8589999\n",
      "3783 8589998\n",
      "3784 8589997\n",
      "3785 8589996\n",
      "3786 8589995\n",
      "3787 8589994\n",
      "3788 8589993\n",
      "3789 8589992\n",
      "3790 8589991\n"
     ]
    },
    {
     "name": "stderr",
     "output_type": "stream",
     "text": [
      "                                                                                \r"
     ]
    },
    {
     "name": "stdout",
     "output_type": "stream",
     "text": [
      "3791 8589990\n",
      "3792 8589989\n",
      "3793 8589988\n",
      "3794 8589987\n",
      "3795 8589986\n",
      "3796 8589985\n",
      "3797 8589984\n",
      "3798 8589983\n",
      "3799 8589982\n",
      "3800 8589981\n",
      "3801 8589980\n"
     ]
    },
    {
     "name": "stderr",
     "output_type": "stream",
     "text": [
      "                                                                                \r"
     ]
    },
    {
     "name": "stdout",
     "output_type": "stream",
     "text": [
      "3802 8589979\n",
      "3803 8589978\n",
      "3804 8589977\n",
      "3805 8589976\n",
      "3806 8589975\n",
      "3807 8589974\n",
      "3808 8589973\n",
      "3809 8589972\n",
      "3810 8589971\n",
      "3811 8589970\n",
      "3812 8589969\n"
     ]
    },
    {
     "name": "stderr",
     "output_type": "stream",
     "text": [
      "                                                                                \r"
     ]
    },
    {
     "name": "stdout",
     "output_type": "stream",
     "text": [
      "3813 8589968\n",
      "3814 8589967\n",
      "3815 8589966\n",
      "3816 8589965\n",
      "3817 8589964\n",
      "3818 8589963\n",
      "3819 8589962\n",
      "3820 8589961\n",
      "3821 8589960\n",
      "3822 8589959\n"
     ]
    },
    {
     "name": "stderr",
     "output_type": "stream",
     "text": [
      "                                                                                \r"
     ]
    },
    {
     "name": "stdout",
     "output_type": "stream",
     "text": [
      "3823 8589958\n",
      "3824 8589957\n",
      "3825 8589956\n",
      "3826 8589955\n",
      "3827 8589954\n",
      "3828 8589953\n",
      "3829 8589952\n",
      "3830 8589951\n",
      "3831 8589950\n",
      "3832 8589949\n",
      "3833 8589948\n",
      "3834 8589947\n",
      "3835 8589946\n",
      "3836 8589945\n",
      "3837 8589944\n",
      "3838 8589943\n",
      "3839 8589942\n",
      "3840 8589941\n",
      "3841 8589940\n",
      "3842 8589939\n",
      "3843 8589938\n",
      "3844 8589937\n",
      "3845 8589936\n",
      "3846 8589935\n",
      "3847 8589934\n",
      "3848 541\n",
      "3849 540\n",
      "3850 539\n",
      "3851 538\n",
      "3852 537\n",
      "3853 536\n",
      "3854 535\n",
      "3855 534\n",
      "3856 533\n",
      "3857 532\n",
      "3858 531\n",
      "3859 530\n",
      "3860 529\n",
      "3861 528\n",
      "3862 527\n",
      "3863 526\n",
      "3864 525\n",
      "3865 524\n",
      "3866 523\n",
      "3867 522\n",
      "3868 521\n",
      "3869 520\n",
      "3870 519\n",
      "3871 518\n",
      "3872 517\n",
      "3873 516\n",
      "3874 515\n",
      "3875 514\n",
      "3876 513\n",
      "3877 512\n",
      "3878 511\n",
      "3879 510\n",
      "3880 509\n",
      "3881 508\n",
      "3882 507\n",
      "3883 506\n",
      "3884 505\n",
      "3885 504\n",
      "3886 503\n",
      "3887 502\n",
      "3888 501\n",
      "3889 500\n",
      "3890 499\n",
      "3891 498\n",
      "3892 497\n",
      "3893 496\n",
      "3894 495\n",
      "3895 494\n",
      "3896 493\n",
      "3897 492\n",
      "3898 491\n",
      "3899 490\n",
      "3900 489\n",
      "3901 488\n",
      "3902 487\n",
      "3903 486\n",
      "3904 485\n",
      "3905 484\n",
      "3906 483\n",
      "3907 482\n",
      "3908 481\n",
      "3909 480\n",
      "3910 479\n",
      "3911 478\n",
      "3912 477\n",
      "3913 476\n",
      "3914 475\n",
      "3915 474\n",
      "3916 473\n",
      "3917 472\n",
      "3918 471\n",
      "3919 470\n",
      "3920 469\n",
      "3921 468\n",
      "3922 467\n",
      "3923 466\n",
      "3924 465\n",
      "3925 464\n",
      "3926 463\n",
      "3927 462\n",
      "3928 461\n",
      "3929 460\n",
      "3930 459\n",
      "3931 458\n",
      "3932 457\n",
      "3933 456\n",
      "3934 455\n",
      "3935 454\n",
      "3936 453\n"
     ]
    },
    {
     "name": "stderr",
     "output_type": "stream",
     "text": [
      "                                                                                \r"
     ]
    },
    {
     "name": "stdout",
     "output_type": "stream",
     "text": [
      "3937 452\n",
      "3938 451\n",
      "3939 450\n",
      "3940 449\n",
      "3941 448\n",
      "3942 447\n",
      "3943 446\n",
      "3944 445\n",
      "3945 444\n",
      "3946 443\n",
      "3947 442\n",
      "3948 441\n",
      "3949 440\n",
      "3950 439\n",
      "3951 438\n",
      "3952 437\n",
      "3953 436\n",
      "3954 435\n",
      "3955 434\n",
      "3956 433\n",
      "3957 432\n",
      "3958 431\n",
      "3959 430\n",
      "3960 429\n",
      "3961 428\n",
      "3962 427\n",
      "3963 426\n",
      "3964 425\n",
      "3965 424\n",
      "3966 423\n",
      "3967 422\n",
      "3968 421\n",
      "3969 420\n",
      "3970 419\n",
      "3971 418\n",
      "3972 417\n",
      "3973 416\n",
      "3974 415\n",
      "3975 414\n",
      "3976 413\n",
      "3977 412\n",
      "3978 411\n",
      "3979 410\n",
      "3980 409\n",
      "3981 408\n",
      "3982 407\n",
      "3983 406\n",
      "3984 405\n",
      "3985 404\n",
      "3986 403\n",
      "3987 402\n",
      "3988 401\n",
      "3989 400\n",
      "3990 399\n",
      "3991 398\n",
      "3992 397\n",
      "3993 396\n",
      "3994 395\n",
      "3995 394\n",
      "3996 393\n",
      "3997 392\n",
      "3998 391\n",
      "3999 390\n",
      "4000 389\n",
      "4001 388\n",
      "4002 387\n",
      "4003 386\n",
      "4004 385\n",
      "4005 384\n",
      "4006 383\n",
      "4007 382\n",
      "4008 381\n",
      "4009 380\n",
      "4010 379\n",
      "4011 378\n",
      "4012 377\n",
      "4013 376\n",
      "4014 375\n",
      "4015 374\n",
      "4016 373\n",
      "4017 372\n",
      "4018 371\n",
      "4019 370\n",
      "4020 369\n",
      "4021 368\n",
      "4022 367\n",
      "4023 366\n",
      "4024 365\n",
      "4025 364\n",
      "4026 363\n",
      "4027 362\n",
      "4028 361\n",
      "4029 360\n",
      "4030 359\n",
      "4031 358\n",
      "4032 357\n",
      "4033 356\n",
      "4034 355\n",
      "4035 354\n",
      "4036 353\n",
      "4037 352\n",
      "4038 351\n",
      "4039 350\n",
      "4040 349\n",
      "4041 348\n",
      "4042 347\n",
      "4043 346\n",
      "4044 345\n",
      "4045 344\n",
      "4046 343\n",
      "4047 342\n",
      "4048 341\n",
      "4049 340\n",
      "4050 339\n",
      "4051 338\n",
      "4052 337\n",
      "4053 336\n",
      "4054 335\n",
      "4055 334\n",
      "4056 333\n",
      "4057 332\n",
      "4058 331\n",
      "4059 330\n",
      "4060 329\n",
      "4061 328\n",
      "4062 327\n",
      "4063 326\n",
      "4064 325\n",
      "4065 324\n",
      "4066 323\n",
      "4067 322\n",
      "4068 321\n",
      "4069 320\n",
      "4070 319\n",
      "4071 318\n",
      "4072 317\n",
      "4073 316\n",
      "4074 315\n",
      "4075 314\n",
      "4076 313\n",
      "4077 312\n",
      "4078 311\n",
      "4079 310\n",
      "4080 309\n",
      "4081 308\n",
      "4082 307\n",
      "4083 306\n",
      "4084 305\n",
      "4085 304\n",
      "4086 303\n",
      "4087 302\n",
      "4088 301\n",
      "4089 300\n",
      "4090 299\n",
      "4091 298\n",
      "4092 297\n",
      "4093 296\n",
      "4094 295\n",
      "4095 294\n",
      "4096 293\n",
      "4097 292\n",
      "4098 291\n",
      "4099 290\n",
      "4100 289\n",
      "4101 288\n",
      "4102 287\n",
      "4103 286\n",
      "4104 285\n",
      "4105 284\n",
      "4106 283\n",
      "4107 282\n",
      "4108 281\n",
      "4109 280\n",
      "4110 279\n",
      "4111 278\n",
      "4112 277\n",
      "4113 276\n",
      "4114 275\n",
      "4115 274\n",
      "4116 273\n",
      "4117 272\n",
      "4118 271\n",
      "4119 270\n",
      "4120 269\n",
      "4121 268\n",
      "4122 267\n",
      "4123 266\n",
      "4124 265\n",
      "4125 264\n",
      "4126 263\n",
      "4127 262\n",
      "4128 261\n",
      "4129 260\n",
      "4130 259\n",
      "4131 258\n",
      "4132 257\n",
      "4133 256\n",
      "4134 255\n",
      "4135 254\n",
      "4136 253\n",
      "4137 252\n",
      "4138 251\n",
      "4139 250\n",
      "4140 249\n",
      "4141 248\n",
      "4142 247\n",
      "4143 246\n",
      "4144 245\n",
      "4145 244\n",
      "4146 243\n",
      "4147 242\n",
      "4148 241\n",
      "4149 240\n",
      "4150 239\n",
      "4151 238\n",
      "4152 237\n",
      "4153 236\n",
      "4154 235\n",
      "4155 234\n",
      "4156 233\n",
      "4157 232\n",
      "4158 231\n",
      "4159 230\n",
      "4160 229\n",
      "4161 228\n",
      "4162 227\n",
      "4163 226\n",
      "4164 225\n",
      "4165 224\n",
      "4166 223\n",
      "4167 222\n",
      "4168 221\n",
      "4169 220\n",
      "4170 219\n",
      "4171 218\n",
      "4172 217\n",
      "4173 216\n",
      "4174 215\n",
      "4175 214\n",
      "4176 213\n",
      "4177 212\n",
      "4178 211\n",
      "4179 210\n",
      "4180 209\n",
      "4181 208\n",
      "4182 207\n",
      "4183 206\n",
      "4184 205\n",
      "4185 204\n",
      "4186 203\n",
      "4187 202\n",
      "4188 201\n",
      "4189 200\n",
      "4190 199\n",
      "4191 198\n",
      "4192 197\n",
      "4193 196\n",
      "4194 195\n",
      "4195 194\n",
      "4196 193\n",
      "4197 192\n",
      "4198 191\n",
      "4199 190\n",
      "4200 189\n",
      "4201 188\n",
      "4202 187\n",
      "4203 186\n",
      "4204 185\n",
      "4205 184\n",
      "4206 183\n",
      "4207 182\n",
      "4208 181\n",
      "4209 180\n",
      "4210 179\n",
      "4211 178\n",
      "4212 177\n",
      "4213 176\n",
      "4214 175\n",
      "4215 174\n",
      "4216 173\n",
      "4217 172\n",
      "4218 171\n",
      "4219 170\n",
      "4220 169\n",
      "4221 168\n",
      "4222 167\n",
      "4223 166\n",
      "4224 165\n",
      "4225 164\n",
      "4226 163\n",
      "4227 162\n",
      "4228 161\n",
      "4229 160\n",
      "4230 159\n",
      "4231 158\n",
      "4232 157\n",
      "4233 156\n",
      "4234 155\n",
      "4235 154\n",
      "4236 153\n",
      "4237 152\n",
      "4238 151\n",
      "4239 150\n",
      "4240 149\n",
      "4241 148\n",
      "4242 147\n",
      "4243 146\n"
     ]
    },
    {
     "name": "stderr",
     "output_type": "stream",
     "text": [
      "                                                                                \r"
     ]
    },
    {
     "name": "stdout",
     "output_type": "stream",
     "text": [
      "4244 145\n",
      "4245 144\n",
      "4246 143\n",
      "4247 142\n",
      "4248 141\n",
      "4249 140\n",
      "4250 139\n",
      "4251 138\n",
      "4252 137\n",
      "4253 136\n",
      "4254 135\n",
      "4255 134\n",
      "4256 133\n",
      "4257 132\n",
      "4258 131\n",
      "4259 130\n",
      "4260 129\n",
      "4261 128\n",
      "4262 127\n",
      "4263 126\n"
     ]
    },
    {
     "name": "stderr",
     "output_type": "stream",
     "text": [
      "                                                                                \r"
     ]
    },
    {
     "name": "stdout",
     "output_type": "stream",
     "text": [
      "4264 125\n",
      "4265 124\n",
      "4266 123\n",
      "4267 122\n",
      "4268 121\n",
      "4269 120\n",
      "4270 119\n",
      "4271 118\n",
      "4272 117\n",
      "4273 116\n",
      "4274 115\n",
      "4275 114\n",
      "4276 113\n",
      "4277 112\n",
      "4278 111\n",
      "4279 110\n",
      "4280 109\n",
      "4281 108\n",
      "4282 107\n",
      "4283 106\n",
      "4284 105\n",
      "4285 104\n",
      "4286 103\n",
      "4287 102\n",
      "4288 101\n",
      "4289 100\n",
      "4290 99\n",
      "4291 98\n",
      "4292 97\n",
      "4293 96\n",
      "4294 95\n",
      "4295 94\n",
      "4296 93\n",
      "4297 92\n",
      "4298 91\n",
      "4299 90\n",
      "4300 89\n",
      "4301 88\n",
      "4302 87\n",
      "4303 86\n",
      "4304 85\n",
      "4305 84\n",
      "4306 83\n",
      "4307 82\n",
      "4308 81\n",
      "4309 80\n",
      "4310 79\n",
      "4311 78\n",
      "4312 77\n",
      "4313 76\n",
      "4314 75\n",
      "4315 74\n",
      "4316 73\n",
      "4317 72\n",
      "4318 71\n",
      "4319 70\n",
      "4320 69\n",
      "4321 68\n",
      "4322 67\n",
      "4323 66\n",
      "4324 65\n",
      "4325 64\n",
      "4326 63\n",
      "4327 62\n",
      "4328 61\n",
      "4329 60\n",
      "4330 59\n",
      "4331 58\n",
      "4332 57\n",
      "4333 56\n",
      "4334 55\n",
      "4335 54\n",
      "4336 53\n",
      "4337 52\n",
      "4338 51\n",
      "4339 50\n",
      "4340 49\n",
      "4341 48\n",
      "4342 47\n",
      "4343 46\n",
      "4344 45\n",
      "4345 44\n",
      "4346 43\n"
     ]
    },
    {
     "name": "stderr",
     "output_type": "stream",
     "text": [
      "                                                                                \r"
     ]
    },
    {
     "name": "stdout",
     "output_type": "stream",
     "text": [
      "4347 42\n",
      "4348 41\n",
      "4349 40\n",
      "4350 39\n",
      "4351 38\n",
      "4352 37\n",
      "4353 36\n",
      "4354 35\n",
      "4355 34\n",
      "4356 33\n",
      "4357 32\n",
      "4358 31\n",
      "4359 30\n",
      "4360 29\n",
      "4361 28\n",
      "4362 27\n",
      "4363 26\n",
      "4364 25\n",
      "4365 24\n",
      "4366 23\n",
      "4367 22\n",
      "4368 21\n"
     ]
    },
    {
     "name": "stderr",
     "output_type": "stream",
     "text": [
      "                                                                                \r"
     ]
    },
    {
     "name": "stdout",
     "output_type": "stream",
     "text": [
      "4369 20\n",
      "4370 19\n",
      "4371 18\n",
      "4372 17\n",
      "4373 16\n",
      "4374 15\n",
      "4375 14\n",
      "4376 13\n",
      "4377 12\n",
      "4378 11\n",
      "4379 10\n",
      "4380 9\n",
      "4381 8\n",
      "4382 7\n",
      "4383 6\n",
      "4384 5\n",
      "4385 4\n",
      "4386 3\n",
      "4387 2\n",
      "4388 1\n",
      "4389 0\n"
     ]
    }
   ],
   "source": [
    "for chave, particao in enumerate(particoes):\n",
    "    particao_id = particao['PARTICAO_ID']\n",
    "    print(chave,particao_id)\n",
    "    particao_df = df_total_votos_candidato.filter(df_total_votos_candidato['PARTICAO_ID'] == particao_id).drop('PARTICAO_ID', 'ID_LINHA')\n",
    "    particao_pandas = particao_df.toPandas()\n",
    "    nome_arquivo = f'../data/processed/total_votos_candidato/df_total_votos_candidatos_{particao_id}.csv'\n",
    "    particao_pandas.to_csv(nome_arquivo, header=True, sep='|')"
   ]
  },
  {
   "cell_type": "code",
   "execution_count": 16,
   "metadata": {},
   "outputs": [],
   "source": [
    "spark.stop()"
   ]
  },
  {
   "cell_type": "markdown",
   "metadata": {},
   "source": [
    "- Total Votos Partido"
   ]
  },
  {
   "cell_type": "code",
   "execution_count": 40,
   "metadata": {},
   "outputs": [
    {
     "name": "stdout",
     "output_type": "stream",
     "text": [
      "+-----------+--------+------------+----------+-------------+--------------------+----------------+----------------+-------------------+--------------------------+-----------------------+\n",
      "|ANO_ELEICAO|CD_CARGO|CD_MUNICIPIO|NR_PARTIDO|   SG_PARTIDO|          NM_PARTIDO|CD_SIT_TOT_TURNO|DS_SIT_TOT_TURNO|TOTAL_VOTOS_PARTIDO|TOTAL_VOTOS_PARTIDO_CIDADE|PERCENTUAL_VOTOS_CIDADE|\n",
      "+-----------+--------+------------+----------+-------------+--------------------+----------------+----------------+-------------------+--------------------------+-----------------------+\n",
      "|       2018|       6|       61042|        17|          PSL|Partido Social Li...|               5|        SUPLENTE|                 43|                      7319|                   0.59|\n",
      "|       2018|       6|       61042|        36|          PTC|Partido Trabalhis...|               4|      NÃO ELEITO|                  0|                      7319|                    0.0|\n",
      "|       2018|       6|       61042|        13|           PT|Partido dos Traba...|               3|ELEITO POR MÉDIA|                  1|                      7319|                   0.01|\n",
      "|       2018|       6|       61042|        40|          PSB|Partido Socialist...|               2|   ELEITO POR QP|                 60|                      7319|                   0.82|\n",
      "|       2018|       6|       61042|        77|SOLIDARIEDADE|       Solidariedade|               3|ELEITO POR MÉDIA|                  3|                      7319|                   0.04|\n",
      "|       2018|       6|       61042|        21|          PCB|Partido Comunista...|               5|        SUPLENTE|                  1|                      7319|                   0.01|\n",
      "|       2018|       6|       61042|        65|      PC do B|Partido Comunista...|               3|ELEITO POR MÉDIA|                  0|                      7319|                    0.0|\n",
      "|       2018|       6|       61042|        16|         PSTU|Partido Socialist...|               4|      NÃO ELEITO|                  0|                      7319|                    0.0|\n",
      "|       2018|       6|       61042|        45|         PSDB|Partido da Social...|               5|        SUPLENTE|                115|                      7319|                   1.57|\n",
      "|       2018|       6|       61042|        25|          DEM|          Democratas|               5|        SUPLENTE|                491|                      7319|                   6.71|\n",
      "|       2018|       6|       61042|        65|      PC do B|Partido Comunista...|               5|        SUPLENTE|                  0|                      7319|                    0.0|\n",
      "|       2018|       6|       61042|        45|         PSDB|Partido da Social...|               2|   ELEITO POR QP|                168|                      7319|                    2.3|\n",
      "|       2018|       6|       61042|        55|          PSD|Partido Social De...|               2|   ELEITO POR QP|                  4|                      7319|                   0.05|\n",
      "|       2018|       6|       61042|        43|           PV|       Partido Verde|               2|   ELEITO POR QP|                  5|                      7319|                   0.07|\n",
      "|       2018|       6|       61042|        43|           PV|       Partido Verde|               5|        SUPLENTE|                  6|                      7319|                   0.08|\n",
      "|       2018|       6|       61042|        30|         NOVO|        Partido Novo|               5|        SUPLENTE|                 14|                      7319|                   0.19|\n",
      "|       2018|       6|       61042|        10|          PRB|Partido Republica...|               5|        SUPLENTE|                 27|                      7319|                   0.37|\n",
      "|       2018|       6|       61042|        28|         PRTB|Partido Renovador...|               4|      NÃO ELEITO|                 19|                      7319|                   0.26|\n",
      "|       2018|       6|       61042|        15|          MDB|Movimento Democrá...|               3|ELEITO POR MÉDIA|                 12|                      7319|                   0.16|\n",
      "|       2018|       6|       61042|        30|         NOVO|        Partido Novo|               2|   ELEITO POR QP|                 29|                      7319|                    0.4|\n",
      "+-----------+--------+------------+----------+-------------+--------------------+----------------+----------------+-------------------+--------------------------+-----------------------+\n",
      "only showing top 20 rows\n",
      "\n"
     ]
    }
   ],
   "source": [
    "df_total_votos_partido = spark \\\n",
    "    .read \\\n",
    "    .parquet('../data/processed/total_votos_partido.parquet')\n",
    "df_total_votos_partido.show()"
   ]
  },
  {
   "cell_type": "code",
   "execution_count": 41,
   "metadata": {},
   "outputs": [],
   "source": [
    "df_total_votos_partido = df_total_votos_partido.select(\n",
    "    'NM_PARTIDO',\n",
    "    'TOTAL_VOTOS_PARTIDO',\n",
    "    'TOTAL_VOTOS_PARTIDO_CIDADE',\n",
    "    'ANO_ELEICAO',\n",
    "    'CD_CARGO',\n",
    "    'CD_MUNICIPIO',\n",
    "    'NR_PARTIDO',\n",
    "    'SG_PARTIDO'\n",
    ")"
   ]
  },
  {
   "cell_type": "code",
   "execution_count": 42,
   "metadata": {},
   "outputs": [
    {
     "name": "stdout",
     "output_type": "stream",
     "text": [
      "+--------------------+-------------------+--------------------------+-----------+--------+------------+----------+-------------+--------+-----------+\n",
      "|          NM_PARTIDO|TOTAL_VOTOS_PARTIDO|TOTAL_VOTOS_PARTIDO_CIDADE|ANO_ELEICAO|CD_CARGO|CD_MUNICIPIO|NR_PARTIDO|   SG_PARTIDO|ID_LINHA|PARTICAO_ID|\n",
      "+--------------------+-------------------+--------------------------+-----------+--------+------------+----------+-------------+--------+-----------+\n",
      "|Partido Social Li...|                 43|                      7319|       2018|       6|       61042|        17|          PSL|       0|          0|\n",
      "|Partido Trabalhis...|                  0|                      7319|       2018|       6|       61042|        36|          PTC|       1|          0|\n",
      "|Partido dos Traba...|                  1|                      7319|       2018|       6|       61042|        13|           PT|       2|          0|\n",
      "|Partido Socialist...|                 60|                      7319|       2018|       6|       61042|        40|          PSB|       3|          0|\n",
      "|       Solidariedade|                  3|                      7319|       2018|       6|       61042|        77|SOLIDARIEDADE|       4|          0|\n",
      "|Partido Comunista...|                  1|                      7319|       2018|       6|       61042|        21|          PCB|       5|          0|\n",
      "|Partido Comunista...|                  0|                      7319|       2018|       6|       61042|        65|      PC do B|       6|          0|\n",
      "|Partido Socialist...|                  0|                      7319|       2018|       6|       61042|        16|         PSTU|       7|          0|\n",
      "|Partido da Social...|                115|                      7319|       2018|       6|       61042|        45|         PSDB|       8|          0|\n",
      "|          Democratas|                491|                      7319|       2018|       6|       61042|        25|          DEM|       9|          0|\n",
      "|Partido Comunista...|                  0|                      7319|       2018|       6|       61042|        65|      PC do B|      10|          0|\n",
      "|Partido da Social...|                168|                      7319|       2018|       6|       61042|        45|         PSDB|      11|          0|\n",
      "|Partido Social De...|                  4|                      7319|       2018|       6|       61042|        55|          PSD|      12|          0|\n",
      "|       Partido Verde|                  5|                      7319|       2018|       6|       61042|        43|           PV|      13|          0|\n",
      "|       Partido Verde|                  6|                      7319|       2018|       6|       61042|        43|           PV|      14|          0|\n",
      "|        Partido Novo|                 14|                      7319|       2018|       6|       61042|        30|         NOVO|      15|          0|\n",
      "|Partido Republica...|                 27|                      7319|       2018|       6|       61042|        10|          PRB|      16|          0|\n",
      "|Partido Renovador...|                 19|                      7319|       2018|       6|       61042|        28|         PRTB|      17|          0|\n",
      "|Movimento Democrá...|                 12|                      7319|       2018|       6|       61042|        15|          MDB|      18|          0|\n",
      "|        Partido Novo|                 29|                      7319|       2018|       6|       61042|        30|         NOVO|      19|          0|\n",
      "+--------------------+-------------------+--------------------------+-----------+--------+------------+----------+-------------+--------+-----------+\n",
      "only showing top 20 rows\n",
      "\n"
     ]
    }
   ],
   "source": [
    "numero_linha_particao = 1000\n",
    "df_total_votos_partido = df_total_votos_partido.withColumn('ID_LINHA', monotonically_increasing_id()) \n",
    "df_total_votos_partido = df_total_votos_partido.withColumn('PARTICAO_ID', (df_total_votos_partido['ID_LINHA'] / numero_linha_particao).cast('integer'))\n",
    "df_total_votos_partido.show()"
   ]
  },
  {
   "cell_type": "code",
   "execution_count": 43,
   "metadata": {},
   "outputs": [],
   "source": [
    "particoes = df_total_votos_partido.select('PARTICAO_ID').distinct().collect()"
   ]
  },
  {
   "cell_type": "code",
   "execution_count": 44,
   "metadata": {},
   "outputs": [
    {
     "name": "stdout",
     "output_type": "stream",
     "text": [
      "0 31\n",
      "1 34\n",
      "2 28\n",
      "3 26\n",
      "4 27\n",
      "5 12\n",
      "6 22\n",
      "7 1\n",
      "8 13\n",
      "9 6\n",
      "10 16\n",
      "11 3\n",
      "12 20\n",
      "13 40\n",
      "14 5\n",
      "15 19\n",
      "16 15\n",
      "17 37\n",
      "18 9\n",
      "19 17\n",
      "20 35\n",
      "21 4\n",
      "22 8\n",
      "23 23\n",
      "24 39\n",
      "25 7\n",
      "26 10\n",
      "27 38\n",
      "28 25\n",
      "29 24\n",
      "30 29\n",
      "31 21\n",
      "32 32\n",
      "33 11\n",
      "34 33\n",
      "35 14\n",
      "36 2\n",
      "37 30\n",
      "38 0\n",
      "39 18\n",
      "40 36\n",
      "41 8589941\n",
      "42 8589951\n",
      "43 8589948\n",
      "44 8589954\n",
      "45 8589953\n",
      "46 8589937\n",
      "47 8589949\n",
      "48 8589956\n",
      "49 8589952\n",
      "50 8589938\n",
      "51 8589947\n",
      "52 8589944\n",
      "53 8589959\n",
      "54 8589940\n",
      "55 8589942\n",
      "56 8589950\n",
      "57 8589936\n",
      "58 8589935\n",
      "59 8589955\n",
      "60 8589943\n",
      "61 8589958\n",
      "62 8589957\n",
      "63 8589960\n",
      "64 8589946\n",
      "65 8589934\n",
      "66 8589939\n",
      "67 8589945\n",
      "68 17179894\n",
      "69 17179890\n",
      "70 17179885\n",
      "71 17179882\n",
      "72 17179878\n",
      "73 17179874\n",
      "74 17179891\n",
      "75 17179892\n",
      "76 17179889\n",
      "77 17179893\n",
      "78 17179876\n",
      "79 17179884\n",
      "80 17179879\n",
      "81 17179869\n",
      "82 17179888\n",
      "83 17179873\n",
      "84 17179880\n",
      "85 17179872\n",
      "86 17179881\n",
      "87 17179870\n",
      "88 17179886\n",
      "89 17179871\n",
      "90 17179875\n",
      "91 17179887\n",
      "92 17179883\n",
      "93 17179877\n",
      "94 25769818\n",
      "95 25769809\n",
      "96 25769810\n",
      "97 25769821\n",
      "98 25769822\n",
      "99 25769815\n",
      "100 25769828\n",
      "101 25769813\n",
      "102 25769808\n",
      "103 25769827\n",
      "104 25769804\n",
      "105 25769803\n",
      "106 25769825\n",
      "107 25769807\n",
      "108 25769829\n",
      "109 25769823\n",
      "110 25769806\n",
      "111 25769817\n",
      "112 25769814\n",
      "113 25769819\n",
      "114 25769826\n",
      "115 25769811\n",
      "116 25769812\n",
      "117 25769805\n",
      "118 25769820\n",
      "119 25769816\n",
      "120 25769824\n",
      "121 34359749\n",
      "122 34359744\n",
      "123 34359753\n",
      "124 34359752\n",
      "125 34359759\n",
      "126 34359756\n",
      "127 34359741\n",
      "128 34359755\n",
      "129 34359738\n",
      "130 34359739\n",
      "131 34359742\n",
      "132 34359746\n",
      "133 34359750\n",
      "134 34359740\n",
      "135 34359760\n",
      "136 34359751\n",
      "137 34359745\n",
      "138 34359748\n",
      "139 34359754\n",
      "140 34359747\n",
      "141 34359762\n",
      "142 34359758\n",
      "143 34359761\n",
      "144 34359743\n",
      "145 34359763\n",
      "146 34359757\n",
      "147 42949695\n",
      "148 42949681\n",
      "149 42949684\n",
      "150 42949677\n",
      "151 42949689\n",
      "152 42949674\n",
      "153 42949692\n",
      "154 42949691\n",
      "155 42949683\n",
      "156 42949679\n",
      "157 42949678\n",
      "158 42949680\n",
      "159 42949672\n",
      "160 42949697\n",
      "161 42949690\n",
      "162 42949687\n",
      "163 42949693\n",
      "164 42949688\n",
      "165 42949673\n",
      "166 42949675\n",
      "167 42949682\n",
      "168 42949696\n",
      "169 42949694\n",
      "170 42949686\n",
      "171 42949676\n",
      "172 42949685\n"
     ]
    }
   ],
   "source": [
    "for chave, particao in enumerate(particoes):\n",
    "    particao_id = particao['PARTICAO_ID']\n",
    "    print(chave,particao_id)\n",
    "    particao_df = df_total_votos_partido.filter(df_total_votos_partido['PARTICAO_ID'] == particao_id).drop('PARTICAO_ID', 'ID_LINHA')\n",
    "    particao_pandas = particao_df.toPandas()\n",
    "    nome_arquivo = f'../data/processed/total_votos_partido/df_total_votos_partido_{particao_id}.csv'\n",
    "    particao_pandas.to_csv(nome_arquivo, header=True, sep='|')"
   ]
  },
  {
   "cell_type": "markdown",
   "metadata": {},
   "source": [
    "- Desempenho Partido"
   ]
  },
  {
   "cell_type": "code",
   "execution_count": 45,
   "metadata": {},
   "outputs": [
    {
     "name": "stderr",
     "output_type": "stream",
     "text": [
      "[Stage 574:>                                                        (0 + 1) / 1]\r"
     ]
    },
    {
     "name": "stdout",
     "output_type": "stream",
     "text": [
      "+------------+--------------------+--------------------+----------------+----------------+\n",
      "|CD_MUNICIPIO|        NM_CANDIDATO|   NM_URNA_CANDIDATO|TOTAL_VOTOS_2018|TOTAL_VOTOS_2022|\n",
      "+------------+--------------------+--------------------+----------------+----------------+\n",
      "|       61000|   ABDULBASET JAROUR|        ABDUL JAROUR|               0|               0|\n",
      "|       61000|ABRAHAM BRAGANÇA ...|   ABRAHAM WEINTRAUB|               0|               0|\n",
      "|       61000|ADELIA DE JESUS S...|  DRA. ADÉLIA SOARES|               0|               0|\n",
      "|       61000|ADENILSON PEREIRA...|    ADENILSON AMORIM|               0|               0|\n",
      "|       61000|      ADEVAR CAMPANA|      ADEVAR CAMPANA|               0|               0|\n",
      "|       61000| ADEZIO DIAS BARBOZA|         ADEZIO DIAS|               0|               0|\n",
      "|       61000|ADILSON ALVES DE ...|ENG. ADILSON OLIV...|               0|               0|\n",
      "|       61000|ADRIANA ALVES DE ...|    ADRIANA OLIVEIRA|               0|               0|\n",
      "|       61000|      ADRIANA PIERIN|ADRIANA VEGANE PI...|               0|               0|\n",
      "|       61000|ADRIANA SANTOS BA...|    ADRIANA BARRENHA|               0|               0|\n",
      "|       61000|ADRIANO JOSÉ DOS ...|        ADRIANO REIS|               0|               0|\n",
      "|       61000|ADRIANO NERES DE ...|   PAI ADRIANO NERES|               0|               0|\n",
      "|       61000|ADRIANO PEREIRA D...|   ADRIANO CACOLESPO|               0|               0|\n",
      "|       61000|AGLIBERTO DO SOCO...| PROFESSOR AGLIBERTO|               0|               0|\n",
      "|       61000|AGNALDO APARECIDO...|      AGNALDO ARAUJO|               0|               0|\n",
      "|       61000|AGNALDO JOSÉ DOS ...|      AGNALDO SANTOS|               0|               0|\n",
      "|       61000|    AHMAD ABOU ADILE|     PROFESSOR AHMAD|               0|               0|\n",
      "|       61000|ALAELSON ALVES DA...|           LÉO ALVES|               0|               0|\n",
      "|       61000|ALBENISIA SOUZA N...|               NINA |               0|               0|\n",
      "|       61000|ALBERTO DE SOUZA ...|ALBERTO DA RECICL...|               0|               0|\n",
      "+------------+--------------------+--------------------+----------------+----------------+\n",
      "only showing top 20 rows\n",
      "\n"
     ]
    },
    {
     "name": "stderr",
     "output_type": "stream",
     "text": [
      "                                                                                \r"
     ]
    }
   ],
   "source": [
    "df_desempenho_candidatos = spark \\\n",
    "    .read \\\n",
    "    .parquet('../data/processed/desempenho_candidatos.parquet')\n",
    "df_desempenho_candidatos.show()"
   ]
  },
  {
   "cell_type": "code",
   "execution_count": 46,
   "metadata": {},
   "outputs": [],
   "source": [
    "df_desempenho_candidatos = df_desempenho_candidatos.select(\n",
    "    'NM_CANDIDATO',\n",
    "    'NM_URNA_CANDIDATO',\n",
    "    'TOTAL_VOTOS_2018',\n",
    "    'TOTAL_VOTOS_2022',\n",
    "    'CD_MUNICIPIO'\n",
    "\n",
    "\n",
    ")"
   ]
  },
  {
   "cell_type": "code",
   "execution_count": 47,
   "metadata": {},
   "outputs": [
    {
     "name": "stdout",
     "output_type": "stream",
     "text": [
      "+--------------------+--------------------+----------------+----------------+------------+--------+-----------+\n",
      "|        NM_CANDIDATO|   NM_URNA_CANDIDATO|TOTAL_VOTOS_2018|TOTAL_VOTOS_2022|CD_MUNICIPIO|ID_LINHA|PARTICAO_ID|\n",
      "+--------------------+--------------------+----------------+----------------+------------+--------+-----------+\n",
      "|   ABDULBASET JAROUR|        ABDUL JAROUR|               0|               0|       61000|       0|          0|\n",
      "|ABRAHAM BRAGANÇA ...|   ABRAHAM WEINTRAUB|               0|               0|       61000|       1|          0|\n",
      "|ADELIA DE JESUS S...|  DRA. ADÉLIA SOARES|               0|               0|       61000|       2|          0|\n",
      "|ADENILSON PEREIRA...|    ADENILSON AMORIM|               0|               0|       61000|       3|          0|\n",
      "|      ADEVAR CAMPANA|      ADEVAR CAMPANA|               0|               0|       61000|       4|          0|\n",
      "| ADEZIO DIAS BARBOZA|         ADEZIO DIAS|               0|               0|       61000|       5|          0|\n",
      "|ADILSON ALVES DE ...|ENG. ADILSON OLIV...|               0|               0|       61000|       6|          0|\n",
      "|ADRIANA ALVES DE ...|    ADRIANA OLIVEIRA|               0|               0|       61000|       7|          0|\n",
      "|      ADRIANA PIERIN|ADRIANA VEGANE PI...|               0|               0|       61000|       8|          0|\n",
      "|ADRIANA SANTOS BA...|    ADRIANA BARRENHA|               0|               0|       61000|       9|          0|\n",
      "|ADRIANO JOSÉ DOS ...|        ADRIANO REIS|               0|               0|       61000|      10|          0|\n",
      "|ADRIANO NERES DE ...|   PAI ADRIANO NERES|               0|               0|       61000|      11|          0|\n",
      "|ADRIANO PEREIRA D...|   ADRIANO CACOLESPO|               0|               0|       61000|      12|          0|\n",
      "|AGLIBERTO DO SOCO...| PROFESSOR AGLIBERTO|               0|               0|       61000|      13|          0|\n",
      "|AGNALDO APARECIDO...|      AGNALDO ARAUJO|               0|               0|       61000|      14|          0|\n",
      "|AGNALDO JOSÉ DOS ...|      AGNALDO SANTOS|               0|               0|       61000|      15|          0|\n",
      "|    AHMAD ABOU ADILE|     PROFESSOR AHMAD|               0|               0|       61000|      16|          0|\n",
      "|ALAELSON ALVES DA...|           LÉO ALVES|               0|               0|       61000|      17|          0|\n",
      "|ALBENISIA SOUZA N...|               NINA |               0|               0|       61000|      18|          0|\n",
      "|ALBERTO DE SOUZA ...|ALBERTO DA RECICL...|               0|               0|       61000|      19|          0|\n",
      "+--------------------+--------------------+----------------+----------------+------------+--------+-----------+\n",
      "only showing top 20 rows\n",
      "\n"
     ]
    }
   ],
   "source": [
    "df_desempenho_candidatos = df_desempenho_candidatos.withColumn('ID_LINHA', monotonically_increasing_id()) \n",
    "numero_linha_particao = 1000\n",
    "df_desempenho_candidatos = df_desempenho_candidatos.withColumn('PARTICAO_ID', (df_desempenho_candidatos['ID_LINHA'] / numero_linha_particao).cast('integer'))\n",
    "df_desempenho_candidatos.show()"
   ]
  },
  {
   "cell_type": "code",
   "execution_count": 48,
   "metadata": {},
   "outputs": [
    {
     "name": "stderr",
     "output_type": "stream",
     "text": [
      "                                                                                \r"
     ]
    }
   ],
   "source": [
    "particoes = df_desempenho_candidatos.select('PARTICAO_ID').distinct().collect()"
   ]
  },
  {
   "cell_type": "code",
   "execution_count": 50,
   "metadata": {},
   "outputs": [
    {
     "data": {
      "text/plain": [
       "4146"
      ]
     },
     "execution_count": 50,
     "metadata": {},
     "output_type": "execute_result"
    }
   ],
   "source": [
    "len(particoes)"
   ]
  },
  {
   "cell_type": "code",
   "execution_count": 51,
   "metadata": {},
   "outputs": [
    {
     "name": "stdout",
     "output_type": "stream",
     "text": [
      "0 148\n"
     ]
    },
    {
     "name": "stderr",
     "output_type": "stream",
     "text": [
      "                                                                                \r"
     ]
    },
    {
     "name": "stdout",
     "output_type": "stream",
     "text": [
      "1 463\n",
      "2 471\n",
      "3 496\n",
      "4 243\n",
      "5 392\n",
      "6 31\n",
      "7 516\n",
      "8 85\n",
      "9 137\n",
      "10 251\n",
      "11 451\n",
      "12 65\n",
      "13 458\n",
      "14 53\n",
      "15 255\n",
      "16 481\n",
      "17 133\n",
      "18 296\n",
      "19 472\n",
      "20 78\n",
      "21 322\n",
      "22 513\n",
      "23 321\n",
      "24 362\n",
      "25 375\n",
      "26 108\n",
      "27 155\n",
      "28 34\n",
      "29 193\n",
      "30 211\n",
      "31 368\n",
      "32 101\n",
      "33 115\n",
      "34 126\n",
      "35 81\n",
      "36 385\n",
      "37 28\n",
      "38 183\n",
      "39 210\n",
      "40 436\n",
      "41 497\n",
      "42 300\n",
      "43 406\n",
      "44 412\n",
      "45 76\n",
      "46 26\n",
      "47 27\n",
      "48 332\n",
      "49 501\n",
      "50 384\n",
      "51 44\n",
      "52 159\n",
      "53 192\n",
      "54 271\n",
      "55 253\n",
      "56 103\n",
      "57 236\n",
      "58 329\n",
      "59 460\n",
      "60 12\n",
      "61 336\n",
      "62 350\n",
      "63 223\n",
      "64 388\n",
      "65 417\n",
      "66 91\n",
      "67 409\n",
      "68 333\n",
      "69 222\n",
      "70 285\n",
      "71 22\n",
      "72 128\n",
      "73 209\n",
      "74 330\n",
      "75 372\n",
      "76 122\n",
      "77 230\n",
      "78 319\n",
      "79 493\n",
      "80 93\n",
      "81 157\n",
      "82 190\n",
      "83 225\n",
      "84 232\n",
      "85 233\n",
      "86 246\n",
      "87 346\n",
      "88 360\n",
      "89 367\n",
      "90 476\n",
      "91 111\n",
      "92 224\n",
      "93 47\n",
      "94 140\n",
      "95 177\n",
      "96 416\n",
      "97 132\n",
      "98 152\n",
      "99 444\n",
      "100 185\n",
      "101 305\n",
      "102 353\n",
      "103 355\n",
      "104 291\n",
      "105 325\n",
      "106 386\n",
      "107 435\n",
      "108 473\n",
      "109 146\n",
      "110 259\n",
      "111 512\n",
      "112 1\n",
      "113 206\n",
      "114 52\n",
      "115 297\n",
      "116 363\n",
      "117 212\n",
      "118 274\n",
      "119 182\n",
      "120 442\n",
      "121 13\n",
      "122 218\n",
      "123 280\n",
      "124 348\n",
      "125 440\n",
      "126 6\n",
      "127 16\n",
      "128 86\n",
      "129 474\n",
      "130 168\n",
      "131 205\n",
      "132 3\n",
      "133 142\n",
      "134 178\n",
      "135 308\n",
      "136 328\n",
      "137 20\n",
      "138 40\n",
      "139 164\n",
      "140 429\n",
      "141 470\n",
      "142 169\n",
      "143 500\n",
      "144 139\n",
      "145 283\n",
      "146 359\n",
      "147 479\n",
      "148 295\n",
      "149 340\n",
      "150 431\n",
      "151 94\n",
      "152 250\n",
      "153 377\n",
      "154 402\n",
      "155 432\n",
      "156 57\n",
      "157 292\n",
      "158 306\n",
      "159 339\n",
      "160 54\n",
      "161 120\n",
      "162 491\n",
      "163 96\n",
      "164 235\n",
      "165 452\n",
      "166 48\n",
      "167 266\n",
      "168 507\n",
      "169 5\n",
      "170 163\n",
      "171 191\n",
      "172 268\n",
      "173 258\n",
      "174 279\n",
      "175 19\n",
      "176 397\n",
      "177 430\n",
      "178 92\n",
      "179 419\n",
      "180 415\n",
      "181 257\n",
      "182 299\n",
      "183 64\n",
      "184 117\n",
      "185 227\n",
      "186 504\n",
      "187 41\n",
      "188 154\n",
      "189 309\n",
      "190 425\n",
      "191 347\n",
      "192 447\n",
      "193 455\n",
      "194 484\n",
      "195 15\n",
      "196 43\n",
      "197 262\n",
      "198 511\n",
      "199 112\n",
      "200 269\n",
      "201 327\n",
      "202 165\n",
      "203 358\n",
      "204 366\n",
      "205 179\n",
      "206 189\n",
      "207 207\n",
      "208 489\n",
      "209 37\n",
      "210 383\n",
      "211 61\n",
      "212 127\n",
      "213 316\n",
      "214 461\n",
      "215 502\n",
      "216 88\n",
      "217 197\n",
      "218 486\n",
      "219 318\n",
      "220 462\n",
      "221 107\n",
      "222 202\n",
      "223 263\n",
      "224 374\n",
      "225 9\n",
      "226 17\n",
      "227 231\n",
      "228 324\n",
      "229 72\n",
      "230 286\n",
      "231 398\n",
      "232 505\n",
      "233 175\n",
      "234 387\n",
      "235 423\n",
      "236 381\n",
      "237 498\n",
      "238 35\n",
      "239 503\n",
      "240 310\n",
      "241 485\n",
      "242 196\n",
      "243 437\n",
      "244 456\n",
      "245 217\n",
      "246 290\n",
      "247 441\n",
      "248 229\n",
      "249 307\n",
      "250 326\n",
      "251 114\n",
      "252 173\n",
      "253 220\n",
      "254 278\n",
      "255 301\n",
      "256 494\n",
      "257 4\n",
      "258 55\n",
      "259 59\n",
      "260 445\n",
      "261 8\n",
      "262 100\n",
      "263 241\n",
      "264 449\n",
      "265 450\n",
      "266 495\n",
      "267 161\n",
      "268 23\n",
      "269 39\n",
      "270 49\n",
      "271 176\n",
      "272 380\n",
      "273 7\n",
      "274 162\n",
      "275 514\n",
      "276 130\n",
      "277 238\n",
      "278 244\n",
      "279 446\n",
      "280 84\n",
      "281 136\n",
      "282 453\n",
      "283 247\n",
      "284 314\n",
      "285 87\n",
      "286 171\n",
      "287 273\n",
      "288 343\n",
      "289 434\n",
      "290 439\n",
      "291 443\n",
      "292 51\n",
      "293 194\n",
      "294 277\n",
      "295 331\n",
      "296 428\n",
      "297 465\n",
      "298 391\n",
      "299 438\n",
      "300 69\n",
      "301 129\n",
      "302 166\n",
      "303 448\n",
      "304 467\n",
      "305 97\n",
      "306 400\n",
      "307 234\n",
      "308 239\n",
      "309 264\n",
      "310 312\n",
      "311 389\n",
      "312 63\n",
      "313 395\n",
      "314 403\n",
      "315 459\n",
      "316 509\n",
      "317 10\n",
      "318 77\n",
      "319 102\n",
      "320 361\n",
      "321 50\n",
      "322 518\n",
      "323 267\n",
      "324 293\n",
      "325 404\n",
      "326 45\n",
      "327 216\n",
      "328 38\n",
      "329 261\n",
      "330 320\n",
      "331 418\n",
      "332 82\n",
      "333 181\n",
      "334 249\n",
      "335 364\n",
      "336 510\n",
      "337 167\n",
      "338 288\n",
      "339 394\n",
      "340 80\n",
      "341 240\n",
      "342 289\n",
      "343 356\n",
      "344 25\n",
      "345 73\n",
      "346 245\n",
      "347 427\n",
      "348 113\n",
      "349 237\n",
      "350 24\n",
      "351 160\n",
      "352 70\n",
      "353 408\n",
      "354 62\n",
      "355 121\n",
      "356 125\n",
      "357 396\n",
      "358 156\n",
      "359 351\n",
      "360 480\n",
      "361 143\n",
      "362 219\n",
      "363 95\n",
      "364 411\n",
      "365 477\n",
      "366 482\n",
      "367 29\n",
      "368 226\n",
      "369 390\n",
      "370 464\n",
      "371 21\n",
      "372 214\n",
      "373 323\n",
      "374 335\n",
      "375 338\n",
      "376 352\n",
      "377 492\n",
      "378 98\n",
      "379 195\n",
      "380 256\n",
      "381 287\n",
      "382 345\n",
      "383 490\n",
      "384 32\n",
      "385 60\n",
      "386 90\n",
      "387 371\n",
      "388 75\n",
      "389 382\n",
      "390 469\n",
      "391 203\n",
      "392 221\n",
      "393 265\n",
      "394 457\n",
      "395 141\n",
      "396 151\n",
      "397 341\n",
      "398 414\n",
      "399 433\n",
      "400 334\n",
      "401 145\n",
      "402 200\n",
      "403 272\n",
      "404 376\n",
      "405 488\n",
      "406 515\n",
      "407 56\n",
      "408 109\n",
      "409 254\n",
      "410 378\n",
      "411 487\n",
      "412 213\n",
      "413 228\n",
      "414 478\n",
      "415 303\n",
      "416 426\n",
      "417 170\n",
      "418 354\n",
      "419 304\n",
      "420 105\n",
      "421 298\n",
      "422 370\n",
      "423 58\n",
      "424 188\n",
      "425 11\n",
      "426 33\n",
      "427 204\n",
      "428 421\n",
      "429 83\n",
      "430 110\n",
      "431 150\n",
      "432 369\n",
      "433 413\n",
      "434 508\n",
      "435 68\n",
      "436 71\n",
      "437 106\n",
      "438 260\n",
      "439 116\n",
      "440 147\n",
      "441 14\n",
      "442 198\n",
      "443 317\n",
      "444 344\n",
      "445 349\n",
      "446 424\n",
      "447 123\n",
      "448 342\n",
      "449 373\n",
      "450 379\n",
      "451 454\n",
      "452 158\n",
      "453 199\n",
      "454 242\n",
      "455 270\n",
      "456 284\n",
      "457 135\n",
      "458 248\n",
      "459 499\n",
      "460 42\n",
      "461 119\n",
      "462 337\n",
      "463 466\n",
      "464 506\n",
      "465 2\n",
      "466 79\n",
      "467 201\n",
      "468 131\n",
      "469 149\n",
      "470 276\n",
      "471 365\n",
      "472 294\n",
      "473 357\n",
      "474 118\n",
      "475 124\n",
      "476 281\n",
      "477 30\n",
      "478 99\n",
      "479 184\n",
      "480 302\n",
      "481 313\n",
      "482 66\n",
      "483 405\n",
      "484 46\n",
      "485 67\n",
      "486 186\n",
      "487 275\n",
      "488 282\n",
      "489 311\n",
      "490 174\n"
     ]
    },
    {
     "name": "stderr",
     "output_type": "stream",
     "text": [
      "                                                                                \r"
     ]
    },
    {
     "name": "stdout",
     "output_type": "stream",
     "text": [
      "491 215\n",
      "492 410\n",
      "493 172\n",
      "494 252\n",
      "495 399\n",
      "496 144\n",
      "497 153\n",
      "498 420\n",
      "499 0\n",
      "500 18\n",
      "501 475\n",
      "502 74\n",
      "503 138\n",
      "504 104\n",
      "505 180\n",
      "506 468\n",
      "507 483\n",
      "508 134\n",
      "509 407\n",
      "510 36\n",
      "511 187\n",
      "512 208\n",
      "513 315\n",
      "514 393\n",
      "515 89\n",
      "516 401\n",
      "517 422\n",
      "518 517\n",
      "519 8590266\n",
      "520 8590371\n",
      "521 8589941\n",
      "522 8590381\n",
      "523 8590033\n",
      "524 8590194\n",
      "525 8590310\n",
      "526 8589951\n",
      "527 8590369\n",
      "528 8590031\n",
      "529 8590119\n",
      "530 8590157\n",
      "531 8590199\n",
      "532 8590252\n",
      "533 8590280\n",
      "534 8590045\n",
      "535 8590355\n",
      "536 8590437\n",
      "537 8589948\n",
      "538 8590255\n",
      "539 8590410\n",
      "540 8590282\n",
      "541 8590414\n",
      "542 8590047\n",
      "543 8590068\n",
      "544 8590073\n",
      "545 8590319\n",
      "546 8590091\n",
      "547 8590260\n",
      "548 8590296\n",
      "549 8590328\n",
      "550 8590331\n",
      "551 8590048\n",
      "552 8590184\n",
      "553 8590307\n",
      "554 8590177\n",
      "555 8590233\n",
      "556 8590295\n",
      "557 8590357\n",
      "558 8589974\n",
      "559 8589980\n",
      "560 8590013\n",
      "561 8590025\n",
      "562 8590055\n",
      "563 8590232\n",
      "564 8590274\n",
      "565 8589968\n",
      "566 8589997\n",
      "567 8590380\n",
      "568 8590398\n",
      "569 8589954\n",
      "570 8590123\n",
      "571 8590287\n",
      "572 8590386\n",
      "573 8590142\n",
      "574 8590245\n",
      "575 8590253\n",
      "576 8589953\n",
      "577 8589970\n",
      "578 8590075\n",
      "579 8590215\n",
      "580 8589981\n",
      "581 8590230\n",
      "582 8590432\n",
      "583 8590449\n",
      "584 8590313\n",
      "585 8589937\n",
      "586 8589986\n",
      "587 8590097\n",
      "588 8590390\n",
      "589 8590306\n",
      "590 8590344\n",
      "591 8590036\n",
      "592 8590368\n",
      "593 8590084\n",
      "594 8590304\n",
      "595 8589949\n",
      "596 8590302\n",
      "597 8590374\n",
      "598 8590395\n",
      "599 8590441\n",
      "600 8590106\n",
      "601 8590176\n",
      "602 8590323\n",
      "603 8590202\n",
      "604 8590342\n",
      "605 8589956\n",
      "606 8590259\n",
      "607 8589952\n",
      "608 8590204\n",
      "609 8590056\n",
      "610 8590312\n",
      "611 8590416\n",
      "612 8590181\n",
      "613 8589961\n",
      "614 8589971\n",
      "615 8590134\n",
      "616 8590065\n",
      "617 8590120\n",
      "618 8590231\n",
      "619 8589938\n",
      "620 8590156\n",
      "621 8590160\n",
      "622 8590248\n",
      "623 8590263\n",
      "624 8590288\n",
      "625 8590408\n",
      "626 8590085\n",
      "627 8590099\n",
      "628 8590317\n",
      "629 8590427\n",
      "630 8590434\n",
      "631 8589947\n",
      "632 8590187\n",
      "633 8590422\n",
      "634 8590258\n",
      "635 8590443\n",
      "636 8590094\n",
      "637 8590172\n",
      "638 8590167\n",
      "639 8590249\n",
      "640 8590367\n",
      "641 8590450\n",
      "642 8590327\n",
      "643 8590345\n",
      "644 8589973\n",
      "645 8589982\n",
      "646 8590082\n",
      "647 8590087\n",
      "648 8590433\n",
      "649 8590268\n",
      "650 8590351\n",
      "651 8590372\n",
      "652 8589944\n",
      "653 8590339\n",
      "654 8590007\n",
      "655 8590132\n",
      "656 8590236\n",
      "657 8590240\n",
      "658 8590435\n",
      "659 8590011\n",
      "660 8590210\n",
      "661 8590228\n",
      "662 8589999\n",
      "663 8590129\n",
      "664 8590185\n",
      "665 8590237\n",
      "666 8590303\n",
      "667 8590353\n",
      "668 8590081\n",
      "669 8590166\n",
      "670 8590415\n",
      "671 8590093\n",
      "672 8590148\n",
      "673 8590242\n",
      "674 8590318\n",
      "675 8590452\n",
      "676 8590015\n",
      "677 8590088\n",
      "678 8590197\n",
      "679 8590251\n",
      "680 8590136\n",
      "681 8590149\n",
      "682 8590218\n",
      "683 8590445\n",
      "684 8590131\n",
      "685 8590343\n",
      "686 8590376\n",
      "687 8590411\n",
      "688 8590002\n",
      "689 8590115\n",
      "690 8589959\n",
      "691 8590077\n",
      "692 8590162\n",
      "693 8590239\n",
      "694 8590270\n",
      "695 8590041\n",
      "696 8590286\n",
      "697 8589998\n",
      "698 8590234\n",
      "699 8590241\n",
      "700 8589940\n",
      "701 8589942\n",
      "702 8590010\n",
      "703 8590256\n",
      "704 8590387\n",
      "705 8590444\n",
      "706 8590335\n",
      "707 8590364\n",
      "708 8590402\n",
      "709 8589950\n",
      "710 8590034\n",
      "711 8590054\n",
      "712 8590124\n",
      "713 8590384\n",
      "714 8590051\n",
      "715 8590079\n",
      "716 8590180\n",
      "717 8590438\n",
      "718 8589936\n",
      "719 8589989\n",
      "720 8590076\n",
      "721 8590285\n",
      "722 8590332\n",
      "723 8589963\n",
      "724 8590117\n",
      "725 8589935\n",
      "726 8590021\n",
      "727 8590322\n",
      "728 8589955\n",
      "729 8590158\n",
      "730 8590373\n",
      "731 8590196\n",
      "732 8590297\n",
      "733 8590359\n",
      "734 8589978\n",
      "735 8589996\n",
      "736 8590057\n",
      "737 8590329\n",
      "738 8590378\n",
      "739 8590440\n",
      "740 8590026\n",
      "741 8590393\n",
      "742 8590030\n",
      "743 8590070\n",
      "744 8590214\n",
      "745 8590272\n",
      "746 8589969\n",
      "747 8590098\n",
      "748 8590192\n",
      "749 8590392\n",
      "750 8590224\n",
      "751 8590193\n",
      "752 8590291\n",
      "753 8590299\n",
      "754 8590052\n",
      "755 8590326\n",
      "756 8590080\n",
      "757 8590147\n",
      "758 8590451\n",
      "759 8590279\n",
      "760 8590333\n",
      "761 8590417\n",
      "762 8590000\n",
      "763 8590083\n",
      "764 8590217\n",
      "765 8589993\n",
      "766 8590016\n",
      "767 8590024\n",
      "768 8590069\n",
      "769 8590293\n",
      "770 8589943\n",
      "771 8590058\n",
      "772 8590173\n",
      "773 8590320\n",
      "774 8590396\n",
      "775 8590110\n",
      "776 8590350\n",
      "777 8589991\n",
      "778 8590336\n",
      "779 8589976\n",
      "780 8590009\n",
      "781 8590220\n",
      "782 8590349\n",
      "783 8590363\n",
      "784 8590200\n",
      "785 8590271\n",
      "786 8590347\n",
      "787 8589958\n",
      "788 8590049\n",
      "789 8590316\n"
     ]
    },
    {
     "name": "stderr",
     "output_type": "stream",
     "text": [
      "                                                                                \r"
     ]
    },
    {
     "name": "stdout",
     "output_type": "stream",
     "text": [
      "790 8590401\n",
      "791 8590311\n",
      "792 8590334\n",
      "793 8590201\n",
      "794 8590429\n",
      "795 8589992\n",
      "796 8590211\n",
      "797 8590377\n",
      "798 8590042\n",
      "799 8589957\n",
      "800 8590140\n",
      "801 8590190\n",
      "802 8590273\n",
      "803 8590305\n",
      "804 8590053\n",
      "805 8590078\n",
      "806 8590089\n",
      "807 8590092\n",
      "808 8590407\n",
      "809 8589965\n",
      "810 8590191\n",
      "811 8590442\n",
      "812 8590012\n",
      "813 8590262\n",
      "814 8590436\n",
      "815 8590035\n",
      "816 8590246\n",
      "817 8590426\n",
      "818 8590122\n",
      "819 8590397\n",
      "820 8590404\n",
      "821 8590412\n",
      "822 8590090\n",
      "823 8590170\n",
      "824 8590235\n",
      "825 8590264\n",
      "826 8590269\n",
      "827 8590283\n",
      "828 8589987\n",
      "829 8590101\n",
      "830 8590289\n",
      "831 8589960\n",
      "832 8589972\n",
      "833 8590102\n",
      "834 8590125\n",
      "835 8590064\n",
      "836 8590096\n",
      "837 8590419\n",
      "838 8590038\n",
      "839 8590067\n",
      "840 8590171\n",
      "841 8590182\n",
      "842 8590183\n",
      "843 8590361\n",
      "844 8590403\n",
      "845 8589946\n",
      "846 8590141\n",
      "847 8590379\n",
      "848 8590409\n",
      "849 8590153\n",
      "850 8590325\n",
      "851 8590354\n",
      "852 8590275\n",
      "853 8590314\n",
      "854 8590360\n",
      "855 8589985\n",
      "856 8590071\n",
      "857 8590175\n",
      "858 8590227\n",
      "859 8590086\n",
      "860 8590105\n",
      "861 8590107\n",
      "862 8590139\n",
      "863 8590143\n",
      "864 8590330\n",
      "865 8590144\n",
      "866 8590154\n",
      "867 8590365\n",
      "868 8590448\n",
      "869 8590212\n",
      "870 8590388\n",
      "871 8590206\n",
      "872 8590277\n",
      "873 8590394\n",
      "874 8590174\n",
      "875 8590163\n",
      "876 8590446\n",
      "877 8590008\n",
      "878 8590019\n",
      "879 8590104\n",
      "880 8590145\n",
      "881 8590022\n",
      "882 8590281\n",
      "883 8590127\n",
      "884 8590223\n",
      "885 8590189\n",
      "886 8590203\n",
      "887 8590247\n",
      "888 8590254\n",
      "889 8590352\n",
      "890 8590278\n",
      "891 8590186\n",
      "892 8590413\n",
      "893 8590208\n",
      "894 8590128\n",
      "895 8590198\n",
      "896 8589975\n",
      "897 8589984\n",
      "898 8590137\n",
      "899 8590152\n",
      "900 8590061\n",
      "901 8590257\n",
      "902 8590001\n",
      "903 8590135\n",
      "904 8590221\n",
      "905 8590059\n",
      "906 8590399\n",
      "907 8590109\n",
      "908 8590298\n",
      "909 8590095\n",
      "910 8590118\n",
      "911 8590161\n",
      "912 8590168\n",
      "913 8590238\n",
      "914 8590321\n",
      "915 8589967\n",
      "916 8590018\n",
      "917 8590169\n",
      "918 8590389\n",
      "919 8590165\n",
      "920 8590209\n",
      "921 8590003\n",
      "922 8590205\n",
      "923 8590346\n",
      "924 8590405\n",
      "925 8590066\n",
      "926 8590244\n",
      "927 8589979\n",
      "928 8590114\n",
      "929 8590146\n",
      "930 8590391\n",
      "931 8590151\n",
      "932 8590020\n",
      "933 8590100\n",
      "934 8590112\n",
      "935 8590284\n",
      "936 8590300\n",
      "937 8589983\n",
      "938 8590017\n",
      "939 8590150\n",
      "940 8590431\n",
      "941 8590028\n",
      "942 8590341\n",
      "943 8590385\n",
      "944 8590014\n",
      "945 8590195\n",
      "946 8589964\n",
      "947 8589966\n",
      "948 8590072\n",
      "949 8590276\n",
      "950 8590400\n",
      "951 8589988\n",
      "952 8590424\n",
      "953 8590420\n",
      "954 8590040\n",
      "955 8590261\n",
      "956 8590027\n",
      "957 8590222\n",
      "958 8590315\n",
      "959 8590029\n",
      "960 8590113\n",
      "961 8590116\n",
      "962 8590133\n",
      "963 8590383\n",
      "964 8590447\n",
      "965 8590005\n",
      "966 8590103\n",
      "967 8590216\n",
      "968 8590418\n",
      "969 8589977\n",
      "970 8590292\n",
      "971 8590050\n",
      "972 8590358\n",
      "973 8590362\n",
      "974 8590006\n",
      "975 8590130\n",
      "976 8590243\n",
      "977 8590301\n",
      "978 8590309\n",
      "979 8590037\n",
      "980 8590179\n",
      "981 8590023\n",
      "982 8590046\n",
      "983 8590267\n",
      "984 8590043\n",
      "985 8590439\n",
      "986 8590138\n",
      "987 8590370\n",
      "988 8590060\n",
      "989 8590062\n",
      "990 8590430\n",
      "991 8590063\n",
      "992 8590126\n",
      "993 8589995\n",
      "994 8590229\n",
      "995 8590290\n",
      "996 8590348\n",
      "997 8590032\n",
      "998 8590188\n",
      "999 8590004\n",
      "1000 8589994\n",
      "1001 8589934\n",
      "1002 8590225\n",
      "1003 8590375\n",
      "1004 8590421\n",
      "1005 8590155\n",
      "1006 8590159\n",
      "1007 8590207\n",
      "1008 8590340\n",
      "1009 8589962\n",
      "1010 8590308\n",
      "1011 8590108\n",
      "1012 8590250\n",
      "1013 8590423\n",
      "1014 8590219\n",
      "1015 8589939\n",
      "1016 8590164\n",
      "1017 8590226\n",
      "1018 8590265\n",
      "1019 8590294\n",
      "1020 8590382\n",
      "1021 8589990\n",
      "1022 8590074\n",
      "1023 8590111\n",
      "1024 8590406\n",
      "1025 8590428\n",
      "1026 8590324\n",
      "1027 8590121\n",
      "1028 8590213\n",
      "1029 8590337\n",
      "1030 8590356\n",
      "1031 8590178\n",
      "1032 8590425\n",
      "1033 8589945\n",
      "1034 8590039\n",
      "1035 8590044\n",
      "1036 8590338\n",
      "1037 8590366\n",
      "1038 17179968\n",
      "1039 17180059\n",
      "1040 17180217\n",
      "1041 17179984\n",
      "1042 17179991\n",
      "1043 17180043\n",
      "1044 17180359\n",
      "1045 17180145\n",
      "1046 17179894\n",
      "1047 17179998\n"
     ]
    },
    {
     "name": "stderr",
     "output_type": "stream",
     "text": [
      "                                                                                \r"
     ]
    },
    {
     "name": "stdout",
     "output_type": "stream",
     "text": [
      "1048 17180286\n",
      "1049 17180228\n",
      "1050 17180127\n",
      "1051 17180054\n",
      "1052 17180062\n",
      "1053 17179899\n",
      "1054 17180198\n",
      "1055 17180222\n",
      "1056 17179955\n",
      "1057 17179890\n"
     ]
    },
    {
     "name": "stderr",
     "output_type": "stream",
     "text": [
      "                                                                                \r"
     ]
    },
    {
     "name": "stdout",
     "output_type": "stream",
     "text": [
      "1058 17180141\n"
     ]
    },
    {
     "name": "stderr",
     "output_type": "stream",
     "text": [
      "                                                                                \r"
     ]
    },
    {
     "name": "stdout",
     "output_type": "stream",
     "text": [
      "1059 17180349\n",
      "1060 17180370\n",
      "1061 17179885\n",
      "1062 17180009\n",
      "1063 17180247\n",
      "1064 17180156\n",
      "1065 17180190\n"
     ]
    },
    {
     "name": "stderr",
     "output_type": "stream",
     "text": [
      "                                                                                \r"
     ]
    },
    {
     "name": "stdout",
     "output_type": "stream",
     "text": [
      "1066 17180230\n",
      "1067 17179944\n",
      "1068 17180114\n",
      "1069 17179924\n"
     ]
    },
    {
     "name": "stderr",
     "output_type": "stream",
     "text": [
      "                                                                                \r"
     ]
    },
    {
     "name": "stdout",
     "output_type": "stream",
     "text": [
      "1070 17180021\n"
     ]
    },
    {
     "name": "stderr",
     "output_type": "stream",
     "text": [
      "                                                                                \r"
     ]
    },
    {
     "name": "stdout",
     "output_type": "stream",
     "text": [
      "1071 17180104\n"
     ]
    },
    {
     "name": "stderr",
     "output_type": "stream",
     "text": [
      "                                                                                \r"
     ]
    },
    {
     "name": "stdout",
     "output_type": "stream",
     "text": [
      "1072 17180260\n"
     ]
    },
    {
     "name": "stderr",
     "output_type": "stream",
     "text": [
      "                                                                                \r"
     ]
    },
    {
     "name": "stdout",
     "output_type": "stream",
     "text": [
      "1073 17179938\n"
     ]
    },
    {
     "name": "stderr",
     "output_type": "stream",
     "text": [
      "                                                                                \r"
     ]
    },
    {
     "name": "stdout",
     "output_type": "stream",
     "text": [
      "1074 17180248\n"
     ]
    },
    {
     "name": "stderr",
     "output_type": "stream",
     "text": [
      "                                                                                \r"
     ]
    },
    {
     "name": "stdout",
     "output_type": "stream",
     "text": [
      "1075 17180258\n"
     ]
    },
    {
     "name": "stderr",
     "output_type": "stream",
     "text": [
      "                                                                                \r"
     ]
    },
    {
     "name": "stdout",
     "output_type": "stream",
     "text": [
      "1076 17179935\n"
     ]
    },
    {
     "name": "stderr",
     "output_type": "stream",
     "text": [
      "                                                                                \r"
     ]
    },
    {
     "name": "stdout",
     "output_type": "stream",
     "text": [
      "1077 17180196\n"
     ]
    },
    {
     "name": "stderr",
     "output_type": "stream",
     "text": [
      "                                                                                \r"
     ]
    },
    {
     "name": "stdout",
     "output_type": "stream",
     "text": [
      "1078 17180304\n"
     ]
    },
    {
     "name": "stderr",
     "output_type": "stream",
     "text": [
      "                                                                                \r"
     ]
    },
    {
     "name": "stdout",
     "output_type": "stream",
     "text": [
      "1079 17180360\n",
      "1080 17180386\n",
      "1081 17180218\n",
      "1082 17179987\n",
      "1083 17180049\n",
      "1084 17179978\n",
      "1085 17180002\n",
      "1086 17180332\n",
      "1087 17180288\n",
      "1088 17179999\n",
      "1089 17180140\n",
      "1090 17180189\n",
      "1091 17180379\n",
      "1092 17179932\n",
      "1093 17180073\n",
      "1094 17180203\n",
      "1095 17180279\n",
      "1096 17180291\n",
      "1097 17179910\n",
      "1098 17180072\n",
      "1099 17180327\n",
      "1100 17179895\n",
      "1101 17180231\n",
      "1102 17180256\n",
      "1103 17180356\n",
      "1104 17179988\n",
      "1105 17180030\n",
      "1106 17180238\n",
      "1107 17180214\n",
      "1108 17179920\n",
      "1109 17179986\n",
      "1110 17180005\n",
      "1111 17180119\n",
      "1112 17180199\n",
      "1113 17180207\n",
      "1114 17180317\n",
      "1115 17180342\n",
      "1116 17179882\n",
      "1117 17180085\n",
      "1118 17180130\n",
      "1119 17180322\n",
      "1120 17180076\n",
      "1121 17180347\n",
      "1122 17180355\n",
      "1123 17180155\n",
      "1124 17180147\n",
      "1125 17180364\n",
      "1126 17180173\n",
      "1127 17180188\n",
      "1128 17180202\n",
      "1129 17180246\n",
      "1130 17179878\n",
      "1131 17179980\n",
      "1132 17180022\n",
      "1133 17179950\n",
      "1134 17180027\n",
      "1135 17180035\n",
      "1136 17179903\n",
      "1137 17179927\n",
      "1138 17180111\n",
      "1139 17180362\n",
      "1140 17180346\n",
      "1141 17179993\n",
      "1142 17180110\n",
      "1143 17180179\n",
      "1144 17180381\n",
      "1145 17180053\n",
      "1146 17180376\n",
      "1147 17179983\n",
      "1148 17179911\n",
      "1149 17179936\n",
      "1150 17180102\n",
      "1151 17180255\n",
      "1152 17180337\n",
      "1153 17179900\n",
      "1154 17179901\n",
      "1155 17179996\n",
      "1156 17180013\n",
      "1157 17180224\n",
      "1158 17179898\n",
      "1159 17180037\n",
      "1160 17180334\n",
      "1161 17180034\n",
      "1162 17180081\n",
      "1163 17180143\n",
      "1164 17180075\n",
      "1165 17180328\n",
      "1166 17179948\n",
      "1167 17180006\n",
      "1168 17180083\n",
      "1169 17180229\n",
      "1170 17180318\n",
      "1171 17179929\n",
      "1172 17179951\n",
      "1173 17180157\n",
      "1174 17180243\n",
      "1175 17180273\n",
      "1176 17180099\n",
      "1177 17180195\n",
      "1178 17180219\n",
      "1179 17179942\n",
      "1180 17180372\n",
      "1181 17180036\n",
      "1182 17180115\n",
      "1183 17180242\n",
      "1184 17180001\n",
      "1185 17180185\n",
      "1186 17180363\n",
      "1187 17180377\n",
      "1188 17179874\n",
      "1189 17179940\n",
      "1190 17180178\n",
      "1191 17179891\n",
      "1192 17179941\n",
      "1193 17179956\n",
      "1194 17180150\n",
      "1195 17180158\n",
      "1196 17180161\n",
      "1197 17180193\n",
      "1198 17180307\n",
      "1199 17179939\n",
      "1200 17180044\n",
      "1201 17180103\n",
      "1202 17180276\n",
      "1203 17180358\n",
      "1204 17179892\n",
      "1205 17179974\n",
      "1206 17180052\n",
      "1207 17180309\n",
      "1208 17180120\n",
      "1209 17180251\n",
      "1210 17180335\n",
      "1211 17180004\n",
      "1212 17179909\n",
      "1213 17180122\n",
      "1214 17180310\n",
      "1215 17180316\n",
      "1216 17180319\n",
      "1217 17180086\n",
      "1218 17180232\n",
      "1219 17180350\n",
      "1220 17180160\n",
      "1221 17179922\n",
      "1222 17180323\n",
      "1223 17179889\n",
      "1224 17180091\n",
      "1225 17180240\n",
      "1226 17180138\n",
      "1227 17179943\n",
      "1228 17180353\n",
      "1229 17179904\n",
      "1230 17179931\n",
      "1231 17179969\n",
      "1232 17179970\n",
      "1233 17179990\n",
      "1234 17180074\n",
      "1235 17180087\n",
      "1236 17180324\n",
      "1237 17180097\n",
      "1238 17180046\n",
      "1239 17180094\n",
      "1240 17180159\n",
      "1241 17180205\n",
      "1242 17180211\n",
      "1243 17180129\n",
      "1244 17180266\n",
      "1245 17180210\n",
      "1246 17180132\n",
      "1247 17180371\n",
      "1248 17179994\n",
      "1249 17180265\n",
      "1250 17180274\n",
      "1251 17180333\n",
      "1252 17179893\n",
      "1253 17179958\n",
      "1254 17180065\n",
      "1255 17180151\n",
      "1256 17180209\n",
      "1257 17180176\n",
      "1258 17180326\n",
      "1259 17179930\n",
      "1260 17180382\n",
      "1261 17179915\n",
      "1262 17180048\n",
      "1263 17180305\n",
      "1264 17180385\n",
      "1265 17179876\n",
      "1266 17180003\n",
      "1267 17180373\n",
      "1268 17179914\n",
      "1269 17179952\n",
      "1270 17180107\n",
      "1271 17180331\n",
      "1272 17180063\n",
      "1273 17180343\n",
      "1274 17180344\n",
      "1275 17179971\n",
      "1276 17180047\n",
      "1277 17180061\n",
      "1278 17180321\n",
      "1279 17180007\n",
      "1280 17180303\n",
      "1281 17179907\n",
      "1282 17180068\n",
      "1283 17180113\n",
      "1284 17180293\n",
      "1285 17180296\n",
      "1286 17180306\n",
      "1287 17179981\n",
      "1288 17180259\n",
      "1289 17180290\n",
      "1290 17179945\n",
      "1291 17180060\n",
      "1292 17180093\n",
      "1293 17180375\n",
      "1294 17179884\n",
      "1295 17180237\n",
      "1296 17180368\n",
      "1297 17180175\n",
      "1298 17179923\n",
      "1299 17180182\n",
      "1300 17180206\n",
      "1301 17180301\n",
      "1302 17180292\n",
      "1303 17180297\n",
      "1304 17179962\n",
      "1305 17180271\n",
      "1306 17179928\n",
      "1307 17180338\n",
      "1308 17180077\n",
      "1309 17180340\n",
      "1310 17180064\n",
      "1311 17180098\n",
      "1312 17180128\n",
      "1313 17179897\n",
      "1314 17179966\n",
      "1315 17180023\n",
      "1316 17180088\n",
      "1317 17180226\n",
      "1318 17180227\n",
      "1319 17180270\n",
      "1320 17179947\n",
      "1321 17180383\n",
      "1322 17180020\n",
      "1323 17180117\n",
      "1324 17180315\n",
      "1325 17179906\n",
      "1326 17180125\n",
      "1327 17180146\n",
      "1328 17180069\n",
      "1329 17180095\n",
      "1330 17180244\n",
      "1331 17179961\n",
      "1332 17180096\n",
      "1333 17180384\n",
      "1334 17180139\n",
      "1335 17180016\n",
      "1336 17180311\n",
      "1337 17179879\n",
      "1338 17180056\n",
      "1339 17180212\n",
      "1340 17180108\n",
      "1341 17180269\n",
      "1342 17180287\n",
      "1343 17180144\n",
      "1344 17180254\n",
      "1345 17179992\n",
      "1346 17180029\n",
      "1347 17180187\n",
      "1348 17180066\n",
      "1349 17180089\n",
      "1350 17180263\n",
      "1351 17179934\n",
      "1352 17179973\n",
      "1353 17180116\n",
      "1354 17180165\n",
      "1355 17180213\n",
      "1356 17180281\n",
      "1357 17180282\n",
      "1358 17179896\n",
      "1359 17179954\n",
      "1360 17180123\n",
      "1361 17180177\n",
      "1362 17180183\n",
      "1363 17180239\n",
      "1364 17179979\n",
      "1365 17180090\n",
      "1366 17180121\n",
      "1367 17180186\n",
      "1368 17180285\n",
      "1369 17180330\n",
      "1370 17180354\n",
      "1371 17180135\n",
      "1372 17180180\n",
      "1373 17179949\n",
      "1374 17180071\n",
      "1375 17180235\n",
      "1376 17180092\n",
      "1377 17180149\n",
      "1378 17180038\n",
      "1379 17180133\n",
      "1380 17180298\n",
      "1381 17180325\n",
      "1382 17180194\n",
      "1383 17180261\n",
      "1384 17180041\n",
      "1385 17180045\n",
      "1386 17180131\n",
      "1387 17180137\n",
      "1388 17180233\n",
      "1389 17180264\n",
      "1390 17180357\n",
      "1391 17179946\n",
      "1392 17180361\n",
      "1393 17179975\n",
      "1394 17180153\n",
      "1395 17179925\n",
      "1396 17180272\n",
      "1397 17180314\n",
      "1398 17180042\n",
      "1399 17180172\n",
      "1400 17180191\n",
      "1401 17180249\n",
      "1402 17180300\n",
      "1403 17179869\n",
      "1404 17179919\n",
      "1405 17180015\n",
      "1406 17180329\n",
      "1407 17180050\n",
      "1408 17180124\n",
      "1409 17180289\n",
      "1410 17180028\n",
      "1411 17180295\n",
      "1412 17179976\n",
      "1413 17180109\n",
      "1414 17179989\n",
      "1415 17180017\n",
      "1416 17180192\n",
      "1417 17180252\n",
      "1418 17180284\n",
      "1419 17179888\n",
      "1420 17179873\n",
      "1421 17179880\n",
      "1422 17179982\n",
      "1423 17180018\n",
      "1424 17180171\n",
      "1425 17179960\n",
      "1426 17180057\n",
      "1427 17180302\n",
      "1428 17179917\n",
      "1429 17180136\n",
      "1430 17180167\n",
      "1431 17180351\n",
      "1432 17179908\n",
      "1433 17180000\n",
      "1434 17180011\n",
      "1435 17180039\n",
      "1436 17180294\n",
      "1437 17180080\n",
      "1438 17179872\n",
      "1439 17179933\n",
      "1440 17180008\n",
      "1441 17180366\n",
      "1442 17179881\n",
      "1443 17180352\n",
      "1444 17179905\n",
      "1445 17179913\n",
      "1446 17180148\n",
      "1447 17180341\n",
      "1448 17180012\n",
      "1449 17180058\n",
      "1450 17179870\n",
      "1451 17179921\n",
      "1452 17180078\n",
      "1453 17180082\n",
      "1454 17179886\n",
      "1455 17180025\n",
      "1456 17180084\n",
      "1457 17180225\n",
      "1458 17180245\n",
      "1459 17180299\n",
      "1460 17180118\n",
      "1461 17180365\n",
      "1462 17179937\n",
      "1463 17179964\n",
      "1464 17180014\n",
      "1465 17180154\n",
      "1466 17180257\n",
      "1467 17180369\n",
      "1468 17179912\n",
      "1469 17180010\n",
      "1470 17180079\n",
      "1471 17180162\n",
      "1472 17179871\n",
      "1473 17179967\n",
      "1474 17180033\n",
      "1475 17180142\n",
      "1476 17180234\n",
      "1477 17179926\n",
      "1478 17180031\n",
      "1479 17180308\n",
      "1480 17180367\n",
      "1481 17180313\n",
      "1482 17180208\n",
      "1483 17179902\n",
      "1484 17179963\n",
      "1485 17179959\n",
      "1486 17180105\n",
      "1487 17180134\n",
      "1488 17180181\n",
      "1489 17180204\n"
     ]
    },
    {
     "name": "stderr",
     "output_type": "stream",
     "text": [
      "                                                                                \r"
     ]
    },
    {
     "name": "stdout",
     "output_type": "stream",
     "text": [
      "1490 17180250\n",
      "1491 17179953\n",
      "1492 17179985\n",
      "1493 17180152\n",
      "1494 17180280\n",
      "1495 17179918\n",
      "1496 17180026\n",
      "1497 17180166\n",
      "1498 17180201\n",
      "1499 17180262\n",
      "1500 17180070\n",
      "1501 17180336\n",
      "1502 17180278\n",
      "1503 17179997\n",
      "1504 17180032\n",
      "1505 17180163\n",
      "1506 17180168\n",
      "1507 17180184\n",
      "1508 17180200\n",
      "1509 17180223\n",
      "1510 17179972\n",
      "1511 17179875\n",
      "1512 17179887\n",
      "1513 17180241\n",
      "1514 17180374\n",
      "1515 17179995\n",
      "1516 17180215\n",
      "1517 17179883\n",
      "1518 17180067\n",
      "1519 17180112\n",
      "1520 17180024\n",
      "1521 17180170\n",
      "1522 17180345\n",
      "1523 17180378\n",
      "1524 17179977\n",
      "1525 17180216\n",
      "1526 17180236\n",
      "1527 17179877\n",
      "1528 17179957\n",
      "1529 17180197\n",
      "1530 17180221\n",
      "1531 17180100\n",
      "1532 17180126\n",
      "1533 17180174\n",
      "1534 17180268\n",
      "1535 17179965\n",
      "1536 17180051\n",
      "1537 17180253\n",
      "1538 17180275\n",
      "1539 17179916\n",
      "1540 17180320\n",
      "1541 17180055\n",
      "1542 17180169\n",
      "1543 17180339\n",
      "1544 17180348\n",
      "1545 17180106\n",
      "1546 17180164\n",
      "1547 17180019\n",
      "1548 17180101\n",
      "1549 17180220\n",
      "1550 17180267\n",
      "1551 17180277\n",
      "1552 17180312\n",
      "1553 17180380\n",
      "1554 17180040\n",
      "1555 17180283\n",
      "1556 25769896\n",
      "1557 25769976\n",
      "1558 25770252\n",
      "1559 25770265\n",
      "1560 25769934\n",
      "1561 25769969\n",
      "1562 25770050\n",
      "1563 25770099\n",
      "1564 25770106\n",
      "1565 25770159\n",
      "1566 25770255\n",
      "1567 25770287\n",
      "1568 25770072\n",
      "1569 25770219\n",
      "1570 25770103\n",
      "1571 25770112\n",
      "1572 25770248\n",
      "1573 25769950\n",
      "1574 25770185\n",
      "1575 25769831\n",
      "1576 25770076\n",
      "1577 25770264\n",
      "1578 25769911\n",
      "1579 25769921\n",
      "1580 25770022\n",
      "1581 25770034\n",
      "1582 25770061\n",
      "1583 25770212\n",
      "1584 25770049\n",
      "1585 25769999\n",
      "1586 25770121\n",
      "1587 25770123\n",
      "1588 25770276\n",
      "1589 25769947\n",
      "1590 25769992\n",
      "1591 25769856\n",
      "1592 25769907\n",
      "1593 25769994\n",
      "1594 25770104\n",
      "1595 25770275\n",
      "1596 25769818\n",
      "1597 25769927\n",
      "1598 25769938\n",
      "1599 25770004\n",
      "1600 25770142\n",
      "1601 25769809\n",
      "1602 25770089\n",
      "1603 25770278\n",
      "1604 25769890\n",
      "1605 25769995\n",
      "1606 25770001\n",
      "1607 25770070\n",
      "1608 25769810\n",
      "1609 25770051\n",
      "1610 25769858\n",
      "1611 25769860\n",
      "1612 25770067\n",
      "1613 25770204\n",
      "1614 25770009\n",
      "1615 25770064\n",
      "1616 25770308\n",
      "1617 25769833\n",
      "1618 25770133\n",
      "1619 25770160\n",
      "1620 25770195\n",
      "1621 25770222\n",
      "1622 25770024\n",
      "1623 25769882\n",
      "1624 25769982\n",
      "1625 25770020\n",
      "1626 25770187\n",
      "1627 25769930\n",
      "1628 25770038\n",
      "1629 25770173\n",
      "1630 25770158\n",
      "1631 25770164\n",
      "1632 25769980\n",
      "1633 25770086\n",
      "1634 25770152\n",
      "1635 25770202\n",
      "1636 25769924\n",
      "1637 25770126\n",
      "1638 25770130\n",
      "1639 25770146\n",
      "1640 25769881\n",
      "1641 25770052\n",
      "1642 25770237\n",
      "1643 25769821\n",
      "1644 25770053\n",
      "1645 25769964\n",
      "1646 25770058\n",
      "1647 25770214\n",
      "1648 25769959\n",
      "1649 25769857\n",
      "1650 25769968\n",
      "1651 25770027\n",
      "1652 25770143\n",
      "1653 25770291\n",
      "1654 25770293\n",
      "1655 25770307\n",
      "1656 25769991\n",
      "1657 25770224\n",
      "1658 25769822\n",
      "1659 25769873\n",
      "1660 25769883\n",
      "1661 25769849\n",
      "1662 25770035\n",
      "1663 25770141\n",
      "1664 25769904\n",
      "1665 25770309\n",
      "1666 25769971\n",
      "1667 25770306\n",
      "1668 25770031\n",
      "1669 25770117\n",
      "1670 25770169\n",
      "1671 25769935\n",
      "1672 25769956\n",
      "1673 25770294\n",
      "1674 25770015\n",
      "1675 25770137\n",
      "1676 25770017\n",
      "1677 25770240\n",
      "1678 25770313\n",
      "1679 25769815\n",
      "1680 25769906\n",
      "1681 25769998\n",
      "1682 25770042\n",
      "1683 25770144\n",
      "1684 25770232\n",
      "1685 25769970\n",
      "1686 25770078\n",
      "1687 25769828\n",
      "1688 25770199\n",
      "1689 25770260\n",
      "1690 25770138\n",
      "1691 25769914\n",
      "1692 25769963\n",
      "1693 25769973\n",
      "1694 25770228\n",
      "1695 25769951\n",
      "1696 25770057\n",
      "1697 25770223\n",
      "1698 25770227\n",
      "1699 25770006\n",
      "1700 25770037\n",
      "1701 25770229\n",
      "1702 25770292\n",
      "1703 25770012\n",
      "1704 25770074\n",
      "1705 25770190\n",
      "1706 25769967\n",
      "1707 25769887\n",
      "1708 25770213\n",
      "1709 25770303\n",
      "1710 25770304\n",
      "1711 25770189\n",
      "1712 25769962\n",
      "1713 25770036\n",
      "1714 25769952\n",
      "1715 25770151\n",
      "1716 25769862\n",
      "1717 25769984\n",
      "1718 25770122\n",
      "1719 25770134\n",
      "1720 25769851\n",
      "1721 25770128\n",
      "1722 25770171\n",
      "1723 25769886\n",
      "1724 25769939\n",
      "1725 25769979\n",
      "1726 25770011\n",
      "1727 25770221\n",
      "1728 25770298\n",
      "1729 25769936\n",
      "1730 25769990\n",
      "1731 25769813\n",
      "1732 25769855\n",
      "1733 25769975\n",
      "1734 25770026\n",
      "1735 25770220\n",
      "1736 25770262\n",
      "1737 25770302\n",
      "1738 25769870\n",
      "1739 25770000\n",
      "1740 25770046\n",
      "1741 25770048\n",
      "1742 25770082\n",
      "1743 25770132\n",
      "1744 25769808\n",
      "1745 25769841\n",
      "1746 25769892\n",
      "1747 25770177\n",
      "1748 25770033\n",
      "1749 25770092\n",
      "1750 25770182\n",
      "1751 25770200\n",
      "1752 25769835\n",
      "1753 25770205\n",
      "1754 25770148\n",
      "1755 25770285\n",
      "1756 25769942\n",
      "1757 25770272\n",
      "1758 25770258\n",
      "1759 25770299\n",
      "1760 25770198\n",
      "1761 25770210\n",
      "1762 25769993\n",
      "1763 25770059\n",
      "1764 25770109\n",
      "1765 25770266\n",
      "1766 25770318\n",
      "1767 25770060\n",
      "1768 25770127\n",
      "1769 25770193\n",
      "1770 25770211\n",
      "1771 25769986\n",
      "1772 25770125\n",
      "1773 25770216\n",
      "1774 25769836\n",
      "1775 25769926\n",
      "1776 25769933\n",
      "1777 25769997\n",
      "1778 25770041\n",
      "1779 25770102\n",
      "1780 25770270\n",
      "1781 25770282\n",
      "1782 25770120\n",
      "1783 25770235\n",
      "1784 25770239\n",
      "1785 25770273\n",
      "1786 25769842\n",
      "1787 25770087\n",
      "1788 25770093\n",
      "1789 25770254\n",
      "1790 25769945\n",
      "1791 25769867\n",
      "1792 25770010\n",
      "1793 25769885\n",
      "1794 25769922\n",
      "1795 25769847\n",
      "1796 25770008\n",
      "1797 25770113\n",
      "1798 25770176\n",
      "1799 25769827\n",
      "1800 25770071\n",
      "1801 25770118\n",
      "1802 25770215\n",
      "1803 25770277\n",
      "1804 25769898\n",
      "1805 25769889\n",
      "1806 25770018\n",
      "1807 25770186\n",
      "1808 25770230\n",
      "1809 25770179\n",
      "1810 25770080\n",
      "1811 25770110\n",
      "1812 25770247\n",
      "1813 25770305\n",
      "1814 25769804\n",
      "1815 25769861\n",
      "1816 25770029\n",
      "1817 25769837\n",
      "1818 25769916\n",
      "1819 25770065\n",
      "1820 25770161\n",
      "1821 25769852\n",
      "1822 25769895\n",
      "1823 25769961\n",
      "1824 25770003\n",
      "1825 25770175\n",
      "1826 25770288\n",
      "1827 25769948\n",
      "1828 25770168\n",
      "1829 25770178\n",
      "1830 25770194\n",
      "1831 25770043\n",
      "1832 25770094\n",
      "1833 25769803\n",
      "1834 25769884\n",
      "1835 25770068\n",
      "1836 25770183\n",
      "1837 25770289\n",
      "1838 25769931\n",
      "1839 25770021\n",
      "1840 25770312\n",
      "1841 25769848\n",
      "1842 25769879\n",
      "1843 25770170\n",
      "1844 25769825\n",
      "1845 25770297\n",
      "1846 25769807\n",
      "1847 25769845\n",
      "1848 25770079\n",
      "1849 25770174\n",
      "1850 25769940\n",
      "1851 25770007\n",
      "1852 25770028\n",
      "1853 25770231\n",
      "1854 25770261\n",
      "1855 25770044\n",
      "1856 25769829\n",
      "1857 25769832\n"
     ]
    },
    {
     "name": "stderr",
     "output_type": "stream",
     "text": [
      "                                                                                \r"
     ]
    },
    {
     "name": "stdout",
     "output_type": "stream",
     "text": [
      "1858 25769859\n"
     ]
    },
    {
     "name": "stderr",
     "output_type": "stream",
     "text": [
      "                                                                                \r"
     ]
    },
    {
     "name": "stdout",
     "output_type": "stream",
     "text": [
      "1859 25769868\n",
      "1860 25769876\n",
      "1861 25769918\n",
      "1862 25769958\n",
      "1863 25769985\n",
      "1864 25770116\n",
      "1865 25770145\n",
      "1866 25769966\n",
      "1867 25770097\n",
      "1868 25770166\n",
      "1869 25769823\n",
      "1870 25769874\n",
      "1871 25769908\n",
      "1872 25769996\n",
      "1873 25769983\n",
      "1874 25769988\n",
      "1875 25770023\n",
      "1876 25770259\n",
      "1877 25770268\n",
      "1878 25770310\n",
      "1879 25770115\n",
      "1880 25770124\n",
      "1881 25770155\n",
      "1882 25769865\n",
      "1883 25770045\n",
      "1884 25770100\n",
      "1885 25769843\n",
      "1886 25769989\n",
      "1887 25770085\n",
      "1888 25770295\n",
      "1889 25770135\n",
      "1890 25770149\n",
      "1891 25770153\n",
      "1892 25770225\n",
      "1893 25770267\n",
      "1894 25770286\n",
      "1895 25769909\n",
      "1896 25769957\n",
      "1897 25770075\n",
      "1898 25770047\n",
      "1899 25770101\n",
      "1900 25770088\n",
      "1901 25769937\n",
      "1902 25770073\n",
      "1903 25769875\n",
      "1904 25770039\n",
      "1905 25770181\n",
      "1906 25769953\n",
      "1907 25770019\n",
      "1908 25770154\n",
      "1909 25769863\n",
      "1910 25770014\n",
      "1911 25770156\n",
      "1912 25770157\n",
      "1913 25770281\n",
      "1914 25769834\n",
      "1915 25769871\n",
      "1916 25769901\n",
      "1917 25769915\n",
      "1918 25769954\n",
      "1919 25770301\n",
      "1920 25769913\n",
      "1921 25770063\n",
      "1922 25770242\n",
      "1923 25770243\n",
      "1924 25770300\n",
      "1925 25769888\n",
      "1926 25769925\n",
      "1927 25769878\n",
      "1928 25770066\n",
      "1929 25770096\n",
      "1930 25770196\n",
      "1931 25769899\n",
      "1932 25770191\n",
      "1933 25770197\n",
      "1934 25770253\n",
      "1935 25770315\n",
      "1936 25770317\n",
      "1937 25769972\n",
      "1938 25769949\n",
      "1939 25770172\n",
      "1940 25770203\n",
      "1941 25770234\n",
      "1942 25769920\n",
      "1943 25770147\n",
      "1944 25770201\n",
      "1945 25770319\n",
      "1946 25769806\n",
      "1947 25769894\n",
      "1948 25770040\n",
      "1949 25770055\n",
      "1950 25770184\n",
      "1951 25769817\n",
      "1952 25769965\n",
      "1953 25770091\n",
      "1954 25770245\n",
      "1955 25770311\n",
      "1956 25769866\n",
      "1957 25770032\n",
      "1958 25770218\n",
      "1959 25770090\n",
      "1960 25769814\n",
      "1961 25769960\n",
      "1962 25769819\n",
      "1963 25769891\n",
      "1964 25770271\n",
      "1965 25769929\n",
      "1966 25769826\n",
      "1967 25769811\n",
      "1968 25770030\n",
      "1969 25770290\n",
      "1970 25769978\n",
      "1971 25770131\n",
      "1972 25770180\n",
      "1973 25769955\n",
      "1974 25769844\n",
      "1975 25770314\n",
      "1976 25770206\n",
      "1977 25770111\n",
      "1978 25770139\n",
      "1979 25770244\n",
      "1980 25770162\n",
      "1981 25770279\n",
      "1982 25770280\n",
      "1983 25769900\n",
      "1984 25769910\n",
      "1985 25769912\n",
      "1986 25769943\n",
      "1987 25770005\n",
      "1988 25770236\n",
      "1989 25769830\n",
      "1990 25769840\n",
      "1991 25769981\n",
      "1992 25770217\n",
      "1993 25769854\n",
      "1994 25769869\n",
      "1995 25769946\n",
      "1996 25770136\n",
      "1997 25769987\n",
      "1998 25770084\n",
      "1999 25769850\n",
      "2000 25770095\n",
      "2001 25769944\n",
      "2002 25770140\n",
      "2003 25770263\n",
      "2004 25769846\n",
      "2005 25770107\n",
      "2006 25770283\n",
      "2007 25769877\n",
      "2008 25770192\n",
      "2009 25769812\n",
      "2010 25769838\n",
      "2011 25770257\n",
      "2012 25769893\n",
      "2013 25769941\n",
      "2014 25770025\n",
      "2015 25770238\n",
      "2016 25769872\n",
      "2017 25769805\n",
      "2018 25769902\n",
      "2019 25769932\n",
      "2020 25770105\n",
      "2021 25770316\n",
      "2022 25769903\n",
      "2023 25769974\n",
      "2024 25770069\n",
      "2025 25770209\n",
      "2026 25770256\n",
      "2027 25769853\n",
      "2028 25770119\n",
      "2029 25770250\n",
      "2030 25770284\n",
      "2031 25769919\n",
      "2032 25770098\n",
      "2033 25770233\n",
      "2034 25770056\n",
      "2035 25770081\n",
      "2036 25770129\n",
      "2037 25769820\n",
      "2038 25769897\n",
      "2039 25770163\n",
      "2040 25770188\n",
      "2041 25770167\n",
      "2042 25770226\n",
      "2043 25769816\n",
      "2044 25770150\n",
      "2045 25770241\n",
      "2046 25770249\n",
      "2047 25770251\n",
      "2048 25770296\n",
      "2049 25770320\n",
      "2050 25770114\n",
      "2051 25769864\n",
      "2052 25770108\n",
      "2053 25769928\n",
      "2054 25770002\n",
      "2055 25770208\n",
      "2056 25769880\n",
      "2057 25769824\n",
      "2058 25770054\n",
      "2059 25770077\n",
      "2060 25770016\n",
      "2061 25770165\n",
      "2062 25770269\n",
      "2063 25770062\n",
      "2064 25769905\n",
      "2065 25769917\n",
      "2066 25770013\n",
      "2067 25770246\n",
      "2068 25769839\n",
      "2069 25770207\n",
      "2070 25770274\n",
      "2071 25769923\n",
      "2072 25769977\n",
      "2073 25770083\n",
      "2074 34359810\n",
      "2075 34360027\n",
      "2076 34360101\n",
      "2077 34359749\n",
      "2078 34359849\n",
      "2079 34360115\n",
      "2080 34360116\n",
      "2081 34360211\n",
      "2082 34359744\n",
      "2083 34359835\n",
      "2084 34360005\n",
      "2085 34360208\n",
      "2086 34359753\n",
      "2087 34359939\n",
      "2088 34359953\n",
      "2089 34359827\n",
      "2090 34359843\n",
      "2091 34360030\n",
      "2092 34360044\n",
      "2093 34360164\n",
      "2094 34360180\n",
      "2095 34359860\n",
      "2096 34359833\n",
      "2097 34359948\n",
      "2098 34359842\n",
      "2099 34359896\n",
      "2100 34360146\n",
      "2101 34359970\n",
      "2102 34360172\n",
      "2103 34360231\n",
      "2104 34359945\n",
      "2105 34359983\n",
      "2106 34360117\n",
      "2107 34359865\n",
      "2108 34359909\n",
      "2109 34359805\n",
      "2110 34359859\n",
      "2111 34360194\n",
      "2112 34360206\n",
      "2113 34360008\n",
      "2114 34359831\n",
      "2115 34359958\n",
      "2116 34360086\n",
      "2117 34360104\n",
      "2118 34360144\n",
      "2119 34359837\n",
      "2120 34360007\n",
      "2121 34360018\n",
      "2122 34359976\n",
      "2123 34360045\n",
      "2124 34360068\n",
      "2125 34360154\n",
      "2126 34360184\n",
      "2127 34360095\n",
      "2128 34360233\n",
      "2129 34360057\n",
      "2130 34359965\n",
      "2131 34360139\n",
      "2132 34360082\n",
      "2133 34360136\n",
      "2134 34359795\n",
      "2135 34359928\n",
      "2136 34360052\n",
      "2137 34360056\n",
      "2138 34359752\n",
      "2139 34359766\n",
      "2140 34359847\n",
      "2141 34359855\n",
      "2142 34360078\n",
      "2143 34360205\n",
      "2144 34359759\n",
      "2145 34359903\n",
      "2146 34360049\n",
      "2147 34360097\n",
      "2148 34360143\n",
      "2149 34360181\n",
      "2150 34359782\n",
      "2151 34359962\n",
      "2152 34360050\n",
      "2153 34360099\n",
      "2154 34360054\n",
      "2155 34359765\n",
      "2156 34359874\n",
      "2157 34359904\n",
      "2158 34359846\n",
      "2159 34359937\n",
      "2160 34360059\n",
      "2161 34359816\n",
      "2162 34359935\n",
      "2163 34360153\n",
      "2164 34360166\n",
      "2165 34360006\n",
      "2166 34360010\n",
      "2167 34360083\n",
      "2168 34360091\n",
      "2169 34360148\n",
      "2170 34359978\n",
      "2171 34360124\n",
      "2172 34359783\n",
      "2173 34359869\n",
      "2174 34360071\n",
      "2175 34359828\n",
      "2176 34359930\n",
      "2177 34360173\n",
      "2178 34359775\n",
      "2179 34359789\n",
      "2180 34359841\n",
      "2181 34359857\n",
      "2182 34360043\n",
      "2183 34360063\n",
      "2184 34360127\n",
      "2185 34359811\n",
      "2186 34359815\n",
      "2187 34360011\n",
      "2188 34360107\n",
      "2189 34359756\n",
      "2190 34359876\n",
      "2191 34359916\n",
      "2192 34359975\n",
      "2193 34360089\n",
      "2194 34359875\n",
      "2195 34359741\n",
      "2196 34359788\n",
      "2197 34359820\n",
      "2198 34359934\n",
      "2199 34360188\n",
      "2200 34360200\n",
      "2201 34359882\n",
      "2202 34359897\n",
      "2203 34360096\n",
      "2204 34360190\n",
      "2205 34359946\n",
      "2206 34359954\n",
      "2207 34360114\n",
      "2208 34359834\n",
      "2209 34359926\n",
      "2210 34359940\n",
      "2211 34359890\n",
      "2212 34360019\n",
      "2213 34360067\n",
      "2214 34359814\n",
      "2215 34359956\n",
      "2216 34359971\n",
      "2217 34359838\n",
      "2218 34359884\n",
      "2219 34359905\n",
      "2220 34359957\n",
      "2221 34360077\n",
      "2222 34359774\n",
      "2223 34359850\n",
      "2224 34360202\n",
      "2225 34359768\n",
      "2226 34359900\n",
      "2227 34360098\n",
      "2228 34359898\n",
      "2229 34359918\n",
      "2230 34360174\n",
      "2231 34360162\n",
      "2232 34359908\n",
      "2233 34359950\n",
      "2234 34359853\n",
      "2235 34360207\n",
      "2236 34359879\n",
      "2237 34359839\n",
      "2238 34359984\n",
      "2239 34359755\n",
      "2240 34359917\n",
      "2241 34360001\n",
      "2242 34360141\n",
      "2243 34360170\n",
      "2244 34359938\n",
      "2245 34360080\n",
      "2246 34360009\n",
      "2247 34360041\n",
      "2248 34360193\n",
      "2249 34360094\n",
      "2250 34360177\n",
      "2251 34360225\n",
      "2252 34359771\n",
      "2253 34359773\n",
      "2254 34360053\n",
      "2255 34359901\n",
      "2256 34360087\n",
      "2257 34359738\n",
      "2258 34359796\n",
      "2259 34360069\n",
      "2260 34360186\n",
      "2261 34359739\n",
      "2262 34359851\n",
      "2263 34359927\n",
      "2264 34359955\n",
      "2265 34360039\n",
      "2266 34359742\n",
      "2267 34359878\n",
      "2268 34359921\n",
      "2269 34360203\n",
      "2270 34359848\n",
      "2271 34359889\n",
      "2272 34359969\n",
      "2273 34360108\n",
      "2274 34360167\n",
      "2275 34359746\n",
      "2276 34359825\n",
      "2277 34359829\n",
      "2278 34359864\n",
      "2279 34359870\n",
      "2280 34359967\n",
      "2281 34360090\n",
      "2282 34359972\n",
      "2283 34360132\n",
      "2284 34360179\n",
      "2285 34359750\n",
      "2286 34359931\n",
      "2287 34360061\n",
      "2288 34359973\n",
      "2289 34359980\n",
      "2290 34360003\n",
      "2291 34359892\n",
      "2292 34359772\n",
      "2293 34359868\n",
      "2294 34360021\n",
      "2295 34360075\n",
      "2296 34360125\n",
      "2297 34359740\n",
      "2298 34359981\n",
      "2299 34360000\n",
      "2300 34360199\n",
      "2301 34359779\n",
      "2302 34359866\n",
      "2303 34359942\n",
      "2304 34359964\n",
      "2305 34360029\n",
      "2306 34359812\n",
      "2307 34359881\n",
      "2308 34359993\n",
      "2309 34360159\n",
      "2310 34359760\n",
      "2311 34360014\n",
      "2312 34360135\n",
      "2313 34359751\n",
      "2314 34359778\n",
      "2315 34359911\n",
      "2316 34360028\n",
      "2317 34360118\n",
      "2318 34360221\n",
      "2319 34359943\n",
      "2320 34359872\n",
      "2321 34359792\n",
      "2322 34359822\n",
      "2323 34359893\n",
      "2324 34359910\n",
      "2325 34359966\n",
      "2326 34360165\n",
      "2327 34360227\n",
      "2328 34359887\n",
      "2329 34359745\n",
      "2330 34359804\n",
      "2331 34359974\n",
      "2332 34359977\n",
      "2333 34359748\n",
      "2334 34359826\n",
      "2335 34359941\n",
      "2336 34360138\n",
      "2337 34359806\n",
      "2338 34359844\n",
      "2339 34360066\n",
      "2340 34359754\n",
      "2341 34360002\n",
      "2342 34359913\n",
      "2343 34360025\n",
      "2344 34360215\n",
      "2345 34359777\n",
      "2346 34360137\n",
      "2347 34359840\n",
      "2348 34359991\n",
      "2349 34359999\n",
      "2350 34360157\n",
      "2351 34359798\n",
      "2352 34360191\n",
      "2353 34359854\n",
      "2354 34360032\n",
      "2355 34359952\n",
      "2356 34359989\n",
      "2357 34360065\n",
      "2358 34359830\n",
      "2359 34359861\n",
      "2360 34359919\n",
      "2361 34360024\n",
      "2362 34359819\n",
      "2363 34359995\n",
      "2364 34360155\n",
      "2365 34359797\n"
     ]
    },
    {
     "name": "stderr",
     "output_type": "stream",
     "text": [
      "                                                                                \r"
     ]
    },
    {
     "name": "stdout",
     "output_type": "stream",
     "text": [
      "2366 34360168\n"
     ]
    },
    {
     "name": "stderr",
     "output_type": "stream",
     "text": [
      "                                                                                \r"
     ]
    },
    {
     "name": "stdout",
     "output_type": "stream",
     "text": [
      "2367 34360016\n",
      "2368 34360040\n",
      "2369 34360046\n",
      "2370 34359871\n",
      "2371 34360196\n",
      "2372 34359786\n",
      "2373 34359922\n",
      "2374 34359949\n",
      "2375 34360088\n",
      "2376 34359794\n",
      "2377 34360051\n",
      "2378 34360209\n",
      "2379 34360210\n",
      "2380 34360074\n",
      "2381 34359747\n",
      "2382 34359790\n",
      "2383 34359832\n",
      "2384 34359836\n",
      "2385 34360073\n",
      "2386 34360122\n",
      "2387 34359762\n",
      "2388 34359951\n",
      "2389 34359986\n",
      "2390 34359824\n",
      "2391 34360017\n",
      "2392 34360064\n",
      "2393 34360072\n",
      "2394 34360218\n",
      "2395 34359821\n",
      "2396 34359992\n",
      "2397 34360163\n",
      "2398 34359785\n",
      "2399 34360156\n",
      "2400 34360224\n",
      "2401 34359758\n",
      "2402 34360026\n",
      "2403 34360048\n",
      "2404 34360105\n",
      "2405 34360134\n",
      "2406 34360171\n",
      "2407 34360198\n",
      "2408 34360229\n",
      "2409 34359817\n",
      "2410 34360185\n",
      "2411 34360217\n",
      "2412 34359994\n",
      "2413 34360038\n",
      "2414 34359761\n",
      "2415 34359979\n",
      "2416 34360175\n",
      "2417 34360232\n",
      "2418 34359780\n",
      "2419 34359968\n",
      "2420 34360070\n",
      "2421 34359907\n",
      "2422 34359924\n",
      "2423 34360187\n",
      "2424 34359883\n",
      "2425 34359944\n",
      "2426 34359988\n",
      "2427 34360081\n",
      "2428 34360109\n",
      "2429 34360133\n",
      "2430 34360178\n",
      "2431 34359929\n",
      "2432 34360084\n",
      "2433 34360195\n",
      "2434 34359959\n",
      "2435 34359996\n",
      "2436 34359998\n",
      "2437 34359799\n",
      "2438 34359902\n",
      "2439 34360216\n",
      "2440 34359867\n",
      "2441 34360123\n",
      "2442 34360145\n",
      "2443 34359764\n",
      "2444 34360031\n",
      "2445 34360120\n",
      "2446 34359963\n",
      "2447 34360103\n",
      "2448 34360222\n",
      "2449 34360176\n",
      "2450 34359891\n",
      "2451 34359906\n",
      "2452 34359800\n",
      "2453 34359852\n",
      "2454 34359936\n",
      "2455 34359985\n",
      "2456 34360113\n",
      "2457 34359888\n",
      "2458 34359914\n",
      "2459 34360140\n",
      "2460 34359802\n",
      "2461 34359803\n",
      "2462 34359863\n",
      "2463 34359886\n",
      "2464 34359895\n",
      "2465 34359925\n",
      "2466 34360110\n",
      "2467 34359823\n",
      "2468 34360079\n",
      "2469 34360152\n",
      "2470 34359818\n",
      "2471 34360131\n",
      "2472 34360062\n",
      "2473 34359769\n",
      "2474 34359807\n",
      "2475 34360012\n",
      "2476 34359791\n",
      "2477 34359982\n",
      "2478 34360219\n",
      "2479 34359743\n",
      "2480 34360100\n",
      "2481 34360142\n",
      "2482 34359763\n",
      "2483 34359947\n",
      "2484 34360230\n",
      "2485 34359801\n",
      "2486 34360220\n",
      "2487 34360150\n",
      "2488 34360169\n",
      "2489 34359915\n",
      "2490 34360020\n",
      "2491 34360023\n",
      "2492 34360092\n",
      "2493 34360213\n",
      "2494 34359776\n",
      "2495 34359961\n",
      "2496 34360037\n",
      "2497 34360151\n",
      "2498 34360212\n",
      "2499 34360226\n",
      "2500 34359880\n",
      "2501 34360022\n",
      "2502 34359933\n",
      "2503 34360161\n",
      "2504 34359787\n",
      "2505 34359862\n",
      "2506 34360197\n",
      "2507 34359845\n",
      "2508 34360013\n",
      "2509 34360121\n",
      "2510 34360147\n",
      "2511 34359932\n",
      "2512 34360033\n",
      "2513 34360047\n",
      "2514 34360149\n",
      "2515 34359793\n",
      "2516 34359809\n",
      "2517 34359873\n",
      "2518 34359885\n",
      "2519 34360160\n",
      "2520 34359858\n",
      "2521 34360036\n",
      "2522 34359770\n",
      "2523 34359987\n",
      "2524 34359990\n",
      "2525 34360076\n",
      "2526 34359912\n",
      "2527 34360042\n",
      "2528 34360085\n",
      "2529 34359899\n",
      "2530 34360158\n",
      "2531 34360204\n",
      "2532 34360093\n",
      "2533 34360111\n",
      "2534 34360182\n",
      "2535 34360060\n",
      "2536 34360119\n",
      "2537 34360102\n",
      "2538 34360192\n",
      "2539 34360228\n",
      "2540 34359808\n",
      "2541 34359781\n",
      "2542 34359997\n",
      "2543 34360106\n",
      "2544 34360189\n",
      "2545 34360214\n",
      "2546 34359877\n",
      "2547 34360035\n",
      "2548 34360128\n",
      "2549 34359813\n",
      "2550 34360126\n",
      "2551 34360129\n",
      "2552 34360112\n",
      "2553 34360130\n",
      "2554 34359757\n",
      "2555 34359920\n",
      "2556 34359923\n",
      "2557 34360004\n",
      "2558 34360015\n",
      "2559 34360058\n",
      "2560 34360223\n",
      "2561 34359856\n",
      "2562 34360234\n",
      "2563 34359767\n",
      "2564 34359960\n",
      "2565 34360055\n",
      "2566 34359894\n",
      "2567 34360034\n",
      "2568 34359784\n",
      "2569 34360201\n",
      "2570 34360183\n",
      "2571 42950076\n",
      "2572 42949695\n",
      "2573 42949748\n",
      "2574 42949845\n",
      "2575 42949998\n",
      "2576 42949988\n",
      "2577 42950007\n",
      "2578 42949851\n",
      "2579 42949904\n",
      "2580 42950045\n",
      "2581 42950104\n",
      "2582 42950139\n",
      "2583 42949819\n",
      "2584 42949835\n",
      "2585 42949839\n",
      "2586 42949914\n",
      "2587 42950001\n",
      "2588 42950151\n",
      "2589 42950153\n",
      "2590 42949818\n",
      "2591 42949832\n",
      "2592 42949972\n",
      "2593 42950078\n",
      "2594 42950126\n",
      "2595 42949735\n",
      "2596 42949746\n",
      "2597 42949902\n",
      "2598 42950084\n",
      "2599 42949962\n",
      "2600 42950091\n",
      "2601 42949805\n",
      "2602 42949844\n",
      "2603 42949877\n",
      "2604 42950133\n",
      "2605 42950142\n",
      "2606 42949880\n",
      "2607 42950042\n",
      "2608 42950108\n",
      "2609 42949709\n",
      "2610 42949869\n",
      "2611 42949723\n",
      "2612 42949903\n",
      "2613 42950029\n",
      "2614 42950112\n",
      "2615 42949715\n",
      "2616 42950064\n",
      "2617 42950053\n",
      "2618 42949681\n",
      "2619 42949744\n",
      "2620 42949773\n",
      "2621 42949836\n",
      "2622 42950143\n",
      "2623 42949706\n",
      "2624 42949886\n",
      "2625 42949900\n",
      "2626 42949908\n",
      "2627 42949684\n",
      "2628 42949837\n",
      "2629 42950061\n",
      "2630 42949677\n",
      "2631 42949689\n",
      "2632 42949944\n",
      "2633 42949978\n",
      "2634 42949787\n",
      "2635 42949674\n",
      "2636 42949708\n",
      "2637 42949901\n",
      "2638 42950066\n",
      "2639 42949850\n"
     ]
    },
    {
     "name": "stderr",
     "output_type": "stream",
     "text": [
      "                                                                                \r"
     ]
    },
    {
     "name": "stdout",
     "output_type": "stream",
     "text": [
      "2640 42949875\n",
      "2641 42949712\n",
      "2642 42949716\n",
      "2643 42949865\n",
      "2644 42949961\n",
      "2645 42949733\n",
      "2646 42949720\n",
      "2647 42949884\n",
      "2648 42949793\n",
      "2649 42950168\n",
      "2650 42949739\n",
      "2651 42949825\n",
      "2652 42949986\n",
      "2653 42950058\n",
      "2654 42950095\n",
      "2655 42950124\n",
      "2656 42949987\n",
      "2657 42949806\n",
      "2658 42950161\n",
      "2659 42949824\n",
      "2660 42950021\n",
      "2661 42949731\n",
      "2662 42950009\n",
      "2663 42950031\n",
      "2664 42950100\n",
      "2665 42949991\n",
      "2666 42950085\n",
      "2667 42949766\n",
      "2668 42949939\n",
      "2669 42950093\n",
      "2670 42949795\n",
      "2671 42949828\n",
      "2672 42950002\n",
      "2673 42950010\n",
      "2674 42950051\n",
      "2675 42950141\n",
      "2676 42949954\n",
      "2677 42949969\n",
      "2678 42949981\n",
      "2679 42950019\n",
      "2680 42950022\n",
      "2681 42950111\n",
      "2682 42950169\n",
      "2683 42949833\n",
      "2684 42949692\n",
      "2685 42949765\n",
      "2686 42949946\n",
      "2687 42950138\n",
      "2688 42949935\n",
      "2689 42950027\n",
      "2690 42950094\n",
      "2691 42949745\n",
      "2692 42949915\n",
      "2693 42949943\n",
      "2694 42950013\n",
      "2695 42949750\n",
      "2696 42949796\n",
      "2697 42949899\n",
      "2698 42949989\n",
      "2699 42949738\n",
      "2700 42950037\n",
      "2701 42950073\n",
      "2702 42950146\n",
      "2703 42950166\n",
      "2704 42949804\n",
      "2705 42949921\n",
      "2706 42950160\n",
      "2707 42949718\n",
      "2708 42949873\n",
      "2709 42950038\n",
      "2710 42950092\n",
      "2711 42949691\n",
      "2712 42949802\n",
      "2713 42949817\n",
      "2714 42949863\n",
      "2715 42949909\n",
      "2716 42949874\n",
      "2717 42949683\n",
      "2718 42949725\n",
      "2719 42949926\n",
      "2720 42950131\n",
      "2721 42949912\n",
      "2722 42950003\n",
      "2723 42950162\n",
      "2724 42949860\n",
      "2725 42949936\n",
      "2726 42949751\n",
      "2727 42949797\n",
      "2728 42949829\n",
      "2729 42950024\n",
      "2730 42950086\n",
      "2731 42949898\n",
      "2732 42949701\n",
      "2733 42950006\n",
      "2734 42950128\n",
      "2735 42949717\n",
      "2736 42949812\n",
      "2737 42950059\n",
      "2738 42950145\n",
      "2739 42949702\n",
      "2740 42950109\n",
      "2741 42950119\n",
      "2742 42949816\n",
      "2743 42949924\n",
      "2744 42950071\n",
      "2745 42949763\n",
      "2746 42949885\n",
      "2747 42949932\n",
      "2748 42949777\n",
      "2749 42949882\n",
      "2750 42950054\n",
      "2751 42950163\n",
      "2752 42949679\n",
      "2753 42949913\n",
      "2754 42950039\n",
      "2755 42949734\n",
      "2756 42950034\n",
      "2757 42950077\n",
      "2758 42949753\n",
      "2759 42949971\n",
      "2760 42949994\n",
      "2761 42950113\n",
      "2762 42950140\n",
      "2763 42949770\n",
      "2764 42949890\n",
      "2765 42949893\n",
      "2766 42950159\n",
      "2767 42949929\n",
      "2768 42950063\n",
      "2769 42950032\n",
      "2770 42949778\n",
      "2771 42950008\n",
      "2772 42949792\n",
      "2773 42949937\n",
      "2774 42949786\n",
      "2775 42950012\n",
      "2776 42950050\n",
      "2777 42949678\n",
      "2778 42949740\n",
      "2779 42949759\n",
      "2780 42949791\n",
      "2781 42949871\n",
      "2782 42949680\n",
      "2783 42949775\n",
      "2784 42949930\n",
      "2785 42949948\n",
      "2786 42949982\n",
      "2787 42949842\n",
      "2788 42949923\n",
      "2789 42950030\n",
      "2790 42950048\n",
      "2791 42950028\n",
      "2792 42949730\n",
      "2793 42949771\n",
      "2794 42950041\n",
      "2795 42950135\n",
      "2796 42949965\n",
      "2797 42950167\n",
      "2798 42950082\n",
      "2799 42949868\n",
      "2800 42949955\n",
      "2801 42950125\n",
      "2802 42949907\n",
      "2803 42950115\n",
      "2804 42949710\n",
      "2805 42949749\n",
      "2806 42949917\n",
      "2807 42949807\n",
      "2808 42950070\n",
      "2809 42950081\n",
      "2810 42949785\n",
      "2811 42949894\n",
      "2812 42949979\n",
      "2813 42950065\n",
      "2814 42949999\n",
      "2815 42949925\n",
      "2816 42950148\n",
      "2817 42950075\n",
      "2818 42949672\n",
      "2819 42949703\n",
      "2820 42949784\n",
      "2821 42949920\n",
      "2822 42949968\n",
      "2823 42949990\n",
      "2824 42950156\n",
      "2825 42949866\n",
      "2826 42950047\n",
      "2827 42950154\n",
      "2828 42949891\n",
      "2829 42950015\n",
      "2830 42949896\n",
      "2831 42949772\n",
      "2832 42949774\n",
      "2833 42949864\n",
      "2834 42950105\n",
      "2835 42950000\n",
      "2836 42950118\n",
      "2837 42950005\n",
      "2838 42949950\n",
      "2839 42949849\n",
      "2840 42949858\n",
      "2841 42950102\n",
      "2842 42949724\n",
      "2843 42949949\n",
      "2844 42950067\n",
      "2845 42950089\n",
      "2846 42949790\n",
      "2847 42949911\n",
      "2848 42950130\n",
      "2849 42949697\n",
      "2850 42949781\n",
      "2851 42949980\n",
      "2852 42949983\n",
      "2853 42950018\n",
      "2854 42949823\n",
      "2855 42949872\n",
      "2856 42949752\n",
      "2857 42949764\n",
      "2858 42949938\n",
      "2859 42949942\n",
      "2860 42949838\n",
      "2861 42949690\n",
      "2862 42949758\n",
      "2863 42949934\n",
      "2864 42950123\n",
      "2865 42949916\n",
      "2866 42950017\n",
      "2867 42950090\n",
      "2868 42949729\n",
      "2869 42949956\n",
      "2870 42949993\n",
      "2871 42950043\n",
      "2872 42950079\n",
      "2873 42949940\n",
      "2874 42950097\n",
      "2875 42950157\n",
      "2876 42949743\n",
      "2877 42949997\n",
      "2878 42950122\n",
      "2879 42949798\n",
      "2880 42949881\n",
      "2881 42949970\n",
      "2882 42949861\n",
      "2883 42950101\n",
      "2884 42949713\n",
      "2885 42949780\n",
      "2886 42949855\n",
      "2887 42950147\n",
      "2888 42949705\n",
      "2889 42949754\n",
      "2890 42949947\n",
      "2891 42949963\n",
      "2892 42950056\n",
      "2893 42950116\n",
      "2894 42949760\n",
      "2895 42949906\n",
      "2896 42950099\n",
      "2897 42949800\n",
      "2898 42949853\n",
      "2899 42949951\n",
      "2900 42949975\n",
      "2901 42950152\n",
      "2902 42950158\n",
      "2903 42949737\n",
      "2904 42949808\n",
      "2905 42949964\n",
      "2906 42949761\n",
      "2907 42950144\n",
      "2908 42950149\n",
      "2909 42949687\n",
      "2910 42949767\n",
      "2911 42949814\n",
      "2912 42949922\n",
      "2913 42949985\n",
      "2914 42949928\n",
      "2915 42949859\n",
      "2916 42949959\n",
      "2917 42949803\n",
      "2918 42950033\n",
      "2919 42950165\n",
      "2920 42949820\n",
      "2921 42949931\n",
      "2922 42950062\n",
      "2923 42949827\n",
      "2924 42949846\n",
      "2925 42950088\n",
      "2926 42949693\n",
      "2927 42949762\n",
      "2928 42949815\n",
      "2929 42950137\n",
      "2930 42949711\n",
      "2931 42949841\n",
      "2932 42950103\n",
      "2933 42949757\n",
      "2934 42949700\n",
      "2935 42949732\n",
      "2936 42949843\n",
      "2937 42949918\n",
      "2938 42950023\n",
      "2939 42949688\n",
      "2940 42950035\n",
      "2941 42950044\n",
      "2942 42949726\n",
      "2943 42949960\n",
      "2944 42950049\n",
      "2945 42950060\n",
      "2946 42950164\n",
      "2947 42949995\n",
      "2948 42949788\n"
     ]
    },
    {
     "name": "stderr",
     "output_type": "stream",
     "text": [
      "                                                                                \r"
     ]
    },
    {
     "name": "stdout",
     "output_type": "stream",
     "text": [
      "2949 42949897\n",
      "2950 42949747\n",
      "2951 42949910\n",
      "2952 42949945\n",
      "2953 42949755\n",
      "2954 42949719\n",
      "2955 42949976\n",
      "2956 42950046\n",
      "2957 42949779\n",
      "2958 42949848\n",
      "2959 42949722\n",
      "2960 42949888\n",
      "2961 42949673\n",
      "2962 42949675\n",
      "2963 42949809\n",
      "2964 42950117\n",
      "2965 42949821\n",
      "2966 42949714\n",
      "2967 42949768\n",
      "2968 42949769\n",
      "2969 42950057\n",
      "2970 42949682\n",
      "2971 42949847\n",
      "2972 42949879\n",
      "2973 42949895\n",
      "2974 42949696\n",
      "2975 42949707\n",
      "2976 42949727\n",
      "2977 42949813\n",
      "2978 42949878\n",
      "2979 42950068\n",
      "2980 42949789\n",
      "2981 42949966\n",
      "2982 42949973\n",
      "2983 42950087\n",
      "2984 42950155\n",
      "2985 42949834\n",
      "2986 42949854\n",
      "2987 42949694\n",
      "2988 42949728\n",
      "2989 42949892\n",
      "2990 42949699\n",
      "2991 42949830\n",
      "2992 42949876\n",
      "2993 42950074\n",
      "2994 42950120\n",
      "2995 42949742\n",
      "2996 42949801\n",
      "2997 42949852\n",
      "2998 42949856\n"
     ]
    },
    {
     "name": "stderr",
     "output_type": "stream",
     "text": [
      "                                                                                \r"
     ]
    },
    {
     "name": "stdout",
     "output_type": "stream",
     "text": [
      "2999 42950083\n",
      "3000 42949811\n",
      "3001 42949952\n"
     ]
    },
    {
     "name": "stderr",
     "output_type": "stream",
     "text": [
      "                                                                                \r"
     ]
    },
    {
     "name": "stdout",
     "output_type": "stream",
     "text": [
      "3002 42950020\n"
     ]
    },
    {
     "name": "stderr",
     "output_type": "stream",
     "text": [
      "                                                                                \r"
     ]
    },
    {
     "name": "stdout",
     "output_type": "stream",
     "text": [
      "3003 42950052\n",
      "3004 42950055\n",
      "3005 42950134\n"
     ]
    },
    {
     "name": "stderr",
     "output_type": "stream",
     "text": [
      "                                                                                \r"
     ]
    },
    {
     "name": "stdout",
     "output_type": "stream",
     "text": [
      "3006 42949831\n"
     ]
    },
    {
     "name": "stderr",
     "output_type": "stream",
     "text": [
      "                                                                                \r"
     ]
    },
    {
     "name": "stdout",
     "output_type": "stream",
     "text": [
      "3007 42949887\n",
      "3008 42950129\n",
      "3009 42949686\n",
      "3010 42949941\n",
      "3011 42949953\n",
      "3012 42949721\n",
      "3013 42949776\n",
      "3014 42949933\n",
      "3015 42950072\n",
      "3016 42949741\n",
      "3017 42949919\n",
      "3018 42949927\n",
      "3019 42949794\n"
     ]
    },
    {
     "name": "stderr",
     "output_type": "stream",
     "text": [
      "                                                                                \r"
     ]
    },
    {
     "name": "stdout",
     "output_type": "stream",
     "text": [
      "3020 42949810\n"
     ]
    },
    {
     "name": "stderr",
     "output_type": "stream",
     "text": [
      "                                                                                \r"
     ]
    },
    {
     "name": "stdout",
     "output_type": "stream",
     "text": [
      "3021 42950110\n",
      "3022 42949957\n",
      "3023 42949704\n",
      "3024 42950132\n",
      "3025 42949857\n",
      "3026 42949889\n",
      "3027 42949736\n",
      "3028 42950026\n",
      "3029 42950036\n",
      "3030 42950098\n",
      "3031 42950127\n",
      "3032 42949782\n",
      "3033 42949862\n",
      "3034 42949870\n",
      "3035 42949996\n",
      "3036 42950121\n",
      "3037 42949676\n",
      "3038 42949685\n",
      "3039 42949967\n",
      "3040 42950004\n",
      "3041 42950025\n",
      "3042 42949799\n",
      "3043 42949958\n",
      "3044 42950040\n",
      "3045 42950069\n",
      "3046 42950150\n",
      "3047 42949826\n",
      "3048 42950114\n",
      "3049 42949822\n",
      "3050 42949905\n",
      "3051 42949783\n",
      "3052 42949867\n",
      "3053 42949992\n",
      "3054 42950016\n",
      "3055 42950096\n",
      "3056 42950106\n",
      "3057 42949840\n",
      "3058 42950014\n",
      "3059 42950080\n",
      "3060 42949756\n",
      "3061 42949984\n",
      "3062 42949883\n",
      "3063 42949698\n",
      "3064 42949974\n",
      "3065 42949977\n",
      "3066 42950011\n",
      "3067 42950107\n",
      "3068 42950136\n",
      "3069 51539840\n",
      "3070 51539749\n",
      "3071 51539799\n",
      "3072 51539972\n",
      "3073 51540037\n",
      "3074 51539905\n",
      "3075 51540022\n",
      "3076 51540048\n",
      "3077 51539742\n",
      "3078 51539933\n",
      "3079 51539982\n",
      "3080 51540041\n",
      "3081 51539979\n",
      "3082 51539899\n",
      "3083 51539961\n",
      "3084 51540053\n",
      "3085 51540094\n",
      "3086 51539624\n",
      "3087 51539820\n",
      "3088 51539831\n",
      "3089 51539848\n",
      "3090 51539959\n",
      "3091 51540003\n",
      "3092 51540079\n",
      "3093 51540095\n",
      "3094 51539661\n",
      "3095 51539698\n",
      "3096 51539733\n",
      "3097 51539765\n",
      "3098 51539779\n",
      "3099 51539796\n",
      "3100 51539923\n",
      "3101 51540011\n",
      "3102 51539843\n",
      "3103 51539878\n",
      "3104 51539963\n",
      "3105 51539637\n",
      "3106 51539659\n",
      "3107 51539970\n",
      "3108 51539766\n",
      "3109 51539971\n",
      "3110 51539949\n",
      "3111 51539997\n",
      "3112 51539666\n",
      "3113 51539833\n",
      "3114 51539964\n",
      "3115 51539954\n",
      "3116 51539801\n",
      "3117 51539897\n",
      "3118 51539813\n",
      "3119 51539934\n",
      "3120 51539651\n",
      "3121 51539691\n",
      "3122 51539746\n",
      "3123 51539783\n",
      "3124 51540001\n",
      "3125 51539640\n",
      "3126 51539865\n",
      "3127 51539902\n",
      "3128 51539827\n",
      "3129 51539935\n",
      "3130 51539952\n",
      "3131 51539683\n",
      "3132 51540029\n",
      "3133 51539696\n",
      "3134 51539717\n",
      "3135 51539870\n",
      "3136 51539760\n",
      "3137 51540043\n",
      "3138 51539758\n",
      "3139 51539988\n",
      "3140 51539999\n",
      "3141 51539669\n",
      "3142 51539731\n",
      "3143 51539770\n",
      "3144 51539883\n",
      "3145 51539926\n",
      "3146 51539869\n",
      "3147 51539715\n",
      "3148 51539772\n",
      "3149 51539793\n",
      "3150 51539920\n",
      "3151 51540002\n",
      "3152 51540045\n",
      "3153 51540076\n",
      "3154 51539737\n",
      "3155 51539882\n",
      "3156 51540075\n",
      "3157 51539612\n",
      "3158 51539931\n",
      "3159 51539730\n",
      "3160 51540066\n",
      "3161 51539656\n",
      "3162 51539719\n",
      "3163 51539928\n",
      "3164 51539974\n",
      "3165 51540074\n",
      "3166 51539722\n",
      "3167 51539768\n",
      "3168 51539800\n",
      "3169 51540008\n",
      "3170 51540057\n",
      "3171 51540084\n",
      "3172 51539625\n",
      "3173 51539695\n",
      "3174 51539769\n",
      "3175 51539701\n",
      "3176 51539774\n",
      "3177 51539809\n",
      "3178 51539844\n",
      "3179 51539856\n",
      "3180 51539859\n",
      "3181 51539877\n",
      "3182 51539955\n",
      "3183 51540083\n",
      "3184 51539761\n",
      "3185 51540036\n",
      "3186 51539607\n",
      "3187 51539812\n",
      "3188 51539653\n",
      "3189 51540078\n",
      "3190 51539925\n",
      "3191 51539703\n",
      "3192 51539776\n",
      "3193 51539884\n",
      "3194 51539938\n",
      "3195 51539998\n",
      "3196 51540050\n",
      "3197 51540059\n",
      "3198 51539633\n",
      "3199 51539857\n",
      "3200 51540088\n",
      "3201 51539713\n",
      "3202 51539780\n",
      "3203 51539728\n",
      "3204 51539748\n",
      "3205 51539888\n",
      "3206 51539791\n",
      "3207 51539990\n",
      "3208 51540091\n",
      "3209 51539735\n",
      "3210 51540039\n",
      "3211 51539764\n",
      "3212 51539798\n",
      "3213 51539639\n",
      "3214 51539991\n",
      "3215 51539763\n",
      "3216 51539841\n",
      "3217 51539898\n",
      "3218 51539708\n",
      "3219 51540052\n",
      "3220 51539732\n",
      "3221 51540005\n",
      "3222 51539611\n",
      "3223 51539618\n",
      "3224 51539836\n",
      "3225 51539889\n",
      "3226 51539917\n",
      "3227 51539981\n",
      "3228 51539610\n",
      "3229 51539834\n",
      "3230 51539951\n",
      "3231 51539706\n",
      "3232 51539832\n",
      "3233 51539662\n",
      "3234 51539634\n",
      "3235 51539699\n",
      "3236 51539721\n",
      "3237 51539818\n",
      "3238 51539630\n",
      "3239 51539672\n",
      "3240 51539729\n",
      "3241 51539817\n",
      "3242 51539941\n",
      "3243 51539975\n"
     ]
    },
    {
     "name": "stderr",
     "output_type": "stream",
     "text": [
      "                                                                                \r"
     ]
    },
    {
     "name": "stdout",
     "output_type": "stream",
     "text": [
      "3244 51540044\n",
      "3245 51539821\n",
      "3246 51539994\n",
      "3247 51540009\n",
      "3248 51540072\n",
      "3249 51540102\n",
      "3250 51539676\n",
      "3251 51539795\n",
      "3252 51539816\n",
      "3253 51539900\n",
      "3254 51539645\n",
      "3255 51539773\n",
      "3256 51540023\n",
      "3257 51539828\n",
      "3258 51539868\n",
      "3259 51539738\n",
      "3260 51539966\n",
      "3261 51539980\n",
      "3262 51540034\n",
      "3263 51539830\n",
      "3264 51540046\n",
      "3265 51540100\n",
      "3266 51539613\n",
      "3267 51539627\n",
      "3268 51539632\n",
      "3269 51539654\n",
      "3270 51539872\n",
      "3271 51539939\n",
      "3272 51540060\n",
      "3273 51539674\n",
      "3274 51539700\n",
      "3275 51539881\n",
      "3276 51539895\n",
      "3277 51540055\n",
      "3278 51539623\n",
      "3279 51539655\n",
      "3280 51539658\n",
      "3281 51539973\n",
      "3282 51539771\n",
      "3283 51539896\n",
      "3284 51539911\n",
      "3285 51540000\n",
      "3286 51540096\n",
      "3287 51539697\n",
      "3288 51539918\n",
      "3289 51540020\n",
      "3290 51540101\n",
      "3291 51539792\n",
      "3292 51539904\n",
      "3293 51539989\n",
      "3294 51539814\n",
      "3295 51539826\n",
      "3296 51539622\n",
      "3297 51539906\n",
      "3298 51539617\n",
      "3299 51539867\n",
      "3300 51539866\n",
      "3301 51539675\n",
      "3302 51540062\n",
      "3303 51539647\n",
      "3304 51539687\n",
      "3305 51539860\n",
      "3306 51540103\n",
      "3307 51539689\n",
      "3308 51540018\n",
      "3309 51540065\n",
      "3310 51539652\n",
      "3311 51539767\n",
      "3312 51539787\n",
      "3313 51540082\n",
      "3314 51540007\n",
      "3315 51539667\n",
      "3316 51539677\n",
      "3317 51539684\n",
      "3318 51539754\n",
      "3319 51539739\n",
      "3320 51539864\n",
      "3321 51539995\n",
      "3322 51540064\n",
      "3323 51540038\n",
      "3324 51539642\n",
      "3325 51539712\n",
      "3326 51539819\n",
      "3327 51539851\n",
      "3328 51539861\n",
      "3329 51540058\n",
      "3330 51539626\n",
      "3331 51539747\n",
      "3332 51539755\n",
      "3333 51539912\n",
      "3334 51539921\n",
      "3335 51540073\n",
      "3336 51539707\n",
      "3337 51539741\n",
      "3338 51540090\n",
      "3339 51539665\n",
      "3340 51539688\n",
      "3341 51539756\n",
      "3342 51539849\n",
      "3343 51540025\n",
      "3344 51539743\n",
      "3345 51539914\n",
      "3346 51540033\n",
      "3347 51539797\n",
      "3348 51539681\n",
      "3349 51539705\n",
      "3350 51539808\n",
      "3351 51539825\n",
      "3352 51540098\n",
      "3353 51539615\n",
      "3354 51539702\n",
      "3355 51539785\n",
      "3356 51540010\n",
      "3357 51540031\n",
      "3358 51540099\n",
      "3359 51539616\n",
      "3360 51539862\n",
      "3361 51540089\n",
      "3362 51539635\n",
      "3363 51539885\n",
      "3364 51539947\n",
      "3365 51539752\n",
      "3366 51539853\n",
      "3367 51539976\n",
      "3368 51539690\n",
      "3369 51540081\n",
      "3370 51539682\n",
      "3371 51539858\n",
      "3372 51539962\n",
      "3373 51539788\n",
      "3374 51539723\n",
      "3375 51539901\n",
      "3376 51539929\n",
      "3377 51539968\n",
      "3378 51540054\n",
      "3379 51539847\n",
      "3380 51539641\n",
      "3381 51539670\n",
      "3382 51539876\n",
      "3383 51539890\n",
      "3384 51540017\n",
      "3385 51539638\n",
      "3386 51539725\n",
      "3387 51539835\n",
      "3388 51539915\n",
      "3389 51540015\n",
      "3390 51540093\n",
      "3391 51539621\n",
      "3392 51539720\n",
      "3393 51539759\n",
      "3394 51540014\n",
      "3395 51539811\n",
      "3396 51539711\n",
      "3397 51539943\n",
      "3398 51539958\n",
      "3399 51539978\n",
      "3400 51539986\n",
      "3401 51539845\n",
      "3402 51539650\n",
      "3403 51539802\n",
      "3404 51539807\n",
      "3405 51539852\n",
      "3406 51539887\n",
      "3407 51539893\n",
      "3408 51539909\n",
      "3409 51540069\n",
      "3410 51539628\n",
      "3411 51540071\n",
      "3412 51539789\n",
      "3413 51540012\n",
      "3414 51539734\n",
      "3415 51539805\n",
      "3416 51539671\n",
      "3417 51539680\n",
      "3418 51539745\n",
      "3419 51539924\n",
      "3420 51539614\n",
      "3421 51540047\n",
      "3422 51539657\n",
      "3423 51539910\n",
      "3424 51539619\n",
      "3425 51539751\n",
      "3426 51539891\n",
      "3427 51540026\n",
      "3428 51539903\n",
      "3429 51539907\n",
      "3430 51539709\n",
      "3431 51540085\n",
      "3432 51539686\n",
      "3433 51539644\n",
      "3434 51539824\n",
      "3435 51539846\n",
      "3436 51539953\n",
      "3437 51539969\n",
      "3438 51539781\n",
      "3439 51539874\n",
      "3440 51539946\n",
      "3441 51539810\n",
      "3442 51539871\n",
      "3443 51540027\n",
      "3444 51539875\n",
      "3445 51539704\n",
      "3446 51539726\n",
      "3447 51539892\n",
      "3448 51539714\n",
      "3449 51539782\n",
      "3450 51539679\n",
      "3451 51539646\n",
      "3452 51539822\n",
      "3453 51539727\n",
      "3454 51539967\n",
      "3455 51539983\n",
      "3456 51539922\n",
      "3457 51539956\n",
      "3458 51539668\n",
      "3459 51539685\n",
      "3460 51539778\n",
      "3461 51539794\n",
      "3462 51539987\n",
      "3463 51540019\n",
      "3464 51540080\n",
      "3465 51539803\n",
      "3466 51539993\n",
      "3467 51539649\n",
      "3468 51539854\n",
      "3469 51540068\n",
      "3470 51539740\n",
      "3471 51539937\n",
      "3472 51539620\n",
      "3473 51539744\n",
      "3474 51539784\n",
      "3475 51540021\n",
      "3476 51539660\n",
      "3477 51540024\n",
      "3478 51539908\n",
      "3479 51540049\n",
      "3480 51539753\n",
      "3481 51539944\n",
      "3482 51539693\n",
      "3483 51539932\n",
      "3484 51539942\n",
      "3485 51539716\n",
      "3486 51539842\n",
      "3487 51540061\n",
      "3488 51540063\n",
      "3489 51539629\n",
      "3490 51539757\n",
      "3491 51539950\n",
      "3492 51539965\n",
      "3493 51540030\n",
      "3494 51539838\n",
      "3495 51539984\n",
      "3496 51539863\n",
      "3497 51539873\n",
      "3498 51539985\n",
      "3499 51539996\n",
      "3500 51539777\n",
      "3501 51539948\n",
      "3502 51539815\n",
      "3503 51540006\n",
      "3504 51539631\n",
      "3505 51539663\n",
      "3506 51539750\n",
      "3507 51539919\n",
      "3508 51540051\n",
      "3509 51539636\n",
      "3510 51539648\n",
      "3511 51539724\n",
      "3512 51539608\n",
      "3513 51539775\n",
      "3514 51539855\n",
      "3515 51539913\n",
      "3516 51539718\n",
      "3517 51539880\n",
      "3518 51539957\n",
      "3519 51540040\n",
      "3520 51540042\n",
      "3521 51539790\n",
      "3522 51539837\n",
      "3523 51540092\n",
      "3524 51540028\n",
      "3525 51540067\n",
      "3526 51539823\n",
      "3527 51540070\n",
      "3528 51539664\n",
      "3529 51540004\n",
      "3530 51539643\n",
      "3531 51539678\n",
      "3532 51539694\n",
      "3533 51540097\n",
      "3534 51539894\n",
      "3535 51539673\n",
      "3536 51539829\n",
      "3537 51539692\n",
      "3538 51539762\n",
      "3539 51539804\n",
      "3540 51539886\n",
      "3541 51539930\n",
      "3542 51539977\n",
      "3543 51539992\n",
      "3544 51539710\n",
      "3545 51539786\n",
      "3546 51539927\n",
      "3547 51539936\n",
      "3548 51539940\n",
      "3549 51540032\n",
      "3550 51540035\n",
      "3551 51539736\n",
      "3552 51539850\n",
      "3553 51539945\n",
      "3554 51540016\n",
      "3555 51539916\n",
      "3556 51540056\n",
      "3557 51540077\n",
      "3558 51539960\n",
      "3559 51539609\n",
      "3560 51539839\n",
      "3561 51540086\n",
      "3562 51540087\n",
      "3563 51539806\n",
      "3564 51539879\n",
      "3565 51540013\n",
      "3566 60129722\n",
      "3567 60129922\n",
      "3568 60129548\n",
      "3569 60129700\n",
      "3570 60129711\n",
      "3571 60129577\n",
      "3572 60129876\n",
      "3573 60129686\n",
      "3574 60129815\n",
      "3575 60129980\n",
      "3576 60130104\n",
      "3577 60129578\n",
      "3578 60129594\n",
      "3579 60129768\n",
      "3580 60129996\n",
      "3581 60130028\n",
      "3582 60129828\n",
      "3583 60129941\n",
      "3584 60130001\n",
      "3585 60129880\n",
      "3586 60130004\n",
      "3587 60130079\n",
      "3588 60129844\n",
      "3589 60129930\n",
      "3590 60129764\n",
      "3591 60129689\n",
      "3592 60129924\n",
      "3593 60130096\n",
      "3594 60129614\n"
     ]
    },
    {
     "name": "stderr",
     "output_type": "stream",
     "text": [
      "                                                                                \r"
     ]
    },
    {
     "name": "stdout",
     "output_type": "stream",
     "text": [
      "3595 60129970\n",
      "3596 60130046\n",
      "3597 60130075\n",
      "3598 60130111\n",
      "3599 60129859\n",
      "3600 60129884\n",
      "3601 60129753\n",
      "3602 60130011\n",
      "3603 60129927\n",
      "3604 60129940\n",
      "3605 60129981\n",
      "3606 60129677\n",
      "3607 60129759\n",
      "3608 60129602\n",
      "3609 60129678\n",
      "3610 60129761\n",
      "3611 60129573\n",
      "3612 60129779\n",
      "3613 60129591\n",
      "3614 60129728\n",
      "3615 60129920\n",
      "3616 60129544\n",
      "3617 60129603\n",
      "3618 60129628\n",
      "3619 60129710\n",
      "3620 60130018\n",
      "3621 60129772\n",
      "3622 60129989\n",
      "3623 60130053\n",
      "3624 60130115\n",
      "3625 60129701\n",
      "3626 60130029\n",
      "3627 60130024\n",
      "3628 60129647\n",
      "3629 60130077\n",
      "3630 60129685\n",
      "3631 60129813\n",
      "3632 60129912\n",
      "3633 60129808\n",
      "3634 60129839\n",
      "3635 60129938\n",
      "3636 60130030\n",
      "3637 60129776\n",
      "3638 60130073\n",
      "3639 60129545\n",
      "3640 60130091\n",
      "3641 60129604\n",
      "3642 60129823\n",
      "3643 60130019\n",
      "3644 60130064\n",
      "3645 60129688\n",
      "3646 60129806\n",
      "3647 60129992\n",
      "3648 60130010\n",
      "3649 60130120\n",
      "3650 60129665\n",
      "3651 60129770\n",
      "3652 60129937\n",
      "3653 60129659\n",
      "3654 60129674\n",
      "3655 60129850\n",
      "3656 60129672\n",
      "3657 60129794\n",
      "3658 60129809\n",
      "3659 60129883\n",
      "3660 60129886\n",
      "3661 60130082\n",
      "3662 60129769\n",
      "3663 60129775\n",
      "3664 60130071\n",
      "3665 60130105\n",
      "3666 60129612\n",
      "3667 60129835\n",
      "3668 60129887\n",
      "3669 60129605\n",
      "3670 60129626\n",
      "3671 60129994\n",
      "3672 60130040\n",
      "3673 60129863\n",
      "3674 60129575\n",
      "3675 60129667\n",
      "3676 60129732\n",
      "3677 60129709\n",
      "3678 60130090\n",
      "3679 60129680\n",
      "3680 60129704\n",
      "3681 60129635\n",
      "3682 60130026\n",
      "3683 60130119\n",
      "3684 60129618\n",
      "3685 60129624\n",
      "3686 60129634\n",
      "3687 60129738\n",
      "3688 60129554\n",
      "3689 60129643\n",
      "3690 60129860\n",
      "3691 60130061\n",
      "3692 60129793\n",
      "3693 60129620\n",
      "3694 60129720\n",
      "3695 60129827\n",
      "3696 60129600\n",
      "3697 60129791\n",
      "3698 60129885\n",
      "3699 60130049\n",
      "3700 60130106\n",
      "3701 60130112\n",
      "3702 60129687\n",
      "3703 60129719\n",
      "3704 60130041\n",
      "3705 60129551\n",
      "3706 60129820\n",
      "3707 60130023\n",
      "3708 60129947\n",
      "3709 60130003\n",
      "3710 60130047\n",
      "3711 60129683\n",
      "3712 60129767\n",
      "3713 60129878\n",
      "3714 60129669\n",
      "3715 60129902\n",
      "3716 60130070\n",
      "3717 60130086\n",
      "3718 60129990\n",
      "3719 60129549\n",
      "3720 60129743\n",
      "3721 60130000\n",
      "3722 60130021\n",
      "3723 60130042\n",
      "3724 60129803\n",
      "3725 60129925\n",
      "3726 60129954\n"
     ]
    },
    {
     "name": "stderr",
     "output_type": "stream",
     "text": [
      "                                                                                \r"
     ]
    },
    {
     "name": "stdout",
     "output_type": "stream",
     "text": [
      "3727 60129971\n",
      "3728 60129606\n",
      "3729 60129625\n",
      "3730 60129718\n",
      "3731 60129851\n",
      "3732 60129854\n",
      "3733 60130103\n",
      "3734 60129897\n",
      "3735 60129973\n",
      "3736 60129581\n",
      "3737 60129723\n",
      "3738 60129773\n",
      "3739 60129787\n",
      "3740 60129892\n",
      "3741 60129903\n",
      "3742 60129915\n",
      "3743 60130067\n",
      "3744 60130107\n",
      "3745 60129616\n",
      "3746 60129834\n",
      "3747 60129846\n",
      "3748 60129875\n",
      "3749 60129702\n",
      "3750 60129946\n",
      "3751 60129972\n",
      "3752 60129745\n",
      "3753 60129821\n",
      "3754 60130034\n",
      "3755 60129715\n",
      "3756 60129790\n",
      "3757 60130033\n",
      "3758 60130036\n",
      "3759 60129751\n",
      "3760 60130031\n",
      "3761 60129563\n",
      "3762 60129666\n",
      "3763 60129957\n",
      "3764 60129829\n",
      "3765 60129906\n",
      "3766 60129874\n",
      "3767 60129853\n",
      "3768 60129879\n",
      "3769 60129675\n",
      "3770 60129917\n",
      "3771 60129978\n",
      "3772 60129746\n",
      "3773 60129587\n",
      "3774 60129607\n",
      "3775 60129660\n",
      "3776 60129804\n",
      "3777 60129893\n",
      "3778 60130094\n",
      "3779 60129542\n",
      "3780 60129747\n",
      "3781 60129961\n",
      "3782 60129550\n",
      "3783 60129559\n",
      "3784 60129708\n",
      "3785 60129774\n",
      "3786 60130037\n",
      "3787 60129671\n",
      "3788 60129734\n",
      "3789 60129814\n",
      "3790 60130022\n",
      "3791 60129717\n",
      "3792 60129731\n",
      "3793 60129818\n",
      "3794 60129914\n",
      "3795 60129754\n",
      "3796 60129771\n",
      "3797 60129781\n",
      "3798 60129849\n",
      "3799 60129943\n",
      "3800 60129797\n",
      "3801 60129862\n",
      "3802 60129560\n",
      "3803 60129755\n",
      "3804 60130009\n",
      "3805 60129543\n",
      "3806 60130056\n",
      "3807 60129644\n",
      "3808 60129690\n",
      "3809 60129959\n",
      "3810 60129979\n",
      "3811 60130062\n",
      "3812 60129585\n",
      "3813 60129639\n",
      "3814 60129651\n",
      "3815 60129736\n",
      "3816 60129911\n",
      "3817 60130044\n",
      "3818 60129617\n",
      "3819 60129909\n",
      "3820 60130059\n",
      "3821 60129749\n",
      "3822 60129795\n",
      "3823 60129934\n",
      "3824 60129896\n",
      "3825 60129965\n",
      "3826 60129982\n",
      "3827 60129988\n",
      "3828 60130014\n",
      "3829 60129596\n",
      "3830 60129608\n",
      "3831 60129613\n",
      "3832 60129703\n",
      "3833 60130048\n",
      "3834 60130083\n",
      "3835 60129611\n",
      "3836 60129713\n",
      "3837 60129714\n",
      "3838 60129825\n",
      "3839 60129901\n",
      "3840 60130098\n",
      "3841 60129623\n",
      "3842 60129748\n",
      "3843 60129931\n",
      "3844 60130063\n",
      "3845 60129661\n",
      "3846 60129766\n",
      "3847 60129867\n",
      "3848 60129870\n",
      "3849 60129935\n",
      "3850 60130006\n",
      "3851 60129646\n",
      "3852 60130078\n",
      "3853 60130092\n",
      "3854 60129841\n",
      "3855 60129898\n",
      "3856 60129953\n",
      "3857 60130054\n",
      "3858 60129726\n",
      "3859 60129951\n",
      "3860 60129975\n",
      "3861 60130108\n",
      "3862 60129993\n",
      "3863 60130043\n",
      "3864 60129572\n",
      "3865 60129888\n",
      "3866 60129963\n",
      "3867 60130102\n",
      "3868 60129824\n",
      "3869 60129908\n",
      "3870 60130060\n",
      "3871 60129691\n",
      "3872 60129780\n",
      "3873 60129848\n",
      "3874 60129864\n",
      "3875 60129866\n",
      "3876 60129552\n",
      "3877 60129670\n",
      "3878 60129800\n",
      "3879 60129995\n",
      "3880 60129684\n",
      "3881 60129653\n",
      "3882 60130027\n",
      "3883 60130109\n",
      "3884 60129561\n",
      "3885 60129933\n",
      "3886 60129945\n",
      "3887 60129840\n",
      "3888 60129928\n",
      "3889 60130052\n",
      "3890 60129658\n",
      "3891 60129955\n",
      "3892 60129977\n",
      "3893 60130101\n",
      "3894 60130110\n",
      "3895 60129656\n",
      "3896 60129673\n",
      "3897 60129929\n",
      "3898 60129966\n",
      "3899 60130114\n",
      "3900 60130116\n",
      "3901 60129697\n",
      "3902 60130057\n",
      "3903 60129750\n",
      "3904 60129837\n",
      "3905 60129932\n",
      "3906 60129964\n",
      "3907 60130045\n",
      "3908 60129805\n",
      "3909 60129742\n",
      "3910 60129956\n",
      "3911 60129565\n",
      "3912 60129632\n",
      "3913 60129944\n",
      "3914 60130100\n",
      "3915 60129570\n",
      "3916 60129942\n",
      "3917 60129676\n",
      "3918 60129782\n",
      "3919 60129889\n",
      "3920 60129729\n",
      "3921 60129778\n",
      "3922 60129699\n",
      "3923 60129796\n",
      "3924 60129845\n",
      "3925 60129986\n",
      "3926 60129741\n",
      "3927 60129547\n",
      "3928 60129968\n",
      "3929 60130032\n",
      "3930 60130058\n",
      "3931 60129555\n",
      "3932 60129641\n",
      "3933 60129807\n",
      "3934 60130066\n",
      "3935 60129905\n",
      "3936 60130076\n",
      "3937 60130017\n",
      "3938 60130068\n",
      "3939 60129721\n",
      "3940 60129921\n",
      "3941 60129983\n",
      "3942 60129744\n",
      "3943 60129574\n",
      "3944 60129580\n",
      "3945 60129649\n",
      "3946 60129784\n",
      "3947 60129789\n",
      "3948 60129856\n",
      "3949 60129819\n",
      "3950 60129830\n",
      "3951 60130099\n",
      "3952 60129679\n",
      "3953 60129682\n",
      "3954 60129838\n",
      "3955 60129857\n",
      "3956 60129569\n",
      "3957 60130088\n",
      "3958 60129916\n",
      "3959 60129562\n",
      "3960 60129589\n",
      "3961 60129599\n",
      "3962 60129763\n",
      "3963 60129799\n",
      "3964 60129811\n",
      "3965 60129923\n",
      "3966 60129987\n",
      "3967 60129583\n",
      "3968 60130050\n",
      "3969 60129833\n",
      "3970 60129976\n",
      "3971 60130069\n",
      "3972 60129648\n",
      "3973 60130072\n",
      "3974 60130117\n",
      "3975 60129640\n",
      "3976 60129725\n",
      "3977 60129792\n",
      "3978 60129712\n",
      "3979 60129760\n",
      "3980 60129950\n",
      "3981 60129629\n",
      "3982 60129802\n",
      "3983 60130118\n",
      "3984 60129752\n",
      "3985 60129610\n",
      "3986 60129740\n"
     ]
    },
    {
     "name": "stderr",
     "output_type": "stream",
     "text": [
      "                                                                                \r"
     ]
    },
    {
     "name": "stdout",
     "output_type": "stream",
     "text": [
      "3987 60130121\n",
      "3988 60129705\n",
      "3989 60129739\n",
      "3990 60129949\n",
      "3991 60129546\n",
      "3992 60129636\n",
      "3993 60129877\n",
      "3994 60130113\n",
      "3995 60129621\n",
      "3996 60129630\n",
      "3997 60130038\n",
      "3998 60129985\n",
      "3999 60129999\n",
      "4000 60130015\n",
      "4001 60129852\n",
      "4002 60129918\n",
      "4003 60130055\n",
      "4004 60129907\n",
      "4005 60129564\n",
      "4006 60129832\n",
      "4007 60129910\n",
      "4008 60129952\n",
      "4009 60129576\n",
      "4010 60129668\n",
      "4011 60129707\n",
      "4012 60129730\n",
      "4013 60129756\n",
      "4014 60129812\n",
      "4015 60129858\n",
      "4016 60129962\n",
      "4017 60130080\n",
      "4018 60130085\n",
      "4019 60129777\n",
      "4020 60129786\n",
      "4021 60130039\n",
      "4022 60129582\n",
      "4023 60129619\n",
      "4024 60129865\n",
      "4025 60129998\n",
      "4026 60129891\n",
      "4027 60130002\n",
      "4028 60129727\n",
      "4029 60129692\n",
      "4030 60129900\n",
      "4031 60130095\n",
      "4032 60130035\n",
      "4033 60129595\n",
      "4034 60129706\n",
      "4035 60129601\n",
      "4036 60129633\n",
      "4037 60129650\n",
      "4038 60130013\n",
      "4039 60129654\n",
      "4040 60129788\n",
      "4041 60129939\n",
      "4042 60129861\n",
      "4043 60130065\n",
      "4044 60129558\n",
      "4045 60129622\n",
      "4046 60129785\n",
      "4047 60129609\n",
      "4048 60129571\n",
      "4049 60129694\n",
      "4050 60129842\n",
      "4051 60129984\n",
      "4052 60129598\n",
      "4053 60129798\n"
     ]
    },
    {
     "name": "stderr",
     "output_type": "stream",
     "text": [
      "                                                                                \r"
     ]
    },
    {
     "name": "stdout",
     "output_type": "stream",
     "text": [
      "4054 60129882\n",
      "4055 60130087\n",
      "4056 60129568\n",
      "4057 60129816\n",
      "4058 60129873\n",
      "4059 60129926\n",
      "4060 60129627\n",
      "4061 60129724\n",
      "4062 60129868\n",
      "4063 60129958\n",
      "4064 60129817\n",
      "4065 60129579\n",
      "4066 60129831\n",
      "4067 60129855\n",
      "4068 60129584\n",
      "4069 60129869\n",
      "4070 60129919\n",
      "4071 60129631\n",
      "4072 60130089\n",
      "4073 60129566\n",
      "4074 60129637\n",
      "4075 60129696\n",
      "4076 60129698\n",
      "4077 60129593\n",
      "4078 60129810\n",
      "4079 60129881\n",
      "4080 60130008\n",
      "4081 60130097\n",
      "4082 60129567\n",
      "4083 60129638\n",
      "4084 60129642\n",
      "4085 60129695\n",
      "4086 60129836\n",
      "4087 60129597\n",
      "4088 60129657\n",
      "4089 60129991\n",
      "4090 60130005\n",
      "4091 60130081\n",
      "4092 60129655\n",
      "4093 60129801\n",
      "4094 60130012\n",
      "4095 60130016\n",
      "4096 60129894\n",
      "4097 60129663\n",
      "4098 60129967\n",
      "4099 60129913\n",
      "4100 60129664\n",
      "4101 60129681\n",
      "4102 60129662\n",
      "4103 60129895\n",
      "4104 60129557\n",
      "4105 60129765\n",
      "4106 60129783\n",
      "4107 60129899\n",
      "4108 60129871\n",
      "4109 60129969\n",
      "4110 60130025\n",
      "4111 60129588\n",
      "4112 60129693\n",
      "4113 60130051\n",
      "4114 60130020\n",
      "4115 60129735\n",
      "4116 60129590\n",
      "4117 60129872\n",
      "4118 60129592\n",
      "4119 60129757\n",
      "4120 60129737\n",
      "4121 60129553\n",
      "4122 60130007\n",
      "4123 60130093\n",
      "4124 60129826\n",
      "4125 60129847\n",
      "4126 60129890\n",
      "4127 60129936\n",
      "4128 60129586\n",
      "4129 60129733\n",
      "4130 60129822\n",
      "4131 60129948\n",
      "4132 60129997\n",
      "4133 60129615\n",
      "4134 60129716\n",
      "4135 60129762\n",
      "4136 60129758\n",
      "4137 60129843\n",
      "4138 60129904\n",
      "4139 60129960\n",
      "4140 60129974\n",
      "4141 60129556\n",
      "4142 60129652\n",
      "4143 60129645\n",
      "4144 60130074\n",
      "4145 60130084\n"
     ]
    }
   ],
   "source": [
    "for chave, particao in enumerate(particoes):\n",
    "    particao_id = particao['PARTICAO_ID']\n",
    "    print(chave,particao_id)\n",
    "    particao_df = df_desempenho_candidatos.filter(df_desempenho_candidatos['PARTICAO_ID'] == particao_id).drop('PARTICAO_ID', 'ID_LINHA')\n",
    "    particao_pandas = particao_df.toPandas()\n",
    "    nome_arquivo = f'../data/processed/desempenho_candidato/df_desempenho_candidato_{particao_id}.csv'\n",
    "    particao_pandas.to_csv(nome_arquivo, header=True, sep='|')"
   ]
  },
  {
   "cell_type": "code",
   "execution_count": 52,
   "metadata": {},
   "outputs": [],
   "source": [
    "spark.stop()"
   ]
  }
 ],
 "metadata": {
  "kernelspec": {
   "display_name": ".venv",
   "language": "python",
   "name": "python3"
  },
  "language_info": {
   "codemirror_mode": {
    "name": "ipython",
    "version": 3
   },
   "file_extension": ".py",
   "mimetype": "text/x-python",
   "name": "python",
   "nbconvert_exporter": "python",
   "pygments_lexer": "ipython3",
   "version": "3.10.12"
  }
 },
 "nbformat": 4,
 "nbformat_minor": 2
}
