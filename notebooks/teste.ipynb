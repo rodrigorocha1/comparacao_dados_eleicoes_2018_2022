{
 "cells": [
  {
   "cell_type": "code",
   "execution_count": 1,
   "metadata": {},
   "outputs": [],
   "source": [
    "import pandas as pd"
   ]
  },
  {
   "cell_type": "code",
   "execution_count": 3,
   "metadata": {},
   "outputs": [],
   "source": [
    "base = pd.read_parquet('/home/rodrigo/Documentos/projetos/eleicoes/data/processed_v2/total_votos_candidato_completo.parquet')"
   ]
  },
  {
   "cell_type": "code",
   "execution_count": null,
   "metadata": {},
   "outputs": [
    {
     "name": "stdout",
     "output_type": "stream",
     "text": [
      "<class 'pandas.core.frame.DataFrame'>\n",
      "RangeIndex: 4382775 entries, 0 to 4382774\n",
      "Data columns (total 11 columns):\n",
      " #   Column                        Dtype  \n",
      "---  ------                        -----  \n",
      " 0   NR_CANDIDATO                  int32  \n",
      " 1   NM_CANDIDATO                  object \n",
      " 2   NM_URNA_CANDIDATO             object \n",
      " 3   DS_SIT_TOT_TURNO              object \n",
      " 4   TOTAL_VOTOS_CANDIDATO_CIDADE  int64  \n",
      " 5   TOTAL_VOTOS_CIDADE            int64  \n",
      " 6   PERCENTUAL_VOTOS_CIDADE       float32\n",
      " 7   ANO_ELEICAO                   int32  \n",
      " 8   CD_CARGO                      int32  \n",
      " 9   CD_MUNICIPIO                  int32  \n",
      " 10  CD_SIT_TOT_TURNO              int32  \n",
      "dtypes: float32(1), int32(5), int64(2), object(3)\n",
      "memory usage: 267.5+ MB\n"
     ]
    }
   ],
   "source": [
    "base.info()"
   ]
  }
 ],
 "metadata": {
  "kernelspec": {
   "display_name": ".venv",
   "language": "python",
   "name": "python3"
  },
  "language_info": {
   "codemirror_mode": {
    "name": "ipython",
    "version": 3
   },
   "file_extension": ".py",
   "mimetype": "text/x-python",
   "name": "python",
   "nbconvert_exporter": "python",
   "pygments_lexer": "ipython3",
   "version": "3.10.12"
  }
 },
 "nbformat": 4,
 "nbformat_minor": 2
}
