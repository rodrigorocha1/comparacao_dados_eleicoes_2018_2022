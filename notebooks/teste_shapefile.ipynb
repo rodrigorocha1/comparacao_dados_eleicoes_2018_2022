{
 "cells": [
  {
   "cell_type": "code",
   "execution_count": 1,
   "metadata": {},
   "outputs": [],
   "source": [
    "import geopandas as gpd"
   ]
  },
  {
   "cell_type": "code",
   "execution_count": 2,
   "metadata": {},
   "outputs": [],
   "source": [
    "df_gpd = gpd.read_file('../data/shapefile/SP_Municipios_2022/SP_Municipios_2022.shp')"
   ]
  },
  {
   "cell_type": "code",
   "execution_count": 3,
   "metadata": {},
   "outputs": [
    {
     "data": {
      "text/html": [
       "<div>\n",
       "<style scoped>\n",
       "    .dataframe tbody tr th:only-of-type {\n",
       "        vertical-align: middle;\n",
       "    }\n",
       "\n",
       "    .dataframe tbody tr th {\n",
       "        vertical-align: top;\n",
       "    }\n",
       "\n",
       "    .dataframe thead th {\n",
       "        text-align: right;\n",
       "    }\n",
       "</style>\n",
       "<table border=\"1\" class=\"dataframe\">\n",
       "  <thead>\n",
       "    <tr style=\"text-align: right;\">\n",
       "      <th></th>\n",
       "      <th>CD_MUN</th>\n",
       "      <th>NM_MUN</th>\n",
       "      <th>SIGLA_UF</th>\n",
       "      <th>AREA_KM2</th>\n",
       "      <th>geometry</th>\n",
       "    </tr>\n",
       "  </thead>\n",
       "  <tbody>\n",
       "    <tr>\n",
       "      <th>0</th>\n",
       "      <td>3500105</td>\n",
       "      <td>Adamantina</td>\n",
       "      <td>SP</td>\n",
       "      <td>411.987</td>\n",
       "      <td>POLYGON ((-51.09557 -21.57029, -51.09617 -21.5...</td>\n",
       "    </tr>\n",
       "    <tr>\n",
       "      <th>1</th>\n",
       "      <td>3500204</td>\n",
       "      <td>Adolfo</td>\n",
       "      <td>SP</td>\n",
       "      <td>211.055</td>\n",
       "      <td>POLYGON ((-49.61249 -21.26110, -49.61249 -21.2...</td>\n",
       "    </tr>\n",
       "    <tr>\n",
       "      <th>2</th>\n",
       "      <td>3500303</td>\n",
       "      <td>Aguaí</td>\n",
       "      <td>SP</td>\n",
       "      <td>474.554</td>\n",
       "      <td>POLYGON ((-47.01254 -22.00527, -47.01219 -22.0...</td>\n",
       "    </tr>\n",
       "    <tr>\n",
       "      <th>3</th>\n",
       "      <td>3500402</td>\n",
       "      <td>Águas da Prata</td>\n",
       "      <td>SP</td>\n",
       "      <td>142.673</td>\n",
       "      <td>POLYGON ((-46.71875 -21.95837, -46.71878 -21.9...</td>\n",
       "    </tr>\n",
       "    <tr>\n",
       "      <th>4</th>\n",
       "      <td>3500501</td>\n",
       "      <td>Águas de Lindóia</td>\n",
       "      <td>SP</td>\n",
       "      <td>60.126</td>\n",
       "      <td>POLYGON ((-46.61761 -22.51172, -46.61864 -22.5...</td>\n",
       "    </tr>\n",
       "  </tbody>\n",
       "</table>\n",
       "</div>"
      ],
      "text/plain": [
       "    CD_MUN            NM_MUN SIGLA_UF  AREA_KM2  \\\n",
       "0  3500105        Adamantina       SP   411.987   \n",
       "1  3500204            Adolfo       SP   211.055   \n",
       "2  3500303             Aguaí       SP   474.554   \n",
       "3  3500402    Águas da Prata       SP   142.673   \n",
       "4  3500501  Águas de Lindóia       SP    60.126   \n",
       "\n",
       "                                            geometry  \n",
       "0  POLYGON ((-51.09557 -21.57029, -51.09617 -21.5...  \n",
       "1  POLYGON ((-49.61249 -21.26110, -49.61249 -21.2...  \n",
       "2  POLYGON ((-47.01254 -22.00527, -47.01219 -22.0...  \n",
       "3  POLYGON ((-46.71875 -21.95837, -46.71878 -21.9...  \n",
       "4  POLYGON ((-46.61761 -22.51172, -46.61864 -22.5...  "
      ]
     },
     "execution_count": 3,
     "metadata": {},
     "output_type": "execute_result"
    }
   ],
   "source": [
    "df_gpd.head()"
   ]
  },
  {
   "cell_type": "code",
   "execution_count": 4,
   "metadata": {},
   "outputs": [
    {
     "data": {
      "text/plain": [
       "CD_MUN        object\n",
       "NM_MUN        object\n",
       "SIGLA_UF      object\n",
       "AREA_KM2     float64\n",
       "geometry    geometry\n",
       "dtype: object"
      ]
     },
     "execution_count": 4,
     "metadata": {},
     "output_type": "execute_result"
    }
   ],
   "source": [
    "df_gpd.dtypes"
   ]
  },
  {
   "cell_type": "code",
   "execution_count": null,
   "metadata": {},
   "outputs": [],
   "source": []
  }
 ],
 "metadata": {
  "kernelspec": {
   "display_name": ".venv",
   "language": "python",
   "name": "python3"
  },
  "language_info": {
   "codemirror_mode": {
    "name": "ipython",
    "version": 3
   },
   "file_extension": ".py",
   "mimetype": "text/x-python",
   "name": "python",
   "nbconvert_exporter": "python",
   "pygments_lexer": "ipython3",
   "version": "3.10.12"
  }
 },
 "nbformat": 4,
 "nbformat_minor": 2
}
