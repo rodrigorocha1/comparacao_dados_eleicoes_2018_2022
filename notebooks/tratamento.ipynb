{
 "cells": [
  {
   "cell_type": "code",
   "execution_count": 37,
   "metadata": {},
   "outputs": [],
   "source": [
    "from pyspark.sql import SparkSession\n",
    "from pyspark.sql.window import Window\n",
    "import pyspark.sql.functions as F\n",
    "import pyspark.sql.types as T"
   ]
  },
  {
   "cell_type": "code",
   "execution_count": 38,
   "metadata": {},
   "outputs": [
    {
     "data": {
      "text/html": [
       "\n",
       "            <div>\n",
       "                <p><b>SparkSession - in-memory</b></p>\n",
       "                \n",
       "        <div>\n",
       "            <p><b>SparkContext</b></p>\n",
       "\n",
       "            <p><a href=\"http://192.168.0.112:4040\">Spark UI</a></p>\n",
       "\n",
       "            <dl>\n",
       "              <dt>Version</dt>\n",
       "                <dd><code>v3.3.0</code></dd>\n",
       "              <dt>Master</dt>\n",
       "                <dd><code>local[*]</code></dd>\n",
       "              <dt>AppName</dt>\n",
       "                <dd><code>CARGA</code></dd>\n",
       "            </dl>\n",
       "        </div>\n",
       "        \n",
       "            </div>\n",
       "        "
      ],
      "text/plain": [
       "<pyspark.sql.session.SparkSession at 0x7f452c615ae0>"
      ]
     },
     "execution_count": 38,
     "metadata": {},
     "output_type": "execute_result"
    }
   ],
   "source": [
    "spark = SparkSession.builder.appName('CARGA').getOrCreate()\n",
    "spark"
   ]
  },
  {
   "cell_type": "code",
   "execution_count": 39,
   "metadata": {},
   "outputs": [
    {
     "name": "stderr",
     "output_type": "stream",
     "text": [
      "[Stage 64:===================================================>     (9 + 1) / 10]\r"
     ]
    },
    {
     "name": "stdout",
     "output_type": "stream",
     "text": [
      "+----------------+--------------------+------------+------------+--------------------+--------------------+----------+--------------------+-------------------------+----------------+-----------+------------+--------+----------+----------------+\n",
      "|        DS_CARGO|        NM_MUNICIPIO|SQ_CANDIDATO|NR_CANDIDATO|        NM_CANDIDATO|   NM_URNA_CANDIDATO|NR_PARTIDO|          NM_PARTIDO|QT_VOTOS_NOMINAIS_VALIDOS|DS_SIT_TOT_TURNO|ANO_ELEICAO|CD_MUNICIPIO|CD_CARGO|SG_PARTIDO|CD_SIT_TOT_TURNO|\n",
      "+----------------+--------------------+------------+------------+--------------------+--------------------+----------+--------------------+-------------------------+----------------+-----------+------------+--------+----------+----------------+\n",
      "|Deputado Federal|           SÃO PAULO|250000619502|        2221|VALDEMAR ROSENDO ...|    VALDEMAR ROSENDO|        22|Partido da República|                       26|        SUPLENTE|       2018|       71072|       6|        PR|               5|\n",
      "|Deputado Federal|SANTA CRUZ DO RIO...|250000619502|        2221|VALDEMAR ROSENDO ...|    VALDEMAR ROSENDO|        22|Partido da República|                        1|        SUPLENTE|       2018|       70297|       6|        PR|               5|\n",
      "|Deputado Federal|       CESÁRIO LANGE|250000619502|        2221|VALDEMAR ROSENDO ...|    VALDEMAR ROSENDO|        22|Partido da República|                        0|        SUPLENTE|       2018|       63339|       6|        PR|               5|\n",
      "|Deputado Federal|    MURUTINGA DO SUL|250000619502|        2221|VALDEMAR ROSENDO ...|    VALDEMAR ROSENDO|        22|Partido da República|                        0|        SUPLENTE|       2018|       67431|       6|        PR|               5|\n",
      "|Deputado Federal|   BRAGANÇA PAULISTA|250000619502|        2221|VALDEMAR ROSENDO ...|    VALDEMAR ROSENDO|        22|Partido da República|                        1|        SUPLENTE|       2018|       62510|       6|        PR|               5|\n",
      "|Deputado Federal|          SÃO CARLOS|250000619510|        2207|SILVIO ANDREI ROD...| PADRE SILVIO ANDREI|        22|Partido da República|                        7|        SUPLENTE|       2018|       70793|       6|        PR|               5|\n",
      "|Deputado Federal|           SÃO PAULO|250000619510|        2207|SILVIO ANDREI ROD...| PADRE SILVIO ANDREI|        22|Partido da República|                       34|        SUPLENTE|       2018|       71072|       6|        PR|               5|\n",
      "|Deputado Federal|               AVARÉ|250000619510|        2207|SILVIO ANDREI ROD...| PADRE SILVIO ANDREI|        22|Partido da República|                       13|        SUPLENTE|       2018|       61891|       6|        PR|               5|\n",
      "|Deputado Federal|VISTA ALEGRE DO ALTO|250000619510|        2207|SILVIO ANDREI ROD...| PADRE SILVIO ANDREI|        22|Partido da República|                        0|        SUPLENTE|       2018|       72419|       6|        PR|               5|\n",
      "|Deputado Federal|           SÃO PAULO|250000619510|        2207|SILVIO ANDREI ROD...| PADRE SILVIO ANDREI|        22|Partido da República|                      128|        SUPLENTE|       2018|       71072|       6|        PR|               5|\n",
      "|Deputado Federal|           CERQUILHO|250000619510|        2207|SILVIO ANDREI ROD...| PADRE SILVIO ANDREI|        22|Partido da República|                       70|        SUPLENTE|       2018|       63312|       6|        PR|               5|\n",
      "|Deputado Federal|         NOVA EUROPA|250000619510|        2207|SILVIO ANDREI ROD...| PADRE SILVIO ANDREI|        22|Partido da República|                        0|        SUPLENTE|       2018|       67598|       6|        PR|               5|\n",
      "|Deputado Federal|               SALTO|250000619510|        2207|SILVIO ANDREI ROD...| PADRE SILVIO ANDREI|        22|Partido da República|                     6440|        SUPLENTE|       2018|       70050|       6|        PR|               5|\n",
      "|Deputado Federal|SANTANA DA PONTE ...|250000619514|        2270|ANTONIO CARLOS RO...|ANTONIO CARLOS RO...|        22|Partido da República|                        0|        SUPLENTE|       2018|       70459|       6|        PR|               5|\n",
      "|Deputado Federal|         SÃO VICENTE|250000619514|        2270|ANTONIO CARLOS RO...|ANTONIO CARLOS RO...|        22|Partido da República|                       21|        SUPLENTE|       2018|       71218|       6|        PR|               5|\n",
      "|Deputado Federal|            IPORANGA|250000619514|        2270|ANTONIO CARLOS RO...|ANTONIO CARLOS RO...|        22|Partido da República|                        2|        SUPLENTE|       2018|       65250|       6|        PR|               5|\n",
      "|Deputado Federal|            GUAIÇARA|250000619514|        2270|ANTONIO CARLOS RO...|ANTONIO CARLOS RO...|        22|Partido da República|                        0|        SUPLENTE|       2018|       64459|       6|        PR|               5|\n",
      "|Deputado Federal|           SÃO PAULO|250000619520|        2214|CLAUDIA LOPES DE ...|                 CAL|        22|Partido da República|                        0|        SUPLENTE|       2018|       71072|       6|        PR|               5|\n",
      "|Deputado Federal| MONTE ALEGRE DO SUL|250000619520|        2214|CLAUDIA LOPES DE ...|                 CAL|        22|Partido da República|                        0|        SUPLENTE|       2018|       67253|       6|        PR|               5|\n",
      "|Deputado Federal|               IACRI|250000619520|        2214|CLAUDIA LOPES DE ...|                 CAL|        22|Partido da República|                        0|        SUPLENTE|       2018|       64858|       6|        PR|               5|\n",
      "+----------------+--------------------+------------+------------+--------------------+--------------------+----------+--------------------+-------------------------+----------------+-----------+------------+--------+----------+----------------+\n",
      "only showing top 20 rows\n",
      "\n"
     ]
    },
    {
     "name": "stderr",
     "output_type": "stream",
     "text": [
      "                                                                                \r"
     ]
    }
   ],
   "source": [
    "df_eleicoes_2018 = spark.read.options(\n",
    "    header=True, \n",
    "    delimiter=';', \n",
    "    encoding='ISO-8859-1',\n",
    "    inferschema=True).csv('../data/raw/votacao_candidato_munzona_2018_SP.csv')\n",
    "df_eleicoes_2018 = df_eleicoes_2018 \\\n",
    "    .filter(df_eleicoes_2018.CD_CARGO.isin(6, 7))\n",
    "df_eleicoes_2018 = df_eleicoes_2018.select(\n",
    "    'DS_CARGO',\n",
    "    'NM_MUNICIPIO',\n",
    "    'SQ_CANDIDATO',\n",
    "    'NR_CANDIDATO',\n",
    "    'NM_CANDIDATO',\n",
    "    'NM_URNA_CANDIDATO',\n",
    "    'NR_PARTIDO',\n",
    "    'NM_PARTIDO',\n",
    "    'QT_VOTOS_NOMINAIS_VALIDOS',\n",
    "    'DS_SIT_TOT_TURNO',\n",
    "    'ANO_ELEICAO',\n",
    "    'CD_MUNICIPIO',\n",
    "    'CD_CARGO',\n",
    "    'SG_PARTIDO',\n",
    "    'CD_SIT_TOT_TURNO',\n",
    "    \n",
    ")\n",
    "df_eleicoes_2018.show()"
   ]
  },
  {
   "cell_type": "code",
   "execution_count": 40,
   "metadata": {},
   "outputs": [
    {
     "name": "stderr",
     "output_type": "stream",
     "text": [
      "                                                                                \r"
     ]
    },
    {
     "name": "stdout",
     "output_type": "stream",
     "text": [
      "+----------------+--------------------+------------+------------+--------------------+-----------------+----------+--------------------+-------------------------+----------------+-----------+------------+--------+----------+----------------+\n",
      "|        DS_CARGO|        NM_MUNICIPIO|SQ_CANDIDATO|NR_CANDIDATO|        NM_CANDIDATO|NM_URNA_CANDIDATO|NR_PARTIDO|          NM_PARTIDO|QT_VOTOS_NOMINAIS_VALIDOS|DS_SIT_TOT_TURNO|ANO_ELEICAO|CD_MUNICIPIO|CD_CARGO|SG_PARTIDO|CD_SIT_TOT_TURNO|\n",
      "+----------------+--------------------+------------+------------+--------------------+-----------------+----------+--------------------+-------------------------+----------------+-----------+------------+--------+----------+----------------+\n",
      "|Deputado Federal|                BURI|250001604971|        5522|ADRIANA ALVES DA ...|  ADRIANA RAMALHO|        55|Partido Social De...|                        0|        SUPLENTE|       2022|       62618|       6|       PSD|               5|\n",
      "|Deputado Federal|             SARAPUÍ|250001604971|        5522|ADRIANA ALVES DA ...|  ADRIANA RAMALHO|        55|Partido Social De...|                        0|        SUPLENTE|       2022|       71234|       6|       PSD|               5|\n",
      "|Deputado Federal|              CEDRAL|250001604971|        5522|ADRIANA ALVES DA ...|  ADRIANA RAMALHO|        55|Partido Social De...|                        0|        SUPLENTE|       2022|       63274|       6|       PSD|               5|\n",
      "|Deputado Federal|              TUIUTI|250001604971|        5522|ADRIANA ALVES DA ...|  ADRIANA RAMALHO|        55|Partido Social De...|                        0|        SUPLENTE|       2022|       61620|       6|       PSD|               5|\n",
      "|Deputado Federal|     GUARANI D OESTE|250001604971|        5522|ADRIANA ALVES DA ...|  ADRIANA RAMALHO|        55|Partido Social De...|                        0|        SUPLENTE|       2022|       64610|       6|       PSD|               5|\n",
      "|Deputado Federal|             CARDOSO|250001604971|        5522|ADRIANA ALVES DA ...|  ADRIANA RAMALHO|        55|Partido Social De...|                        0|        SUPLENTE|       2022|       63150|       6|       PSD|               5|\n",
      "|Deputado Federal|SÃO JOSÉ DO RIO P...|250001604971|        5522|ADRIANA ALVES DA ...|  ADRIANA RAMALHO|        55|Partido Social De...|                        3|        SUPLENTE|       2022|       70971|       6|       PSD|               5|\n",
      "|Deputado Federal|             BARUERI|250001604971|        5522|ADRIANA ALVES DA ...|  ADRIANA RAMALHO|        55|Partido Social De...|                       37|        SUPLENTE|       2022|       62138|       6|       PSD|               5|\n",
      "|Deputado Federal|     ITAQUAQUECETUBA|250001604974|        5502|FABIO HENRIQUE DA...|       FABIÃO SJC|        55|Partido Social De...|                        6|        SUPLENTE|       2022|       65633|       6|       PSD|               5|\n",
      "|Deputado Federal|            OUROESTE|250001604974|        5502|FABIO HENRIQUE DA...|       FABIÃO SJC|        55|Partido Social De...|                        0|        SUPLENTE|       2022|       62383|       6|       PSD|               5|\n",
      "|Deputado Federal|            LOUVEIRA|250001604974|        5502|FABIO HENRIQUE DA...|       FABIÃO SJC|        55|Partido Social De...|                        0|        SUPLENTE|       2022|       66478|       6|       PSD|               5|\n",
      "|Deputado Federal|           AMERICANA|250001604974|        5502|FABIO HENRIQUE DA...|       FABIÃO SJC|        55|Partido Social De...|                        0|        SUPLENTE|       2022|       61310|       6|       PSD|               5|\n",
      "|Deputado Federal|             AREALVA|250001604974|        5502|FABIO HENRIQUE DA...|       FABIÃO SJC|        55|Partido Social De...|                        0|        SUPLENTE|       2022|       61670|       6|       PSD|               5|\n",
      "|Deputado Federal|            SARUTAIÁ|250001604981|        5559|RENATO TADEU DE O...|     RENATO PAIVA|        55|Partido Social De...|                        0|        SUPLENTE|       2022|       71250|       6|       PSD|               5|\n",
      "|Deputado Federal|          PRADÓPOLIS|250001604981|        5559|RENATO TADEU DE O...|     RENATO PAIVA|        55|Partido Social De...|                        0|        SUPLENTE|       2022|       69191|       6|       PSD|               5|\n",
      "|Deputado Federal|           GUARULHOS|250001604981|        5559|RENATO TADEU DE O...|     RENATO PAIVA|        55|Partido Social De...|                        1|        SUPLENTE|       2022|       64777|       6|       PSD|               5|\n",
      "|Deputado Federal|              TANABI|250001604982|        5519|RIBAMAR ANTONIO D...|    RIBAMAR SILVA|        55|Partido Social De...|                        0|        SUPLENTE|       2022|       71692|       6|       PSD|               5|\n",
      "|Deputado Federal|           SÃO PAULO|250001604982|        5519|RIBAMAR ANTONIO D...|    RIBAMAR SILVA|        55|Partido Social De...|                       26|        SUPLENTE|       2022|       71072|       6|       PSD|               5|\n",
      "|Deputado Federal|           ARCO-ÍRIS|250001604982|        5519|RIBAMAR ANTONIO D...|    RIBAMAR SILVA|        55|Partido Social De...|                        0|        SUPLENTE|       2022|       62065|       6|       PSD|               5|\n",
      "|Deputado Federal|            SOROCABA|250001604982|        5519|RIBAMAR ANTONIO D...|    RIBAMAR SILVA|        55|Partido Social De...|                       38|        SUPLENTE|       2022|       71455|       6|       PSD|               5|\n",
      "+----------------+--------------------+------------+------------+--------------------+-----------------+----------+--------------------+-------------------------+----------------+-----------+------------+--------+----------+----------------+\n",
      "only showing top 20 rows\n",
      "\n"
     ]
    }
   ],
   "source": [
    "df_eleicoes_2022 = spark.read.options(\n",
    "    header=True, \n",
    "    delimiter=';', \n",
    "    encoding='ISO-8859-1',\n",
    "    inferschema=True).csv('../data/raw/votacao_candidato_munzona_2022_SP.csv')\n",
    "df_eleicoes_2022 = df_eleicoes_2022 \\\n",
    "    .filter(df_eleicoes_2022.CD_CARGO.isin(6,7))\n",
    "df_eleicoes_2022 = df_eleicoes_2022.select(\n",
    "    'DS_CARGO',\n",
    "    'NM_MUNICIPIO',\n",
    "    'SQ_CANDIDATO',\n",
    "    'NR_CANDIDATO',\n",
    "    'NM_CANDIDATO',\n",
    "    'NM_URNA_CANDIDATO',\n",
    "    'NR_PARTIDO',\n",
    "    'NM_PARTIDO',\n",
    "    'QT_VOTOS_NOMINAIS_VALIDOS',\n",
    "    'DS_SIT_TOT_TURNO',\n",
    "    'ANO_ELEICAO',\n",
    "    'CD_MUNICIPIO',\n",
    "    'CD_CARGO',\n",
    "    'SG_PARTIDO',\n",
    "    'CD_SIT_TOT_TURNO',\n",
    "    \n",
    ")\n",
    "df_eleicoes_2022.show()"
   ]
  },
  {
   "cell_type": "code",
   "execution_count": 41,
   "metadata": {},
   "outputs": [
    {
     "name": "stdout",
     "output_type": "stream",
     "text": [
      "root\n",
      " |-- DS_CARGO: string (nullable = true)\n",
      " |-- NM_MUNICIPIO: string (nullable = true)\n",
      " |-- SQ_CANDIDATO: long (nullable = true)\n",
      " |-- NR_CANDIDATO: integer (nullable = true)\n",
      " |-- NM_CANDIDATO: string (nullable = true)\n",
      " |-- NM_URNA_CANDIDATO: string (nullable = true)\n",
      " |-- NR_PARTIDO: integer (nullable = true)\n",
      " |-- NM_PARTIDO: string (nullable = true)\n",
      " |-- QT_VOTOS_NOMINAIS_VALIDOS: integer (nullable = true)\n",
      " |-- DS_SIT_TOT_TURNO: string (nullable = true)\n",
      " |-- ANO_ELEICAO: integer (nullable = true)\n",
      " |-- CD_MUNICIPIO: integer (nullable = true)\n",
      " |-- CD_CARGO: integer (nullable = true)\n",
      " |-- SG_PARTIDO: string (nullable = true)\n",
      " |-- CD_SIT_TOT_TURNO: integer (nullable = true)\n",
      "\n"
     ]
    }
   ],
   "source": [
    "df_eleicoes_2022.printSchema()"
   ]
  },
  {
   "cell_type": "code",
   "execution_count": 42,
   "metadata": {},
   "outputs": [
    {
     "name": "stdout",
     "output_type": "stream",
     "text": [
      "root\n",
      " |-- DS_CARGO: string (nullable = true)\n",
      " |-- NM_MUNICIPIO: string (nullable = true)\n",
      " |-- SQ_CANDIDATO: long (nullable = true)\n",
      " |-- NR_CANDIDATO: integer (nullable = true)\n",
      " |-- NM_CANDIDATO: string (nullable = true)\n",
      " |-- NM_URNA_CANDIDATO: string (nullable = true)\n",
      " |-- NR_PARTIDO: integer (nullable = true)\n",
      " |-- NM_PARTIDO: string (nullable = true)\n",
      " |-- QT_VOTOS_NOMINAIS_VALIDOS: integer (nullable = true)\n",
      " |-- DS_SIT_TOT_TURNO: string (nullable = true)\n",
      " |-- ANO_ELEICAO: integer (nullable = true)\n",
      " |-- CD_MUNICIPIO: integer (nullable = true)\n",
      " |-- CD_CARGO: integer (nullable = true)\n",
      " |-- SG_PARTIDO: string (nullable = true)\n",
      " |-- CD_SIT_TOT_TURNO: integer (nullable = true)\n",
      "\n"
     ]
    }
   ],
   "source": [
    "df_eleicoes_2018.printSchema()"
   ]
  },
  {
   "cell_type": "code",
   "execution_count": 43,
   "metadata": {},
   "outputs": [],
   "source": [
    "df_eleicoes = df_eleicoes_2018.unionAll(df_eleicoes_2022)"
   ]
  },
  {
   "cell_type": "code",
   "execution_count": 44,
   "metadata": {},
   "outputs": [
    {
     "name": "stdout",
     "output_type": "stream",
     "text": [
      "+----------------+-----------------------+------------+------------+------------------------+------------------------+----------+--------------------+-------------------------+----------------+-----------+------------+--------+----------+----------------+\n",
      "|DS_CARGO        |NM_MUNICIPIO           |SQ_CANDIDATO|NR_CANDIDATO|NM_CANDIDATO            |NM_URNA_CANDIDATO       |NR_PARTIDO|NM_PARTIDO          |QT_VOTOS_NOMINAIS_VALIDOS|DS_SIT_TOT_TURNO|ANO_ELEICAO|CD_MUNICIPIO|CD_CARGO|SG_PARTIDO|CD_SIT_TOT_TURNO|\n",
      "+----------------+-----------------------+------------+------------+------------------------+------------------------+----------+--------------------+-------------------------+----------------+-----------+------------+--------+----------+----------------+\n",
      "|Deputado Federal|SÃO PAULO              |250000619502|2221        |VALDEMAR ROSENDO MARQUES|VALDEMAR ROSENDO        |22        |Partido da República|26                       |SUPLENTE        |2018       |71072       |6       |PR        |5               |\n",
      "|Deputado Federal|SANTA CRUZ DO RIO PARDO|250000619502|2221        |VALDEMAR ROSENDO MARQUES|VALDEMAR ROSENDO        |22        |Partido da República|1                        |SUPLENTE        |2018       |70297       |6       |PR        |5               |\n",
      "|Deputado Federal|CESÁRIO LANGE          |250000619502|2221        |VALDEMAR ROSENDO MARQUES|VALDEMAR ROSENDO        |22        |Partido da República|0                        |SUPLENTE        |2018       |63339       |6       |PR        |5               |\n",
      "|Deputado Federal|MURUTINGA DO SUL       |250000619502|2221        |VALDEMAR ROSENDO MARQUES|VALDEMAR ROSENDO        |22        |Partido da República|0                        |SUPLENTE        |2018       |67431       |6       |PR        |5               |\n",
      "|Deputado Federal|BRAGANÇA PAULISTA      |250000619502|2221        |VALDEMAR ROSENDO MARQUES|VALDEMAR ROSENDO        |22        |Partido da República|1                        |SUPLENTE        |2018       |62510       |6       |PR        |5               |\n",
      "|Deputado Federal|SÃO CARLOS             |250000619510|2207        |SILVIO ANDREI RODRIGUES |PADRE SILVIO ANDREI     |22        |Partido da República|7                        |SUPLENTE        |2018       |70793       |6       |PR        |5               |\n",
      "|Deputado Federal|SÃO PAULO              |250000619510|2207        |SILVIO ANDREI RODRIGUES |PADRE SILVIO ANDREI     |22        |Partido da República|34                       |SUPLENTE        |2018       |71072       |6       |PR        |5               |\n",
      "|Deputado Federal|AVARÉ                  |250000619510|2207        |SILVIO ANDREI RODRIGUES |PADRE SILVIO ANDREI     |22        |Partido da República|13                       |SUPLENTE        |2018       |61891       |6       |PR        |5               |\n",
      "|Deputado Federal|VISTA ALEGRE DO ALTO   |250000619510|2207        |SILVIO ANDREI RODRIGUES |PADRE SILVIO ANDREI     |22        |Partido da República|0                        |SUPLENTE        |2018       |72419       |6       |PR        |5               |\n",
      "|Deputado Federal|SÃO PAULO              |250000619510|2207        |SILVIO ANDREI RODRIGUES |PADRE SILVIO ANDREI     |22        |Partido da República|128                      |SUPLENTE        |2018       |71072       |6       |PR        |5               |\n",
      "|Deputado Federal|CERQUILHO              |250000619510|2207        |SILVIO ANDREI RODRIGUES |PADRE SILVIO ANDREI     |22        |Partido da República|70                       |SUPLENTE        |2018       |63312       |6       |PR        |5               |\n",
      "|Deputado Federal|NOVA EUROPA            |250000619510|2207        |SILVIO ANDREI RODRIGUES |PADRE SILVIO ANDREI     |22        |Partido da República|0                        |SUPLENTE        |2018       |67598       |6       |PR        |5               |\n",
      "|Deputado Federal|SALTO                  |250000619510|2207        |SILVIO ANDREI RODRIGUES |PADRE SILVIO ANDREI     |22        |Partido da República|6440                     |SUPLENTE        |2018       |70050       |6       |PR        |5               |\n",
      "|Deputado Federal|SANTANA DA PONTE PENSA |250000619514|2270        |ANTONIO CARLOS RODRIGUES|ANTONIO CARLOS RODRIGUES|22        |Partido da República|0                        |SUPLENTE        |2018       |70459       |6       |PR        |5               |\n",
      "|Deputado Federal|SÃO VICENTE            |250000619514|2270        |ANTONIO CARLOS RODRIGUES|ANTONIO CARLOS RODRIGUES|22        |Partido da República|21                       |SUPLENTE        |2018       |71218       |6       |PR        |5               |\n",
      "|Deputado Federal|IPORANGA               |250000619514|2270        |ANTONIO CARLOS RODRIGUES|ANTONIO CARLOS RODRIGUES|22        |Partido da República|2                        |SUPLENTE        |2018       |65250       |6       |PR        |5               |\n",
      "|Deputado Federal|GUAIÇARA               |250000619514|2270        |ANTONIO CARLOS RODRIGUES|ANTONIO CARLOS RODRIGUES|22        |Partido da República|0                        |SUPLENTE        |2018       |64459       |6       |PR        |5               |\n",
      "|Deputado Federal|SÃO PAULO              |250000619520|2214        |CLAUDIA LOPES DE SOUZA  |CAL                     |22        |Partido da República|0                        |SUPLENTE        |2018       |71072       |6       |PR        |5               |\n",
      "|Deputado Federal|MONTE ALEGRE DO SUL    |250000619520|2214        |CLAUDIA LOPES DE SOUZA  |CAL                     |22        |Partido da República|0                        |SUPLENTE        |2018       |67253       |6       |PR        |5               |\n",
      "|Deputado Federal|IACRI                  |250000619520|2214        |CLAUDIA LOPES DE SOUZA  |CAL                     |22        |Partido da República|0                        |SUPLENTE        |2018       |64858       |6       |PR        |5               |\n",
      "+----------------+-----------------------+------------+------------+------------------------+------------------------+----------+--------------------+-------------------------+----------------+-----------+------------+--------+----------+----------------+\n",
      "only showing top 20 rows\n",
      "\n"
     ]
    }
   ],
   "source": [
    "df_eleicoes.show(truncate=False)"
   ]
  },
  {
   "cell_type": "markdown",
   "metadata": {},
   "source": []
  },
  {
   "cell_type": "code",
   "execution_count": 45,
   "metadata": {},
   "outputs": [
    {
     "name": "stderr",
     "output_type": "stream",
     "text": [
      "                                                                                \r"
     ]
    },
    {
     "data": {
      "text/plain": [
       "5300100"
      ]
     },
     "execution_count": 45,
     "metadata": {},
     "output_type": "execute_result"
    }
   ],
   "source": [
    "df_eleicoes.count()"
   ]
  },
  {
   "cell_type": "markdown",
   "metadata": {},
   "source": [
    "- Quantidade de votos por cidade selecionando candidato,  partido\n",
    "- Quantidade de votos por candidato selecionando cidade\n",
    "- Quantidade de votos por partido selecionando cidade\n",
    "- Percentual de votos por partido na cidade\n",
    "- Percentual de votos por candidato na cidade (Rank de pior/ Melhor desempenho) permitir gerar número de visualizações\n",
    "- Desempenho do candidato, ou seja, se ele reelegeu, ele perdeu ou ganhou eleitores (expressar em porcentagem), \n",
    "- Verificar troca de partido"
   ]
  },
  {
   "cell_type": "markdown",
   "metadata": {},
   "source": [
    "- Quantidade de votos por cidade selecionando candidato,  partido"
   ]
  },
  {
   "cell_type": "markdown",
   "metadata": {},
   "source": [
    "- Selecionando candidato"
   ]
  },
  {
   "cell_type": "code",
   "execution_count": 46,
   "metadata": {},
   "outputs": [],
   "source": [
    "ano = 2022\n",
    "nr_urna_candidato  = 'VALDEMAR ROSENDO'"
   ]
  },
  {
   "cell_type": "code",
   "execution_count": 47,
   "metadata": {},
   "outputs": [
    {
     "name": "stderr",
     "output_type": "stream",
     "text": [
      "[Stage 75:>                                                         (0 + 8) / 9]\r"
     ]
    },
    {
     "name": "stdout",
     "output_type": "stream",
     "text": [
      "+-----------+------------+------------+----------------------------------+--------------------------+------------------------------+\n",
      "|ANO_ELEICAO|CD_MUNICIPIO|NR_CANDIDATO|NM_CANDIDATO                      |NM_URNA_CANDIDATO         |sum(QT_VOTOS_NOMINAIS_VALIDOS)|\n",
      "+-----------+------------+------------+----------------------------------+--------------------------+------------------------------+\n",
      "|2018       |71072       |17317       |JANAINA CONCEIÇÃO PASCHOAL        |JANAINA PASCHOAL          |587486                        |\n",
      "|2022       |71072       |5010        |GUILHERME CASTRO BOULOS           |GUILHERME BOULOS          |489999                        |\n",
      "|2018       |71072       |1720        |EDUARDO NANTES BOLSONARO          |EDUARDO BOLSONARO         |416204                        |\n",
      "|2022       |71072       |13133       |EDUARDO MATARAZZO SUPLICY         |EDUARDO SUPLICY           |395351                        |\n",
      "|2018       |71072       |1771        |JOICE CRISTINA HASSELMANN         |JOICE HASSELMANN          |289404                        |\n",
      "|2022       |71072       |2210        |CARLA ZAMBELLI SALGADO DE OLIVEIRA|CARLA ZAMBELLI            |256734                        |\n",
      "|2018       |71072       |1000        |CELSO UBIRAJARA RUSSOMANNO        |CELSO RUSSOMANNO          |191516                        |\n",
      "|2022       |71072       |2250        |RICARDO DE AQUINO SALLES          |RICARDO SALLES            |177348                        |\n",
      "|2022       |71072       |2222        |EDUARDO NANTES BOLSONARO          |EDUARDO BOLSONARO         |177289                        |\n",
      "|2018       |71072       |25555       |ARTHUR MOLEDO DO VAL              |ARTHUR MAMÃE FALEI        |166788                        |\n",
      "|2018       |71072       |2555        |KIM PATROCA KATAGUIRI             |KIM KATAGUIRI             |164527                        |\n",
      "|2018       |71072       |2222        |FRANCISCO EVERARDO OLIVEIRA SILVA |TIRIRICA                  |163476                        |\n",
      "|2022       |71072       |1111        |BRUNO MARCELLO DE OLIVEIRA LIMA   |DELEGADO BRUNO LIMA       |161598                        |\n",
      "|2022       |70572       |23023       |ANA CAROLINA ROSSI BARRETO SERRA  |ANA CAROLINA SERRA        |154080                        |\n",
      "|2022       |71072       |4040        |TABATA CLAUDIA AMARAL DE PONTES   |TABATA AMARAL             |143266                        |\n",
      "|2022       |71072       |1500        |MARIO PALUMBO JUNIOR              |DELEGADO PALUMBO          |141963                        |\n",
      "|2022       |71072       |44250       |MILTON LEITE DA SILVA FILHO       |MILTON LEITE FILHO        |139851                        |\n",
      "|2022       |71072       |50000       |PAULA NUNES DOS SANTOS            |PAULA DA BANCADA FEMINISTA|137754                        |\n",
      "|2018       |71072       |5000        |SAMIA DE SOUZA BOMFIM             |SÂMIA BOMFIM              |130572                        |\n",
      "|2018       |71072       |50789       |CARLOS ALBERTO GIANNASI           |CARLOS GIANNAZI           |124130                        |\n",
      "+-----------+------------+------------+----------------------------------+--------------------------+------------------------------+\n",
      "only showing top 20 rows\n",
      "\n"
     ]
    },
    {
     "name": "stderr",
     "output_type": "stream",
     "text": [
      "                                                                                \r"
     ]
    }
   ],
   "source": [
    "df_eleicoes_agrupado = df_eleicoes.select(\n",
    "    'ANO_ELEICAO', \n",
    "    'CD_MUNICIPIO',\n",
    "    'NR_CANDIDATO', \n",
    "    'NM_CANDIDATO', \n",
    "    'NM_URNA_CANDIDATO',\n",
    "    'QT_VOTOS_NOMINAIS_VALIDOS'\n",
    "    ) \\\n",
    "    .groupBy(\n",
    "        'ANO_ELEICAO', \n",
    "        'CD_MUNICIPIO',\n",
    "        'NR_CANDIDATO', \n",
    "        'NM_CANDIDATO', \n",
    "        'NM_URNA_CANDIDATO',\n",
    "        ) \\\n",
    "    .sum('QT_VOTOS_NOMINAIS_VALIDOS') \\\n",
    "    .orderBy('sum(QT_VOTOS_NOMINAIS_VALIDOS)', ascending=False)\n",
    "df_eleicoes_agrupado.show(truncate=False)"
   ]
  },
  {
   "cell_type": "code",
   "execution_count": 48,
   "metadata": {},
   "outputs": [],
   "source": [
    "particao_votos = Window.partitionBy(\n",
    "        'ANO_ELEICAO', \n",
    "        'CD_MUNICIPIO',\n",
    "        )"
   ]
  },
  {
   "cell_type": "code",
   "execution_count": 49,
   "metadata": {},
   "outputs": [
    {
     "name": "stderr",
     "output_type": "stream",
     "text": [
      "[Stage 78:=============================================>            (7 + 2) / 9]\r"
     ]
    },
    {
     "name": "stdout",
     "output_type": "stream",
     "text": [
      "+-----------+------------+------------+--------------------+--------------------+----------------------------+\n",
      "|ANO_ELEICAO|CD_MUNICIPIO|NR_CANDIDATO|        NM_CANDIDATO|   NM_URNA_CANDIDATO|TOTAL_VOTOS_CANDIDATO_CIDADE|\n",
      "+-----------+------------+------------+--------------------+--------------------+----------------------------+\n",
      "|       2018|       71072|       17317|JANAINA CONCEIÇÃO...|    JANAINA PASCHOAL|                      587486|\n",
      "|       2022|       71072|        5010|GUILHERME CASTRO ...|    GUILHERME BOULOS|                      489999|\n",
      "|       2018|       71072|        1720|EDUARDO NANTES BO...|   EDUARDO BOLSONARO|                      416204|\n",
      "|       2022|       71072|       13133|EDUARDO MATARAZZO...|     EDUARDO SUPLICY|                      395351|\n",
      "|       2018|       71072|        1771|JOICE CRISTINA HA...|    JOICE HASSELMANN|                      289404|\n",
      "|       2022|       71072|        2210|CARLA ZAMBELLI SA...|      CARLA ZAMBELLI|                      256734|\n",
      "|       2018|       71072|        1000|CELSO UBIRAJARA R...|    CELSO RUSSOMANNO|                      191516|\n",
      "|       2022|       71072|        2250|RICARDO DE AQUINO...|      RICARDO SALLES|                      177348|\n",
      "|       2022|       71072|        2222|EDUARDO NANTES BO...|   EDUARDO BOLSONARO|                      177289|\n",
      "|       2018|       71072|       25555|ARTHUR MOLEDO DO VAL|  ARTHUR MAMÃE FALEI|                      166788|\n",
      "|       2018|       71072|        2555|KIM PATROCA KATAG...|       KIM KATAGUIRI|                      164527|\n",
      "|       2018|       71072|        2222|FRANCISCO EVERARD...|            TIRIRICA|                      163476|\n",
      "|       2022|       71072|        1111|BRUNO MARCELLO DE...| DELEGADO BRUNO LIMA|                      161598|\n",
      "|       2022|       70572|       23023|ANA CAROLINA ROSS...|  ANA CAROLINA SERRA|                      154080|\n",
      "|       2022|       71072|        4040|TABATA CLAUDIA AM...|       TABATA AMARAL|                      143266|\n",
      "|       2022|       71072|        1500|MARIO PALUMBO JUNIOR|    DELEGADO PALUMBO|                      141963|\n",
      "|       2022|       71072|       44250|MILTON LEITE DA S...|  MILTON LEITE FILHO|                      139851|\n",
      "|       2022|       71072|       50000|PAULA NUNES DOS S...|PAULA DA BANCADA ...|                      137754|\n",
      "|       2018|       71072|        5000|SAMIA DE SOUZA BO...|        SÂMIA BOMFIM|                      130572|\n",
      "|       2018|       71072|       50789|CARLOS ALBERTO GI...|     CARLOS GIANNAZI|                      124130|\n",
      "+-----------+------------+------------+--------------------+--------------------+----------------------------+\n",
      "only showing top 20 rows\n",
      "\n"
     ]
    },
    {
     "name": "stderr",
     "output_type": "stream",
     "text": [
      "                                                                                \r"
     ]
    }
   ],
   "source": [
    "df_eleicoes_agrupado = df_eleicoes_agrupado.withColumnRenamed('sum(QT_VOTOS_NOMINAIS_VALIDOS)','TOTAL_VOTOS_CANDIDATO_CIDADE')\n",
    "df_eleicoes_agrupado.show()"
   ]
  },
  {
   "cell_type": "code",
   "execution_count": 50,
   "metadata": {},
   "outputs": [],
   "source": [
    "df_eleicoes_agrupado = df_eleicoes_agrupado.withColumn('TOTAL_VOTOS_CIDADE', F.sum(F.col('TOTAL_VOTOS_CANDIDATO_CIDADE')).over(particao_votos))"
   ]
  },
  {
   "cell_type": "code",
   "execution_count": 51,
   "metadata": {},
   "outputs": [
    {
     "name": "stderr",
     "output_type": "stream",
     "text": [
      "[Stage 86:======================================>                   (2 + 1) / 3]\r"
     ]
    },
    {
     "name": "stdout",
     "output_type": "stream",
     "text": [
      "+-----------+------------+------------+--------------------+--------------------+----------------------------+------------------+\n",
      "|ANO_ELEICAO|CD_MUNICIPIO|NR_CANDIDATO|        NM_CANDIDATO|   NM_URNA_CANDIDATO|TOTAL_VOTOS_CANDIDATO_CIDADE|TOTAL_VOTOS_CIDADE|\n",
      "+-----------+------------+------------+--------------------+--------------------+----------------------------+------------------+\n",
      "|       2018|       61123|        1123|   FAUSTO RUY PINATO|       FAUSTO PINATO|                         239|              1970|\n",
      "|       2018|       61123|       15300|ITAMAR FRANCISCO ...|       ITAMAR BORGES|                         221|              1970|\n",
      "|       2018|       61123|       45400|   ANALICE FERNANDES|   ANALICE FERNANDES|                         153|              1970|\n",
      "|       2018|       61123|       19888|RAUL APARECIDO GO...|            DR. RAUL|                         141|              1970|\n",
      "|       2018|       61123|        5555|ELEUSES VIEIRA DE...|   DR. ELEUSES PAIVA|                         124|              1970|\n",
      "|       2018|       61123|       31131|EDSON SATORU SAKA...|  DELEGADO SAKASHITA|                         109|              1970|\n",
      "|       2018|       61123|        1332|JOSE MENTOR GUILH...|         JOSE MENTOR|                          76|              1970|\n",
      "|       2018|       61123|       19619|LUIS HENRIQUE DOS...|LUIS HENRIQUE MOR...|                          59|              1970|\n",
      "|       2018|       61123|       13199|ANTONIO MENTOR DE...|      ANTONIO MENTOR|                          52|              1970|\n",
      "|       2018|       61123|       45232|CARLOS EDUARDO PI...|    CARLÃO PIGNATARI|                          48|              1970|\n",
      "|       2018|       61123|        1063|LUIZ CARLOS BOMBO...|              LUIZAO|                          43|              1970|\n",
      "|       2018|       61123|        5180|ADALBERTO MARIANO...|        BETO MARIANO|                          41|              1970|\n",
      "|       2018|       61123|       55400|MARTA MARIA FREIR...|         MARTA COSTA|                          36|              1970|\n",
      "|       2018|       61123|        1515|LUIZ FELIPE BALEI...|        BALEIA ROSSI|                          36|              1970|\n",
      "|       2018|       61123|        4040|VALDOMIRO LOPES D...|     VALDOMIRO LOPES|                          35|              1970|\n",
      "|       2018|       61123|        1720|EDUARDO NANTES BO...|   EDUARDO BOLSONARO|                          34|              1970|\n",
      "|       2018|       61123|        2550|EUGENIO JOSÉ ZULIANI|     GENINHO ZULIANI|                          34|              1970|\n",
      "|       2018|       61123|       17317|JANAINA CONCEIÇÃO...|    JANAINA PASCHOAL|                          25|              1970|\n",
      "|       2018|       61123|        2200|   JOSÉ AUGUSTO ROSA|     CAPITÃO AUGUSTO|                          23|              1970|\n",
      "|       2018|       61123|        1771|JOICE CRISTINA HA...|    JOICE HASSELMANN|                          16|              1970|\n",
      "+-----------+------------+------------+--------------------+--------------------+----------------------------+------------------+\n",
      "only showing top 20 rows\n",
      "\n"
     ]
    },
    {
     "name": "stderr",
     "output_type": "stream",
     "text": [
      "                                                                                \r"
     ]
    }
   ],
   "source": [
    "df_eleicoes_agrupado.show()"
   ]
  },
  {
   "cell_type": "code",
   "execution_count": 52,
   "metadata": {},
   "outputs": [
    {
     "name": "stderr",
     "output_type": "stream",
     "text": [
      "[Stage 91:>                                                        (0 + 8) / 20]\r"
     ]
    }
   ],
   "source": [
    "df_eleicoes_agrupado.filter(df_eleicoes_agrupado.CD_MUNICIPIO == '70572' ).show()"
   ]
  },
  {
   "cell_type": "code",
   "execution_count": null,
   "metadata": {},
   "outputs": [
    {
     "name": "stdout",
     "output_type": "stream",
     "text": [
      "root\n",
      " |-- ANO_ELEICAO: integer (nullable = true)\n",
      " |-- CD_MUNICIPIO: integer (nullable = true)\n",
      " |-- NR_CANDIDATO: integer (nullable = true)\n",
      " |-- NM_CANDIDATO: string (nullable = true)\n",
      " |-- NM_URNA_CANDIDATO: string (nullable = true)\n",
      " |-- TOTAL_VOTOS_CANDIDATO_CIDADE: long (nullable = true)\n",
      " |-- TOTAL_VOTOS_CIDADE: long (nullable = true)\n",
      "\n"
     ]
    }
   ],
   "source": [
    "df_eleicoes_agrupado.printSchema()"
   ]
  },
  {
   "cell_type": "code",
   "execution_count": null,
   "metadata": {},
   "outputs": [],
   "source": [
    "@F.udf(returnType=T.FloatType())\n",
    "def calcular_variacao_percentual(total_votos: int, total_votos_cidade: int) -> float:\n",
    "    percentual = total_votos_cidade * 100 / total_votos\n",
    "    percentual = round(percentual, 2)\n",
    "    return percentual"
   ]
  },
  {
   "cell_type": "code",
   "execution_count": null,
   "metadata": {},
   "outputs": [
    {
     "name": "stderr",
     "output_type": "stream",
     "text": [
      "[Stage 62:>                                                         (0 + 1) / 1]\r"
     ]
    },
    {
     "name": "stdout",
     "output_type": "stream",
     "text": [
      "+-----------+------------+------------+--------------------+--------------------+----------------------------+------------------+-----------------------+\n",
      "|ANO_ELEICAO|CD_MUNICIPIO|NR_CANDIDATO|        NM_CANDIDATO|   NM_URNA_CANDIDATO|TOTAL_VOTOS_CANDIDATO_CIDADE|TOTAL_VOTOS_CIDADE|PERCENTUAL_VOTOS_CIDADE|\n",
      "+-----------+------------+------------+--------------------+--------------------+----------------------------+------------------+-----------------------+\n",
      "|       2018|       61123|        1123|   FAUSTO RUY PINATO|       FAUSTO PINATO|                         239|              1970|                  12.13|\n",
      "|       2018|       61123|       15300|ITAMAR FRANCISCO ...|       ITAMAR BORGES|                         221|              1970|                  11.22|\n",
      "|       2018|       61123|       45400|   ANALICE FERNANDES|   ANALICE FERNANDES|                         153|              1970|                   7.77|\n",
      "|       2018|       61123|       19888|RAUL APARECIDO GO...|            DR. RAUL|                         141|              1970|                   7.16|\n",
      "|       2018|       61123|        5555|ELEUSES VIEIRA DE...|   DR. ELEUSES PAIVA|                         124|              1970|                   6.29|\n",
      "|       2018|       61123|       31131|EDSON SATORU SAKA...|  DELEGADO SAKASHITA|                         109|              1970|                   5.53|\n",
      "|       2018|       61123|        1332|JOSE MENTOR GUILH...|         JOSE MENTOR|                          76|              1970|                   3.86|\n",
      "|       2018|       61123|       19619|LUIS HENRIQUE DOS...|LUIS HENRIQUE MOR...|                          59|              1970|                   2.99|\n",
      "|       2018|       61123|       13199|ANTONIO MENTOR DE...|      ANTONIO MENTOR|                          52|              1970|                   2.64|\n",
      "|       2018|       61123|       45232|CARLOS EDUARDO PI...|    CARLÃO PIGNATARI|                          48|              1970|                   2.44|\n",
      "|       2018|       61123|        1063|LUIZ CARLOS BOMBO...|              LUIZAO|                          43|              1970|                   2.18|\n",
      "|       2018|       61123|        5180|ADALBERTO MARIANO...|        BETO MARIANO|                          41|              1970|                   2.08|\n",
      "|       2018|       61123|       55400|MARTA MARIA FREIR...|         MARTA COSTA|                          36|              1970|                   1.83|\n",
      "|       2018|       61123|        1515|LUIZ FELIPE BALEI...|        BALEIA ROSSI|                          36|              1970|                   1.83|\n",
      "|       2018|       61123|        4040|VALDOMIRO LOPES D...|     VALDOMIRO LOPES|                          35|              1970|                   1.78|\n",
      "|       2018|       61123|        1720|EDUARDO NANTES BO...|   EDUARDO BOLSONARO|                          34|              1970|                   1.73|\n",
      "|       2018|       61123|        2550|EUGENIO JOSÉ ZULIANI|     GENINHO ZULIANI|                          34|              1970|                   1.73|\n",
      "|       2018|       61123|       17317|JANAINA CONCEIÇÃO...|    JANAINA PASCHOAL|                          25|              1970|                   1.27|\n",
      "|       2018|       61123|        2200|   JOSÉ AUGUSTO ROSA|     CAPITÃO AUGUSTO|                          23|              1970|                   1.17|\n",
      "|       2018|       61123|        1771|JOICE CRISTINA HA...|    JOICE HASSELMANN|                          16|              1970|                   0.81|\n",
      "+-----------+------------+------------+--------------------+--------------------+----------------------------+------------------+-----------------------+\n",
      "only showing top 20 rows\n",
      "\n"
     ]
    },
    {
     "name": "stderr",
     "output_type": "stream",
     "text": [
      "                                                                                \r"
     ]
    }
   ],
   "source": [
    "df_eleicoes_agrupado = df_eleicoes_agrupado.withColumn('PERCENTUAL_VOTOS_CIDADE', calcular_variacao_percentual(F.col('TOTAL_VOTOS_CIDADE'), F.col('TOTAL_VOTOS_CANDIDATO_CIDADE') ))\n",
    "df_eleicoes_agrupado.show(truncate=False)"
   ]
  },
  {
   "cell_type": "code",
   "execution_count": null,
   "metadata": {},
   "outputs": [],
   "source": []
  }
 ],
 "metadata": {
  "kernelspec": {
   "display_name": ".venv",
   "language": "python",
   "name": "python3"
  },
  "language_info": {
   "codemirror_mode": {
    "name": "ipython",
    "version": 3
   },
   "file_extension": ".py",
   "mimetype": "text/x-python",
   "name": "python",
   "nbconvert_exporter": "python",
   "pygments_lexer": "ipython3",
   "version": "3.10.12"
  }
 },
 "nbformat": 4,
 "nbformat_minor": 2
}
