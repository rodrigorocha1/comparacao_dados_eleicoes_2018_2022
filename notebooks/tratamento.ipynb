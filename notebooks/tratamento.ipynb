{
 "cells": [
  {
   "cell_type": "code",
   "execution_count": 1,
   "metadata": {},
   "outputs": [],
   "source": [
    "from pyspark.sql import SparkSession\n",
    "from pyspark.sql.window import Window\n",
    "import pyspark.sql.functions as F\n",
    "import pyspark.sql.types as T"
   ]
  },
  {
   "cell_type": "code",
   "execution_count": 2,
   "metadata": {},
   "outputs": [
    {
     "name": "stdout",
     "output_type": "stream",
     "text": [
      "23/12/17 00:03:50 WARN Utils: Your hostname, rodrigo-Nitro-AN515-54 resolves to a loopback address: 127.0.1.1; using 192.168.0.112 instead (on interface wlp8s0)\n",
      "23/12/17 00:03:50 WARN Utils: Set SPARK_LOCAL_IP if you need to bind to another address\n"
     ]
    },
    {
     "name": "stderr",
     "output_type": "stream",
     "text": [
      "Setting default log level to \"WARN\".\n",
      "To adjust logging level use sc.setLogLevel(newLevel). For SparkR, use setLogLevel(newLevel).\n"
     ]
    },
    {
     "name": "stdout",
     "output_type": "stream",
     "text": [
      "23/12/17 00:03:54 WARN NativeCodeLoader: Unable to load native-hadoop library for your platform... using builtin-java classes where applicable\n"
     ]
    },
    {
     "data": {
      "text/html": [
       "\n",
       "            <div>\n",
       "                <p><b>SparkSession - in-memory</b></p>\n",
       "                \n",
       "        <div>\n",
       "            <p><b>SparkContext</b></p>\n",
       "\n",
       "            <p><a href=\"http://192.168.0.112:4040\">Spark UI</a></p>\n",
       "\n",
       "            <dl>\n",
       "              <dt>Version</dt>\n",
       "                <dd><code>v3.3.0</code></dd>\n",
       "              <dt>Master</dt>\n",
       "                <dd><code>local[*]</code></dd>\n",
       "              <dt>AppName</dt>\n",
       "                <dd><code>CARGA</code></dd>\n",
       "            </dl>\n",
       "        </div>\n",
       "        \n",
       "            </div>\n",
       "        "
      ],
      "text/plain": [
       "<pyspark.sql.session.SparkSession at 0x7fd5f80a4460>"
      ]
     },
     "execution_count": 2,
     "metadata": {},
     "output_type": "execute_result"
    }
   ],
   "source": [
    "spark = SparkSession.builder.appName('CARGA').getOrCreate()\n",
    "spark"
   ]
  },
  {
   "cell_type": "code",
   "execution_count": 3,
   "metadata": {},
   "outputs": [
    {
     "name": "stderr",
     "output_type": "stream",
     "text": [
      "                                                                                \r"
     ]
    },
    {
     "name": "stdout",
     "output_type": "stream",
     "text": [
      "+----------------+--------------------+------------+------------+--------------------+--------------------+----------+--------------------+-------------------------+----------------+-----------+------------+--------+----------+----------------+\n",
      "|        DS_CARGO|        NM_MUNICIPIO|SQ_CANDIDATO|NR_CANDIDATO|        NM_CANDIDATO|   NM_URNA_CANDIDATO|NR_PARTIDO|          NM_PARTIDO|QT_VOTOS_NOMINAIS_VALIDOS|DS_SIT_TOT_TURNO|ANO_ELEICAO|CD_MUNICIPIO|CD_CARGO|SG_PARTIDO|CD_SIT_TOT_TURNO|\n",
      "+----------------+--------------------+------------+------------+--------------------+--------------------+----------+--------------------+-------------------------+----------------+-----------+------------+--------+----------+----------------+\n",
      "|Deputado Federal|           SÃO PAULO|250000619502|        2221|VALDEMAR ROSENDO ...|    VALDEMAR ROSENDO|        22|Partido da República|                       26|        SUPLENTE|       2018|       71072|       6|        PR|               5|\n",
      "|Deputado Federal|SANTA CRUZ DO RIO...|250000619502|        2221|VALDEMAR ROSENDO ...|    VALDEMAR ROSENDO|        22|Partido da República|                        1|        SUPLENTE|       2018|       70297|       6|        PR|               5|\n",
      "|Deputado Federal|       CESÁRIO LANGE|250000619502|        2221|VALDEMAR ROSENDO ...|    VALDEMAR ROSENDO|        22|Partido da República|                        0|        SUPLENTE|       2018|       63339|       6|        PR|               5|\n",
      "|Deputado Federal|    MURUTINGA DO SUL|250000619502|        2221|VALDEMAR ROSENDO ...|    VALDEMAR ROSENDO|        22|Partido da República|                        0|        SUPLENTE|       2018|       67431|       6|        PR|               5|\n",
      "|Deputado Federal|   BRAGANÇA PAULISTA|250000619502|        2221|VALDEMAR ROSENDO ...|    VALDEMAR ROSENDO|        22|Partido da República|                        1|        SUPLENTE|       2018|       62510|       6|        PR|               5|\n",
      "|Deputado Federal|          SÃO CARLOS|250000619510|        2207|SILVIO ANDREI ROD...| PADRE SILVIO ANDREI|        22|Partido da República|                        7|        SUPLENTE|       2018|       70793|       6|        PR|               5|\n",
      "|Deputado Federal|           SÃO PAULO|250000619510|        2207|SILVIO ANDREI ROD...| PADRE SILVIO ANDREI|        22|Partido da República|                       34|        SUPLENTE|       2018|       71072|       6|        PR|               5|\n",
      "|Deputado Federal|               AVARÉ|250000619510|        2207|SILVIO ANDREI ROD...| PADRE SILVIO ANDREI|        22|Partido da República|                       13|        SUPLENTE|       2018|       61891|       6|        PR|               5|\n",
      "|Deputado Federal|VISTA ALEGRE DO ALTO|250000619510|        2207|SILVIO ANDREI ROD...| PADRE SILVIO ANDREI|        22|Partido da República|                        0|        SUPLENTE|       2018|       72419|       6|        PR|               5|\n",
      "|Deputado Federal|           SÃO PAULO|250000619510|        2207|SILVIO ANDREI ROD...| PADRE SILVIO ANDREI|        22|Partido da República|                      128|        SUPLENTE|       2018|       71072|       6|        PR|               5|\n",
      "|Deputado Federal|           CERQUILHO|250000619510|        2207|SILVIO ANDREI ROD...| PADRE SILVIO ANDREI|        22|Partido da República|                       70|        SUPLENTE|       2018|       63312|       6|        PR|               5|\n",
      "|Deputado Federal|         NOVA EUROPA|250000619510|        2207|SILVIO ANDREI ROD...| PADRE SILVIO ANDREI|        22|Partido da República|                        0|        SUPLENTE|       2018|       67598|       6|        PR|               5|\n",
      "|Deputado Federal|               SALTO|250000619510|        2207|SILVIO ANDREI ROD...| PADRE SILVIO ANDREI|        22|Partido da República|                     6440|        SUPLENTE|       2018|       70050|       6|        PR|               5|\n",
      "|Deputado Federal|SANTANA DA PONTE ...|250000619514|        2270|ANTONIO CARLOS RO...|ANTONIO CARLOS RO...|        22|Partido da República|                        0|        SUPLENTE|       2018|       70459|       6|        PR|               5|\n",
      "|Deputado Federal|         SÃO VICENTE|250000619514|        2270|ANTONIO CARLOS RO...|ANTONIO CARLOS RO...|        22|Partido da República|                       21|        SUPLENTE|       2018|       71218|       6|        PR|               5|\n",
      "|Deputado Federal|            IPORANGA|250000619514|        2270|ANTONIO CARLOS RO...|ANTONIO CARLOS RO...|        22|Partido da República|                        2|        SUPLENTE|       2018|       65250|       6|        PR|               5|\n",
      "|Deputado Federal|            GUAIÇARA|250000619514|        2270|ANTONIO CARLOS RO...|ANTONIO CARLOS RO...|        22|Partido da República|                        0|        SUPLENTE|       2018|       64459|       6|        PR|               5|\n",
      "|Deputado Federal|           SÃO PAULO|250000619520|        2214|CLAUDIA LOPES DE ...|                 CAL|        22|Partido da República|                        0|        SUPLENTE|       2018|       71072|       6|        PR|               5|\n",
      "|Deputado Federal| MONTE ALEGRE DO SUL|250000619520|        2214|CLAUDIA LOPES DE ...|                 CAL|        22|Partido da República|                        0|        SUPLENTE|       2018|       67253|       6|        PR|               5|\n",
      "|Deputado Federal|               IACRI|250000619520|        2214|CLAUDIA LOPES DE ...|                 CAL|        22|Partido da República|                        0|        SUPLENTE|       2018|       64858|       6|        PR|               5|\n",
      "+----------------+--------------------+------------+------------+--------------------+--------------------+----------+--------------------+-------------------------+----------------+-----------+------------+--------+----------+----------------+\n",
      "only showing top 20 rows\n",
      "\n"
     ]
    },
    {
     "name": "stderr",
     "output_type": "stream",
     "text": [
      "                                                                                \r"
     ]
    }
   ],
   "source": [
    "df_eleicoes_2018 = spark.read.options(\n",
    "    header=True, \n",
    "    delimiter=';', \n",
    "    encoding='ISO-8859-1',\n",
    "    inferschema=True).csv('../data/raw/votacao_candidato_munzona_2018_SP.csv')\n",
    "df_eleicoes_2018 = df_eleicoes_2018 \\\n",
    "    .filter(df_eleicoes_2018.CD_CARGO.isin(6, 7))\n",
    "df_eleicoes_2018 = df_eleicoes_2018.select(\n",
    "    'DS_CARGO',\n",
    "    'NM_MUNICIPIO',\n",
    "    'SQ_CANDIDATO',\n",
    "    'NR_CANDIDATO',\n",
    "    'NM_CANDIDATO',\n",
    "    'NM_URNA_CANDIDATO',\n",
    "    'NR_PARTIDO',\n",
    "    'NM_PARTIDO',\n",
    "    'QT_VOTOS_NOMINAIS_VALIDOS',\n",
    "    'DS_SIT_TOT_TURNO',\n",
    "    'ANO_ELEICAO',\n",
    "    'CD_MUNICIPIO',\n",
    "    'CD_CARGO',\n",
    "    'SG_PARTIDO',\n",
    "    'CD_SIT_TOT_TURNO',\n",
    "    \n",
    ")\n",
    "df_eleicoes_2018.show()"
   ]
  },
  {
   "cell_type": "code",
   "execution_count": 4,
   "metadata": {},
   "outputs": [
    {
     "name": "stderr",
     "output_type": "stream",
     "text": [
      "                                                                                \r"
     ]
    },
    {
     "name": "stdout",
     "output_type": "stream",
     "text": [
      "+----------------+--------------------+------------+------------+--------------------+-----------------+----------+--------------------+-------------------------+----------------+-----------+------------+--------+----------+----------------+\n",
      "|        DS_CARGO|        NM_MUNICIPIO|SQ_CANDIDATO|NR_CANDIDATO|        NM_CANDIDATO|NM_URNA_CANDIDATO|NR_PARTIDO|          NM_PARTIDO|QT_VOTOS_NOMINAIS_VALIDOS|DS_SIT_TOT_TURNO|ANO_ELEICAO|CD_MUNICIPIO|CD_CARGO|SG_PARTIDO|CD_SIT_TOT_TURNO|\n",
      "+----------------+--------------------+------------+------------+--------------------+-----------------+----------+--------------------+-------------------------+----------------+-----------+------------+--------+----------+----------------+\n",
      "|Deputado Federal|                BURI|250001604971|        5522|ADRIANA ALVES DA ...|  ADRIANA RAMALHO|        55|Partido Social De...|                        0|        SUPLENTE|       2022|       62618|       6|       PSD|               5|\n",
      "|Deputado Federal|             SARAPUÍ|250001604971|        5522|ADRIANA ALVES DA ...|  ADRIANA RAMALHO|        55|Partido Social De...|                        0|        SUPLENTE|       2022|       71234|       6|       PSD|               5|\n",
      "|Deputado Federal|              CEDRAL|250001604971|        5522|ADRIANA ALVES DA ...|  ADRIANA RAMALHO|        55|Partido Social De...|                        0|        SUPLENTE|       2022|       63274|       6|       PSD|               5|\n",
      "|Deputado Federal|              TUIUTI|250001604971|        5522|ADRIANA ALVES DA ...|  ADRIANA RAMALHO|        55|Partido Social De...|                        0|        SUPLENTE|       2022|       61620|       6|       PSD|               5|\n",
      "|Deputado Federal|     GUARANI D OESTE|250001604971|        5522|ADRIANA ALVES DA ...|  ADRIANA RAMALHO|        55|Partido Social De...|                        0|        SUPLENTE|       2022|       64610|       6|       PSD|               5|\n",
      "|Deputado Federal|             CARDOSO|250001604971|        5522|ADRIANA ALVES DA ...|  ADRIANA RAMALHO|        55|Partido Social De...|                        0|        SUPLENTE|       2022|       63150|       6|       PSD|               5|\n",
      "|Deputado Federal|SÃO JOSÉ DO RIO P...|250001604971|        5522|ADRIANA ALVES DA ...|  ADRIANA RAMALHO|        55|Partido Social De...|                        3|        SUPLENTE|       2022|       70971|       6|       PSD|               5|\n",
      "|Deputado Federal|             BARUERI|250001604971|        5522|ADRIANA ALVES DA ...|  ADRIANA RAMALHO|        55|Partido Social De...|                       37|        SUPLENTE|       2022|       62138|       6|       PSD|               5|\n",
      "|Deputado Federal|     ITAQUAQUECETUBA|250001604974|        5502|FABIO HENRIQUE DA...|       FABIÃO SJC|        55|Partido Social De...|                        6|        SUPLENTE|       2022|       65633|       6|       PSD|               5|\n",
      "|Deputado Federal|            OUROESTE|250001604974|        5502|FABIO HENRIQUE DA...|       FABIÃO SJC|        55|Partido Social De...|                        0|        SUPLENTE|       2022|       62383|       6|       PSD|               5|\n",
      "|Deputado Federal|            LOUVEIRA|250001604974|        5502|FABIO HENRIQUE DA...|       FABIÃO SJC|        55|Partido Social De...|                        0|        SUPLENTE|       2022|       66478|       6|       PSD|               5|\n",
      "|Deputado Federal|           AMERICANA|250001604974|        5502|FABIO HENRIQUE DA...|       FABIÃO SJC|        55|Partido Social De...|                        0|        SUPLENTE|       2022|       61310|       6|       PSD|               5|\n",
      "|Deputado Federal|             AREALVA|250001604974|        5502|FABIO HENRIQUE DA...|       FABIÃO SJC|        55|Partido Social De...|                        0|        SUPLENTE|       2022|       61670|       6|       PSD|               5|\n",
      "|Deputado Federal|            SARUTAIÁ|250001604981|        5559|RENATO TADEU DE O...|     RENATO PAIVA|        55|Partido Social De...|                        0|        SUPLENTE|       2022|       71250|       6|       PSD|               5|\n",
      "|Deputado Federal|          PRADÓPOLIS|250001604981|        5559|RENATO TADEU DE O...|     RENATO PAIVA|        55|Partido Social De...|                        0|        SUPLENTE|       2022|       69191|       6|       PSD|               5|\n",
      "|Deputado Federal|           GUARULHOS|250001604981|        5559|RENATO TADEU DE O...|     RENATO PAIVA|        55|Partido Social De...|                        1|        SUPLENTE|       2022|       64777|       6|       PSD|               5|\n",
      "|Deputado Federal|              TANABI|250001604982|        5519|RIBAMAR ANTONIO D...|    RIBAMAR SILVA|        55|Partido Social De...|                        0|        SUPLENTE|       2022|       71692|       6|       PSD|               5|\n",
      "|Deputado Federal|           SÃO PAULO|250001604982|        5519|RIBAMAR ANTONIO D...|    RIBAMAR SILVA|        55|Partido Social De...|                       26|        SUPLENTE|       2022|       71072|       6|       PSD|               5|\n",
      "|Deputado Federal|           ARCO-ÍRIS|250001604982|        5519|RIBAMAR ANTONIO D...|    RIBAMAR SILVA|        55|Partido Social De...|                        0|        SUPLENTE|       2022|       62065|       6|       PSD|               5|\n",
      "|Deputado Federal|            SOROCABA|250001604982|        5519|RIBAMAR ANTONIO D...|    RIBAMAR SILVA|        55|Partido Social De...|                       38|        SUPLENTE|       2022|       71455|       6|       PSD|               5|\n",
      "+----------------+--------------------+------------+------------+--------------------+-----------------+----------+--------------------+-------------------------+----------------+-----------+------------+--------+----------+----------------+\n",
      "only showing top 20 rows\n",
      "\n"
     ]
    }
   ],
   "source": [
    "df_eleicoes_2022 = spark.read.options(\n",
    "    header=True, \n",
    "    delimiter=';', \n",
    "    encoding='ISO-8859-1',\n",
    "    inferschema=True).csv('../data/raw/votacao_candidato_munzona_2022_SP.csv')\n",
    "df_eleicoes_2022 = df_eleicoes_2022 \\\n",
    "    .filter(df_eleicoes_2022.CD_CARGO.isin(6,7))\n",
    "df_eleicoes_2022 = df_eleicoes_2022.select(\n",
    "    'DS_CARGO',\n",
    "    'NM_MUNICIPIO',\n",
    "    'SQ_CANDIDATO',\n",
    "    'NR_CANDIDATO',\n",
    "    'NM_CANDIDATO',\n",
    "    'NM_URNA_CANDIDATO',\n",
    "    'NR_PARTIDO',\n",
    "    'NM_PARTIDO',\n",
    "    'QT_VOTOS_NOMINAIS_VALIDOS',\n",
    "    'DS_SIT_TOT_TURNO',\n",
    "    'ANO_ELEICAO',\n",
    "    'CD_MUNICIPIO',\n",
    "    'CD_CARGO',\n",
    "    'SG_PARTIDO',\n",
    "    'CD_SIT_TOT_TURNO',\n",
    "    \n",
    ")\n",
    "df_eleicoes_2022.show()"
   ]
  },
  {
   "cell_type": "code",
   "execution_count": 5,
   "metadata": {},
   "outputs": [
    {
     "name": "stdout",
     "output_type": "stream",
     "text": [
      "root\n",
      " |-- DS_CARGO: string (nullable = true)\n",
      " |-- NM_MUNICIPIO: string (nullable = true)\n",
      " |-- SQ_CANDIDATO: long (nullable = true)\n",
      " |-- NR_CANDIDATO: integer (nullable = true)\n",
      " |-- NM_CANDIDATO: string (nullable = true)\n",
      " |-- NM_URNA_CANDIDATO: string (nullable = true)\n",
      " |-- NR_PARTIDO: integer (nullable = true)\n",
      " |-- NM_PARTIDO: string (nullable = true)\n",
      " |-- QT_VOTOS_NOMINAIS_VALIDOS: integer (nullable = true)\n",
      " |-- DS_SIT_TOT_TURNO: string (nullable = true)\n",
      " |-- ANO_ELEICAO: integer (nullable = true)\n",
      " |-- CD_MUNICIPIO: integer (nullable = true)\n",
      " |-- CD_CARGO: integer (nullable = true)\n",
      " |-- SG_PARTIDO: string (nullable = true)\n",
      " |-- CD_SIT_TOT_TURNO: integer (nullable = true)\n",
      "\n"
     ]
    }
   ],
   "source": [
    "df_eleicoes_2022.printSchema()"
   ]
  },
  {
   "cell_type": "code",
   "execution_count": 6,
   "metadata": {},
   "outputs": [
    {
     "name": "stdout",
     "output_type": "stream",
     "text": [
      "root\n",
      " |-- DS_CARGO: string (nullable = true)\n",
      " |-- NM_MUNICIPIO: string (nullable = true)\n",
      " |-- SQ_CANDIDATO: long (nullable = true)\n",
      " |-- NR_CANDIDATO: integer (nullable = true)\n",
      " |-- NM_CANDIDATO: string (nullable = true)\n",
      " |-- NM_URNA_CANDIDATO: string (nullable = true)\n",
      " |-- NR_PARTIDO: integer (nullable = true)\n",
      " |-- NM_PARTIDO: string (nullable = true)\n",
      " |-- QT_VOTOS_NOMINAIS_VALIDOS: integer (nullable = true)\n",
      " |-- DS_SIT_TOT_TURNO: string (nullable = true)\n",
      " |-- ANO_ELEICAO: integer (nullable = true)\n",
      " |-- CD_MUNICIPIO: integer (nullable = true)\n",
      " |-- CD_CARGO: integer (nullable = true)\n",
      " |-- SG_PARTIDO: string (nullable = true)\n",
      " |-- CD_SIT_TOT_TURNO: integer (nullable = true)\n",
      "\n"
     ]
    }
   ],
   "source": [
    "df_eleicoes_2018.printSchema()"
   ]
  },
  {
   "cell_type": "code",
   "execution_count": 7,
   "metadata": {},
   "outputs": [],
   "source": [
    "df_eleicoes = df_eleicoes_2018.unionAll(df_eleicoes_2022)"
   ]
  },
  {
   "cell_type": "code",
   "execution_count": 8,
   "metadata": {},
   "outputs": [
    {
     "name": "stdout",
     "output_type": "stream",
     "text": [
      "+-----------------+--------------+------------+------------+--------------------+--------------------+----------+--------------------+-------------------------+----------------+-----------+------------+--------+----------+----------------+\n",
      "|         DS_CARGO|  NM_MUNICIPIO|SQ_CANDIDATO|NR_CANDIDATO|        NM_CANDIDATO|   NM_URNA_CANDIDATO|NR_PARTIDO|          NM_PARTIDO|QT_VOTOS_NOMINAIS_VALIDOS|DS_SIT_TOT_TURNO|ANO_ELEICAO|CD_MUNICIPIO|CD_CARGO|SG_PARTIDO|CD_SIT_TOT_TURNO|\n",
      "+-----------------+--------------+------------+------------+--------------------+--------------------+----------+--------------------+-------------------------+----------------+-----------+------------+--------+----------+----------------+\n",
      "|Deputado Estadual|RIBEIRÃO PRETO|250000613297|       17123|DANIELA ANCHÃO BRAGA|       DANIELA BRAGA|        17|Partido Social Li...|                       64|        SUPLENTE|       2018|       69698|       7|       PSL|               5|\n",
      "|Deputado Estadual|RIBEIRÃO PRETO|250000613296|       17288|CRISTINA ALVES DE...|          CRIS GODOY|        17|Partido Social Li...|                       19|        SUPLENTE|       2018|       69698|       7|       PSL|               5|\n",
      "|Deputado Estadual|RIBEIRÃO PRETO|250000613438|       17441|         MEIRE LOPES|         MEIRE LOPES|        17|Partido Social Li...|                        1|        SUPLENTE|       2018|       69698|       7|       PSL|               5|\n",
      "|Deputado Estadual|RIBEIRÃO PRETO|250000613380|       17120|GILDEVANIO ILSO D...|           GIL DINIZ|        17|Partido Social Li...|                      575|   ELEITO POR QP|       2018|       69698|       7|       PSL|               2|\n",
      "| Deputado Federal|RIBEIRÃO PRETO|250000615168|        4054|ELISEU GABRIEL DE...|      ELISEU GABRIEL|        40|Partido Socialist...|                        6|        SUPLENTE|       2018|       69698|       6|       PSB|               5|\n",
      "| Deputado Federal|RIBEIRÃO PRETO|250000615186|        4077|ROSANA DE OLIVEIR...|        ROSANA VALLE|        40|Partido Socialist...|                        4|   ELEITO POR QP|       2018|       69698|       6|       PSB|               2|\n",
      "| Deputado Federal|RIBEIRÃO PRETO|250000606904|        7018|CLODOALDO MAIOLIN...|   SARGENTO MAIOLINI|        70|              AVANTE|                        1|      NÃO ELEITO|       2018|       69698|       6|    AVANTE|               4|\n",
      "| Deputado Federal|RIBEIRÃO PRETO|250000602945|        5169|SILAS DA SILVA MO...|       SILAS MOREIRA|        51|            Patriota|                        0|      NÃO ELEITO|       2018|       69698|       6|     PATRI|               4|\n",
      "|Deputado Estadual|RIBEIRÃO PRETO|250000606815|       65900|SINCLAIR LOPES DE...|SINCLAIR LOPES DA...|        65|Partido Comunista...|                        0|        SUPLENTE|       2018|       69698|       7|   PC do B|               5|\n",
      "|Deputado Estadual|RIBEIRÃO PRETO|250000627803|       51040|RENATO ANTONIO FO...|      RENATO FONSECA|        51|            Patriota|                        0|        SUPLENTE|       2018|       69698|       7|     PATRI|               5|\n",
      "| Deputado Federal|RIBEIRÃO PRETO|250000613312|        1751|RAMIRO ALVES DA R...|RAMIRO DOS CAMINH...|        17|Partido Social Li...|                        1|        SUPLENTE|       2018|       69698|       6|       PSL|               5|\n",
      "| Deputado Federal|RIBEIRÃO PRETO|250000613781|        1910|NATANIEL DA SILVA...|             NATINHA|        19|             Podemos|                        8|        SUPLENTE|       2018|       69698|       6|      PODE|               5|\n",
      "| Deputado Federal|RIBEIRÃO PRETO|250000606284|        1002|         ELIANA SABÁ|         ELIANA SABÁ|        10|Partido Republica...|                        0|        SUPLENTE|       2018|       69698|       6|       PRB|               5|\n",
      "| Deputado Federal|RIBEIRÃO PRETO|250000623911|        1333|     JULIANA CARDOSO|     JULIANA CARDOSO|        13|Partido dos Traba...|                       30|        SUPLENTE|       2018|       69698|       6|        PT|               5|\n",
      "| Deputado Federal|RIBEIRÃO PRETO|250000623916|        1327|MARIA APARECIDA M...|     MARIA DE SIMONI|        13|Partido dos Traba...|                        0|        SUPLENTE|       2018|       69698|       6|        PT|               5|\n",
      "|Deputado Estadual|RIBEIRÃO PRETO|250000613389|       17712|ANDREA JOSIANE PI...|    ANDREA NAKASASSU|        17|Partido Social Li...|                        3|        SUPLENTE|       2018|       69698|       7|       PSL|               5|\n",
      "|Deputado Estadual|RIBEIRÃO PRETO|250000606800|       65656| LUIS ALVES DE SOUZA|          LUIS ALVES|        65|Partido Comunista...|                        2|        SUPLENTE|       2018|       69698|       7|   PC do B|               5|\n",
      "|Deputado Estadual|RIBEIRÃO PRETO|250000603043|       51127|VALDIR HENRIQUE D...|   SARGENTO HENRIQUE|        51|            Patriota|                        0|        SUPLENTE|       2018|       69698|       7|     PATRI|               5|\n",
      "| Deputado Federal|RIBEIRÃO PRETO|250000623477|        1277|AURELINO ALVES DO...|       JUNIOR DA VAN|        12|Partido Democráti...|                        1|        SUPLENTE|       2018|       69698|       6|       PDT|               5|\n",
      "| Deputado Federal|RIBEIRÃO PRETO|250000602888|        5194|RITA MANUELA MATT...|        RITA MANUELA|        51|            Patriota|                        1|      NÃO ELEITO|       2018|       69698|       6|     PATRI|               4|\n",
      "+-----------------+--------------+------------+------------+--------------------+--------------------+----------+--------------------+-------------------------+----------------+-----------+------------+--------+----------+----------------+\n",
      "only showing top 20 rows\n",
      "\n"
     ]
    },
    {
     "name": "stderr",
     "output_type": "stream",
     "text": [
      "                                                                                \r"
     ]
    }
   ],
   "source": [
    "df_eleicoes.filter(df_eleicoes.NM_MUNICIPIO == 'RIBEIRÃO PRETO').show()"
   ]
  },
  {
   "cell_type": "code",
   "execution_count": 9,
   "metadata": {},
   "outputs": [
    {
     "name": "stdout",
     "output_type": "stream",
     "text": [
      "+----------------+-----------------------+------------+------------+------------------------+------------------------+----------+--------------------+-------------------------+----------------+-----------+------------+--------+----------+----------------+\n",
      "|DS_CARGO        |NM_MUNICIPIO           |SQ_CANDIDATO|NR_CANDIDATO|NM_CANDIDATO            |NM_URNA_CANDIDATO       |NR_PARTIDO|NM_PARTIDO          |QT_VOTOS_NOMINAIS_VALIDOS|DS_SIT_TOT_TURNO|ANO_ELEICAO|CD_MUNICIPIO|CD_CARGO|SG_PARTIDO|CD_SIT_TOT_TURNO|\n",
      "+----------------+-----------------------+------------+------------+------------------------+------------------------+----------+--------------------+-------------------------+----------------+-----------+------------+--------+----------+----------------+\n",
      "|Deputado Federal|SÃO PAULO              |250000619502|2221        |VALDEMAR ROSENDO MARQUES|VALDEMAR ROSENDO        |22        |Partido da República|26                       |SUPLENTE        |2018       |71072       |6       |PR        |5               |\n",
      "|Deputado Federal|SANTA CRUZ DO RIO PARDO|250000619502|2221        |VALDEMAR ROSENDO MARQUES|VALDEMAR ROSENDO        |22        |Partido da República|1                        |SUPLENTE        |2018       |70297       |6       |PR        |5               |\n",
      "|Deputado Federal|CESÁRIO LANGE          |250000619502|2221        |VALDEMAR ROSENDO MARQUES|VALDEMAR ROSENDO        |22        |Partido da República|0                        |SUPLENTE        |2018       |63339       |6       |PR        |5               |\n",
      "|Deputado Federal|MURUTINGA DO SUL       |250000619502|2221        |VALDEMAR ROSENDO MARQUES|VALDEMAR ROSENDO        |22        |Partido da República|0                        |SUPLENTE        |2018       |67431       |6       |PR        |5               |\n",
      "|Deputado Federal|BRAGANÇA PAULISTA      |250000619502|2221        |VALDEMAR ROSENDO MARQUES|VALDEMAR ROSENDO        |22        |Partido da República|1                        |SUPLENTE        |2018       |62510       |6       |PR        |5               |\n",
      "|Deputado Federal|SÃO CARLOS             |250000619510|2207        |SILVIO ANDREI RODRIGUES |PADRE SILVIO ANDREI     |22        |Partido da República|7                        |SUPLENTE        |2018       |70793       |6       |PR        |5               |\n",
      "|Deputado Federal|SÃO PAULO              |250000619510|2207        |SILVIO ANDREI RODRIGUES |PADRE SILVIO ANDREI     |22        |Partido da República|34                       |SUPLENTE        |2018       |71072       |6       |PR        |5               |\n",
      "|Deputado Federal|AVARÉ                  |250000619510|2207        |SILVIO ANDREI RODRIGUES |PADRE SILVIO ANDREI     |22        |Partido da República|13                       |SUPLENTE        |2018       |61891       |6       |PR        |5               |\n",
      "|Deputado Federal|VISTA ALEGRE DO ALTO   |250000619510|2207        |SILVIO ANDREI RODRIGUES |PADRE SILVIO ANDREI     |22        |Partido da República|0                        |SUPLENTE        |2018       |72419       |6       |PR        |5               |\n",
      "|Deputado Federal|SÃO PAULO              |250000619510|2207        |SILVIO ANDREI RODRIGUES |PADRE SILVIO ANDREI     |22        |Partido da República|128                      |SUPLENTE        |2018       |71072       |6       |PR        |5               |\n",
      "|Deputado Federal|CERQUILHO              |250000619510|2207        |SILVIO ANDREI RODRIGUES |PADRE SILVIO ANDREI     |22        |Partido da República|70                       |SUPLENTE        |2018       |63312       |6       |PR        |5               |\n",
      "|Deputado Federal|NOVA EUROPA            |250000619510|2207        |SILVIO ANDREI RODRIGUES |PADRE SILVIO ANDREI     |22        |Partido da República|0                        |SUPLENTE        |2018       |67598       |6       |PR        |5               |\n",
      "|Deputado Federal|SALTO                  |250000619510|2207        |SILVIO ANDREI RODRIGUES |PADRE SILVIO ANDREI     |22        |Partido da República|6440                     |SUPLENTE        |2018       |70050       |6       |PR        |5               |\n",
      "|Deputado Federal|SANTANA DA PONTE PENSA |250000619514|2270        |ANTONIO CARLOS RODRIGUES|ANTONIO CARLOS RODRIGUES|22        |Partido da República|0                        |SUPLENTE        |2018       |70459       |6       |PR        |5               |\n",
      "|Deputado Federal|SÃO VICENTE            |250000619514|2270        |ANTONIO CARLOS RODRIGUES|ANTONIO CARLOS RODRIGUES|22        |Partido da República|21                       |SUPLENTE        |2018       |71218       |6       |PR        |5               |\n",
      "|Deputado Federal|IPORANGA               |250000619514|2270        |ANTONIO CARLOS RODRIGUES|ANTONIO CARLOS RODRIGUES|22        |Partido da República|2                        |SUPLENTE        |2018       |65250       |6       |PR        |5               |\n",
      "|Deputado Federal|GUAIÇARA               |250000619514|2270        |ANTONIO CARLOS RODRIGUES|ANTONIO CARLOS RODRIGUES|22        |Partido da República|0                        |SUPLENTE        |2018       |64459       |6       |PR        |5               |\n",
      "|Deputado Federal|SÃO PAULO              |250000619520|2214        |CLAUDIA LOPES DE SOUZA  |CAL                     |22        |Partido da República|0                        |SUPLENTE        |2018       |71072       |6       |PR        |5               |\n",
      "|Deputado Federal|MONTE ALEGRE DO SUL    |250000619520|2214        |CLAUDIA LOPES DE SOUZA  |CAL                     |22        |Partido da República|0                        |SUPLENTE        |2018       |67253       |6       |PR        |5               |\n",
      "|Deputado Federal|IACRI                  |250000619520|2214        |CLAUDIA LOPES DE SOUZA  |CAL                     |22        |Partido da República|0                        |SUPLENTE        |2018       |64858       |6       |PR        |5               |\n",
      "+----------------+-----------------------+------------+------------+------------------------+------------------------+----------+--------------------+-------------------------+----------------+-----------+------------+--------+----------+----------------+\n",
      "only showing top 20 rows\n",
      "\n"
     ]
    }
   ],
   "source": [
    "df_eleicoes.show(truncate=False)"
   ]
  },
  {
   "cell_type": "code",
   "execution_count": 10,
   "metadata": {},
   "outputs": [
    {
     "name": "stderr",
     "output_type": "stream",
     "text": [
      "[Stage 10:>                                                         (0 + 1) / 1]\r"
     ]
    },
    {
     "name": "stdout",
     "output_type": "stream",
     "text": [
      "+-----------+--------+------------------------------+\n",
      "|ANO_ELEICAO|CD_CARGO|sum(QT_VOTOS_NOMINAIS_VALIDOS)|\n",
      "+-----------+--------+------------------------------+\n",
      "|       2018|       7|                      18633278|\n",
      "|       2018|       6|                      19537230|\n",
      "|       2022|       7|                      21387412|\n",
      "|       2022|       6|                      22410538|\n",
      "+-----------+--------+------------------------------+\n",
      "\n"
     ]
    },
    {
     "name": "stderr",
     "output_type": "stream",
     "text": [
      "                                                                                \r"
     ]
    }
   ],
   "source": [
    "df_eleicoes.select('ANO_ELEICAO', 'CD_CARGO', 'QT_VOTOS_NOMINAIS_VALIDOS').groupBy('ANO_ELEICAO', 'CD_CARGO').sum('QT_VOTOS_NOMINAIS_VALIDOS').show()"
   ]
  },
  {
   "cell_type": "markdown",
   "metadata": {},
   "source": []
  },
  {
   "cell_type": "code",
   "execution_count": 11,
   "metadata": {},
   "outputs": [
    {
     "name": "stderr",
     "output_type": "stream",
     "text": [
      "                                                                                \r"
     ]
    },
    {
     "data": {
      "text/plain": [
       "5300100"
      ]
     },
     "execution_count": 11,
     "metadata": {},
     "output_type": "execute_result"
    }
   ],
   "source": [
    "df_eleicoes.count()"
   ]
  },
  {
   "cell_type": "markdown",
   "metadata": {},
   "source": [
    "- Quantidade de votos por cidade selecionando candidato,  partido\n",
    "- Quantidade de votos por candidato selecionando cidade\n",
    "- Quantidade de votos por partido selecionando cidade\n",
    "- Percentual de votos por partido na cidade\n",
    "- Percentual de votos por candidato na cidade (Rank de pior/ Melhor desempenho) permitir gerar número de visualizações\n",
    "- Desempenho do candidato, ou seja, se ele reelegeu, ele perdeu ou ganhou eleitores (expressar em porcentagem), \n",
    "- Quantidade de eleitos por partdido"
   ]
  },
  {
   "cell_type": "markdown",
   "metadata": {},
   "source": [
    "- Hierarquia\n",
    "ANO_ELEICAO -> Cargo -> CIDADE"
   ]
  },
  {
   "cell_type": "markdown",
   "metadata": {},
   "source": [
    "- Quantidade de votos por cidade selecionando candidato,  partido"
   ]
  },
  {
   "cell_type": "markdown",
   "metadata": {},
   "source": [
    "- Selecionando candidato"
   ]
  },
  {
   "cell_type": "code",
   "execution_count": 12,
   "metadata": {},
   "outputs": [],
   "source": [
    "ano = 2022\n",
    "nr_urna_candidato  = 'VALDEMAR ROSENDO'"
   ]
  },
  {
   "cell_type": "code",
   "execution_count": 13,
   "metadata": {},
   "outputs": [
    {
     "name": "stderr",
     "output_type": "stream",
     "text": [
      "[Stage 14:>                                                        (0 + 8) / 20]\r"
     ]
    },
    {
     "name": "stdout",
     "output_type": "stream",
     "text": [
      "23/12/17 00:09:34 WARN RowBasedKeyValueBatch: Calling spill() on RowBasedKeyValueBatch. Will not spill but return 0.\n",
      "23/12/17 00:09:34 WARN RowBasedKeyValueBatch: Calling spill() on RowBasedKeyValueBatch. Will not spill but return 0.\n",
      "23/12/17 00:09:36 WARN RowBasedKeyValueBatch: Calling spill() on RowBasedKeyValueBatch. Will not spill but return 0.\n",
      "23/12/17 00:09:37 WARN RowBasedKeyValueBatch: Calling spill() on RowBasedKeyValueBatch. Will not spill but return 0.\n",
      "23/12/17 00:09:37 WARN RowBasedKeyValueBatch: Calling spill() on RowBasedKeyValueBatch. Will not spill but return 0.\n"
     ]
    },
    {
     "name": "stderr",
     "output_type": "stream",
     "text": [
      "[Stage 14:========>                                                (3 + 8) / 20]\r"
     ]
    },
    {
     "name": "stdout",
     "output_type": "stream",
     "text": [
      "23/12/17 00:09:39 WARN RowBasedKeyValueBatch: Calling spill() on RowBasedKeyValueBatch. Will not spill but return 0.\n",
      "23/12/17 00:09:39 WARN RowBasedKeyValueBatch: Calling spill() on RowBasedKeyValueBatch. Will not spill but return 0.\n"
     ]
    },
    {
     "name": "stderr",
     "output_type": "stream",
     "text": [
      "[Stage 14:==============>                                          (5 + 8) / 20]\r"
     ]
    },
    {
     "name": "stdout",
     "output_type": "stream",
     "text": [
      "23/12/17 00:09:39 WARN RowBasedKeyValueBatch: Calling spill() on RowBasedKeyValueBatch. Will not spill but return 0.\n",
      "23/12/17 00:09:40 WARN RowBasedKeyValueBatch: Calling spill() on RowBasedKeyValueBatch. Will not spill but return 0.\n",
      "23/12/17 00:09:40 WARN RowBasedKeyValueBatch: Calling spill() on RowBasedKeyValueBatch. Will not spill but return 0.\n",
      "23/12/17 00:09:40 WARN RowBasedKeyValueBatch: Calling spill() on RowBasedKeyValueBatch. Will not spill but return 0.\n",
      "23/12/17 00:09:40 WARN RowBasedKeyValueBatch: Calling spill() on RowBasedKeyValueBatch. Will not spill but return 0.\n"
     ]
    },
    {
     "name": "stderr",
     "output_type": "stream",
     "text": [
      "[Stage 14:===================>                                     (7 + 8) / 20]\r"
     ]
    },
    {
     "name": "stdout",
     "output_type": "stream",
     "text": [
      "23/12/17 00:09:41 WARN RowBasedKeyValueBatch: Calling spill() on RowBasedKeyValueBatch. Will not spill but return 0.\n",
      "23/12/17 00:09:41 WARN RowBasedKeyValueBatch: Calling spill() on RowBasedKeyValueBatch. Will not spill but return 0.\n"
     ]
    },
    {
     "name": "stderr",
     "output_type": "stream",
     "text": [
      "[Stage 14:============================>                           (10 + 8) / 20]\r"
     ]
    },
    {
     "name": "stdout",
     "output_type": "stream",
     "text": [
      "23/12/17 00:09:42 WARN RowBasedKeyValueBatch: Calling spill() on RowBasedKeyValueBatch. Will not spill but return 0.\n",
      "23/12/17 00:09:42 WARN RowBasedKeyValueBatch: Calling spill() on RowBasedKeyValueBatch. Will not spill but return 0.\n",
      "23/12/17 00:09:43 WARN RowBasedKeyValueBatch: Calling spill() on RowBasedKeyValueBatch. Will not spill but return 0.\n"
     ]
    },
    {
     "name": "stderr",
     "output_type": "stream",
     "text": [
      "[Stage 16:>                                                         (0 + 8) / 9]\r"
     ]
    },
    {
     "name": "stdout",
     "output_type": "stream",
     "text": [
      "+-----------+--------+------------+------------+----------------------------------+--------------------------+----------------+----------------+------------------------------+\n",
      "|ANO_ELEICAO|CD_CARGO|CD_MUNICIPIO|NR_CANDIDATO|NM_CANDIDATO                      |NM_URNA_CANDIDATO         |CD_SIT_TOT_TURNO|DS_SIT_TOT_TURNO|sum(QT_VOTOS_NOMINAIS_VALIDOS)|\n",
      "+-----------+--------+------------+------------+----------------------------------+--------------------------+----------------+----------------+------------------------------+\n",
      "|2018       |7       |71072       |17317       |JANAINA CONCEIÇÃO PASCHOAL        |JANAINA PASCHOAL          |2               |ELEITO POR QP   |587486                        |\n",
      "|2022       |6       |71072       |5010        |GUILHERME CASTRO BOULOS           |GUILHERME BOULOS          |2               |ELEITO POR QP   |489999                        |\n",
      "|2018       |6       |71072       |1720        |EDUARDO NANTES BOLSONARO          |EDUARDO BOLSONARO         |2               |ELEITO POR QP   |416204                        |\n",
      "|2022       |7       |71072       |13133       |EDUARDO MATARAZZO SUPLICY         |EDUARDO SUPLICY           |2               |ELEITO POR QP   |395351                        |\n",
      "|2018       |6       |71072       |1771        |JOICE CRISTINA HASSELMANN         |JOICE HASSELMANN          |2               |ELEITO POR QP   |289404                        |\n",
      "|2022       |6       |71072       |2210        |CARLA ZAMBELLI SALGADO DE OLIVEIRA|CARLA ZAMBELLI            |2               |ELEITO POR QP   |256734                        |\n",
      "|2018       |6       |71072       |1000        |CELSO UBIRAJARA RUSSOMANNO        |CELSO RUSSOMANNO          |2               |ELEITO POR QP   |191516                        |\n",
      "|2022       |6       |71072       |2250        |RICARDO DE AQUINO SALLES          |RICARDO SALLES            |2               |ELEITO POR QP   |177348                        |\n",
      "|2022       |6       |71072       |2222        |EDUARDO NANTES BOLSONARO          |EDUARDO BOLSONARO         |2               |ELEITO POR QP   |177289                        |\n",
      "|2018       |7       |71072       |25555       |ARTHUR MOLEDO DO VAL              |ARTHUR MAMÃE FALEI        |2               |ELEITO POR QP   |166788                        |\n",
      "|2018       |6       |71072       |2555        |KIM PATROCA KATAGUIRI             |KIM KATAGUIRI             |2               |ELEITO POR QP   |164527                        |\n",
      "|2018       |6       |71072       |2222        |FRANCISCO EVERARDO OLIVEIRA SILVA |TIRIRICA                  |2               |ELEITO POR QP   |163476                        |\n",
      "|2022       |6       |71072       |1111        |BRUNO MARCELLO DE OLIVEIRA LIMA   |DELEGADO BRUNO LIMA       |2               |ELEITO POR QP   |161598                        |\n",
      "|2022       |7       |70572       |23023       |ANA CAROLINA ROSSI BARRETO SERRA  |ANA CAROLINA SERRA        |2               |ELEITO POR QP   |154080                        |\n",
      "|2022       |6       |71072       |4040        |TABATA CLAUDIA AMARAL DE PONTES   |TABATA AMARAL             |2               |ELEITO POR QP   |143266                        |\n",
      "|2022       |6       |71072       |1500        |MARIO PALUMBO JUNIOR              |DELEGADO PALUMBO          |2               |ELEITO POR QP   |141963                        |\n",
      "|2022       |7       |71072       |44250       |MILTON LEITE DA SILVA FILHO       |MILTON LEITE FILHO        |2               |ELEITO POR QP   |139851                        |\n",
      "|2022       |7       |71072       |50000       |PAULA NUNES DOS SANTOS            |PAULA DA BANCADA FEMINISTA|2               |ELEITO POR QP   |137754                        |\n",
      "|2018       |6       |71072       |5000        |SAMIA DE SOUZA BOMFIM             |SÂMIA BOMFIM              |2               |ELEITO POR QP   |130572                        |\n",
      "|2018       |7       |71072       |50789       |CARLOS ALBERTO GIANNASI           |CARLOS GIANNAZI           |2               |ELEITO POR QP   |124130                        |\n",
      "+-----------+--------+------------+------------+----------------------------------+--------------------------+----------------+----------------+------------------------------+\n",
      "only showing top 20 rows\n",
      "\n"
     ]
    },
    {
     "name": "stderr",
     "output_type": "stream",
     "text": [
      "                                                                                \r"
     ]
    }
   ],
   "source": [
    "df_eleicoes_agrupado = df_eleicoes.select(\n",
    "    'ANO_ELEICAO', \n",
    "    'CD_CARGO',\n",
    "    'CD_MUNICIPIO',\n",
    "    'NR_CANDIDATO', \n",
    "    'NM_CANDIDATO', \n",
    "    'NM_URNA_CANDIDATO',\n",
    "    'CD_SIT_TOT_TURNO',\n",
    "    'DS_SIT_TOT_TURNO',\n",
    "    'QT_VOTOS_NOMINAIS_VALIDOS'\n",
    "    ) \\\n",
    "    .groupBy(\n",
    "        'ANO_ELEICAO',\n",
    "        'CD_CARGO', \n",
    "        'CD_MUNICIPIO',\n",
    "        'NR_CANDIDATO', \n",
    "        'NM_CANDIDATO', \n",
    "        'NM_URNA_CANDIDATO',\n",
    "        'CD_SIT_TOT_TURNO',\n",
    "        'DS_SIT_TOT_TURNO'\n",
    "        ) \\\n",
    "    .sum('QT_VOTOS_NOMINAIS_VALIDOS') \\\n",
    "    .orderBy('sum(QT_VOTOS_NOMINAIS_VALIDOS)', ascending=False)\n",
    "df_eleicoes_agrupado.show(truncate=False)"
   ]
  },
  {
   "cell_type": "code",
   "execution_count": 14,
   "metadata": {},
   "outputs": [],
   "source": [
    "particao_votos = Window.partitionBy(\n",
    "        'ANO_ELEICAO', \n",
    "        'CD_CARGO',\n",
    "        'CD_MUNICIPIO',\n",
    "        )"
   ]
  },
  {
   "cell_type": "code",
   "execution_count": 15,
   "metadata": {},
   "outputs": [
    {
     "name": "stderr",
     "output_type": "stream",
     "text": [
      "[Stage 17:>                                                        (0 + 8) / 20]\r"
     ]
    },
    {
     "name": "stdout",
     "output_type": "stream",
     "text": [
      "23/12/17 00:10:46 WARN RowBasedKeyValueBatch: Calling spill() on RowBasedKeyValueBatch. Will not spill but return 0.\n",
      "23/12/17 00:10:46 WARN RowBasedKeyValueBatch: Calling spill() on RowBasedKeyValueBatch. Will not spill but return 0.\n"
     ]
    },
    {
     "name": "stderr",
     "output_type": "stream",
     "text": [
      "[Stage 17:==>                                                      (1 + 8) / 20]\r"
     ]
    },
    {
     "name": "stdout",
     "output_type": "stream",
     "text": [
      "23/12/17 00:10:53 WARN RowBasedKeyValueBatch: Calling spill() on RowBasedKeyValueBatch. Will not spill but return 0.\n",
      "23/12/17 00:10:54 WARN RowBasedKeyValueBatch: Calling spill() on RowBasedKeyValueBatch. Will not spill but return 0.\n",
      "23/12/17 00:10:54 WARN RowBasedKeyValueBatch: Calling spill() on RowBasedKeyValueBatch. Will not spill but return 0.\n",
      "23/12/17 00:10:55 WARN RowBasedKeyValueBatch: Calling spill() on RowBasedKeyValueBatch. Will not spill but return 0.\n"
     ]
    },
    {
     "name": "stderr",
     "output_type": "stream",
     "text": [
      "[Stage 17:========>                                                (3 + 8) / 20]\r"
     ]
    },
    {
     "name": "stdout",
     "output_type": "stream",
     "text": [
      "23/12/17 00:10:58 WARN RowBasedKeyValueBatch: Calling spill() on RowBasedKeyValueBatch. Will not spill but return 0.\n",
      "23/12/17 00:10:58 WARN RowBasedKeyValueBatch: Calling spill() on RowBasedKeyValueBatch. Will not spill but return 0.\n",
      "23/12/17 00:10:58 WARN RowBasedKeyValueBatch: Calling spill() on RowBasedKeyValueBatch. Will not spill but return 0.\n"
     ]
    },
    {
     "name": "stderr",
     "output_type": "stream",
     "text": [
      "[Stage 17:===========>                                             (4 + 8) / 20]\r"
     ]
    },
    {
     "name": "stdout",
     "output_type": "stream",
     "text": [
      "23/12/17 00:11:04 WARN RowBasedKeyValueBatch: Calling spill() on RowBasedKeyValueBatch. Will not spill but return 0.\n",
      "23/12/17 00:11:08 WARN RowBasedKeyValueBatch: Calling spill() on RowBasedKeyValueBatch. Will not spill but return 0.\n",
      "23/12/17 00:11:09 WARN RowBasedKeyValueBatch: Calling spill() on RowBasedKeyValueBatch. Will not spill but return 0.\n",
      "23/12/17 00:11:09 WARN RowBasedKeyValueBatch: Calling spill() on RowBasedKeyValueBatch. Will not spill but return 0.\n",
      "23/12/17 00:11:09 WARN RowBasedKeyValueBatch: Calling spill() on RowBasedKeyValueBatch. Will not spill but return 0.\n",
      "23/12/17 00:11:09 WARN RowBasedKeyValueBatch: Calling spill() on RowBasedKeyValueBatch. Will not spill but return 0.\n",
      "23/12/17 00:11:09 WARN RowBasedKeyValueBatch: Calling spill() on RowBasedKeyValueBatch. Will not spill but return 0.\n",
      "23/12/17 00:11:10 WARN RowBasedKeyValueBatch: Calling spill() on RowBasedKeyValueBatch. Will not spill but return 0.\n"
     ]
    },
    {
     "name": "stderr",
     "output_type": "stream",
     "text": [
      "[Stage 17:======================>                                  (8 + 8) / 20]\r"
     ]
    },
    {
     "name": "stdout",
     "output_type": "stream",
     "text": [
      "23/12/17 00:11:14 WARN RowBasedKeyValueBatch: Calling spill() on RowBasedKeyValueBatch. Will not spill but return 0.\n",
      "23/12/17 00:11:14 WARN RowBasedKeyValueBatch: Calling spill() on RowBasedKeyValueBatch. Will not spill but return 0.\n",
      "23/12/17 00:11:14 WARN RowBasedKeyValueBatch: Calling spill() on RowBasedKeyValueBatch. Will not spill but return 0.\n"
     ]
    },
    {
     "name": "stderr",
     "output_type": "stream",
     "text": [
      "[Stage 17:=========================>                               (9 + 8) / 20]\r"
     ]
    },
    {
     "name": "stdout",
     "output_type": "stream",
     "text": [
      "23/12/17 00:11:16 WARN RowBasedKeyValueBatch: Calling spill() on RowBasedKeyValueBatch. Will not spill but return 0.\n",
      "23/12/17 00:11:16 WARN RowBasedKeyValueBatch: Calling spill() on RowBasedKeyValueBatch. Will not spill but return 0.\n",
      "23/12/17 00:11:16 WARN RowBasedKeyValueBatch: Calling spill() on RowBasedKeyValueBatch. Will not spill but return 0.\n",
      "23/12/17 00:11:16 WARN RowBasedKeyValueBatch: Calling spill() on RowBasedKeyValueBatch. Will not spill but return 0.\n"
     ]
    },
    {
     "name": "stderr",
     "output_type": "stream",
     "text": [
      "[Stage 19:======================================>                   (6 + 3) / 9]\r"
     ]
    },
    {
     "name": "stdout",
     "output_type": "stream",
     "text": [
      "+-----------+--------+------------+------------+--------------------+--------------------+----------------+----------------+----------------------------+\n",
      "|ANO_ELEICAO|CD_CARGO|CD_MUNICIPIO|NR_CANDIDATO|        NM_CANDIDATO|   NM_URNA_CANDIDATO|CD_SIT_TOT_TURNO|DS_SIT_TOT_TURNO|TOTAL_VOTOS_CANDIDATO_CIDADE|\n",
      "+-----------+--------+------------+------------+--------------------+--------------------+----------------+----------------+----------------------------+\n",
      "|       2018|       7|       71072|       17317|JANAINA CONCEIÇÃO...|    JANAINA PASCHOAL|               2|   ELEITO POR QP|                      587486|\n",
      "|       2022|       6|       71072|        5010|GUILHERME CASTRO ...|    GUILHERME BOULOS|               2|   ELEITO POR QP|                      489999|\n",
      "|       2018|       6|       71072|        1720|EDUARDO NANTES BO...|   EDUARDO BOLSONARO|               2|   ELEITO POR QP|                      416204|\n",
      "|       2022|       7|       71072|       13133|EDUARDO MATARAZZO...|     EDUARDO SUPLICY|               2|   ELEITO POR QP|                      395351|\n",
      "|       2018|       6|       71072|        1771|JOICE CRISTINA HA...|    JOICE HASSELMANN|               2|   ELEITO POR QP|                      289404|\n",
      "|       2022|       6|       71072|        2210|CARLA ZAMBELLI SA...|      CARLA ZAMBELLI|               2|   ELEITO POR QP|                      256734|\n",
      "|       2018|       6|       71072|        1000|CELSO UBIRAJARA R...|    CELSO RUSSOMANNO|               2|   ELEITO POR QP|                      191516|\n",
      "|       2022|       6|       71072|        2250|RICARDO DE AQUINO...|      RICARDO SALLES|               2|   ELEITO POR QP|                      177348|\n",
      "|       2022|       6|       71072|        2222|EDUARDO NANTES BO...|   EDUARDO BOLSONARO|               2|   ELEITO POR QP|                      177289|\n",
      "|       2018|       7|       71072|       25555|ARTHUR MOLEDO DO VAL|  ARTHUR MAMÃE FALEI|               2|   ELEITO POR QP|                      166788|\n",
      "|       2018|       6|       71072|        2555|KIM PATROCA KATAG...|       KIM KATAGUIRI|               2|   ELEITO POR QP|                      164527|\n",
      "|       2018|       6|       71072|        2222|FRANCISCO EVERARD...|            TIRIRICA|               2|   ELEITO POR QP|                      163476|\n",
      "|       2022|       6|       71072|        1111|BRUNO MARCELLO DE...| DELEGADO BRUNO LIMA|               2|   ELEITO POR QP|                      161598|\n",
      "|       2022|       7|       70572|       23023|ANA CAROLINA ROSS...|  ANA CAROLINA SERRA|               2|   ELEITO POR QP|                      154080|\n",
      "|       2022|       6|       71072|        4040|TABATA CLAUDIA AM...|       TABATA AMARAL|               2|   ELEITO POR QP|                      143266|\n",
      "|       2022|       6|       71072|        1500|MARIO PALUMBO JUNIOR|    DELEGADO PALUMBO|               2|   ELEITO POR QP|                      141963|\n",
      "|       2022|       7|       71072|       44250|MILTON LEITE DA S...|  MILTON LEITE FILHO|               2|   ELEITO POR QP|                      139851|\n",
      "|       2022|       7|       71072|       50000|PAULA NUNES DOS S...|PAULA DA BANCADA ...|               2|   ELEITO POR QP|                      137754|\n",
      "|       2018|       6|       71072|        5000|SAMIA DE SOUZA BO...|        SÂMIA BOMFIM|               2|   ELEITO POR QP|                      130572|\n",
      "|       2018|       7|       71072|       50789|CARLOS ALBERTO GI...|     CARLOS GIANNAZI|               2|   ELEITO POR QP|                      124130|\n",
      "+-----------+--------+------------+------------+--------------------+--------------------+----------------+----------------+----------------------------+\n",
      "only showing top 20 rows\n",
      "\n"
     ]
    },
    {
     "name": "stderr",
     "output_type": "stream",
     "text": [
      "                                                                                \r"
     ]
    }
   ],
   "source": [
    "df_eleicoes_agrupado = df_eleicoes_agrupado.withColumnRenamed('sum(QT_VOTOS_NOMINAIS_VALIDOS)','TOTAL_VOTOS_CANDIDATO_CIDADE')\n",
    "df_eleicoes_agrupado.show()"
   ]
  },
  {
   "cell_type": "code",
   "execution_count": 16,
   "metadata": {},
   "outputs": [],
   "source": [
    "df_eleicoes_agrupado = df_eleicoes_agrupado.withColumn('TOTAL_VOTOS_CIDADE', F.sum(F.col('TOTAL_VOTOS_CANDIDATO_CIDADE')).over(particao_votos))"
   ]
  },
  {
   "cell_type": "code",
   "execution_count": 17,
   "metadata": {},
   "outputs": [
    {
     "name": "stderr",
     "output_type": "stream",
     "text": [
      "[Stage 20:>                                                        (0 + 8) / 20]\r"
     ]
    },
    {
     "name": "stdout",
     "output_type": "stream",
     "text": [
      "23/12/17 00:11:38 WARN RowBasedKeyValueBatch: Calling spill() on RowBasedKeyValueBatch. Will not spill but return 0.\n",
      "23/12/17 00:11:38 WARN RowBasedKeyValueBatch: Calling spill() on RowBasedKeyValueBatch. Will not spill but return 0.\n"
     ]
    },
    {
     "name": "stderr",
     "output_type": "stream",
     "text": [
      "[Stage 20:==>                                                      (1 + 8) / 20]\r"
     ]
    },
    {
     "name": "stdout",
     "output_type": "stream",
     "text": [
      "23/12/17 00:11:41 WARN RowBasedKeyValueBatch: Calling spill() on RowBasedKeyValueBatch. Will not spill but return 0.\n",
      "23/12/17 00:11:41 WARN RowBasedKeyValueBatch: Calling spill() on RowBasedKeyValueBatch. Will not spill but return 0.\n",
      "23/12/17 00:11:42 WARN RowBasedKeyValueBatch: Calling spill() on RowBasedKeyValueBatch. Will not spill but return 0.\n",
      "23/12/17 00:11:42 WARN RowBasedKeyValueBatch: Calling spill() on RowBasedKeyValueBatch. Will not spill but return 0.\n",
      "23/12/17 00:11:42 WARN RowBasedKeyValueBatch: Calling spill() on RowBasedKeyValueBatch. Will not spill but return 0.\n",
      "23/12/17 00:11:42 WARN RowBasedKeyValueBatch: Calling spill() on RowBasedKeyValueBatch. Will not spill but return 0.\n",
      "23/12/17 00:11:43 WARN RowBasedKeyValueBatch: Calling spill() on RowBasedKeyValueBatch. Will not spill but return 0.\n",
      "23/12/17 00:11:43 WARN RowBasedKeyValueBatch: Calling spill() on RowBasedKeyValueBatch. Will not spill but return 0.\n",
      "23/12/17 00:11:43 WARN RowBasedKeyValueBatch: Calling spill() on RowBasedKeyValueBatch. Will not spill but return 0.\n",
      "23/12/17 00:11:43 WARN RowBasedKeyValueBatch: Calling spill() on RowBasedKeyValueBatch. Will not spill but return 0.\n",
      "23/12/17 00:11:43 WARN RowBasedKeyValueBatch: Calling spill() on RowBasedKeyValueBatch. Will not spill but return 0.\n",
      "23/12/17 00:11:43 WARN RowBasedKeyValueBatch: Calling spill() on RowBasedKeyValueBatch. Will not spill but return 0.\n"
     ]
    },
    {
     "name": "stderr",
     "output_type": "stream",
     "text": [
      "[Stage 20:===================>                                     (7 + 8) / 20]\r"
     ]
    },
    {
     "name": "stdout",
     "output_type": "stream",
     "text": [
      "23/12/17 00:11:46 WARN RowBasedKeyValueBatch: Calling spill() on RowBasedKeyValueBatch. Will not spill but return 0.\n"
     ]
    },
    {
     "name": "stderr",
     "output_type": "stream",
     "text": [
      "[Stage 20:=========================>                               (9 + 8) / 20]\r"
     ]
    },
    {
     "name": "stdout",
     "output_type": "stream",
     "text": [
      "23/12/17 00:11:50 WARN RowBasedKeyValueBatch: Calling spill() on RowBasedKeyValueBatch. Will not spill but return 0.\n",
      "23/12/17 00:11:52 WARN RowBasedKeyValueBatch: Calling spill() on RowBasedKeyValueBatch. Will not spill but return 0.\n"
     ]
    },
    {
     "name": "stderr",
     "output_type": "stream",
     "text": [
      "[Stage 20:============================>                           (10 + 8) / 20]\r"
     ]
    },
    {
     "name": "stdout",
     "output_type": "stream",
     "text": [
      "23/12/17 00:12:05 WARN RowBasedKeyValueBatch: Calling spill() on RowBasedKeyValueBatch. Will not spill but return 0.\n",
      "23/12/17 00:12:06 WARN RowBasedKeyValueBatch: Calling spill() on RowBasedKeyValueBatch. Will not spill but return 0.\n",
      "23/12/17 00:12:12 WARN RowBasedKeyValueBatch: Calling spill() on RowBasedKeyValueBatch. Will not spill but return 0.\n"
     ]
    },
    {
     "name": "stderr",
     "output_type": "stream",
     "text": [
      "[Stage 20:==============================>                         (11 + 8) / 20]\r"
     ]
    },
    {
     "name": "stdout",
     "output_type": "stream",
     "text": [
      "23/12/17 00:12:14 WARN RowBasedKeyValueBatch: Calling spill() on RowBasedKeyValueBatch. Will not spill but return 0.\n"
     ]
    },
    {
     "name": "stderr",
     "output_type": "stream",
     "text": [
      "[Stage 31:>                                                         (0 + 1) / 1]\r"
     ]
    },
    {
     "name": "stdout",
     "output_type": "stream",
     "text": [
      "+-----------+--------+------------+------------+--------------------+--------------------+----------------+----------------+----------------------------+------------------+\n",
      "|ANO_ELEICAO|CD_CARGO|CD_MUNICIPIO|NR_CANDIDATO|        NM_CANDIDATO|   NM_URNA_CANDIDATO|CD_SIT_TOT_TURNO|DS_SIT_TOT_TURNO|TOTAL_VOTOS_CANDIDATO_CIDADE|TOTAL_VOTOS_CIDADE|\n",
      "+-----------+--------+------------+------------+--------------------+--------------------+----------------+----------------+----------------------------+------------------+\n",
      "|       2018|       6|       61115|        1720|EDUARDO NANTES BO...|   EDUARDO BOLSONARO|               2|   ELEITO POR QP|                         253|              2500|\n",
      "|       2018|       6|       61115|        1771|JOICE CRISTINA HA...|    JOICE HASSELMANN|               2|   ELEITO POR QP|                         243|              2500|\n",
      "|       2018|       6|       61115|        4000|LUIZ LAURO FERREI...|    LUIZ LAURO FILHO|               5|        SUPLENTE|                         212|              2500|\n",
      "|       2018|       6|       61115|        1111| RICARDO IZAR JUNIOR|        RICARDO IZAR|               2|   ELEITO POR QP|                         153|              2500|\n",
      "|       2018|       6|       61115|        1390|VICENTE PAULO DA ...|          VICENTINHO|               2|   ELEITO POR QP|                         107|              2500|\n",
      "|       2018|       6|       61115|        7799|   JOSÉ LUIZ RIBEIRO|             ZÉ LUIZ|               5|        SUPLENTE|                         107|              2500|\n",
      "|       2018|       6|       61115|        2255|MILTON ANTONIO CA...|        MILTON MONTI|               5|        SUPLENTE|                          65|              2500|\n",
      "|       2018|       6|       61115|        4377|ANTÔNIO CARLOS DE...|               THAME|               5|        SUPLENTE|                          65|              2500|\n",
      "|       2018|       6|       61115|        4567|FABRICIO COBRA ARBEX|      FABRICIO COBRA|               5|        SUPLENTE|                          63|              2500|\n",
      "|       2018|       6|       61115|        1710|CARLA ZAMBELLI SA...|      CARLA ZAMBELLI|               2|   ELEITO POR QP|                          52|              2500|\n",
      "|       2018|       6|       61115|        2200|   JOSÉ AUGUSTO ROSA|     CAPITÃO AUGUSTO|               2|   ELEITO POR QP|                          51|              2500|\n",
      "|       2018|       6|       61115|        2555|KIM PATROCA KATAG...|       KIM KATAGUIRI|               2|   ELEITO POR QP|                          51|              2500|\n",
      "|       2018|       6|       61115|        1200|TABATA CLAUDIA AM...|       TABATA AMARAL|               2|   ELEITO POR QP|                          49|              2500|\n",
      "|       2018|       6|       61115|        1551|HERCULANO CASTILH...|    HERCULANO PASSOS|               3|ELEITO POR MÉDIA|                          46|              2500|\n",
      "|       2018|       6|       61115|        1000|CELSO UBIRAJARA R...|    CELSO RUSSOMANNO|               2|   ELEITO POR QP|                          40|              2500|\n",
      "|       2018|       6|       61115|        1702|LUIZ PHILIPPE DE ...|LUIZ PHILIPPE O. ...|               2|   ELEITO POR QP|                          35|              2500|\n",
      "|       2018|       6|       61115|        5577|ANTONIO CEZAR COR...|CEZINHA DE MADUREIRA|               2|   ELEITO POR QP|                          33|              2500|\n",
      "|       2018|       6|       61115|        3010|ERICA CRISTINA RO...|ERICA CRISTINA RO...|               5|        SUPLENTE|                          30|              2500|\n",
      "|       2018|       6|       61115|        5000|SAMIA DE SOUZA BO...|        SÂMIA BOMFIM|               2|   ELEITO POR QP|                          29|              2500|\n",
      "|       2018|       6|       61115|        2222|FRANCISCO EVERARD...|            TIRIRICA|               2|   ELEITO POR QP|                          27|              2500|\n",
      "+-----------+--------+------------+------------+--------------------+--------------------+----------------+----------------+----------------------------+------------------+\n",
      "only showing top 20 rows\n",
      "\n"
     ]
    },
    {
     "name": "stderr",
     "output_type": "stream",
     "text": [
      "                                                                                \r"
     ]
    }
   ],
   "source": [
    "df_eleicoes_agrupado.show()"
   ]
  },
  {
   "cell_type": "code",
   "execution_count": 18,
   "metadata": {},
   "outputs": [
    {
     "name": "stderr",
     "output_type": "stream",
     "text": [
      "                                                                                \r"
     ]
    },
    {
     "name": "stdout",
     "output_type": "stream",
     "text": [
      "+-----------+--------+------------+------------+--------------------+--------------------+----------------+----------------+----------------------------+------------------+\n",
      "|ANO_ELEICAO|CD_CARGO|CD_MUNICIPIO|NR_CANDIDATO|        NM_CANDIDATO|   NM_URNA_CANDIDATO|CD_SIT_TOT_TURNO|DS_SIT_TOT_TURNO|TOTAL_VOTOS_CANDIDATO_CIDADE|TOTAL_VOTOS_CIDADE|\n",
      "+-----------+--------+------------+------------+--------------------+--------------------+----------------+----------------+----------------------------+------------------+\n",
      "|       2018|       7|       70572|       17317|JANAINA CONCEIÇÃO...|    JANAINA PASCHOAL|               2|   ELEITO POR QP|                       51455|            314141|\n",
      "|       2018|       7|       70572|       70321|ALMIR ROBERTO CICOTE|              CICOTE|               5|        SUPLENTE|                       19852|            314141|\n",
      "|       2018|       7|       70572|       19456| AIDAN ANTONIO RAVIN|     DR. AIDAN RAVIN|               5|        SUPLENTE|                       18088|            314141|\n",
      "|       2018|       7|       70572|       25555|ARTHUR MOLEDO DO VAL|  ARTHUR MAMÃE FALEI|               2|   ELEITO POR QP|                       11845|            314141|\n",
      "|       2018|       7|       70572|       13690|  LUIZ MARTINO TURCO|          LUIZ TURCO|               5|        SUPLENTE|                       11212|            314141|\n",
      "|       2018|       7|       70572|       45545|  JOBERT ALEXANDRINO|   PROFESSOR MINHOCA|               5|        SUPLENTE|                       10685|            314141|\n",
      "|       2018|       7|       70572|       65321|   VANDERLEI SIRAQUE|   VANDERLEI SIRAQUE|               5|        SUPLENTE|                        8442|            314141|\n",
      "|       2018|       7|       70572|       22343|THIAGO REIS AURIC...|    THIAGO AURICCHIO|               2|   ELEITO POR QP|                        7738|            314141|\n",
      "|       2018|       7|       70572|       45680|CARLA SARDANO MOR...|       CARLA MORANDO|               2|   ELEITO POR QP|                        7492|            314141|\n",
      "|       2018|       7|       70572|       10333|ALTAIR MORAES DE ...|       ALTAIR MORAES|               2|   ELEITO POR QP|                        5816|            314141|\n",
      "|       2018|       7|       70572|       10133|JOSÉ DOMINGOS BIT...|    JOSE_BITTENCOURT|               5|        SUPLENTE|                        4624|            314141|\n",
      "|       2018|       7|       70572|       11190|PAULO ADRIANO LOP...|     CORONEL TELHADA|               2|   ELEITO POR QP|                        4448|            314141|\n",
      "|       2018|       7|       70572|       50789|CARLOS ALBERTO GI...|     CARLOS GIANNAZI|               2|   ELEITO POR QP|                        4418|            314141|\n",
      "|       2018|       7|       70572|       13110|TEONILIO MONTEIRO...|               BARBA|               2|   ELEITO POR QP|                        4362|            314141|\n",
      "|       2018|       7|       70572|       17120|GILDEVANIO ILSO D...|           GIL DINIZ|               2|   ELEITO POR QP|                        4358|            314141|\n",
      "|       2018|       7|       70572|       11777|ANTONIO ASSUNÇÃO ...|       DELEGADO OLIM|               2|   ELEITO POR QP|                        4001|            314141|\n",
      "|       2018|       7|       70572|       30300|DANIEL JOSÉ DA SI...|         DANIEL JOSÉ|               2|   ELEITO POR QP|                        3775|            314141|\n",
      "|       2018|       7|       70572|       50900|MONICA CRISTINA S...|MONICA DA BANCADA...|               2|   ELEITO POR QP|                        3542|            314141|\n",
      "|       2018|       7|       70572|       30111|     HENI OZI CUKIER|     HENI OZI CUKIER|               2|   ELEITO POR QP|                        2850|            314141|\n",
      "|       2018|       7|       70572|       30530|SILVANA ALVES POL...|      SILVANA BARONE|               5|        SUPLENTE|                        2811|            314141|\n",
      "+-----------+--------+------------+------------+--------------------+--------------------+----------------+----------------+----------------------------+------------------+\n",
      "only showing top 20 rows\n",
      "\n"
     ]
    }
   ],
   "source": [
    "df_eleicoes_agrupado.filter(\n",
    "    (df_eleicoes_agrupado.CD_MUNICIPIO == '70572') & \n",
    "    (df_eleicoes_agrupado.CD_CARGO.isin(7))   # 331094\n",
    "    ).show()"
   ]
  },
  {
   "cell_type": "code",
   "execution_count": 19,
   "metadata": {},
   "outputs": [
    {
     "name": "stdout",
     "output_type": "stream",
     "text": [
      "root\n",
      " |-- ANO_ELEICAO: integer (nullable = true)\n",
      " |-- CD_CARGO: integer (nullable = true)\n",
      " |-- CD_MUNICIPIO: integer (nullable = true)\n",
      " |-- NR_CANDIDATO: integer (nullable = true)\n",
      " |-- NM_CANDIDATO: string (nullable = true)\n",
      " |-- NM_URNA_CANDIDATO: string (nullable = true)\n",
      " |-- CD_SIT_TOT_TURNO: integer (nullable = true)\n",
      " |-- DS_SIT_TOT_TURNO: string (nullable = true)\n",
      " |-- TOTAL_VOTOS_CANDIDATO_CIDADE: long (nullable = true)\n",
      " |-- TOTAL_VOTOS_CIDADE: long (nullable = true)\n",
      "\n"
     ]
    }
   ],
   "source": [
    "df_eleicoes_agrupado.printSchema()"
   ]
  },
  {
   "cell_type": "code",
   "execution_count": 20,
   "metadata": {},
   "outputs": [],
   "source": [
    "@F.udf(returnType=T.FloatType())\n",
    "def calcular_variacao_percentual(total_votos: int, total_votos_cidade: int) -> float:\n",
    "    try:\n",
    "        percentual = total_votos_cidade * 100 / total_votos\n",
    "        percentual = round(percentual, 2)\n",
    "    except:\n",
    "        percentual = 0.0\n",
    "    return percentual"
   ]
  },
  {
   "cell_type": "code",
   "execution_count": 21,
   "metadata": {},
   "outputs": [
    {
     "name": "stderr",
     "output_type": "stream",
     "text": [
      "[Stage 44:>                                                        (0 + 8) / 20]\r"
     ]
    },
    {
     "name": "stdout",
     "output_type": "stream",
     "text": [
      "23/12/17 00:15:54 WARN RowBasedKeyValueBatch: Calling spill() on RowBasedKeyValueBatch. Will not spill but return 0.\n",
      "23/12/17 00:15:54 WARN RowBasedKeyValueBatch: Calling spill() on RowBasedKeyValueBatch. Will not spill but return 0.\n",
      "23/12/17 00:15:54 WARN RowBasedKeyValueBatch: Calling spill() on RowBasedKeyValueBatch. Will not spill but return 0.\n",
      "23/12/17 00:15:55 WARN RowBasedKeyValueBatch: Calling spill() on RowBasedKeyValueBatch. Will not spill but return 0.\n"
     ]
    },
    {
     "name": "stderr",
     "output_type": "stream",
     "text": [
      "[Stage 44:=====>                                                   (2 + 8) / 20]\r"
     ]
    },
    {
     "name": "stdout",
     "output_type": "stream",
     "text": [
      "23/12/17 00:15:57 WARN RowBasedKeyValueBatch: Calling spill() on RowBasedKeyValueBatch. Will not spill but return 0.\n",
      "23/12/17 00:15:57 WARN RowBasedKeyValueBatch: Calling spill() on RowBasedKeyValueBatch. Will not spill but return 0.\n"
     ]
    },
    {
     "name": "stderr",
     "output_type": "stream",
     "text": [
      "[Stage 44:===========>                                             (4 + 8) / 20]\r"
     ]
    },
    {
     "name": "stdout",
     "output_type": "stream",
     "text": [
      "23/12/17 00:15:58 WARN RowBasedKeyValueBatch: Calling spill() on RowBasedKeyValueBatch. Will not spill but return 0.\n",
      "23/12/17 00:15:58 WARN RowBasedKeyValueBatch: Calling spill() on RowBasedKeyValueBatch. Will not spill but return 0.\n",
      "23/12/17 00:15:59 WARN RowBasedKeyValueBatch: Calling spill() on RowBasedKeyValueBatch. Will not spill but return 0.\n",
      "23/12/17 00:15:59 WARN RowBasedKeyValueBatch: Calling spill() on RowBasedKeyValueBatch. Will not spill but return 0.\n"
     ]
    },
    {
     "name": "stderr",
     "output_type": "stream",
     "text": [
      "[Stage 44:==============>                                          (5 + 8) / 20]\r"
     ]
    },
    {
     "name": "stdout",
     "output_type": "stream",
     "text": [
      "23/12/17 00:16:00 WARN RowBasedKeyValueBatch: Calling spill() on RowBasedKeyValueBatch. Will not spill but return 0.\n",
      "23/12/17 00:16:00 WARN RowBasedKeyValueBatch: Calling spill() on RowBasedKeyValueBatch. Will not spill but return 0.\n"
     ]
    },
    {
     "name": "stderr",
     "output_type": "stream",
     "text": [
      "[Stage 44:=================>                                       (6 + 8) / 20]\r"
     ]
    },
    {
     "name": "stdout",
     "output_type": "stream",
     "text": [
      "23/12/17 00:16:00 WARN RowBasedKeyValueBatch: Calling spill() on RowBasedKeyValueBatch. Will not spill but return 0.\n"
     ]
    },
    {
     "name": "stderr",
     "output_type": "stream",
     "text": [
      "[Stage 44:=========================>                               (9 + 8) / 20]\r"
     ]
    },
    {
     "name": "stdout",
     "output_type": "stream",
     "text": [
      "23/12/17 00:16:02 WARN RowBasedKeyValueBatch: Calling spill() on RowBasedKeyValueBatch. Will not spill but return 0.\n",
      "23/12/17 00:16:02 WARN RowBasedKeyValueBatch: Calling spill() on RowBasedKeyValueBatch. Will not spill but return 0.\n",
      "23/12/17 00:16:02 WARN RowBasedKeyValueBatch: Calling spill() on RowBasedKeyValueBatch. Will not spill but return 0.\n",
      "23/12/17 00:16:02 WARN RowBasedKeyValueBatch: Calling spill() on RowBasedKeyValueBatch. Will not spill but return 0.\n",
      "23/12/17 00:16:02 WARN RowBasedKeyValueBatch: Calling spill() on RowBasedKeyValueBatch. Will not spill but return 0.\n"
     ]
    },
    {
     "name": "stderr",
     "output_type": "stream",
     "text": [
      "[Stage 44:============================>                           (10 + 8) / 20]\r"
     ]
    },
    {
     "name": "stdout",
     "output_type": "stream",
     "text": [
      "23/12/17 00:16:03 WARN RowBasedKeyValueBatch: Calling spill() on RowBasedKeyValueBatch. Will not spill but return 0.\n"
     ]
    },
    {
     "name": "stderr",
     "output_type": "stream",
     "text": [
      "[Stage 55:>                                                         (0 + 1) / 1]\r"
     ]
    },
    {
     "name": "stdout",
     "output_type": "stream",
     "text": [
      "+-----------+--------+------------+------------+---------------------------------+--------------------------+----------------+----------------+----------------------------+------------------+-----------------------+\n",
      "|ANO_ELEICAO|CD_CARGO|CD_MUNICIPIO|NR_CANDIDATO|NM_CANDIDATO                     |NM_URNA_CANDIDATO         |CD_SIT_TOT_TURNO|DS_SIT_TOT_TURNO|TOTAL_VOTOS_CANDIDATO_CIDADE|TOTAL_VOTOS_CIDADE|PERCENTUAL_VOTOS_CIDADE|\n",
      "+-----------+--------+------------+------------+---------------------------------+--------------------------+----------------+----------------+----------------------------+------------------+-----------------------+\n",
      "|2018       |6       |61115       |1720        |EDUARDO NANTES BOLSONARO         |EDUARDO BOLSONARO         |2               |ELEITO POR QP   |253                         |2500              |10.12                  |\n",
      "|2018       |6       |61115       |1771        |JOICE CRISTINA HASSELMANN        |JOICE HASSELMANN          |2               |ELEITO POR QP   |243                         |2500              |9.72                   |\n",
      "|2018       |6       |61115       |4000        |LUIZ LAURO FERREIRA FILHO        |LUIZ LAURO FILHO          |5               |SUPLENTE        |212                         |2500              |8.48                   |\n",
      "|2018       |6       |61115       |1111        |RICARDO IZAR JUNIOR              |RICARDO IZAR              |2               |ELEITO POR QP   |153                         |2500              |6.12                   |\n",
      "|2018       |6       |61115       |1390        |VICENTE PAULO DA SILVA           |VICENTINHO                |2               |ELEITO POR QP   |107                         |2500              |4.28                   |\n",
      "|2018       |6       |61115       |7799        |JOSÉ LUIZ RIBEIRO                |ZÉ LUIZ                   |5               |SUPLENTE        |107                         |2500              |4.28                   |\n",
      "|2018       |6       |61115       |2255        |MILTON ANTONIO CASQUEL MONTI     |MILTON MONTI              |5               |SUPLENTE        |65                          |2500              |2.6                    |\n",
      "|2018       |6       |61115       |4377        |ANTÔNIO CARLOS DE MENDES THAME   |THAME                     |5               |SUPLENTE        |65                          |2500              |2.6                    |\n",
      "|2018       |6       |61115       |4567        |FABRICIO COBRA ARBEX             |FABRICIO COBRA            |5               |SUPLENTE        |63                          |2500              |2.52                   |\n",
      "|2018       |6       |61115       |1710        |CARLA ZAMBELLI SALGADO           |CARLA ZAMBELLI            |2               |ELEITO POR QP   |52                          |2500              |2.08                   |\n",
      "|2018       |6       |61115       |2200        |JOSÉ AUGUSTO ROSA                |CAPITÃO AUGUSTO           |2               |ELEITO POR QP   |51                          |2500              |2.04                   |\n",
      "|2018       |6       |61115       |2555        |KIM PATROCA KATAGUIRI            |KIM KATAGUIRI             |2               |ELEITO POR QP   |51                          |2500              |2.04                   |\n",
      "|2018       |6       |61115       |1200        |TABATA CLAUDIA AMARAL DE PONTES  |TABATA AMARAL             |2               |ELEITO POR QP   |49                          |2500              |1.96                   |\n",
      "|2018       |6       |61115       |1551        |HERCULANO CASTILHO PASSOS JUNIOR |HERCULANO PASSOS          |3               |ELEITO POR MÉDIA|46                          |2500              |1.84                   |\n",
      "|2018       |6       |61115       |1000        |CELSO UBIRAJARA RUSSOMANNO       |CELSO RUSSOMANNO          |2               |ELEITO POR QP   |40                          |2500              |1.6                    |\n",
      "|2018       |6       |61115       |1702        |LUIZ PHILIPPE DE ORLEANS BRAGANÇA|LUIZ PHILIPPE O. BRAGANÇA |2               |ELEITO POR QP   |35                          |2500              |1.4                    |\n",
      "|2018       |6       |61115       |5577        |ANTONIO CEZAR CORREIA FREIRE     |CEZINHA DE MADUREIRA      |2               |ELEITO POR QP   |33                          |2500              |1.32                   |\n",
      "|2018       |6       |61115       |3010        |ERICA CRISTINA ROCHA GORGA       |ERICA CRISTINA ROCHA GORGA|5               |SUPLENTE        |30                          |2500              |1.2                    |\n",
      "|2018       |6       |61115       |5000        |SAMIA DE SOUZA BOMFIM            |SÂMIA BOMFIM              |2               |ELEITO POR QP   |29                          |2500              |1.16                   |\n",
      "|2018       |6       |61115       |2222        |FRANCISCO EVERARDO OLIVEIRA SILVA|TIRIRICA                  |2               |ELEITO POR QP   |27                          |2500              |1.08                   |\n",
      "+-----------+--------+------------+------------+---------------------------------+--------------------------+----------------+----------------+----------------------------+------------------+-----------------------+\n",
      "only showing top 20 rows\n",
      "\n"
     ]
    },
    {
     "name": "stderr",
     "output_type": "stream",
     "text": [
      "                                                                                \r"
     ]
    }
   ],
   "source": [
    "df_eleicoes_agrupado = df_eleicoes_agrupado.withColumn('PERCENTUAL_VOTOS_CIDADE', calcular_variacao_percentual(F.col('TOTAL_VOTOS_CIDADE'), F.col('TOTAL_VOTOS_CANDIDATO_CIDADE') ))\n",
    "df_eleicoes_agrupado.show(truncate=False)"
   ]
  },
  {
   "cell_type": "code",
   "execution_count": 22,
   "metadata": {},
   "outputs": [],
   "source": [
    "ano_eleicao = 2018\n",
    "cd_mun = 69698 # Ribeirão Preto\n",
    "cd_cargo = 6"
   ]
  },
  {
   "cell_type": "code",
   "execution_count": 23,
   "metadata": {},
   "outputs": [
    {
     "name": "stderr",
     "output_type": "stream",
     "text": [
      "                                                                                \r"
     ]
    },
    {
     "name": "stdout",
     "output_type": "stream",
     "text": [
      "+-----------+--------+------------+------------+--------------------+--------------------+----------------+----------------+----------------------------+------------------+-----------------------+\n",
      "|ANO_ELEICAO|CD_CARGO|CD_MUNICIPIO|NR_CANDIDATO|        NM_CANDIDATO|   NM_URNA_CANDIDATO|CD_SIT_TOT_TURNO|DS_SIT_TOT_TURNO|TOTAL_VOTOS_CANDIDATO_CIDADE|TOTAL_VOTOS_CIDADE|PERCENTUAL_VOTOS_CIDADE|\n",
      "+-----------+--------+------------+------------+--------------------+--------------------+----------------+----------------+----------------------------+------------------+-----------------------+\n",
      "|       2018|       6|       69698|        4050|RICARDO AUGUSTO M...|       RICARDO SILVA|               5|        SUPLENTE|                       21428|            251765|                   8.51|\n",
      "|       2018|       6|       69698|        1720|EDUARDO NANTES BO...|   EDUARDO BOLSONARO|               2|   ELEITO POR QP|                       20473|            251765|                   8.13|\n",
      "|       2018|       6|       69698|        5170|  FERNANDO CHIARELLI|           CHIARELLI|               4|      NÃO ELEITO|                       19969|            251765|                   7.93|\n",
      "|       2018|       6|       69698|        1800|   MARCOS ANDRÉ PAPA|         MARCOS PAPA|               4|      NÃO ELEITO|                       18273|            251765|                   7.26|\n",
      "|       2018|       6|       69698|        1771|JOICE CRISTINA HA...|    JOICE HASSELMANN|               2|   ELEITO POR QP|                       16559|            251765|                   6.58|\n",
      "|       2018|       6|       69698|        1515|LUIZ FELIPE BALEI...|        BALEIA ROSSI|               2|   ELEITO POR QP|                       14777|            251765|                   5.87|\n",
      "|       2018|       6|       69698|        4545|SAMANTA MARIA PIN...|SAMANTA DUARTE NO...|               5|        SUPLENTE|                        7586|            251765|                   3.01|\n",
      "|       2018|       6|       69698|        2555|KIM PATROCA KATAG...|       KIM KATAGUIRI|               2|   ELEITO POR QP|                        6927|            251765|                   2.75|\n",
      "|       2018|       6|       69698|        1709|RODRIGO SALOMÃO J...|   RODRIGO JUNQUEIRA|               5|        SUPLENTE|                        6837|            251765|                   2.72|\n",
      "|       2018|       6|       69698|        2222|FRANCISCO EVERARD...|            TIRIRICA|               2|   ELEITO POR QP|                        5125|            251765|                   2.04|\n",
      "|       2018|       6|       69698|        1078|BENEDITO ROBERTO ...|       ROBERTO ALVES|               2|   ELEITO POR QP|                        5038|            251765|                    2.0|\n",
      "|       2018|       6|       69698|        2200|   JOSÉ AUGUSTO ROSA|     CAPITÃO AUGUSTO|               2|   ELEITO POR QP|                        4464|            251765|                   1.77|\n",
      "|       2018|       6|       69698|        1920|MARCO ANTONIO FEL...|PASTOR MARCO FELI...|               2|   ELEITO POR QP|                        3967|            251765|                   1.58|\n",
      "|       2018|       6|       69698|        1200|TABATA CLAUDIA AM...|       TABATA AMARAL|               2|   ELEITO POR QP|                        3895|            251765|                   1.55|\n",
      "|       2018|       6|       69698|        5000|SAMIA DE SOUZA BO...|        SÂMIA BOMFIM|               2|   ELEITO POR QP|                        3299|            251765|                   1.31|\n",
      "|       2018|       6|       69698|        2240|KATIA DA SILVA SA...|POLICIAL KATIA SA...|               2|   ELEITO POR QP|                        3052|            251765|                   1.21|\n",
      "|       2018|       6|       69698|        5050|        IVAN VALENTE|        IVAN VALENTE|               2|   ELEITO POR QP|                        2644|            251765|                   1.05|\n",
      "|       2018|       6|       69698|        3030|VINICIUS LAZZER POIT|       VINICIUS POIT|               2|   ELEITO POR QP|                        2609|            251765|                   1.04|\n",
      "|       2018|       6|       69698|        1000|CELSO UBIRAJARA R...|    CELSO RUSSOMANNO|               2|   ELEITO POR QP|                        2466|            251765|                   0.98|\n",
      "|       2018|       6|       69698|        2225|GIOMÁRIO MENDES C...|GIOMARIO CABELELEIRO|               5|        SUPLENTE|                        2264|            251765|                    0.9|\n",
      "+-----------+--------+------------+------------+--------------------+--------------------+----------------+----------------+----------------------------+------------------+-----------------------+\n",
      "only showing top 20 rows\n",
      "\n"
     ]
    }
   ],
   "source": [
    "df_eleicoes_agrupado.filter(\n",
    "    (df_eleicoes_agrupado.ANO_ELEICAO == ano_eleicao) &\n",
    "    (df_eleicoes_agrupado.CD_MUNICIPIO == cd_mun) &\n",
    "    (df_eleicoes_agrupado.CD_CARGO == cd_cargo)\n",
    ").show()"
   ]
  },
  {
   "cell_type": "code",
   "execution_count": 24,
   "metadata": {},
   "outputs": [
    {
     "data": {
      "text/plain": [
       "['ANO_ELEICAO',\n",
       " 'CD_CARGO',\n",
       " 'CD_MUNICIPIO',\n",
       " 'NR_CANDIDATO',\n",
       " 'NM_CANDIDATO',\n",
       " 'NM_URNA_CANDIDATO',\n",
       " 'CD_SIT_TOT_TURNO',\n",
       " 'DS_SIT_TOT_TURNO',\n",
       " 'TOTAL_VOTOS_CANDIDATO_CIDADE',\n",
       " 'TOTAL_VOTOS_CIDADE',\n",
       " 'PERCENTUAL_VOTOS_CIDADE']"
      ]
     },
     "execution_count": 24,
     "metadata": {},
     "output_type": "execute_result"
    }
   ],
   "source": [
    "df_eleicoes_agrupado.columns"
   ]
  },
  {
   "cell_type": "code",
   "execution_count": 25,
   "metadata": {},
   "outputs": [],
   "source": [
    "df_eleicoes_agrupado = df_eleicoes_agrupado.select(\n",
    "    'NR_CANDIDATO',\n",
    "    'NM_CANDIDATO',\n",
    "    'NM_URNA_CANDIDATO',\n",
    "    'DS_SIT_TOT_TURNO',\n",
    "    'TOTAL_VOTOS_CANDIDATO_CIDADE',\n",
    "    'TOTAL_VOTOS_CIDADE',\n",
    "    'PERCENTUAL_VOTOS_CIDADE',\n",
    "    'ANO_ELEICAO',\n",
    "    'CD_CARGO',\n",
    "    'CD_MUNICIPIO',\n",
    "    'CD_SIT_TOT_TURNO',\n",
    "\n",
    ")"
   ]
  },
  {
   "cell_type": "code",
   "execution_count": 26,
   "metadata": {},
   "outputs": [
    {
     "name": "stderr",
     "output_type": "stream",
     "text": [
      "                                                                                \r"
     ]
    },
    {
     "data": {
      "text/plain": [
       "4382775"
      ]
     },
     "execution_count": 26,
     "metadata": {},
     "output_type": "execute_result"
    }
   ],
   "source": [
    "df_eleicoes_agrupado.count()"
   ]
  },
  {
   "cell_type": "code",
   "execution_count": 36,
   "metadata": {},
   "outputs": [
    {
     "name": "stderr",
     "output_type": "stream",
     "text": [
      "[Stage 93:>                                                        (0 + 8) / 20]\r"
     ]
    },
    {
     "name": "stdout",
     "output_type": "stream",
     "text": [
      "23/12/17 00:28:31 WARN RowBasedKeyValueBatch: Calling spill() on RowBasedKeyValueBatch. Will not spill but return 0.\n",
      "23/12/17 00:28:34 WARN RowBasedKeyValueBatch: Calling spill() on RowBasedKeyValueBatch. Will not spill but return 0.\n",
      "23/12/17 00:28:35 WARN RowBasedKeyValueBatch: Calling spill() on RowBasedKeyValueBatch. Will not spill but return 0.\n",
      "23/12/17 00:28:35 WARN RowBasedKeyValueBatch: Calling spill() on RowBasedKeyValueBatch. Will not spill but return 0.\n",
      "23/12/17 00:28:37 WARN RowBasedKeyValueBatch: Calling spill() on RowBasedKeyValueBatch. Will not spill but return 0.\n"
     ]
    },
    {
     "name": "stderr",
     "output_type": "stream",
     "text": [
      "[Stage 93:=====>                                                   (2 + 8) / 20]\r"
     ]
    },
    {
     "name": "stdout",
     "output_type": "stream",
     "text": [
      "23/12/17 00:28:39 WARN RowBasedKeyValueBatch: Calling spill() on RowBasedKeyValueBatch. Will not spill but return 0.\n",
      "23/12/17 00:28:39 WARN RowBasedKeyValueBatch: Calling spill() on RowBasedKeyValueBatch. Will not spill but return 0.\n"
     ]
    },
    {
     "name": "stderr",
     "output_type": "stream",
     "text": [
      "[Stage 93:========>                                                (3 + 8) / 20]\r"
     ]
    },
    {
     "name": "stdout",
     "output_type": "stream",
     "text": [
      "23/12/17 00:28:39 WARN RowBasedKeyValueBatch: Calling spill() on RowBasedKeyValueBatch. Will not spill but return 0.\n",
      "23/12/17 00:28:40 WARN RowBasedKeyValueBatch: Calling spill() on RowBasedKeyValueBatch. Will not spill but return 0.\n",
      "23/12/17 00:28:40 WARN RowBasedKeyValueBatch: Calling spill() on RowBasedKeyValueBatch. Will not spill but return 0.\n"
     ]
    },
    {
     "name": "stderr",
     "output_type": "stream",
     "text": [
      "[Stage 93:=================>                                       (6 + 8) / 20]\r"
     ]
    },
    {
     "name": "stdout",
     "output_type": "stream",
     "text": [
      "23/12/17 00:28:45 WARN RowBasedKeyValueBatch: Calling spill() on RowBasedKeyValueBatch. Will not spill but return 0.\n",
      "23/12/17 00:28:46 WARN RowBasedKeyValueBatch: Calling spill() on RowBasedKeyValueBatch. Will not spill but return 0.\n"
     ]
    },
    {
     "name": "stderr",
     "output_type": "stream",
     "text": [
      "[Stage 93:===================>                                     (7 + 8) / 20]\r"
     ]
    },
    {
     "name": "stdout",
     "output_type": "stream",
     "text": [
      "23/12/17 00:28:47 WARN RowBasedKeyValueBatch: Calling spill() on RowBasedKeyValueBatch. Will not spill but return 0.\n"
     ]
    },
    {
     "name": "stderr",
     "output_type": "stream",
     "text": [
      "[Stage 93:======================>                                  (8 + 8) / 20]\r"
     ]
    },
    {
     "name": "stdout",
     "output_type": "stream",
     "text": [
      "23/12/17 00:28:49 WARN RowBasedKeyValueBatch: Calling spill() on RowBasedKeyValueBatch. Will not spill but return 0.\n"
     ]
    },
    {
     "name": "stderr",
     "output_type": "stream",
     "text": [
      "[Stage 93:=========================>                               (9 + 8) / 20]\r"
     ]
    },
    {
     "name": "stdout",
     "output_type": "stream",
     "text": [
      "23/12/17 00:29:05 WARN RowBasedKeyValueBatch: Calling spill() on RowBasedKeyValueBatch. Will not spill but return 0.\n",
      "23/12/17 00:29:05 WARN RowBasedKeyValueBatch: Calling spill() on RowBasedKeyValueBatch. Will not spill but return 0.\n",
      "23/12/17 00:29:06 WARN RowBasedKeyValueBatch: Calling spill() on RowBasedKeyValueBatch. Will not spill but return 0.\n"
     ]
    },
    {
     "name": "stderr",
     "output_type": "stream",
     "text": [
      "[Stage 93:==============================>                         (11 + 8) / 20]\r"
     ]
    },
    {
     "name": "stdout",
     "output_type": "stream",
     "text": [
      "23/12/17 00:29:12 WARN RowBasedKeyValueBatch: Calling spill() on RowBasedKeyValueBatch. Will not spill but return 0.\n",
      "23/12/17 00:29:12 WARN RowBasedKeyValueBatch: Calling spill() on RowBasedKeyValueBatch. Will not spill but return 0.\n",
      "23/12/17 00:29:13 WARN RowBasedKeyValueBatch: Calling spill() on RowBasedKeyValueBatch. Will not spill but return 0.\n"
     ]
    },
    {
     "name": "stderr",
     "output_type": "stream",
     "text": [
      "                                                                                \r"
     ]
    }
   ],
   "source": [
    "df_eleicoes_agrupado \\\n",
    "    .write \\\n",
    "    .partitionBy('ANO_ELEICAO', 'CD_CARGO', 'CD_MUNICIPIO', 'CD_SIT_TOT_TURNO') \\\n",
    "    .parquet('../data/processed_v2/total_votos_candidato_completo.parquet')\n"
   ]
  },
  {
   "cell_type": "markdown",
   "metadata": {},
   "source": [
    "- total votos partido"
   ]
  },
  {
   "cell_type": "code",
   "execution_count": 37,
   "metadata": {},
   "outputs": [
    {
     "name": "stdout",
     "output_type": "stream",
     "text": [
      "+----------------+--------------------+------------+------------+--------------------+--------------------+----------+--------------------+-------------------------+----------------+-----------+------------+--------+----------+----------------+\n",
      "|        DS_CARGO|        NM_MUNICIPIO|SQ_CANDIDATO|NR_CANDIDATO|        NM_CANDIDATO|   NM_URNA_CANDIDATO|NR_PARTIDO|          NM_PARTIDO|QT_VOTOS_NOMINAIS_VALIDOS|DS_SIT_TOT_TURNO|ANO_ELEICAO|CD_MUNICIPIO|CD_CARGO|SG_PARTIDO|CD_SIT_TOT_TURNO|\n",
      "+----------------+--------------------+------------+------------+--------------------+--------------------+----------+--------------------+-------------------------+----------------+-----------+------------+--------+----------+----------------+\n",
      "|Deputado Federal|           SÃO PAULO|250000619502|        2221|VALDEMAR ROSENDO ...|    VALDEMAR ROSENDO|        22|Partido da República|                       26|        SUPLENTE|       2018|       71072|       6|        PR|               5|\n",
      "|Deputado Federal|SANTA CRUZ DO RIO...|250000619502|        2221|VALDEMAR ROSENDO ...|    VALDEMAR ROSENDO|        22|Partido da República|                        1|        SUPLENTE|       2018|       70297|       6|        PR|               5|\n",
      "|Deputado Federal|       CESÁRIO LANGE|250000619502|        2221|VALDEMAR ROSENDO ...|    VALDEMAR ROSENDO|        22|Partido da República|                        0|        SUPLENTE|       2018|       63339|       6|        PR|               5|\n",
      "|Deputado Federal|    MURUTINGA DO SUL|250000619502|        2221|VALDEMAR ROSENDO ...|    VALDEMAR ROSENDO|        22|Partido da República|                        0|        SUPLENTE|       2018|       67431|       6|        PR|               5|\n",
      "|Deputado Federal|   BRAGANÇA PAULISTA|250000619502|        2221|VALDEMAR ROSENDO ...|    VALDEMAR ROSENDO|        22|Partido da República|                        1|        SUPLENTE|       2018|       62510|       6|        PR|               5|\n",
      "|Deputado Federal|          SÃO CARLOS|250000619510|        2207|SILVIO ANDREI ROD...| PADRE SILVIO ANDREI|        22|Partido da República|                        7|        SUPLENTE|       2018|       70793|       6|        PR|               5|\n",
      "|Deputado Federal|           SÃO PAULO|250000619510|        2207|SILVIO ANDREI ROD...| PADRE SILVIO ANDREI|        22|Partido da República|                       34|        SUPLENTE|       2018|       71072|       6|        PR|               5|\n",
      "|Deputado Federal|               AVARÉ|250000619510|        2207|SILVIO ANDREI ROD...| PADRE SILVIO ANDREI|        22|Partido da República|                       13|        SUPLENTE|       2018|       61891|       6|        PR|               5|\n",
      "|Deputado Federal|VISTA ALEGRE DO ALTO|250000619510|        2207|SILVIO ANDREI ROD...| PADRE SILVIO ANDREI|        22|Partido da República|                        0|        SUPLENTE|       2018|       72419|       6|        PR|               5|\n",
      "|Deputado Federal|           SÃO PAULO|250000619510|        2207|SILVIO ANDREI ROD...| PADRE SILVIO ANDREI|        22|Partido da República|                      128|        SUPLENTE|       2018|       71072|       6|        PR|               5|\n",
      "|Deputado Federal|           CERQUILHO|250000619510|        2207|SILVIO ANDREI ROD...| PADRE SILVIO ANDREI|        22|Partido da República|                       70|        SUPLENTE|       2018|       63312|       6|        PR|               5|\n",
      "|Deputado Federal|         NOVA EUROPA|250000619510|        2207|SILVIO ANDREI ROD...| PADRE SILVIO ANDREI|        22|Partido da República|                        0|        SUPLENTE|       2018|       67598|       6|        PR|               5|\n",
      "|Deputado Federal|               SALTO|250000619510|        2207|SILVIO ANDREI ROD...| PADRE SILVIO ANDREI|        22|Partido da República|                     6440|        SUPLENTE|       2018|       70050|       6|        PR|               5|\n",
      "|Deputado Federal|SANTANA DA PONTE ...|250000619514|        2270|ANTONIO CARLOS RO...|ANTONIO CARLOS RO...|        22|Partido da República|                        0|        SUPLENTE|       2018|       70459|       6|        PR|               5|\n",
      "|Deputado Federal|         SÃO VICENTE|250000619514|        2270|ANTONIO CARLOS RO...|ANTONIO CARLOS RO...|        22|Partido da República|                       21|        SUPLENTE|       2018|       71218|       6|        PR|               5|\n",
      "|Deputado Federal|            IPORANGA|250000619514|        2270|ANTONIO CARLOS RO...|ANTONIO CARLOS RO...|        22|Partido da República|                        2|        SUPLENTE|       2018|       65250|       6|        PR|               5|\n",
      "|Deputado Federal|            GUAIÇARA|250000619514|        2270|ANTONIO CARLOS RO...|ANTONIO CARLOS RO...|        22|Partido da República|                        0|        SUPLENTE|       2018|       64459|       6|        PR|               5|\n",
      "|Deputado Federal|           SÃO PAULO|250000619520|        2214|CLAUDIA LOPES DE ...|                 CAL|        22|Partido da República|                        0|        SUPLENTE|       2018|       71072|       6|        PR|               5|\n",
      "|Deputado Federal| MONTE ALEGRE DO SUL|250000619520|        2214|CLAUDIA LOPES DE ...|                 CAL|        22|Partido da República|                        0|        SUPLENTE|       2018|       67253|       6|        PR|               5|\n",
      "|Deputado Federal|               IACRI|250000619520|        2214|CLAUDIA LOPES DE ...|                 CAL|        22|Partido da República|                        0|        SUPLENTE|       2018|       64858|       6|        PR|               5|\n",
      "+----------------+--------------------+------------+------------+--------------------+--------------------+----------+--------------------+-------------------------+----------------+-----------+------------+--------+----------+----------------+\n",
      "only showing top 20 rows\n",
      "\n"
     ]
    }
   ],
   "source": [
    "df_eleicoes.show()"
   ]
  },
  {
   "cell_type": "code",
   "execution_count": 38,
   "metadata": {},
   "outputs": [
    {
     "name": "stderr",
     "output_type": "stream",
     "text": [
      "[Stage 106:====================================================>  (19 + 1) / 20]\r"
     ]
    },
    {
     "name": "stdout",
     "output_type": "stream",
     "text": [
      "+-----------+--------+------------+----------+----------+--------------------+----------------+----------------+------------------------------+\n",
      "|ANO_ELEICAO|CD_CARGO|CD_MUNICIPIO|NR_PARTIDO|SG_PARTIDO|          NM_PARTIDO|CD_SIT_TOT_TURNO|DS_SIT_TOT_TURNO|sum(QT_VOTOS_NOMINAIS_VALIDOS)|\n",
      "+-----------+--------+------------+----------+----------+--------------------+----------------+----------------+------------------------------+\n",
      "|       2018|       6|       70351|        22|        PR|Partido da República|               5|        SUPLENTE|                            40|\n",
      "|       2018|       7|       69698|        17|       PSL|Partido Social Li...|               5|        SUPLENTE|                         15026|\n",
      "|       2018|       7|       61204|        17|       PSL|Partido Social Li...|               5|        SUPLENTE|                           158|\n",
      "|       2018|       7|       62979|        17|       PSL|Partido Social Li...|               5|        SUPLENTE|                            14|\n",
      "|       2018|       6|       69175|        40|       PSB|Partido Socialist...|               5|        SUPLENTE|                           271|\n",
      "|       2018|       6|       64777|        19|      PODE|             Podemos|               5|        SUPLENTE|                          4835|\n",
      "|       2018|       6|       62618|        70|    AVANTE|              AVANTE|               4|      NÃO ELEITO|                            13|\n",
      "|       2018|       6|       66451|        17|       PSL|Partido Social Li...|               5|        SUPLENTE|                          1258|\n",
      "|       2018|       7|       62952|        70|    AVANTE|              AVANTE|               5|        SUPLENTE|                            61|\n",
      "|       2018|       6|       62871|        10|       PRB|Partido Republica...|               5|        SUPLENTE|                           104|\n",
      "|       2018|       7|       71757|        70|    AVANTE|              AVANTE|               5|        SUPLENTE|                            21|\n",
      "|       2018|       7|       71358|        70|    AVANTE|              AVANTE|               5|        SUPLENTE|                           111|\n",
      "|       2018|       6|       63894|        43|        PV|       Partido Verde|               2|   ELEITO POR QP|                          2714|\n",
      "|       2018|       7|       69531|        19|      PODE|             Podemos|               5|        SUPLENTE|                           285|\n",
      "|       2018|       6|       72036|        43|        PV|       Partido Verde|               5|        SUPLENTE|                            57|\n",
      "|       2018|       7|       65072|        31|       PHS|Partido Humanista...|               5|        SUPLENTE|                            11|\n",
      "|       2018|       6|       67210|        10|       PRB|Partido Republica...|               5|        SUPLENTE|                            16|\n",
      "|       2018|       7|       72176|        35|       PMB|Partido da Mulher...|               5|        SUPLENTE|                             0|\n",
      "|       2018|       7|       69299|        70|    AVANTE|              AVANTE|               5|        SUPLENTE|                           127|\n",
      "|       2018|       7|       65439|        43|        PV|       Partido Verde|               5|        SUPLENTE|                           127|\n",
      "+-----------+--------+------------+----------+----------+--------------------+----------------+----------------+------------------------------+\n",
      "only showing top 20 rows\n",
      "\n"
     ]
    },
    {
     "name": "stderr",
     "output_type": "stream",
     "text": [
      "                                                                                \r"
     ]
    }
   ],
   "source": [
    "df_partido = df_eleicoes \\\n",
    "    .select(\n",
    "        'ANO_ELEICAO', \n",
    "        'CD_CARGO', \n",
    "        'CD_MUNICIPIO', \n",
    "        'NR_PARTIDO', \n",
    "        'SG_PARTIDO' , \n",
    "        'NM_PARTIDO', \n",
    "        'CD_SIT_TOT_TURNO',\n",
    "        'DS_SIT_TOT_TURNO',\n",
    "        'QT_VOTOS_NOMINAIS_VALIDOS') \\\n",
    "    .groupBy(\n",
    "        'ANO_ELEICAO', \n",
    "        'CD_CARGO',\n",
    "        'CD_MUNICIPIO', \n",
    "        'NR_PARTIDO', \n",
    "        'SG_PARTIDO' , \n",
    "        'NM_PARTIDO',\n",
    "        'CD_SIT_TOT_TURNO',\n",
    "        'DS_SIT_TOT_TURNO',) \\\n",
    "    .sum('QT_VOTOS_NOMINAIS_VALIDOS') \n",
    "df_partido.show()"
   ]
  },
  {
   "cell_type": "code",
   "execution_count": 39,
   "metadata": {},
   "outputs": [
    {
     "name": "stderr",
     "output_type": "stream",
     "text": [
      "[Stage 109:==============================================>        (17 + 3) / 20]\r"
     ]
    },
    {
     "name": "stdout",
     "output_type": "stream",
     "text": [
      "+-----------+--------+------------+----------+----------+--------------------+----------------+----------------+-------------------+\n",
      "|ANO_ELEICAO|CD_CARGO|CD_MUNICIPIO|NR_PARTIDO|SG_PARTIDO|          NM_PARTIDO|CD_SIT_TOT_TURNO|DS_SIT_TOT_TURNO|TOTAL_VOTOS_PARTIDO|\n",
      "+-----------+--------+------------+----------+----------+--------------------+----------------+----------------+-------------------+\n",
      "|       2018|       6|       70351|        22|        PR|Partido da República|               5|        SUPLENTE|                 40|\n",
      "|       2018|       7|       69698|        17|       PSL|Partido Social Li...|               5|        SUPLENTE|              15026|\n",
      "|       2018|       7|       61204|        17|       PSL|Partido Social Li...|               5|        SUPLENTE|                158|\n",
      "|       2018|       7|       62979|        17|       PSL|Partido Social Li...|               5|        SUPLENTE|                 14|\n",
      "|       2018|       6|       69175|        40|       PSB|Partido Socialist...|               5|        SUPLENTE|                271|\n",
      "|       2018|       6|       64777|        19|      PODE|             Podemos|               5|        SUPLENTE|               4835|\n",
      "|       2018|       6|       62618|        70|    AVANTE|              AVANTE|               4|      NÃO ELEITO|                 13|\n",
      "|       2018|       6|       66451|        17|       PSL|Partido Social Li...|               5|        SUPLENTE|               1258|\n",
      "|       2018|       7|       62952|        70|    AVANTE|              AVANTE|               5|        SUPLENTE|                 61|\n",
      "|       2018|       6|       62871|        10|       PRB|Partido Republica...|               5|        SUPLENTE|                104|\n",
      "|       2018|       7|       71757|        70|    AVANTE|              AVANTE|               5|        SUPLENTE|                 21|\n",
      "|       2018|       7|       71358|        70|    AVANTE|              AVANTE|               5|        SUPLENTE|                111|\n",
      "|       2018|       6|       63894|        43|        PV|       Partido Verde|               2|   ELEITO POR QP|               2714|\n",
      "|       2018|       7|       69531|        19|      PODE|             Podemos|               5|        SUPLENTE|                285|\n",
      "|       2018|       6|       72036|        43|        PV|       Partido Verde|               5|        SUPLENTE|                 57|\n",
      "|       2018|       7|       65072|        31|       PHS|Partido Humanista...|               5|        SUPLENTE|                 11|\n",
      "|       2018|       6|       67210|        10|       PRB|Partido Republica...|               5|        SUPLENTE|                 16|\n",
      "|       2018|       7|       72176|        35|       PMB|Partido da Mulher...|               5|        SUPLENTE|                  0|\n",
      "|       2018|       7|       69299|        70|    AVANTE|              AVANTE|               5|        SUPLENTE|                127|\n",
      "|       2018|       7|       65439|        43|        PV|       Partido Verde|               5|        SUPLENTE|                127|\n",
      "+-----------+--------+------------+----------+----------+--------------------+----------------+----------------+-------------------+\n",
      "only showing top 20 rows\n",
      "\n"
     ]
    },
    {
     "name": "stderr",
     "output_type": "stream",
     "text": [
      "                                                                                \r"
     ]
    }
   ],
   "source": [
    "df_partido = df_partido.withColumnRenamed('sum(QT_VOTOS_NOMINAIS_VALIDOS)', 'TOTAL_VOTOS_PARTIDO')\n",
    "df_partido.show()"
   ]
  },
  {
   "cell_type": "code",
   "execution_count": 40,
   "metadata": {},
   "outputs": [],
   "source": [
    "df_partido = df_partido.withColumn('TOTAL_VOTOS_PARTIDO_CIDADE', F.sum(F.col('TOTAL_VOTOS_PARTIDO')).over(particao_votos))"
   ]
  },
  {
   "cell_type": "code",
   "execution_count": 41,
   "metadata": {},
   "outputs": [
    {
     "name": "stderr",
     "output_type": "stream",
     "text": [
      "[Stage 112:====================================================>  (19 + 1) / 20]\r"
     ]
    },
    {
     "name": "stdout",
     "output_type": "stream",
     "text": [
      "+-----------+--------+------------+----------+----------+--------------------+----------------+----------------+-------------------+--------------------------+\n",
      "|ANO_ELEICAO|CD_CARGO|CD_MUNICIPIO|NR_PARTIDO|SG_PARTIDO|          NM_PARTIDO|CD_SIT_TOT_TURNO|DS_SIT_TOT_TURNO|TOTAL_VOTOS_PARTIDO|TOTAL_VOTOS_PARTIDO_CIDADE|\n",
      "+-----------+--------+------------+----------+----------+--------------------+----------------+----------------+-------------------+--------------------------+\n",
      "|       2018|       6|       61115|        50|      PSOL|Partido Socialism...|               5|        SUPLENTE|                 29|                      2500|\n",
      "|       2018|       6|       61115|        45|      PSDB|Partido da Social...|               3|ELEITO POR MÉDIA|                  0|                      2500|\n",
      "|       2018|       6|       61115|        45|      PSDB|Partido da Social...|               5|        SUPLENTE|                123|                      2500|\n",
      "|       2018|       6|       61115|        44|       PRP|Partido Republica...|               4|      NÃO ELEITO|                  5|                      2500|\n",
      "|       2018|       6|       61115|        43|        PV|       Partido Verde|               2|   ELEITO POR QP|                  7|                      2500|\n",
      "|       2018|       6|       61115|        28|      PRTB|Partido Renovador...|               4|      NÃO ELEITO|                  4|                      2500|\n",
      "|       2018|       6|       61115|        30|      NOVO|        Partido Novo|               2|   ELEITO POR QP|                 30|                      2500|\n",
      "|       2018|       6|       61115|        55|       PSD|Partido Social De...|               2|   ELEITO POR QP|                 33|                      2500|\n",
      "|       2018|       6|       61115|        15|       MDB|Movimento Democrá...|               3|ELEITO POR MÉDIA|                 46|                      2500|\n",
      "|       2018|       6|       61115|        19|      PODE|             Podemos|               2|   ELEITO POR QP|                 23|                      2500|\n",
      "|       2018|       6|       61115|        13|        PT|Partido dos Traba...|               2|   ELEITO POR QP|                136|                      2500|\n",
      "|       2018|       6|       61115|        51|     PATRI|            Patriota|               4|      NÃO ELEITO|                 11|                      2500|\n",
      "|       2018|       6|       61115|        25|       DEM|          Democratas|               3|ELEITO POR MÉDIA|                 12|                      2500|\n",
      "|       2018|       6|       61115|        43|        PV|       Partido Verde|               5|        SUPLENTE|                 97|                      2500|\n",
      "|       2018|       6|       61115|        40|       PSB|Partido Socialist...|               5|        SUPLENTE|                239|                      2500|\n",
      "|       2018|       6|       61115|        10|       PRB|Partido Republica...|               5|        SUPLENTE|                 12|                      2500|\n",
      "|       2018|       6|       61115|        36|       PTC|Partido Trabalhis...|               4|      NÃO ELEITO|                  2|                      2500|\n",
      "|       2018|       6|       61115|        35|       PMB|Partido da Mulher...|               5|        SUPLENTE|                  0|                      2500|\n",
      "|       2018|       6|       61115|        10|       PRB|Partido Republica...|               3|ELEITO POR MÉDIA|                  1|                      2500|\n",
      "|       2018|       6|       61115|        13|        PT|Partido dos Traba...|               3|ELEITO POR MÉDIA|                  7|                      2500|\n",
      "+-----------+--------+------------+----------+----------+--------------------+----------------+----------------+-------------------+--------------------------+\n",
      "only showing top 20 rows\n",
      "\n"
     ]
    },
    {
     "name": "stderr",
     "output_type": "stream",
     "text": [
      "                                                                                \r"
     ]
    }
   ],
   "source": [
    "df_partido.show()"
   ]
  },
  {
   "cell_type": "code",
   "execution_count": 42,
   "metadata": {},
   "outputs": [
    {
     "name": "stderr",
     "output_type": "stream",
     "text": [
      "[Stage 118:=================================================>     (18 + 2) / 20]\r"
     ]
    },
    {
     "name": "stdout",
     "output_type": "stream",
     "text": [
      "+-----------+--------+------------+----------+----------+--------------------+----------------+----------------+-------------------+--------------------------+-----------------------+\n",
      "|ANO_ELEICAO|CD_CARGO|CD_MUNICIPIO|NR_PARTIDO|SG_PARTIDO|          NM_PARTIDO|CD_SIT_TOT_TURNO|DS_SIT_TOT_TURNO|TOTAL_VOTOS_PARTIDO|TOTAL_VOTOS_PARTIDO_CIDADE|PERCENTUAL_VOTOS_CIDADE|\n",
      "+-----------+--------+------------+----------+----------+--------------------+----------------+----------------+-------------------+--------------------------+-----------------------+\n",
      "|       2018|       6|       61115|        50|      PSOL|Partido Socialism...|               5|        SUPLENTE|                 29|                      2500|                   1.16|\n",
      "|       2018|       6|       61115|        45|      PSDB|Partido da Social...|               3|ELEITO POR MÉDIA|                  0|                      2500|                    0.0|\n",
      "|       2018|       6|       61115|        45|      PSDB|Partido da Social...|               5|        SUPLENTE|                123|                      2500|                   4.92|\n",
      "|       2018|       6|       61115|        44|       PRP|Partido Republica...|               4|      NÃO ELEITO|                  5|                      2500|                    0.2|\n",
      "|       2018|       6|       61115|        43|        PV|       Partido Verde|               2|   ELEITO POR QP|                  7|                      2500|                   0.28|\n",
      "|       2018|       6|       61115|        28|      PRTB|Partido Renovador...|               4|      NÃO ELEITO|                  4|                      2500|                   0.16|\n",
      "|       2018|       6|       61115|        30|      NOVO|        Partido Novo|               2|   ELEITO POR QP|                 30|                      2500|                    1.2|\n",
      "|       2018|       6|       61115|        55|       PSD|Partido Social De...|               2|   ELEITO POR QP|                 33|                      2500|                   1.32|\n",
      "|       2018|       6|       61115|        15|       MDB|Movimento Democrá...|               3|ELEITO POR MÉDIA|                 46|                      2500|                   1.84|\n",
      "|       2018|       6|       61115|        19|      PODE|             Podemos|               2|   ELEITO POR QP|                 23|                      2500|                   0.92|\n",
      "|       2018|       6|       61115|        13|        PT|Partido dos Traba...|               2|   ELEITO POR QP|                136|                      2500|                   5.44|\n",
      "|       2018|       6|       61115|        51|     PATRI|            Patriota|               4|      NÃO ELEITO|                 11|                      2500|                   0.44|\n",
      "|       2018|       6|       61115|        25|       DEM|          Democratas|               3|ELEITO POR MÉDIA|                 12|                      2500|                   0.48|\n",
      "|       2018|       6|       61115|        43|        PV|       Partido Verde|               5|        SUPLENTE|                 97|                      2500|                   3.88|\n",
      "|       2018|       6|       61115|        40|       PSB|Partido Socialist...|               5|        SUPLENTE|                239|                      2500|                   9.56|\n",
      "|       2018|       6|       61115|        10|       PRB|Partido Republica...|               5|        SUPLENTE|                 12|                      2500|                   0.48|\n",
      "|       2018|       6|       61115|        36|       PTC|Partido Trabalhis...|               4|      NÃO ELEITO|                  2|                      2500|                   0.08|\n",
      "|       2018|       6|       61115|        35|       PMB|Partido da Mulher...|               5|        SUPLENTE|                  0|                      2500|                    0.0|\n",
      "|       2018|       6|       61115|        10|       PRB|Partido Republica...|               3|ELEITO POR MÉDIA|                  1|                      2500|                   0.04|\n",
      "|       2018|       6|       61115|        13|        PT|Partido dos Traba...|               3|ELEITO POR MÉDIA|                  7|                      2500|                   0.28|\n",
      "+-----------+--------+------------+----------+----------+--------------------+----------------+----------------+-------------------+--------------------------+-----------------------+\n",
      "only showing top 20 rows\n",
      "\n"
     ]
    },
    {
     "name": "stderr",
     "output_type": "stream",
     "text": [
      "                                                                                \r"
     ]
    }
   ],
   "source": [
    "df_partido = df_partido.withColumn('PERCENTUAL_VOTOS_CIDADE', calcular_variacao_percentual( F.col('TOTAL_VOTOS_PARTIDO_CIDADE'), F.col('TOTAL_VOTOS_PARTIDO')))\n",
    "df_partido.show()"
   ]
  },
  {
   "cell_type": "code",
   "execution_count": 43,
   "metadata": {},
   "outputs": [],
   "source": [
    "df_partido = df_partido.select(\n",
    "    'NR_PARTIDO',\n",
    "    'NM_PARTIDO',\n",
    "    'DS_SIT_TOT_TURNO',\n",
    "    'TOTAL_VOTOS_PARTIDO',\n",
    "    'TOTAL_VOTOS_PARTIDO_CIDADE',\n",
    "    'PERCENTUAL_VOTOS_CIDADE',\n",
    "    'ANO_ELEICAO',\n",
    "    'CD_CARGO',\n",
    "    'CD_MUNICIPIO',\n",
    "    'SG_PARTIDO',\n",
    "    'CD_SIT_TOT_TURNO'\n",
    ")"
   ]
  },
  {
   "cell_type": "code",
   "execution_count": 44,
   "metadata": {},
   "outputs": [
    {
     "name": "stderr",
     "output_type": "stream",
     "text": [
      "[Stage 129:>                                                        (0 + 6) / 6]\r"
     ]
    },
    {
     "name": "stdout",
     "output_type": "stream",
     "text": [
      "23/12/17 00:46:19 ERROR FileFormatWriter: Aborting job c8213801-63af-435e-b387-1c1de62e1b06.\n",
      "org.apache.spark.SparkException: Job 67 cancelled \n",
      "\tat org.apache.spark.scheduler.DAGScheduler.failJobAndIndependentStages(DAGScheduler.scala:2672)\n",
      "\tat org.apache.spark.scheduler.DAGScheduler.handleJobCancellation(DAGScheduler.scala:2554)\n",
      "\tat org.apache.spark.scheduler.DAGSchedulerEventProcessLoop.doOnReceive(DAGScheduler.scala:2819)\n",
      "\tat org.apache.spark.scheduler.DAGSchedulerEventProcessLoop.onReceive(DAGScheduler.scala:2802)\n",
      "\tat org.apache.spark.scheduler.DAGSchedulerEventProcessLoop.onReceive(DAGScheduler.scala:2791)\n",
      "\tat org.apache.spark.util.EventLoop$$anon$1.run(EventLoop.scala:49)\n",
      "\tat org.apache.spark.scheduler.DAGScheduler.runJob(DAGScheduler.scala:952)\n",
      "\tat org.apache.spark.SparkContext.runJob(SparkContext.scala:2228)\n",
      "\tat org.apache.spark.sql.execution.datasources.FileFormatWriter$.write(FileFormatWriter.scala:245)\n",
      "\tat org.apache.spark.sql.execution.datasources.InsertIntoHadoopFsRelationCommand.run(InsertIntoHadoopFsRelationCommand.scala:186)\n",
      "\tat org.apache.spark.sql.execution.command.DataWritingCommandExec.sideEffectResult$lzycompute(commands.scala:113)\n",
      "\tat org.apache.spark.sql.execution.command.DataWritingCommandExec.sideEffectResult(commands.scala:111)\n",
      "\tat org.apache.spark.sql.execution.command.DataWritingCommandExec.executeCollect(commands.scala:125)\n",
      "\tat org.apache.spark.sql.execution.QueryExecution$$anonfun$eagerlyExecuteCommands$1.$anonfun$applyOrElse$1(QueryExecution.scala:98)\n",
      "\tat org.apache.spark.sql.execution.SQLExecution$.$anonfun$withNewExecutionId$6(SQLExecution.scala:109)\n",
      "\tat org.apache.spark.sql.execution.SQLExecution$.withSQLConfPropagated(SQLExecution.scala:169)\n",
      "\tat org.apache.spark.sql.execution.SQLExecution$.$anonfun$withNewExecutionId$1(SQLExecution.scala:95)\n",
      "\tat org.apache.spark.sql.SparkSession.withActive(SparkSession.scala:779)\n",
      "\tat org.apache.spark.sql.execution.SQLExecution$.withNewExecutionId(SQLExecution.scala:64)\n",
      "\tat org.apache.spark.sql.execution.QueryExecution$$anonfun$eagerlyExecuteCommands$1.applyOrElse(QueryExecution.scala:98)\n",
      "\tat org.apache.spark.sql.execution.QueryExecution$$anonfun$eagerlyExecuteCommands$1.applyOrElse(QueryExecution.scala:94)\n",
      "\tat org.apache.spark.sql.catalyst.trees.TreeNode.$anonfun$transformDownWithPruning$1(TreeNode.scala:584)\n",
      "\tat org.apache.spark.sql.catalyst.trees.CurrentOrigin$.withOrigin(TreeNode.scala:176)\n",
      "\tat org.apache.spark.sql.catalyst.trees.TreeNode.transformDownWithPruning(TreeNode.scala:584)\n",
      "\tat org.apache.spark.sql.catalyst.plans.logical.LogicalPlan.org$apache$spark$sql$catalyst$plans$logical$AnalysisHelper$$super$transformDownWithPruning(LogicalPlan.scala:30)\n",
      "\tat org.apache.spark.sql.catalyst.plans.logical.AnalysisHelper.transformDownWithPruning(AnalysisHelper.scala:267)\n",
      "\tat org.apache.spark.sql.catalyst.plans.logical.AnalysisHelper.transformDownWithPruning$(AnalysisHelper.scala:263)\n",
      "\tat org.apache.spark.sql.catalyst.plans.logical.LogicalPlan.transformDownWithPruning(LogicalPlan.scala:30)\n",
      "\tat org.apache.spark.sql.catalyst.plans.logical.LogicalPlan.transformDownWithPruning(LogicalPlan.scala:30)\n",
      "\tat org.apache.spark.sql.catalyst.trees.TreeNode.transformDown(TreeNode.scala:560)\n",
      "\tat org.apache.spark.sql.execution.QueryExecution.eagerlyExecuteCommands(QueryExecution.scala:94)\n",
      "\tat org.apache.spark.sql.execution.QueryExecution.commandExecuted$lzycompute(QueryExecution.scala:81)\n",
      "\tat org.apache.spark.sql.execution.QueryExecution.commandExecuted(QueryExecution.scala:79)\n",
      "\tat org.apache.spark.sql.execution.QueryExecution.assertCommandExecuted(QueryExecution.scala:116)\n",
      "\tat org.apache.spark.sql.DataFrameWriter.runCommand(DataFrameWriter.scala:860)\n",
      "\tat org.apache.spark.sql.DataFrameWriter.saveToV1Source(DataFrameWriter.scala:390)\n",
      "\tat org.apache.spark.sql.DataFrameWriter.saveInternal(DataFrameWriter.scala:363)\n",
      "\tat org.apache.spark.sql.DataFrameWriter.save(DataFrameWriter.scala:239)\n",
      "\tat org.apache.spark.sql.DataFrameWriter.parquet(DataFrameWriter.scala:793)\n",
      "\tat sun.reflect.NativeMethodAccessorImpl.invoke0(Native Method)\n",
      "\tat sun.reflect.NativeMethodAccessorImpl.invoke(NativeMethodAccessorImpl.java:62)\n",
      "\tat sun.reflect.DelegatingMethodAccessorImpl.invoke(DelegatingMethodAccessorImpl.java:43)\n",
      "\tat java.lang.reflect.Method.invoke(Method.java:498)\n",
      "\tat py4j.reflection.MethodInvoker.invoke(MethodInvoker.java:244)\n",
      "\tat py4j.reflection.ReflectionEngine.invoke(ReflectionEngine.java:357)\n",
      "\tat py4j.Gateway.invoke(Gateway.java:282)\n",
      "\tat py4j.commands.AbstractCommand.invokeMethod(AbstractCommand.java:132)\n",
      "\tat py4j.commands.CallCommand.execute(CallCommand.java:79)\n",
      "\tat py4j.ClientServerConnection.waitForCommands(ClientServerConnection.java:182)\n",
      "\tat py4j.ClientServerConnection.run(ClientServerConnection.java:106)\n",
      "\tat java.lang.Thread.run(Thread.java:750)\n",
      "23/12/17 00:46:19 ERROR Utils: Aborting task\n",
      "org.apache.spark.TaskKilledException\n",
      "\tat org.apache.spark.TaskContextImpl.killTaskIfInterrupted(TaskContextImpl.scala:217)\n",
      "\tat org.apache.spark.util.collection.unsafe.sort.UnsafeInMemorySorter$SortedIterator.loadNext(UnsafeInMemorySorter.java:309)\n",
      "\tat org.apache.spark.util.collection.unsafe.sort.UnsafeExternalSorter$SpillableIterator.loadNext(UnsafeExternalSorter.java:706)\n",
      "\tat org.apache.spark.sql.execution.UnsafeExternalRowSorter$1.advanceNext(UnsafeExternalRowSorter.java:187)\n",
      "\tat org.apache.spark.sql.execution.RowIteratorToScala.hasNext(RowIterator.scala:67)\n",
      "\tat org.apache.spark.sql.execution.datasources.FileFormatDataWriter.writeWithIterator(FileFormatDataWriter.scala:91)\n",
      "\tat org.apache.spark.sql.execution.datasources.FileFormatWriter$.$anonfun$executeTask$1(FileFormatWriter.scala:331)\n",
      "\tat org.apache.spark.util.Utils$.tryWithSafeFinallyAndFailureCallbacks(Utils.scala:1538)\n",
      "\tat org.apache.spark.sql.execution.datasources.FileFormatWriter$.executeTask(FileFormatWriter.scala:338)\n",
      "\tat org.apache.spark.sql.execution.datasources.FileFormatWriter$.$anonfun$write$21(FileFormatWriter.scala:256)\n",
      "\tat org.apache.spark.scheduler.ResultTask.runTask(ResultTask.scala:90)\n",
      "\tat org.apache.spark.scheduler.Task.run(Task.scala:136)\n",
      "\tat org.apache.spark.executor.Executor$TaskRunner.$anonfun$run$3(Executor.scala:548)\n",
      "\tat org.apache.spark.util.Utils$.tryWithSafeFinally(Utils.scala:1504)\n",
      "\tat org.apache.spark.executor.Executor$TaskRunner.run(Executor.scala:551)\n",
      "\tat java.util.concurrent.ThreadPoolExecutor.runWorker(ThreadPoolExecutor.java:1149)\n",
      "\tat java.util.concurrent.ThreadPoolExecutor$Worker.run(ThreadPoolExecutor.java:624)\n",
      "\tat java.lang.Thread.run(Thread.java:750)\n",
      "23/12/17 00:46:19 ERROR Utils: Aborting task\n",
      "org.apache.spark.TaskKilledException\n",
      "\tat org.apache.spark.TaskContextImpl.killTaskIfInterrupted(TaskContextImpl.scala:217)\n",
      "\tat org.apache.spark.util.collection.unsafe.sort.UnsafeInMemorySorter$SortedIterator.loadNext(UnsafeInMemorySorter.java:309)\n",
      "\tat org.apache.spark.util.collection.unsafe.sort.UnsafeExternalSorter$SpillableIterator.loadNext(UnsafeExternalSorter.java:706)\n",
      "\tat org.apache.spark.sql.execution.UnsafeExternalRowSorter$1.advanceNext(UnsafeExternalRowSorter.java:187)\n",
      "\tat org.apache.spark.sql.execution.RowIteratorToScala.hasNext(RowIterator.scala:67)\n",
      "\tat org.apache.spark.sql.execution.datasources.FileFormatDataWriter.writeWithIterator(FileFormatDataWriter.scala:91)\n",
      "\tat org.apache.spark.sql.execution.datasources.FileFormatWriter$.$anonfun$executeTask$1(FileFormatWriter.scala:331)\n",
      "\tat org.apache.spark.util.Utils$.tryWithSafeFinallyAndFailureCallbacks(Utils.scala:1538)\n",
      "\tat org.apache.spark.sql.execution.datasources.FileFormatWriter$.executeTask(FileFormatWriter.scala:338)\n",
      "\tat org.apache.spark.sql.execution.datasources.FileFormatWriter$.$anonfun$write$21(FileFormatWriter.scala:256)\n",
      "\tat org.apache.spark.scheduler.ResultTask.runTask(ResultTask.scala:90)\n",
      "\tat org.apache.spark.scheduler.Task.run(Task.scala:136)\n",
      "\tat org.apache.spark.executor.Executor$TaskRunner.$anonfun$run$3(Executor.scala:548)\n",
      "\tat org.apache.spark.util.Utils$.tryWithSafeFinally(Utils.scala:1504)\n",
      "\tat org.apache.spark.executor.Executor$TaskRunner.run(Executor.scala:551)\n",
      "\tat java.util.concurrent.ThreadPoolExecutor.runWorker(ThreadPoolExecutor.java:1149)\n",
      "\tat java.util.concurrent.ThreadPoolExecutor$Worker.run(ThreadPoolExecutor.java:624)\n",
      "\tat java.lang.Thread.run(Thread.java:750)\n",
      "23/12/17 00:46:19 ERROR Utils: Aborting task\n",
      "org.apache.spark.TaskKilledException\n",
      "\tat org.apache.spark.TaskContextImpl.killTaskIfInterrupted(TaskContextImpl.scala:217)\n",
      "\tat org.apache.spark.util.collection.unsafe.sort.UnsafeInMemorySorter$SortedIterator.loadNext(UnsafeInMemorySorter.java:309)\n",
      "\tat org.apache.spark.util.collection.unsafe.sort.UnsafeExternalSorter$SpillableIterator.loadNext(UnsafeExternalSorter.java:706)\n",
      "\tat org.apache.spark.sql.execution.UnsafeExternalRowSorter$1.advanceNext(UnsafeExternalRowSorter.java:187)\n",
      "\tat org.apache.spark.sql.execution.RowIteratorToScala.hasNext(RowIterator.scala:67)\n",
      "\tat org.apache.spark.sql.execution.datasources.FileFormatDataWriter.writeWithIterator(FileFormatDataWriter.scala:91)\n",
      "\tat org.apache.spark.sql.execution.datasources.FileFormatWriter$.$anonfun$executeTask$1(FileFormatWriter.scala:331)\n",
      "\tat org.apache.spark.util.Utils$.tryWithSafeFinallyAndFailureCallbacks(Utils.scala:1538)\n",
      "\tat org.apache.spark.sql.execution.datasources.FileFormatWriter$.executeTask(FileFormatWriter.scala:338)\n",
      "\tat org.apache.spark.sql.execution.datasources.FileFormatWriter$.$anonfun$write$21(FileFormatWriter.scala:256)\n",
      "\tat org.apache.spark.scheduler.ResultTask.runTask(ResultTask.scala:90)\n",
      "\tat org.apache.spark.scheduler.Task.run(Task.scala:136)\n",
      "\tat org.apache.spark.executor.Executor$TaskRunner.$anonfun$run$3(Executor.scala:548)\n",
      "\tat org.apache.spark.util.Utils$.tryWithSafeFinally(Utils.scala:1504)\n",
      "\tat org.apache.spark.executor.Executor$TaskRunner.run(Executor.scala:551)\n",
      "\tat java.util.concurrent.ThreadPoolExecutor.runWorker(ThreadPoolExecutor.java:1149)\n",
      "\tat java.util.concurrent.ThreadPoolExecutor$Worker.run(ThreadPoolExecutor.java:624)\n",
      "\tat java.lang.Thread.run(Thread.java:750)\n",
      "23/12/17 00:46:19 ERROR Utils: Aborting task\n",
      "org.apache.spark.TaskKilledException\n",
      "\tat org.apache.spark.TaskContextImpl.killTaskIfInterrupted(TaskContextImpl.scala:217)\n",
      "\tat org.apache.spark.util.collection.unsafe.sort.UnsafeInMemorySorter$SortedIterator.loadNext(UnsafeInMemorySorter.java:309)\n",
      "\tat org.apache.spark.util.collection.unsafe.sort.UnsafeExternalSorter$SpillableIterator.loadNext(UnsafeExternalSorter.java:706)\n",
      "\tat org.apache.spark.sql.execution.UnsafeExternalRowSorter$1.advanceNext(UnsafeExternalRowSorter.java:187)\n",
      "\tat org.apache.spark.sql.execution.RowIteratorToScala.hasNext(RowIterator.scala:67)\n",
      "\tat org.apache.spark.sql.execution.datasources.FileFormatDataWriter.writeWithIterator(FileFormatDataWriter.scala:91)\n",
      "\tat org.apache.spark.sql.execution.datasources.FileFormatWriter$.$anonfun$executeTask$1(FileFormatWriter.scala:331)\n",
      "\tat org.apache.spark.util.Utils$.tryWithSafeFinallyAndFailureCallbacks(Utils.scala:1538)\n",
      "\tat org.apache.spark.sql.execution.datasources.FileFormatWriter$.executeTask(FileFormatWriter.scala:338)\n",
      "\tat org.apache.spark.sql.execution.datasources.FileFormatWriter$.$anonfun$write$21(FileFormatWriter.scala:256)\n",
      "\tat org.apache.spark.scheduler.ResultTask.runTask(ResultTask.scala:90)\n",
      "\tat org.apache.spark.scheduler.Task.run(Task.scala:136)\n",
      "\tat org.apache.spark.executor.Executor$TaskRunner.$anonfun$run$3(Executor.scala:548)\n",
      "\tat org.apache.spark.util.Utils$.tryWithSafeFinally(Utils.scala:1504)\n",
      "\tat org.apache.spark.executor.Executor$TaskRunner.run(Executor.scala:551)\n",
      "\tat java.util.concurrent.ThreadPoolExecutor.runWorker(ThreadPoolExecutor.java:1149)\n",
      "\tat java.util.concurrent.ThreadPoolExecutor$Worker.run(ThreadPoolExecutor.java:624)\n",
      "\tat java.lang.Thread.run(Thread.java:750)\n",
      "23/12/17 00:46:19 ERROR Utils: Aborting task\n",
      "org.apache.spark.TaskKilledException\n",
      "\tat org.apache.spark.TaskContextImpl.killTaskIfInterrupted(TaskContextImpl.scala:217)\n",
      "\tat org.apache.spark.util.collection.unsafe.sort.UnsafeInMemorySorter$SortedIterator.loadNext(UnsafeInMemorySorter.java:309)\n",
      "\tat org.apache.spark.util.collection.unsafe.sort.UnsafeExternalSorter$SpillableIterator.loadNext(UnsafeExternalSorter.java:706)\n",
      "\tat org.apache.spark.sql.execution.UnsafeExternalRowSorter$1.advanceNext(UnsafeExternalRowSorter.java:187)\n",
      "\tat org.apache.spark.sql.execution.RowIteratorToScala.hasNext(RowIterator.scala:67)\n",
      "\tat org.apache.spark.sql.execution.datasources.FileFormatDataWriter.writeWithIterator(FileFormatDataWriter.scala:91)\n",
      "\tat org.apache.spark.sql.execution.datasources.FileFormatWriter$.$anonfun$executeTask$1(FileFormatWriter.scala:331)\n",
      "\tat org.apache.spark.util.Utils$.tryWithSafeFinallyAndFailureCallbacks(Utils.scala:1538)\n",
      "\tat org.apache.spark.sql.execution.datasources.FileFormatWriter$.executeTask(FileFormatWriter.scala:338)\n",
      "\tat org.apache.spark.sql.execution.datasources.FileFormatWriter$.$anonfun$write$21(FileFormatWriter.scala:256)\n",
      "\tat org.apache.spark.scheduler.ResultTask.runTask(ResultTask.scala:90)\n",
      "\tat org.apache.spark.scheduler.Task.run(Task.scala:136)\n",
      "\tat org.apache.spark.executor.Executor$TaskRunner.$anonfun$run$3(Executor.scala:548)\n",
      "\tat org.apache.spark.util.Utils$.tryWithSafeFinally(Utils.scala:1504)\n",
      "\tat org.apache.spark.executor.Executor$TaskRunner.run(Executor.scala:551)\n",
      "\tat java.util.concurrent.ThreadPoolExecutor.runWorker(ThreadPoolExecutor.java:1149)\n",
      "\tat java.util.concurrent.ThreadPoolExecutor$Worker.run(ThreadPoolExecutor.java:624)\n",
      "\tat java.lang.Thread.run(Thread.java:750)\n",
      "23/12/17 00:46:19 ERROR Utils: Aborting task\n",
      "org.apache.spark.TaskKilledException\n",
      "\tat org.apache.spark.TaskContextImpl.killTaskIfInterrupted(TaskContextImpl.scala:217)\n",
      "\tat org.apache.spark.util.collection.unsafe.sort.UnsafeInMemorySorter$SortedIterator.loadNext(UnsafeInMemorySorter.java:309)\n",
      "\tat org.apache.spark.util.collection.unsafe.sort.UnsafeExternalSorter$SpillableIterator.loadNext(UnsafeExternalSorter.java:706)\n",
      "\tat org.apache.spark.sql.execution.UnsafeExternalRowSorter$1.advanceNext(UnsafeExternalRowSorter.java:187)\n",
      "\tat org.apache.spark.sql.execution.RowIteratorToScala.hasNext(RowIterator.scala:67)\n",
      "\tat org.apache.spark.sql.execution.datasources.FileFormatDataWriter.writeWithIterator(FileFormatDataWriter.scala:91)\n",
      "\tat org.apache.spark.sql.execution.datasources.FileFormatWriter$.$anonfun$executeTask$1(FileFormatWriter.scala:331)\n",
      "\tat org.apache.spark.util.Utils$.tryWithSafeFinallyAndFailureCallbacks(Utils.scala:1538)\n",
      "\tat org.apache.spark.sql.execution.datasources.FileFormatWriter$.executeTask(FileFormatWriter.scala:338)\n",
      "\tat org.apache.spark.sql.execution.datasources.FileFormatWriter$.$anonfun$write$21(FileFormatWriter.scala:256)\n",
      "\tat org.apache.spark.scheduler.ResultTask.runTask(ResultTask.scala:90)\n",
      "\tat org.apache.spark.scheduler.Task.run(Task.scala:136)\n",
      "\tat org.apache.spark.executor.Executor$TaskRunner.$anonfun$run$3(Executor.scala:548)\n",
      "\tat org.apache.spark.util.Utils$.tryWithSafeFinally(Utils.scala:1504)\n",
      "\tat org.apache.spark.executor.Executor$TaskRunner.run(Executor.scala:551)\n",
      "\tat java.util.concurrent.ThreadPoolExecutor.runWorker(ThreadPoolExecutor.java:1149)\n",
      "\tat java.util.concurrent.ThreadPoolExecutor$Worker.run(ThreadPoolExecutor.java:624)\n",
      "\tat java.lang.Thread.run(Thread.java:750)\n",
      "23/12/17 00:46:21 WARN PythonUDFRunner: Incomplete task 0.0 in stage 129 (TID 566) interrupted: Attempting to kill Python Worker\n",
      "23/12/17 00:46:21 WARN PythonUDFRunner: Incomplete task 5.0 in stage 129 (TID 571) interrupted: Attempting to kill Python Worker\n",
      "23/12/17 00:46:21 WARN PythonUDFRunner: Incomplete task 3.0 in stage 129 (TID 569) interrupted: Attempting to kill Python Worker\n",
      "23/12/17 00:46:21 WARN PythonUDFRunner: Incomplete task 1.0 in stage 129 (TID 567) interrupted: Attempting to kill Python Worker\n",
      "23/12/17 00:46:21 WARN PythonUDFRunner: Incomplete task 4.0 in stage 129 (TID 570) interrupted: Attempting to kill Python Worker\n",
      "23/12/17 00:46:21 WARN PythonUDFRunner: Incomplete task 2.0 in stage 129 (TID 568) interrupted: Attempting to kill Python Worker\n"
     ]
    },
    {
     "name": "stderr",
     "output_type": "stream",
     "text": [
      "[Stage 129:>                                                        (0 + 6) / 6]\r"
     ]
    },
    {
     "name": "stdout",
     "output_type": "stream",
     "text": [
      "23/12/17 00:46:31 ERROR FileFormatWriter: Job job_202312170034214956003430539797801_0129 aborted.\n",
      "23/12/17 00:46:31 WARN TaskSetManager: Lost task 2.0 in stage 129.0 (TID 568) (192.168.0.112 executor driver): TaskKilled (Stage cancelled)\n",
      "23/12/17 00:46:31 ERROR FileFormatWriter: Job job_202312170034214605307882844830530_0129 aborted.\n",
      "23/12/17 00:46:31 WARN TaskSetManager: Lost task 0.0 in stage 129.0 (TID 566) (192.168.0.112 executor driver): TaskKilled (Stage cancelled)\n"
     ]
    },
    {
     "name": "stderr",
     "output_type": "stream",
     "text": [
      "[Stage 129:>                                                        (0 + 3) / 6]\r"
     ]
    },
    {
     "name": "stdout",
     "output_type": "stream",
     "text": [
      "23/12/17 00:46:32 ERROR FileFormatWriter: Job job_202312170034218715717423215726507_0129 aborted.\n",
      "23/12/17 00:46:32 WARN TaskSetManager: Lost task 3.0 in stage 129.0 (TID 569) (192.168.0.112 executor driver): TaskKilled (Stage cancelled)\n",
      "23/12/17 00:46:32 ERROR FileFormatWriter: Job job_202312170034211831958187410689340_0129 aborted.\n",
      "23/12/17 00:46:32 WARN TaskSetManager: Lost task 1.0 in stage 129.0 (TID 567) (192.168.0.112 executor driver): TaskKilled (Stage cancelled)\n",
      "23/12/17 00:46:32 ERROR FileFormatWriter: Job job_202312170034217793673300600087256_0129 aborted.\n",
      "23/12/17 00:46:32 WARN TaskSetManager: Lost task 4.0 in stage 129.0 (TID 570) (192.168.0.112 executor driver): TaskKilled (Stage cancelled)\n"
     ]
    },
    {
     "name": "stderr",
     "output_type": "stream",
     "text": [
      "[Stage 129:>                                                        (0 + 1) / 6]\r"
     ]
    },
    {
     "name": "stdout",
     "output_type": "stream",
     "text": [
      "23/12/17 00:46:32 ERROR FileFormatWriter: Job job_202312170034213850617028442170973_0129 aborted.\n",
      "23/12/17 00:46:32 WARN TaskSetManager: Lost task 5.0 in stage 129.0 (TID 571) (192.168.0.112 executor driver): TaskKilled (Stage cancelled)\n"
     ]
    },
    {
     "ename": "Py4JJavaError",
     "evalue": "An error occurred while calling o307.parquet.\n: org.apache.spark.SparkException: Job aborted.\n\tat org.apache.spark.sql.errors.QueryExecutionErrors$.jobAbortedError(QueryExecutionErrors.scala:638)\n\tat org.apache.spark.sql.execution.datasources.FileFormatWriter$.write(FileFormatWriter.scala:278)\n\tat org.apache.spark.sql.execution.datasources.InsertIntoHadoopFsRelationCommand.run(InsertIntoHadoopFsRelationCommand.scala:186)\n\tat org.apache.spark.sql.execution.command.DataWritingCommandExec.sideEffectResult$lzycompute(commands.scala:113)\n\tat org.apache.spark.sql.execution.command.DataWritingCommandExec.sideEffectResult(commands.scala:111)\n\tat org.apache.spark.sql.execution.command.DataWritingCommandExec.executeCollect(commands.scala:125)\n\tat org.apache.spark.sql.execution.QueryExecution$$anonfun$eagerlyExecuteCommands$1.$anonfun$applyOrElse$1(QueryExecution.scala:98)\n\tat org.apache.spark.sql.execution.SQLExecution$.$anonfun$withNewExecutionId$6(SQLExecution.scala:109)\n\tat org.apache.spark.sql.execution.SQLExecution$.withSQLConfPropagated(SQLExecution.scala:169)\n\tat org.apache.spark.sql.execution.SQLExecution$.$anonfun$withNewExecutionId$1(SQLExecution.scala:95)\n\tat org.apache.spark.sql.SparkSession.withActive(SparkSession.scala:779)\n\tat org.apache.spark.sql.execution.SQLExecution$.withNewExecutionId(SQLExecution.scala:64)\n\tat org.apache.spark.sql.execution.QueryExecution$$anonfun$eagerlyExecuteCommands$1.applyOrElse(QueryExecution.scala:98)\n\tat org.apache.spark.sql.execution.QueryExecution$$anonfun$eagerlyExecuteCommands$1.applyOrElse(QueryExecution.scala:94)\n\tat org.apache.spark.sql.catalyst.trees.TreeNode.$anonfun$transformDownWithPruning$1(TreeNode.scala:584)\n\tat org.apache.spark.sql.catalyst.trees.CurrentOrigin$.withOrigin(TreeNode.scala:176)\n\tat org.apache.spark.sql.catalyst.trees.TreeNode.transformDownWithPruning(TreeNode.scala:584)\n\tat org.apache.spark.sql.catalyst.plans.logical.LogicalPlan.org$apache$spark$sql$catalyst$plans$logical$AnalysisHelper$$super$transformDownWithPruning(LogicalPlan.scala:30)\n\tat org.apache.spark.sql.catalyst.plans.logical.AnalysisHelper.transformDownWithPruning(AnalysisHelper.scala:267)\n\tat org.apache.spark.sql.catalyst.plans.logical.AnalysisHelper.transformDownWithPruning$(AnalysisHelper.scala:263)\n\tat org.apache.spark.sql.catalyst.plans.logical.LogicalPlan.transformDownWithPruning(LogicalPlan.scala:30)\n\tat org.apache.spark.sql.catalyst.plans.logical.LogicalPlan.transformDownWithPruning(LogicalPlan.scala:30)\n\tat org.apache.spark.sql.catalyst.trees.TreeNode.transformDown(TreeNode.scala:560)\n\tat org.apache.spark.sql.execution.QueryExecution.eagerlyExecuteCommands(QueryExecution.scala:94)\n\tat org.apache.spark.sql.execution.QueryExecution.commandExecuted$lzycompute(QueryExecution.scala:81)\n\tat org.apache.spark.sql.execution.QueryExecution.commandExecuted(QueryExecution.scala:79)\n\tat org.apache.spark.sql.execution.QueryExecution.assertCommandExecuted(QueryExecution.scala:116)\n\tat org.apache.spark.sql.DataFrameWriter.runCommand(DataFrameWriter.scala:860)\n\tat org.apache.spark.sql.DataFrameWriter.saveToV1Source(DataFrameWriter.scala:390)\n\tat org.apache.spark.sql.DataFrameWriter.saveInternal(DataFrameWriter.scala:363)\n\tat org.apache.spark.sql.DataFrameWriter.save(DataFrameWriter.scala:239)\n\tat org.apache.spark.sql.DataFrameWriter.parquet(DataFrameWriter.scala:793)\n\tat sun.reflect.NativeMethodAccessorImpl.invoke0(Native Method)\n\tat sun.reflect.NativeMethodAccessorImpl.invoke(NativeMethodAccessorImpl.java:62)\n\tat sun.reflect.DelegatingMethodAccessorImpl.invoke(DelegatingMethodAccessorImpl.java:43)\n\tat java.lang.reflect.Method.invoke(Method.java:498)\n\tat py4j.reflection.MethodInvoker.invoke(MethodInvoker.java:244)\n\tat py4j.reflection.ReflectionEngine.invoke(ReflectionEngine.java:357)\n\tat py4j.Gateway.invoke(Gateway.java:282)\n\tat py4j.commands.AbstractCommand.invokeMethod(AbstractCommand.java:132)\n\tat py4j.commands.CallCommand.execute(CallCommand.java:79)\n\tat py4j.ClientServerConnection.waitForCommands(ClientServerConnection.java:182)\n\tat py4j.ClientServerConnection.run(ClientServerConnection.java:106)\n\tat java.lang.Thread.run(Thread.java:750)\nCaused by: org.apache.spark.SparkException: Job 67 cancelled \n\tat org.apache.spark.scheduler.DAGScheduler.failJobAndIndependentStages(DAGScheduler.scala:2672)\n\tat org.apache.spark.scheduler.DAGScheduler.handleJobCancellation(DAGScheduler.scala:2554)\n\tat org.apache.spark.scheduler.DAGSchedulerEventProcessLoop.doOnReceive(DAGScheduler.scala:2819)\n\tat org.apache.spark.scheduler.DAGSchedulerEventProcessLoop.onReceive(DAGScheduler.scala:2802)\n\tat org.apache.spark.scheduler.DAGSchedulerEventProcessLoop.onReceive(DAGScheduler.scala:2791)\n\tat org.apache.spark.util.EventLoop$$anon$1.run(EventLoop.scala:49)\n\tat org.apache.spark.scheduler.DAGScheduler.runJob(DAGScheduler.scala:952)\n\tat org.apache.spark.SparkContext.runJob(SparkContext.scala:2228)\n\tat org.apache.spark.sql.execution.datasources.FileFormatWriter$.write(FileFormatWriter.scala:245)\n\t... 42 more\n",
     "output_type": "error",
     "traceback": [
      "\u001b[0;31m---------------------------------------------------------------------------\u001b[0m",
      "\u001b[0;31mPy4JJavaError\u001b[0m                             Traceback (most recent call last)",
      "Cell \u001b[0;32mIn[44], line 7\u001b[0m\n\u001b[1;32m      1\u001b[0m \u001b[43mdf_partido\u001b[49m\u001b[43m \u001b[49m\u001b[43m\\\u001b[49m\n\u001b[1;32m      2\u001b[0m \u001b[43m    \u001b[49m\u001b[38;5;241;43m.\u001b[39;49m\u001b[43mwrite\u001b[49m\u001b[43m \u001b[49m\u001b[43m\\\u001b[49m\n\u001b[1;32m      3\u001b[0m \u001b[43m    \u001b[49m\u001b[38;5;241;43m.\u001b[39;49m\u001b[43mpartitionBy\u001b[49m\u001b[43m(\u001b[49m\u001b[38;5;124;43m'\u001b[39;49m\u001b[38;5;124;43mANO_ELEICAO\u001b[39;49m\u001b[38;5;124;43m'\u001b[39;49m\u001b[43m,\u001b[49m\n\u001b[1;32m      4\u001b[0m \u001b[43m    \u001b[49m\u001b[38;5;124;43m'\u001b[39;49m\u001b[38;5;124;43mCD_CARGO\u001b[39;49m\u001b[38;5;124;43m'\u001b[39;49m\u001b[43m,\u001b[49m\n\u001b[1;32m      5\u001b[0m \u001b[43m    \u001b[49m\u001b[38;5;124;43m'\u001b[39;49m\u001b[38;5;124;43mCD_MUNICIPIO\u001b[39;49m\u001b[38;5;124;43m'\u001b[39;49m\u001b[43m,\u001b[49m\n\u001b[1;32m      6\u001b[0m \u001b[43m    \u001b[49m\u001b[38;5;124;43m'\u001b[39;49m\u001b[38;5;124;43mSG_PARTIDO\u001b[39;49m\u001b[38;5;124;43m'\u001b[39;49m\u001b[43m,\u001b[49m\n\u001b[0;32m----> 7\u001b[0m \u001b[43m    \u001b[49m\u001b[38;5;124;43m'\u001b[39;49m\u001b[38;5;124;43mCD_SIT_TOT_TURNO\u001b[39;49m\u001b[38;5;124;43m'\u001b[39;49m\u001b[43m)\u001b[49m\u001b[38;5;241;43m.\u001b[39;49m\u001b[43mparquet\u001b[49m\u001b[43m(\u001b[49m\u001b[38;5;124;43m'\u001b[39;49m\u001b[38;5;124;43m../data/processed_v2/total_votos_partido_completo.parquet\u001b[39;49m\u001b[38;5;124;43m'\u001b[39;49m\u001b[43m)\u001b[49m\n",
      "File \u001b[0;32m~/Documentos/projetos/eleicoes/.venv/lib/python3.10/site-packages/pyspark/sql/readwriter.py:1140\u001b[0m, in \u001b[0;36mDataFrameWriter.parquet\u001b[0;34m(self, path, mode, partitionBy, compression)\u001b[0m\n\u001b[1;32m   1138\u001b[0m     \u001b[38;5;28mself\u001b[39m\u001b[38;5;241m.\u001b[39mpartitionBy(partitionBy)\n\u001b[1;32m   1139\u001b[0m \u001b[38;5;28mself\u001b[39m\u001b[38;5;241m.\u001b[39m_set_opts(compression\u001b[38;5;241m=\u001b[39mcompression)\n\u001b[0;32m-> 1140\u001b[0m \u001b[38;5;28;43mself\u001b[39;49m\u001b[38;5;241;43m.\u001b[39;49m\u001b[43m_jwrite\u001b[49m\u001b[38;5;241;43m.\u001b[39;49m\u001b[43mparquet\u001b[49m\u001b[43m(\u001b[49m\u001b[43mpath\u001b[49m\u001b[43m)\u001b[49m\n",
      "File \u001b[0;32m~/Documentos/projetos/eleicoes/.venv/lib/python3.10/site-packages/py4j/java_gateway.py:1321\u001b[0m, in \u001b[0;36mJavaMember.__call__\u001b[0;34m(self, *args)\u001b[0m\n\u001b[1;32m   1315\u001b[0m command \u001b[38;5;241m=\u001b[39m proto\u001b[38;5;241m.\u001b[39mCALL_COMMAND_NAME \u001b[38;5;241m+\u001b[39m\\\n\u001b[1;32m   1316\u001b[0m     \u001b[38;5;28mself\u001b[39m\u001b[38;5;241m.\u001b[39mcommand_header \u001b[38;5;241m+\u001b[39m\\\n\u001b[1;32m   1317\u001b[0m     args_command \u001b[38;5;241m+\u001b[39m\\\n\u001b[1;32m   1318\u001b[0m     proto\u001b[38;5;241m.\u001b[39mEND_COMMAND_PART\n\u001b[1;32m   1320\u001b[0m answer \u001b[38;5;241m=\u001b[39m \u001b[38;5;28mself\u001b[39m\u001b[38;5;241m.\u001b[39mgateway_client\u001b[38;5;241m.\u001b[39msend_command(command)\n\u001b[0;32m-> 1321\u001b[0m return_value \u001b[38;5;241m=\u001b[39m \u001b[43mget_return_value\u001b[49m\u001b[43m(\u001b[49m\n\u001b[1;32m   1322\u001b[0m \u001b[43m    \u001b[49m\u001b[43manswer\u001b[49m\u001b[43m,\u001b[49m\u001b[43m \u001b[49m\u001b[38;5;28;43mself\u001b[39;49m\u001b[38;5;241;43m.\u001b[39;49m\u001b[43mgateway_client\u001b[49m\u001b[43m,\u001b[49m\u001b[43m \u001b[49m\u001b[38;5;28;43mself\u001b[39;49m\u001b[38;5;241;43m.\u001b[39;49m\u001b[43mtarget_id\u001b[49m\u001b[43m,\u001b[49m\u001b[43m \u001b[49m\u001b[38;5;28;43mself\u001b[39;49m\u001b[38;5;241;43m.\u001b[39;49m\u001b[43mname\u001b[49m\u001b[43m)\u001b[49m\n\u001b[1;32m   1324\u001b[0m \u001b[38;5;28;01mfor\u001b[39;00m temp_arg \u001b[38;5;129;01min\u001b[39;00m temp_args:\n\u001b[1;32m   1325\u001b[0m     temp_arg\u001b[38;5;241m.\u001b[39m_detach()\n",
      "File \u001b[0;32m~/Documentos/projetos/eleicoes/.venv/lib/python3.10/site-packages/pyspark/sql/utils.py:190\u001b[0m, in \u001b[0;36mcapture_sql_exception.<locals>.deco\u001b[0;34m(*a, **kw)\u001b[0m\n\u001b[1;32m    188\u001b[0m \u001b[38;5;28;01mdef\u001b[39;00m \u001b[38;5;21mdeco\u001b[39m(\u001b[38;5;241m*\u001b[39ma: Any, \u001b[38;5;241m*\u001b[39m\u001b[38;5;241m*\u001b[39mkw: Any) \u001b[38;5;241m-\u001b[39m\u001b[38;5;241m>\u001b[39m Any:\n\u001b[1;32m    189\u001b[0m     \u001b[38;5;28;01mtry\u001b[39;00m:\n\u001b[0;32m--> 190\u001b[0m         \u001b[38;5;28;01mreturn\u001b[39;00m \u001b[43mf\u001b[49m\u001b[43m(\u001b[49m\u001b[38;5;241;43m*\u001b[39;49m\u001b[43ma\u001b[49m\u001b[43m,\u001b[49m\u001b[43m \u001b[49m\u001b[38;5;241;43m*\u001b[39;49m\u001b[38;5;241;43m*\u001b[39;49m\u001b[43mkw\u001b[49m\u001b[43m)\u001b[49m\n\u001b[1;32m    191\u001b[0m     \u001b[38;5;28;01mexcept\u001b[39;00m Py4JJavaError \u001b[38;5;28;01mas\u001b[39;00m e:\n\u001b[1;32m    192\u001b[0m         converted \u001b[38;5;241m=\u001b[39m convert_exception(e\u001b[38;5;241m.\u001b[39mjava_exception)\n",
      "File \u001b[0;32m~/Documentos/projetos/eleicoes/.venv/lib/python3.10/site-packages/py4j/protocol.py:326\u001b[0m, in \u001b[0;36mget_return_value\u001b[0;34m(answer, gateway_client, target_id, name)\u001b[0m\n\u001b[1;32m    324\u001b[0m value \u001b[38;5;241m=\u001b[39m OUTPUT_CONVERTER[\u001b[38;5;28mtype\u001b[39m](answer[\u001b[38;5;241m2\u001b[39m:], gateway_client)\n\u001b[1;32m    325\u001b[0m \u001b[38;5;28;01mif\u001b[39;00m answer[\u001b[38;5;241m1\u001b[39m] \u001b[38;5;241m==\u001b[39m REFERENCE_TYPE:\n\u001b[0;32m--> 326\u001b[0m     \u001b[38;5;28;01mraise\u001b[39;00m Py4JJavaError(\n\u001b[1;32m    327\u001b[0m         \u001b[38;5;124m\"\u001b[39m\u001b[38;5;124mAn error occurred while calling \u001b[39m\u001b[38;5;132;01m{0}\u001b[39;00m\u001b[38;5;132;01m{1}\u001b[39;00m\u001b[38;5;132;01m{2}\u001b[39;00m\u001b[38;5;124m.\u001b[39m\u001b[38;5;130;01m\\n\u001b[39;00m\u001b[38;5;124m\"\u001b[39m\u001b[38;5;241m.\u001b[39m\n\u001b[1;32m    328\u001b[0m         \u001b[38;5;28mformat\u001b[39m(target_id, \u001b[38;5;124m\"\u001b[39m\u001b[38;5;124m.\u001b[39m\u001b[38;5;124m\"\u001b[39m, name), value)\n\u001b[1;32m    329\u001b[0m \u001b[38;5;28;01melse\u001b[39;00m:\n\u001b[1;32m    330\u001b[0m     \u001b[38;5;28;01mraise\u001b[39;00m Py4JError(\n\u001b[1;32m    331\u001b[0m         \u001b[38;5;124m\"\u001b[39m\u001b[38;5;124mAn error occurred while calling \u001b[39m\u001b[38;5;132;01m{0}\u001b[39;00m\u001b[38;5;132;01m{1}\u001b[39;00m\u001b[38;5;132;01m{2}\u001b[39;00m\u001b[38;5;124m. Trace:\u001b[39m\u001b[38;5;130;01m\\n\u001b[39;00m\u001b[38;5;132;01m{3}\u001b[39;00m\u001b[38;5;130;01m\\n\u001b[39;00m\u001b[38;5;124m\"\u001b[39m\u001b[38;5;241m.\u001b[39m\n\u001b[1;32m    332\u001b[0m         \u001b[38;5;28mformat\u001b[39m(target_id, \u001b[38;5;124m\"\u001b[39m\u001b[38;5;124m.\u001b[39m\u001b[38;5;124m\"\u001b[39m, name, value))\n",
      "\u001b[0;31mPy4JJavaError\u001b[0m: An error occurred while calling o307.parquet.\n: org.apache.spark.SparkException: Job aborted.\n\tat org.apache.spark.sql.errors.QueryExecutionErrors$.jobAbortedError(QueryExecutionErrors.scala:638)\n\tat org.apache.spark.sql.execution.datasources.FileFormatWriter$.write(FileFormatWriter.scala:278)\n\tat org.apache.spark.sql.execution.datasources.InsertIntoHadoopFsRelationCommand.run(InsertIntoHadoopFsRelationCommand.scala:186)\n\tat org.apache.spark.sql.execution.command.DataWritingCommandExec.sideEffectResult$lzycompute(commands.scala:113)\n\tat org.apache.spark.sql.execution.command.DataWritingCommandExec.sideEffectResult(commands.scala:111)\n\tat org.apache.spark.sql.execution.command.DataWritingCommandExec.executeCollect(commands.scala:125)\n\tat org.apache.spark.sql.execution.QueryExecution$$anonfun$eagerlyExecuteCommands$1.$anonfun$applyOrElse$1(QueryExecution.scala:98)\n\tat org.apache.spark.sql.execution.SQLExecution$.$anonfun$withNewExecutionId$6(SQLExecution.scala:109)\n\tat org.apache.spark.sql.execution.SQLExecution$.withSQLConfPropagated(SQLExecution.scala:169)\n\tat org.apache.spark.sql.execution.SQLExecution$.$anonfun$withNewExecutionId$1(SQLExecution.scala:95)\n\tat org.apache.spark.sql.SparkSession.withActive(SparkSession.scala:779)\n\tat org.apache.spark.sql.execution.SQLExecution$.withNewExecutionId(SQLExecution.scala:64)\n\tat org.apache.spark.sql.execution.QueryExecution$$anonfun$eagerlyExecuteCommands$1.applyOrElse(QueryExecution.scala:98)\n\tat org.apache.spark.sql.execution.QueryExecution$$anonfun$eagerlyExecuteCommands$1.applyOrElse(QueryExecution.scala:94)\n\tat org.apache.spark.sql.catalyst.trees.TreeNode.$anonfun$transformDownWithPruning$1(TreeNode.scala:584)\n\tat org.apache.spark.sql.catalyst.trees.CurrentOrigin$.withOrigin(TreeNode.scala:176)\n\tat org.apache.spark.sql.catalyst.trees.TreeNode.transformDownWithPruning(TreeNode.scala:584)\n\tat org.apache.spark.sql.catalyst.plans.logical.LogicalPlan.org$apache$spark$sql$catalyst$plans$logical$AnalysisHelper$$super$transformDownWithPruning(LogicalPlan.scala:30)\n\tat org.apache.spark.sql.catalyst.plans.logical.AnalysisHelper.transformDownWithPruning(AnalysisHelper.scala:267)\n\tat org.apache.spark.sql.catalyst.plans.logical.AnalysisHelper.transformDownWithPruning$(AnalysisHelper.scala:263)\n\tat org.apache.spark.sql.catalyst.plans.logical.LogicalPlan.transformDownWithPruning(LogicalPlan.scala:30)\n\tat org.apache.spark.sql.catalyst.plans.logical.LogicalPlan.transformDownWithPruning(LogicalPlan.scala:30)\n\tat org.apache.spark.sql.catalyst.trees.TreeNode.transformDown(TreeNode.scala:560)\n\tat org.apache.spark.sql.execution.QueryExecution.eagerlyExecuteCommands(QueryExecution.scala:94)\n\tat org.apache.spark.sql.execution.QueryExecution.commandExecuted$lzycompute(QueryExecution.scala:81)\n\tat org.apache.spark.sql.execution.QueryExecution.commandExecuted(QueryExecution.scala:79)\n\tat org.apache.spark.sql.execution.QueryExecution.assertCommandExecuted(QueryExecution.scala:116)\n\tat org.apache.spark.sql.DataFrameWriter.runCommand(DataFrameWriter.scala:860)\n\tat org.apache.spark.sql.DataFrameWriter.saveToV1Source(DataFrameWriter.scala:390)\n\tat org.apache.spark.sql.DataFrameWriter.saveInternal(DataFrameWriter.scala:363)\n\tat org.apache.spark.sql.DataFrameWriter.save(DataFrameWriter.scala:239)\n\tat org.apache.spark.sql.DataFrameWriter.parquet(DataFrameWriter.scala:793)\n\tat sun.reflect.NativeMethodAccessorImpl.invoke0(Native Method)\n\tat sun.reflect.NativeMethodAccessorImpl.invoke(NativeMethodAccessorImpl.java:62)\n\tat sun.reflect.DelegatingMethodAccessorImpl.invoke(DelegatingMethodAccessorImpl.java:43)\n\tat java.lang.reflect.Method.invoke(Method.java:498)\n\tat py4j.reflection.MethodInvoker.invoke(MethodInvoker.java:244)\n\tat py4j.reflection.ReflectionEngine.invoke(ReflectionEngine.java:357)\n\tat py4j.Gateway.invoke(Gateway.java:282)\n\tat py4j.commands.AbstractCommand.invokeMethod(AbstractCommand.java:132)\n\tat py4j.commands.CallCommand.execute(CallCommand.java:79)\n\tat py4j.ClientServerConnection.waitForCommands(ClientServerConnection.java:182)\n\tat py4j.ClientServerConnection.run(ClientServerConnection.java:106)\n\tat java.lang.Thread.run(Thread.java:750)\nCaused by: org.apache.spark.SparkException: Job 67 cancelled \n\tat org.apache.spark.scheduler.DAGScheduler.failJobAndIndependentStages(DAGScheduler.scala:2672)\n\tat org.apache.spark.scheduler.DAGScheduler.handleJobCancellation(DAGScheduler.scala:2554)\n\tat org.apache.spark.scheduler.DAGSchedulerEventProcessLoop.doOnReceive(DAGScheduler.scala:2819)\n\tat org.apache.spark.scheduler.DAGSchedulerEventProcessLoop.onReceive(DAGScheduler.scala:2802)\n\tat org.apache.spark.scheduler.DAGSchedulerEventProcessLoop.onReceive(DAGScheduler.scala:2791)\n\tat org.apache.spark.util.EventLoop$$anon$1.run(EventLoop.scala:49)\n\tat org.apache.spark.scheduler.DAGScheduler.runJob(DAGScheduler.scala:952)\n\tat org.apache.spark.SparkContext.runJob(SparkContext.scala:2228)\n\tat org.apache.spark.sql.execution.datasources.FileFormatWriter$.write(FileFormatWriter.scala:245)\n\t... 42 more\n"
     ]
    }
   ],
   "source": [
    "df_partido \\\n",
    "    .write \\\n",
    "    .partitionBy('ANO_ELEICAO',\n",
    "    'CD_CARGO',\n",
    "    'CD_MUNICIPIO',\n",
    "    'SG_PARTIDO',\n",
    "    'CD_SIT_TOT_TURNO').parquet('../data/processed_v2/total_votos_partido_completo.parquet')"
   ]
  },
  {
   "cell_type": "markdown",
   "metadata": {},
   "source": [
    "- - Desempenho do candidato, ou seja, se ele reelegeu, ele perdeu ou ganhou eleitores (expressar em porcentagem), "
   ]
  },
  {
   "cell_type": "code",
   "execution_count": 45,
   "metadata": {},
   "outputs": [
    {
     "name": "stderr",
     "output_type": "stream",
     "text": [
      "                                                                                \r"
     ]
    }
   ],
   "source": [
    "df_desempenho = df_eleicoes \\\n",
    "     .select(\n",
    "        'ANO_ELEICAO', \n",
    "        'CD_MUNICIPIO', \n",
    "        'CD_CARGO',\n",
    "        'NM_CANDIDATO',\n",
    "        'NM_URNA_CANDIDATO',\n",
    "        'QT_VOTOS_NOMINAIS_VALIDOS') \\\n",
    "        .groupBy(\n",
    "            'CD_MUNICIPIO',\n",
    "            'NM_CANDIDATO',\n",
    "            'NM_URNA_CANDIDATO', \n",
    "        ).pivot('ANO_ELEICAO').sum('QT_VOTOS_NOMINAIS_VALIDOS')"
   ]
  },
  {
   "cell_type": "code",
   "execution_count": 46,
   "metadata": {},
   "outputs": [
    {
     "name": "stderr",
     "output_type": "stream",
     "text": [
      "[Stage 140:============================================>            (7 + 2) / 9]\r"
     ]
    },
    {
     "name": "stdout",
     "output_type": "stream",
     "text": [
      "+------------+--------------------+--------------------+----+----+\n",
      "|CD_MUNICIPIO|        NM_CANDIDATO|   NM_URNA_CANDIDATO|2018|2022|\n",
      "+------------+--------------------+--------------------+----+----+\n",
      "|       61000|RAFAEL GUSTAVO BE...|       RAFA BERNARDO|   0|   0|\n",
      "|       61000|        RENAN MARINO|            DR RENAN|   0|   0|\n",
      "|       61018|CAMILA GODOI DA S...|  PROF. CAMILA GODOI|   1|   2|\n",
      "|       61018|ELTON ALVES RIBEI...|           DR. ELTON|   0|   0|\n",
      "|       61018|RICARDO ROSSI MAD...|    RICARDO MADALENA|   7|  28|\n",
      "|       61018|ROGERIO JACOMO MI...|PROFESSOR MICHELETTI|   0|   0|\n",
      "|       61018|SEVERINO TINHA DI...|   TINHA DI FERREIRA|   0|   0|\n",
      "|       61026| ALMIR DE ALEXANDRES| DR ALMIR ALEXANDRES|   0|   0|\n",
      "|       61026|CARLOS ALESSANDRO...|         SANDRO BOLA|   0|  41|\n",
      "|       61026|DANIEL CARVALHO M...|      DANIEL MACHADO|   0|   0|\n",
      "|       61026|EMÍLIO CARPANEZ F...|     EMÍLIO CARPANEZ|   0|   0|\n",
      "|       61026|   HÉLIO TELES ALVES|         HÉLIO TELES|   0|   0|\n",
      "|       61026|MARCOS DOS SANTOS...|                SENA|   0|   0|\n",
      "|       61026|REGIANE MARA VEIG...|      REGIANE ALONSO|   0|   0|\n",
      "|       61026|        RICARDO DIAS|     DR RICARDO DIAS|   0|   0|\n",
      "|       61034|ISABELLE SATIKO S...|          ISA SOYAMA|   0|   0|\n",
      "|       61034|JONATAN SANTOS DE...|    JONATAN DAS ONGS|   0|   0|\n",
      "|       61034|JORGILENE ALVES S...|           JORGILENE|   0|   0|\n",
      "|       61034|MARIA CLAUDIA DE ...|MARIA CLAUDIA CAR...|   0|   0|\n",
      "|       61042|CHARLES APARECIDO...|PASTOR CHARLES  S...|   0|   0|\n",
      "+------------+--------------------+--------------------+----+----+\n",
      "only showing top 20 rows\n",
      "\n"
     ]
    },
    {
     "name": "stderr",
     "output_type": "stream",
     "text": [
      "                                                                                \r"
     ]
    }
   ],
   "source": [
    "df_desempenho = df_desempenho.fillna(0)"
   ]
  },
  {
   "cell_type": "code",
   "execution_count": 47,
   "metadata": {},
   "outputs": [],
   "source": [
    "cd_mun = 69698 # Ribeirão Preto\n",
    "df_desempenho = df_desempenho.withColumnRenamed('2018', 'TOTAL_VOTOS_2018')\n",
    "\n",
    "df_desempenho = df_desempenho.withColumnRenamed('2022', 'TOTAL_VOTOS_2022')"
   ]
  },
  {
   "cell_type": "code",
   "execution_count": 48,
   "metadata": {},
   "outputs": [
    {
     "name": "stderr",
     "output_type": "stream",
     "text": [
      "[Stage 144:====================================================>  (19 + 1) / 20]\r"
     ]
    },
    {
     "name": "stdout",
     "output_type": "stream",
     "text": [
      "+------------+--------------------+-----------------+----------------+----------------+\n",
      "|CD_MUNICIPIO|        NM_CANDIDATO|NM_URNA_CANDIDATO|TOTAL_VOTOS_2018|TOTAL_VOTOS_2022|\n",
      "+------------+--------------------+-----------------+----------------+----------------+\n",
      "|       69698|VALERIA MULLER RA...|VALERIA BOLSONARO|             590|            1017|\n",
      "+------------+--------------------+-----------------+----------------+----------------+\n",
      "\n"
     ]
    },
    {
     "name": "stderr",
     "output_type": "stream",
     "text": [
      "                                                                                \r"
     ]
    }
   ],
   "source": [
    "df_desempenho.filter((df_desempenho.NM_URNA_CANDIDATO == 'VALERIA BOLSONARO') &\n",
    "                     (df_desempenho.CD_MUNICIPIO == cd_mun) ).show()"
   ]
  },
  {
   "cell_type": "code",
   "execution_count": 49,
   "metadata": {},
   "outputs": [
    {
     "name": "stderr",
     "output_type": "stream",
     "text": [
      "                                                                                \r"
     ]
    },
    {
     "data": {
      "text/plain": [
       "4138320"
      ]
     },
     "execution_count": 49,
     "metadata": {},
     "output_type": "execute_result"
    }
   ],
   "source": [
    "df_desempenho.count()"
   ]
  },
  {
   "cell_type": "code",
   "execution_count": 50,
   "metadata": {},
   "outputs": [
    {
     "name": "stderr",
     "output_type": "stream",
     "text": [
      "[Stage 158:============================================>            (7 + 2) / 9]\r"
     ]
    },
    {
     "name": "stdout",
     "output_type": "stream",
     "text": [
      "+------------+--------------------+--------------------+----------------+----------------+\n",
      "|CD_MUNICIPIO|        NM_CANDIDATO|   NM_URNA_CANDIDATO|TOTAL_VOTOS_2018|TOTAL_VOTOS_2022|\n",
      "+------------+--------------------+--------------------+----------------+----------------+\n",
      "|       61018|CAMILA GODOI DA S...|  PROF. CAMILA GODOI|               1|               2|\n",
      "|       61018|RICARDO ROSSI MAD...|    RICARDO MADALENA|               7|              28|\n",
      "|       61050|CHEILA MARIA SUBE...|       CHEILA OLALLA|               1|               2|\n",
      "|       61050|MARCO ANTONIO FEL...|PASTOR MARCO FELI...|             183|             251|\n",
      "|       61077|MARIA IZABEL AZEV...|    PROFESSORA BEBEL|               5|               9|\n",
      "|       61093|   JORGE LUIS CARUSO|              CARUSO|              99|             126|\n",
      "|       61310|    VANDERLEI MACRIS|    VANDERLEI MACRIS|           15251|           13839|\n",
      "|       61417|LUIZ FERNANDO TEI...|       LUIZ FERNANDO|               3|              20|\n",
      "|       61450|     MIGUEL LOMBARDI|     MIGUEL LOMBARDI|               2|              10|\n",
      "|       61530|CARLOS ALBERTO GI...|     CARLOS GIANNAZI|            1180|             550|\n",
      "|       61557|RODRIGO ANTONIO D...|   RODRIGO AGOSTINHO|              37|              38|\n",
      "|       61603|DAVID BEZERRA RIB...|        DAVID SOARES|               2|               1|\n",
      "|       61670|      FERNANDO CAPEZ|      FERNANDO CAPEZ|               9|              22|\n",
      "|       61670|ISADORA MARTINATT...|           ISA PENNA|               2|               3|\n",
      "|       61697|RODRIGO AUGUSTO M...|      RODRIGO MORAES|               6|               6|\n",
      "|       61824|CELSO UBIRAJARA R...|    CELSO RUSSOMANNO|              15|               6|\n",
      "|       61840|MILTON ANTONIO CA...|        MILTON MONTI|              75|               6|\n",
      "|       61964|JORGE WILSON GONÇ...|JORGE WILSON XERI...|               1|               1|\n",
      "|       62049|    MILTON NERY NETO|         MILTON NERY|               2|               9|\n",
      "|       62057|PAULO ADRIANO LOP...|     CORONEL TELHADA|              88|              46|\n",
      "+------------+--------------------+--------------------+----------------+----------------+\n",
      "only showing top 20 rows\n",
      "\n"
     ]
    },
    {
     "name": "stderr",
     "output_type": "stream",
     "text": [
      "                                                                                \r"
     ]
    }
   ],
   "source": [
    "df_desempenho = df_desempenho.filter(\n",
    "    (df_desempenho.TOTAL_VOTOS_2018 > 0) &\n",
    "    (df_desempenho.TOTAL_VOTOS_2022 > 0)\n",
    ")\n",
    "df_desempenho.show()"
   ]
  },
  {
   "cell_type": "code",
   "execution_count": 51,
   "metadata": {},
   "outputs": [],
   "source": [
    "df_desempenho = df_desempenho.withColumn('VARIACAO_PERCENTUAL', calcular_variacao_percentual(F.col('TOTAL_VOTOS_2022'), F.col('TOTAL_VOTOS_2018')))"
   ]
  },
  {
   "cell_type": "code",
   "execution_count": 52,
   "metadata": {},
   "outputs": [
    {
     "name": "stderr",
     "output_type": "stream",
     "text": [
      "[Stage 167:>                                                        (0 + 1) / 1]\r"
     ]
    },
    {
     "name": "stdout",
     "output_type": "stream",
     "text": [
      "+------------+--------------------+--------------------+----------------+----------------+-------------------+\n",
      "|CD_MUNICIPIO|        NM_CANDIDATO|   NM_URNA_CANDIDATO|TOTAL_VOTOS_2018|TOTAL_VOTOS_2022|VARIACAO_PERCENTUAL|\n",
      "+------------+--------------------+--------------------+----------------+----------------+-------------------+\n",
      "|       61018|CAMILA GODOI DA S...|  PROF. CAMILA GODOI|               1|               2|               50.0|\n",
      "|       61018|RICARDO ROSSI MAD...|    RICARDO MADALENA|               7|              28|               25.0|\n",
      "|       61050|CHEILA MARIA SUBE...|       CHEILA OLALLA|               1|               2|               50.0|\n",
      "|       61050|MARCO ANTONIO FEL...|PASTOR MARCO FELI...|             183|             251|              72.91|\n",
      "|       61077|MARIA IZABEL AZEV...|    PROFESSORA BEBEL|               5|               9|              55.56|\n",
      "|       61093|   JORGE LUIS CARUSO|              CARUSO|              99|             126|              78.57|\n",
      "|       61310|    VANDERLEI MACRIS|    VANDERLEI MACRIS|           15251|           13839|              110.2|\n",
      "|       61417|LUIZ FERNANDO TEI...|       LUIZ FERNANDO|               3|              20|               15.0|\n",
      "|       61450|     MIGUEL LOMBARDI|     MIGUEL LOMBARDI|               2|              10|               20.0|\n",
      "|       61530|CARLOS ALBERTO GI...|     CARLOS GIANNAZI|            1180|             550|             214.55|\n",
      "|       61557|RODRIGO ANTONIO D...|   RODRIGO AGOSTINHO|              37|              38|              97.37|\n",
      "|       61603|DAVID BEZERRA RIB...|        DAVID SOARES|               2|               1|              200.0|\n",
      "|       61670|      FERNANDO CAPEZ|      FERNANDO CAPEZ|               9|              22|              40.91|\n",
      "|       61670|ISADORA MARTINATT...|           ISA PENNA|               2|               3|              66.67|\n",
      "|       61697|RODRIGO AUGUSTO M...|      RODRIGO MORAES|               6|               6|              100.0|\n",
      "|       61824|CELSO UBIRAJARA R...|    CELSO RUSSOMANNO|              15|               6|              250.0|\n",
      "|       61840|MILTON ANTONIO CA...|        MILTON MONTI|              75|               6|             1250.0|\n",
      "|       61964|JORGE WILSON GONÇ...|JORGE WILSON XERI...|               1|               1|              100.0|\n",
      "|       62049|    MILTON NERY NETO|         MILTON NERY|               2|               9|              22.22|\n",
      "|       62057|PAULO ADRIANO LOP...|     CORONEL TELHADA|              88|              46|              191.3|\n",
      "+------------+--------------------+--------------------+----------------+----------------+-------------------+\n",
      "only showing top 20 rows\n",
      "\n"
     ]
    },
    {
     "name": "stderr",
     "output_type": "stream",
     "text": [
      "                                                                                \r"
     ]
    }
   ],
   "source": [
    "df_desempenho.show()"
   ]
  },
  {
   "cell_type": "code",
   "execution_count": 53,
   "metadata": {},
   "outputs": [],
   "source": [
    "df_desempenho = df_desempenho.select(\n",
    "    'NM_CANDIDATO',\n",
    "    'NM_URNA_CANDIDATO',\n",
    "    'TOTAL_VOTOS_2018',\n",
    "    'TOTAL_VOTOS_2022',\n",
    "    'VARIACAO_PERCENTUAL',\n",
    "    'CD_MUNICIPIO'\n",
    "    \n",
    ")"
   ]
  },
  {
   "cell_type": "code",
   "execution_count": 54,
   "metadata": {},
   "outputs": [
    {
     "name": "stderr",
     "output_type": "stream",
     "text": [
      "                                                                                \r"
     ]
    }
   ],
   "source": [
    "df_desempenho \\\n",
    "    .write \\\n",
    "    .partitionBy('CD_MUNICIPIO').parquet('../data/processed_v2/desempenho_candidatos.parquet')"
   ]
  },
  {
   "cell_type": "code",
   "execution_count": 55,
   "metadata": {},
   "outputs": [],
   "source": [
    "spark.stop()"
   ]
  },
  {
   "cell_type": "code",
   "execution_count": null,
   "metadata": {},
   "outputs": [],
   "source": []
  }
 ],
 "metadata": {
  "kernelspec": {
   "display_name": ".venv",
   "language": "python",
   "name": "python3"
  },
  "language_info": {
   "codemirror_mode": {
    "name": "ipython",
    "version": 3
   },
   "file_extension": ".py",
   "mimetype": "text/x-python",
   "name": "python",
   "nbconvert_exporter": "python",
   "pygments_lexer": "ipython3",
   "version": "3.10.12"
  }
 },
 "nbformat": 4,
 "nbformat_minor": 2
}
