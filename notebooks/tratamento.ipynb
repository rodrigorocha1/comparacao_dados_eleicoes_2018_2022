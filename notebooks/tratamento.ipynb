{
 "cells": [
  {
   "cell_type": "code",
   "execution_count": 28,
   "metadata": {},
   "outputs": [],
   "source": [
    "from pyspark.sql import SparkSession"
   ]
  },
  {
   "cell_type": "code",
   "execution_count": 29,
   "metadata": {},
   "outputs": [
    {
     "data": {
      "text/html": [
       "\n",
       "            <div>\n",
       "                <p><b>SparkSession - in-memory</b></p>\n",
       "                \n",
       "        <div>\n",
       "            <p><b>SparkContext</b></p>\n",
       "\n",
       "            <p><a href=\"http://192.168.0.112:4040\">Spark UI</a></p>\n",
       "\n",
       "            <dl>\n",
       "              <dt>Version</dt>\n",
       "                <dd><code>v3.3.0</code></dd>\n",
       "              <dt>Master</dt>\n",
       "                <dd><code>local[*]</code></dd>\n",
       "              <dt>AppName</dt>\n",
       "                <dd><code>CARGA</code></dd>\n",
       "            </dl>\n",
       "        </div>\n",
       "        \n",
       "            </div>\n",
       "        "
      ],
      "text/plain": [
       "<pyspark.sql.session.SparkSession at 0x7f16a92936a0>"
      ]
     },
     "execution_count": 29,
     "metadata": {},
     "output_type": "execute_result"
    }
   ],
   "source": [
    "spark = SparkSession.builder.appName('CARGA').getOrCreate()\n",
    "spark"
   ]
  },
  {
   "cell_type": "code",
   "execution_count": 30,
   "metadata": {},
   "outputs": [
    {
     "name": "stderr",
     "output_type": "stream",
     "text": [
      "[Stage 39:===================================================>     (9 + 1) / 10]\r"
     ]
    },
    {
     "name": "stdout",
     "output_type": "stream",
     "text": [
      "+----------------+--------------------+------------+------------+--------------------+--------------------+----------+--------------------+-------------------------+----------------+-----------+------------+--------+----------+----------------+\n",
      "|        DS_CARGO|        NM_MUNICIPIO|SQ_CANDIDATO|NR_CANDIDATO|        NM_CANDIDATO|   NM_URNA_CANDIDATO|NR_PARTIDO|          NM_PARTIDO|QT_VOTOS_NOMINAIS_VALIDOS|DS_SIT_TOT_TURNO|ANO_ELEICAO|CD_MUNICIPIO|CD_CARGO|SG_PARTIDO|CD_SIT_TOT_TURNO|\n",
      "+----------------+--------------------+------------+------------+--------------------+--------------------+----------+--------------------+-------------------------+----------------+-----------+------------+--------+----------+----------------+\n",
      "|Deputado Federal|           SÃO PAULO|250000619502|        2221|VALDEMAR ROSENDO ...|    VALDEMAR ROSENDO|        22|Partido da República|                       26|        SUPLENTE|       2018|       71072|       6|        PR|               5|\n",
      "|Deputado Federal|SANTA CRUZ DO RIO...|250000619502|        2221|VALDEMAR ROSENDO ...|    VALDEMAR ROSENDO|        22|Partido da República|                        1|        SUPLENTE|       2018|       70297|       6|        PR|               5|\n",
      "|Deputado Federal|       CESÁRIO LANGE|250000619502|        2221|VALDEMAR ROSENDO ...|    VALDEMAR ROSENDO|        22|Partido da República|                        0|        SUPLENTE|       2018|       63339|       6|        PR|               5|\n",
      "|Deputado Federal|    MURUTINGA DO SUL|250000619502|        2221|VALDEMAR ROSENDO ...|    VALDEMAR ROSENDO|        22|Partido da República|                        0|        SUPLENTE|       2018|       67431|       6|        PR|               5|\n",
      "|Deputado Federal|   BRAGANÇA PAULISTA|250000619502|        2221|VALDEMAR ROSENDO ...|    VALDEMAR ROSENDO|        22|Partido da República|                        1|        SUPLENTE|       2018|       62510|       6|        PR|               5|\n",
      "|Deputado Federal|          SÃO CARLOS|250000619510|        2207|SILVIO ANDREI ROD...| PADRE SILVIO ANDREI|        22|Partido da República|                        7|        SUPLENTE|       2018|       70793|       6|        PR|               5|\n",
      "|Deputado Federal|           SÃO PAULO|250000619510|        2207|SILVIO ANDREI ROD...| PADRE SILVIO ANDREI|        22|Partido da República|                       34|        SUPLENTE|       2018|       71072|       6|        PR|               5|\n",
      "|Deputado Federal|               AVARÉ|250000619510|        2207|SILVIO ANDREI ROD...| PADRE SILVIO ANDREI|        22|Partido da República|                       13|        SUPLENTE|       2018|       61891|       6|        PR|               5|\n",
      "|Deputado Federal|VISTA ALEGRE DO ALTO|250000619510|        2207|SILVIO ANDREI ROD...| PADRE SILVIO ANDREI|        22|Partido da República|                        0|        SUPLENTE|       2018|       72419|       6|        PR|               5|\n",
      "|Deputado Federal|           SÃO PAULO|250000619510|        2207|SILVIO ANDREI ROD...| PADRE SILVIO ANDREI|        22|Partido da República|                      128|        SUPLENTE|       2018|       71072|       6|        PR|               5|\n",
      "|Deputado Federal|           CERQUILHO|250000619510|        2207|SILVIO ANDREI ROD...| PADRE SILVIO ANDREI|        22|Partido da República|                       70|        SUPLENTE|       2018|       63312|       6|        PR|               5|\n",
      "|Deputado Federal|         NOVA EUROPA|250000619510|        2207|SILVIO ANDREI ROD...| PADRE SILVIO ANDREI|        22|Partido da República|                        0|        SUPLENTE|       2018|       67598|       6|        PR|               5|\n",
      "|Deputado Federal|               SALTO|250000619510|        2207|SILVIO ANDREI ROD...| PADRE SILVIO ANDREI|        22|Partido da República|                     6440|        SUPLENTE|       2018|       70050|       6|        PR|               5|\n",
      "|Deputado Federal|SANTANA DA PONTE ...|250000619514|        2270|ANTONIO CARLOS RO...|ANTONIO CARLOS RO...|        22|Partido da República|                        0|        SUPLENTE|       2018|       70459|       6|        PR|               5|\n",
      "|Deputado Federal|         SÃO VICENTE|250000619514|        2270|ANTONIO CARLOS RO...|ANTONIO CARLOS RO...|        22|Partido da República|                       21|        SUPLENTE|       2018|       71218|       6|        PR|               5|\n",
      "|Deputado Federal|            IPORANGA|250000619514|        2270|ANTONIO CARLOS RO...|ANTONIO CARLOS RO...|        22|Partido da República|                        2|        SUPLENTE|       2018|       65250|       6|        PR|               5|\n",
      "|Deputado Federal|            GUAIÇARA|250000619514|        2270|ANTONIO CARLOS RO...|ANTONIO CARLOS RO...|        22|Partido da República|                        0|        SUPLENTE|       2018|       64459|       6|        PR|               5|\n",
      "|Deputado Federal|           SÃO PAULO|250000619520|        2214|CLAUDIA LOPES DE ...|                 CAL|        22|Partido da República|                        0|        SUPLENTE|       2018|       71072|       6|        PR|               5|\n",
      "|Deputado Federal| MONTE ALEGRE DO SUL|250000619520|        2214|CLAUDIA LOPES DE ...|                 CAL|        22|Partido da República|                        0|        SUPLENTE|       2018|       67253|       6|        PR|               5|\n",
      "|Deputado Federal|               IACRI|250000619520|        2214|CLAUDIA LOPES DE ...|                 CAL|        22|Partido da República|                        0|        SUPLENTE|       2018|       64858|       6|        PR|               5|\n",
      "+----------------+--------------------+------------+------------+--------------------+--------------------+----------+--------------------+-------------------------+----------------+-----------+------------+--------+----------+----------------+\n",
      "only showing top 20 rows\n",
      "\n"
     ]
    },
    {
     "name": "stderr",
     "output_type": "stream",
     "text": [
      "                                                                                \r"
     ]
    }
   ],
   "source": [
    "df_eleicoes_2018 = spark.read.options(\n",
    "    header=True, \n",
    "    delimiter=';', \n",
    "    encoding='ISO-8859-1',\n",
    "    inferschema=True).csv('../data/raw/votacao_candidato_munzona_2018_SP.csv')\n",
    "df_eleicoes_2018 = df_eleicoes_2018 \\\n",
    "    .filter(df_eleicoes_2018.CD_CARGO.isin(6, 7))\n",
    "df_eleicoes_2018 = df_eleicoes_2018.select(\n",
    "    'DS_CARGO',\n",
    "    'NM_MUNICIPIO',\n",
    "    'SQ_CANDIDATO',\n",
    "    'NR_CANDIDATO',\n",
    "    'NM_CANDIDATO',\n",
    "    'NM_URNA_CANDIDATO',\n",
    "    'NR_PARTIDO',\n",
    "    'NM_PARTIDO',\n",
    "    'QT_VOTOS_NOMINAIS_VALIDOS',\n",
    "    'DS_SIT_TOT_TURNO',\n",
    "    'ANO_ELEICAO',\n",
    "    'CD_MUNICIPIO',\n",
    "    'CD_CARGO',\n",
    "    'SG_PARTIDO',\n",
    "    'CD_SIT_TOT_TURNO',\n",
    "    \n",
    ")\n",
    "df_eleicoes_2018.show()"
   ]
  },
  {
   "cell_type": "code",
   "execution_count": 31,
   "metadata": {},
   "outputs": [
    {
     "name": "stderr",
     "output_type": "stream",
     "text": [
      "[Stage 42:===================================================>     (9 + 1) / 10]\r"
     ]
    },
    {
     "name": "stdout",
     "output_type": "stream",
     "text": [
      "+----------------+--------------------+------------+------------+--------------------+-----------------+----------+--------------------+-------------------------+----------------+-----------+------------+--------+----------+----------------+\n",
      "|        DS_CARGO|        NM_MUNICIPIO|SQ_CANDIDATO|NR_CANDIDATO|        NM_CANDIDATO|NM_URNA_CANDIDATO|NR_PARTIDO|          NM_PARTIDO|QT_VOTOS_NOMINAIS_VALIDOS|DS_SIT_TOT_TURNO|ANO_ELEICAO|CD_MUNICIPIO|CD_CARGO|SG_PARTIDO|CD_SIT_TOT_TURNO|\n",
      "+----------------+--------------------+------------+------------+--------------------+-----------------+----------+--------------------+-------------------------+----------------+-----------+------------+--------+----------+----------------+\n",
      "|Deputado Federal|                BURI|250001604971|        5522|ADRIANA ALVES DA ...|  ADRIANA RAMALHO|        55|Partido Social De...|                        0|        SUPLENTE|       2022|       62618|       6|       PSD|               5|\n",
      "|Deputado Federal|             SARAPUÍ|250001604971|        5522|ADRIANA ALVES DA ...|  ADRIANA RAMALHO|        55|Partido Social De...|                        0|        SUPLENTE|       2022|       71234|       6|       PSD|               5|\n",
      "|Deputado Federal|              CEDRAL|250001604971|        5522|ADRIANA ALVES DA ...|  ADRIANA RAMALHO|        55|Partido Social De...|                        0|        SUPLENTE|       2022|       63274|       6|       PSD|               5|\n",
      "|Deputado Federal|              TUIUTI|250001604971|        5522|ADRIANA ALVES DA ...|  ADRIANA RAMALHO|        55|Partido Social De...|                        0|        SUPLENTE|       2022|       61620|       6|       PSD|               5|\n",
      "|Deputado Federal|     GUARANI D OESTE|250001604971|        5522|ADRIANA ALVES DA ...|  ADRIANA RAMALHO|        55|Partido Social De...|                        0|        SUPLENTE|       2022|       64610|       6|       PSD|               5|\n",
      "|Deputado Federal|             CARDOSO|250001604971|        5522|ADRIANA ALVES DA ...|  ADRIANA RAMALHO|        55|Partido Social De...|                        0|        SUPLENTE|       2022|       63150|       6|       PSD|               5|\n",
      "|Deputado Federal|SÃO JOSÉ DO RIO P...|250001604971|        5522|ADRIANA ALVES DA ...|  ADRIANA RAMALHO|        55|Partido Social De...|                        3|        SUPLENTE|       2022|       70971|       6|       PSD|               5|\n",
      "|Deputado Federal|             BARUERI|250001604971|        5522|ADRIANA ALVES DA ...|  ADRIANA RAMALHO|        55|Partido Social De...|                       37|        SUPLENTE|       2022|       62138|       6|       PSD|               5|\n",
      "|Deputado Federal|     ITAQUAQUECETUBA|250001604974|        5502|FABIO HENRIQUE DA...|       FABIÃO SJC|        55|Partido Social De...|                        6|        SUPLENTE|       2022|       65633|       6|       PSD|               5|\n",
      "|Deputado Federal|            OUROESTE|250001604974|        5502|FABIO HENRIQUE DA...|       FABIÃO SJC|        55|Partido Social De...|                        0|        SUPLENTE|       2022|       62383|       6|       PSD|               5|\n",
      "|Deputado Federal|            LOUVEIRA|250001604974|        5502|FABIO HENRIQUE DA...|       FABIÃO SJC|        55|Partido Social De...|                        0|        SUPLENTE|       2022|       66478|       6|       PSD|               5|\n",
      "|Deputado Federal|           AMERICANA|250001604974|        5502|FABIO HENRIQUE DA...|       FABIÃO SJC|        55|Partido Social De...|                        0|        SUPLENTE|       2022|       61310|       6|       PSD|               5|\n",
      "|Deputado Federal|             AREALVA|250001604974|        5502|FABIO HENRIQUE DA...|       FABIÃO SJC|        55|Partido Social De...|                        0|        SUPLENTE|       2022|       61670|       6|       PSD|               5|\n",
      "|Deputado Federal|            SARUTAIÁ|250001604981|        5559|RENATO TADEU DE O...|     RENATO PAIVA|        55|Partido Social De...|                        0|        SUPLENTE|       2022|       71250|       6|       PSD|               5|\n",
      "|Deputado Federal|          PRADÓPOLIS|250001604981|        5559|RENATO TADEU DE O...|     RENATO PAIVA|        55|Partido Social De...|                        0|        SUPLENTE|       2022|       69191|       6|       PSD|               5|\n",
      "|Deputado Federal|           GUARULHOS|250001604981|        5559|RENATO TADEU DE O...|     RENATO PAIVA|        55|Partido Social De...|                        1|        SUPLENTE|       2022|       64777|       6|       PSD|               5|\n",
      "|Deputado Federal|              TANABI|250001604982|        5519|RIBAMAR ANTONIO D...|    RIBAMAR SILVA|        55|Partido Social De...|                        0|        SUPLENTE|       2022|       71692|       6|       PSD|               5|\n",
      "|Deputado Federal|           SÃO PAULO|250001604982|        5519|RIBAMAR ANTONIO D...|    RIBAMAR SILVA|        55|Partido Social De...|                       26|        SUPLENTE|       2022|       71072|       6|       PSD|               5|\n",
      "|Deputado Federal|           ARCO-ÍRIS|250001604982|        5519|RIBAMAR ANTONIO D...|    RIBAMAR SILVA|        55|Partido Social De...|                        0|        SUPLENTE|       2022|       62065|       6|       PSD|               5|\n",
      "|Deputado Federal|            SOROCABA|250001604982|        5519|RIBAMAR ANTONIO D...|    RIBAMAR SILVA|        55|Partido Social De...|                       38|        SUPLENTE|       2022|       71455|       6|       PSD|               5|\n",
      "+----------------+--------------------+------------+------------+--------------------+-----------------+----------+--------------------+-------------------------+----------------+-----------+------------+--------+----------+----------------+\n",
      "only showing top 20 rows\n",
      "\n"
     ]
    },
    {
     "name": "stderr",
     "output_type": "stream",
     "text": [
      "                                                                                \r"
     ]
    }
   ],
   "source": [
    "df_eleicoes_2022 = spark.read.options(\n",
    "    header=True, \n",
    "    delimiter=';', \n",
    "    encoding='ISO-8859-1',\n",
    "    inferschema=True).csv('../data/raw/votacao_candidato_munzona_2022_SP.csv')\n",
    "df_eleicoes_2022 = df_eleicoes_2022 \\\n",
    "    .filter(df_eleicoes_2022.CD_CARGO.isin(6,7))\n",
    "df_eleicoes_2022 = df_eleicoes_2022.select(\n",
    "    'DS_CARGO',\n",
    "    'NM_MUNICIPIO',\n",
    "    'SQ_CANDIDATO',\n",
    "    'NR_CANDIDATO',\n",
    "    'NM_CANDIDATO',\n",
    "    'NM_URNA_CANDIDATO',\n",
    "    'NR_PARTIDO',\n",
    "    'NM_PARTIDO',\n",
    "    'QT_VOTOS_NOMINAIS_VALIDOS',\n",
    "    'DS_SIT_TOT_TURNO',\n",
    "    'ANO_ELEICAO',\n",
    "    'CD_MUNICIPIO',\n",
    "    'CD_CARGO',\n",
    "    'SG_PARTIDO',\n",
    "    'CD_SIT_TOT_TURNO',\n",
    "    \n",
    ")\n",
    "df_eleicoes_2022.show()"
   ]
  },
  {
   "cell_type": "code",
   "execution_count": 32,
   "metadata": {},
   "outputs": [
    {
     "name": "stdout",
     "output_type": "stream",
     "text": [
      "root\n",
      " |-- DS_CARGO: string (nullable = true)\n",
      " |-- NM_MUNICIPIO: string (nullable = true)\n",
      " |-- SQ_CANDIDATO: long (nullable = true)\n",
      " |-- NR_CANDIDATO: integer (nullable = true)\n",
      " |-- NM_CANDIDATO: string (nullable = true)\n",
      " |-- NM_URNA_CANDIDATO: string (nullable = true)\n",
      " |-- NR_PARTIDO: integer (nullable = true)\n",
      " |-- NM_PARTIDO: string (nullable = true)\n",
      " |-- QT_VOTOS_NOMINAIS_VALIDOS: integer (nullable = true)\n",
      " |-- DS_SIT_TOT_TURNO: string (nullable = true)\n",
      " |-- ANO_ELEICAO: integer (nullable = true)\n",
      " |-- CD_MUNICIPIO: integer (nullable = true)\n",
      " |-- CD_CARGO: integer (nullable = true)\n",
      " |-- SG_PARTIDO: string (nullable = true)\n",
      " |-- CD_SIT_TOT_TURNO: integer (nullable = true)\n",
      "\n"
     ]
    }
   ],
   "source": [
    "df_eleicoes_2022.printSchema()"
   ]
  },
  {
   "cell_type": "code",
   "execution_count": 33,
   "metadata": {},
   "outputs": [
    {
     "name": "stdout",
     "output_type": "stream",
     "text": [
      "root\n",
      " |-- DS_CARGO: string (nullable = true)\n",
      " |-- NM_MUNICIPIO: string (nullable = true)\n",
      " |-- SQ_CANDIDATO: long (nullable = true)\n",
      " |-- NR_CANDIDATO: integer (nullable = true)\n",
      " |-- NM_CANDIDATO: string (nullable = true)\n",
      " |-- NM_URNA_CANDIDATO: string (nullable = true)\n",
      " |-- NR_PARTIDO: integer (nullable = true)\n",
      " |-- NM_PARTIDO: string (nullable = true)\n",
      " |-- QT_VOTOS_NOMINAIS_VALIDOS: integer (nullable = true)\n",
      " |-- DS_SIT_TOT_TURNO: string (nullable = true)\n",
      " |-- ANO_ELEICAO: integer (nullable = true)\n",
      " |-- CD_MUNICIPIO: integer (nullable = true)\n",
      " |-- CD_CARGO: integer (nullable = true)\n",
      " |-- SG_PARTIDO: string (nullable = true)\n",
      " |-- CD_SIT_TOT_TURNO: integer (nullable = true)\n",
      "\n"
     ]
    }
   ],
   "source": [
    "df_eleicoes_2018.printSchema()"
   ]
  },
  {
   "cell_type": "code",
   "execution_count": 34,
   "metadata": {},
   "outputs": [],
   "source": [
    "df_eleicoes = df_eleicoes_2018.unionAll(df_eleicoes_2022)"
   ]
  },
  {
   "cell_type": "code",
   "execution_count": 37,
   "metadata": {},
   "outputs": [
    {
     "name": "stdout",
     "output_type": "stream",
     "text": [
      "+----------------+-----------------------+------------+------------+------------------------+------------------------+----------+--------------------+-------------------------+----------------+-----------+------------+--------+----------+----------------+\n",
      "|DS_CARGO        |NM_MUNICIPIO           |SQ_CANDIDATO|NR_CANDIDATO|NM_CANDIDATO            |NM_URNA_CANDIDATO       |NR_PARTIDO|NM_PARTIDO          |QT_VOTOS_NOMINAIS_VALIDOS|DS_SIT_TOT_TURNO|ANO_ELEICAO|CD_MUNICIPIO|CD_CARGO|SG_PARTIDO|CD_SIT_TOT_TURNO|\n",
      "+----------------+-----------------------+------------+------------+------------------------+------------------------+----------+--------------------+-------------------------+----------------+-----------+------------+--------+----------+----------------+\n",
      "|Deputado Federal|SÃO PAULO              |250000619502|2221        |VALDEMAR ROSENDO MARQUES|VALDEMAR ROSENDO        |22        |Partido da República|26                       |SUPLENTE        |2018       |71072       |6       |PR        |5               |\n",
      "|Deputado Federal|SANTA CRUZ DO RIO PARDO|250000619502|2221        |VALDEMAR ROSENDO MARQUES|VALDEMAR ROSENDO        |22        |Partido da República|1                        |SUPLENTE        |2018       |70297       |6       |PR        |5               |\n",
      "|Deputado Federal|CESÁRIO LANGE          |250000619502|2221        |VALDEMAR ROSENDO MARQUES|VALDEMAR ROSENDO        |22        |Partido da República|0                        |SUPLENTE        |2018       |63339       |6       |PR        |5               |\n",
      "|Deputado Federal|MURUTINGA DO SUL       |250000619502|2221        |VALDEMAR ROSENDO MARQUES|VALDEMAR ROSENDO        |22        |Partido da República|0                        |SUPLENTE        |2018       |67431       |6       |PR        |5               |\n",
      "|Deputado Federal|BRAGANÇA PAULISTA      |250000619502|2221        |VALDEMAR ROSENDO MARQUES|VALDEMAR ROSENDO        |22        |Partido da República|1                        |SUPLENTE        |2018       |62510       |6       |PR        |5               |\n",
      "|Deputado Federal|SÃO CARLOS             |250000619510|2207        |SILVIO ANDREI RODRIGUES |PADRE SILVIO ANDREI     |22        |Partido da República|7                        |SUPLENTE        |2018       |70793       |6       |PR        |5               |\n",
      "|Deputado Federal|SÃO PAULO              |250000619510|2207        |SILVIO ANDREI RODRIGUES |PADRE SILVIO ANDREI     |22        |Partido da República|34                       |SUPLENTE        |2018       |71072       |6       |PR        |5               |\n",
      "|Deputado Federal|AVARÉ                  |250000619510|2207        |SILVIO ANDREI RODRIGUES |PADRE SILVIO ANDREI     |22        |Partido da República|13                       |SUPLENTE        |2018       |61891       |6       |PR        |5               |\n",
      "|Deputado Federal|VISTA ALEGRE DO ALTO   |250000619510|2207        |SILVIO ANDREI RODRIGUES |PADRE SILVIO ANDREI     |22        |Partido da República|0                        |SUPLENTE        |2018       |72419       |6       |PR        |5               |\n",
      "|Deputado Federal|SÃO PAULO              |250000619510|2207        |SILVIO ANDREI RODRIGUES |PADRE SILVIO ANDREI     |22        |Partido da República|128                      |SUPLENTE        |2018       |71072       |6       |PR        |5               |\n",
      "|Deputado Federal|CERQUILHO              |250000619510|2207        |SILVIO ANDREI RODRIGUES |PADRE SILVIO ANDREI     |22        |Partido da República|70                       |SUPLENTE        |2018       |63312       |6       |PR        |5               |\n",
      "|Deputado Federal|NOVA EUROPA            |250000619510|2207        |SILVIO ANDREI RODRIGUES |PADRE SILVIO ANDREI     |22        |Partido da República|0                        |SUPLENTE        |2018       |67598       |6       |PR        |5               |\n",
      "|Deputado Federal|SALTO                  |250000619510|2207        |SILVIO ANDREI RODRIGUES |PADRE SILVIO ANDREI     |22        |Partido da República|6440                     |SUPLENTE        |2018       |70050       |6       |PR        |5               |\n",
      "|Deputado Federal|SANTANA DA PONTE PENSA |250000619514|2270        |ANTONIO CARLOS RODRIGUES|ANTONIO CARLOS RODRIGUES|22        |Partido da República|0                        |SUPLENTE        |2018       |70459       |6       |PR        |5               |\n",
      "|Deputado Federal|SÃO VICENTE            |250000619514|2270        |ANTONIO CARLOS RODRIGUES|ANTONIO CARLOS RODRIGUES|22        |Partido da República|21                       |SUPLENTE        |2018       |71218       |6       |PR        |5               |\n",
      "|Deputado Federal|IPORANGA               |250000619514|2270        |ANTONIO CARLOS RODRIGUES|ANTONIO CARLOS RODRIGUES|22        |Partido da República|2                        |SUPLENTE        |2018       |65250       |6       |PR        |5               |\n",
      "|Deputado Federal|GUAIÇARA               |250000619514|2270        |ANTONIO CARLOS RODRIGUES|ANTONIO CARLOS RODRIGUES|22        |Partido da República|0                        |SUPLENTE        |2018       |64459       |6       |PR        |5               |\n",
      "|Deputado Federal|SÃO PAULO              |250000619520|2214        |CLAUDIA LOPES DE SOUZA  |CAL                     |22        |Partido da República|0                        |SUPLENTE        |2018       |71072       |6       |PR        |5               |\n",
      "|Deputado Federal|MONTE ALEGRE DO SUL    |250000619520|2214        |CLAUDIA LOPES DE SOUZA  |CAL                     |22        |Partido da República|0                        |SUPLENTE        |2018       |67253       |6       |PR        |5               |\n",
      "|Deputado Federal|IACRI                  |250000619520|2214        |CLAUDIA LOPES DE SOUZA  |CAL                     |22        |Partido da República|0                        |SUPLENTE        |2018       |64858       |6       |PR        |5               |\n",
      "+----------------+-----------------------+------------+------------+------------------------+------------------------+----------+--------------------+-------------------------+----------------+-----------+------------+--------+----------+----------------+\n",
      "only showing top 20 rows\n",
      "\n"
     ]
    }
   ],
   "source": [
    "df_eleicoes.show(truncate=False)"
   ]
  },
  {
   "cell_type": "markdown",
   "metadata": {},
   "source": []
  },
  {
   "cell_type": "code",
   "execution_count": 36,
   "metadata": {},
   "outputs": [
    {
     "name": "stderr",
     "output_type": "stream",
     "text": [
      "                                                                                \r"
     ]
    },
    {
     "data": {
      "text/plain": [
       "5300100"
      ]
     },
     "execution_count": 36,
     "metadata": {},
     "output_type": "execute_result"
    }
   ],
   "source": [
    "df_eleicoes.count()"
   ]
  },
  {
   "cell_type": "code",
   "execution_count": null,
   "metadata": {},
   "outputs": [],
   "source": []
  }
 ],
 "metadata": {
  "kernelspec": {
   "display_name": ".venv",
   "language": "python",
   "name": "python3"
  },
  "language_info": {
   "codemirror_mode": {
    "name": "ipython",
    "version": 3
   },
   "file_extension": ".py",
   "mimetype": "text/x-python",
   "name": "python",
   "nbconvert_exporter": "python",
   "pygments_lexer": "ipython3",
   "version": "3.10.12"
  }
 },
 "nbformat": 4,
 "nbformat_minor": 2
}
